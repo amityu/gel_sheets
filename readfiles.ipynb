{
 "cells": [
  {
   "cell_type": "code",
   "execution_count": 4,
   "metadata": {
    "collapsed": true
   },
   "outputs": [
    {
     "name": "stdout",
     "output_type": "stream",
     "text": [
      "T0_C1_cmle.tif (160, 512, 512)\n",
      "T1_C1_cmle.tif (160, 512, 512)\n",
      "T2_C1_cmle.tif (160, 512, 512)\n",
      "T3_C1_cmle.tif (160, 512, 512)\n",
      "T4_C1_cmle.tif (160, 512, 512)\n",
      "T5_C1_cmle.tif (160, 512, 512)\n",
      "T6_C1_cmle.tif (160, 512, 512)\n",
      "T7_C1_cmle.tif (160, 512, 512)\n",
      "T8_C1_cmle.tif (160, 512, 512)\n",
      "T9_C1_cmle.tif (160, 512, 512)\n",
      "T10_C1_cmle.tif (160, 512, 512)\n",
      "T11_C1_cmle.tif (160, 512, 512)\n",
      "T12_C1_cmle.tif (160, 512, 512)\n",
      "T13_C1_cmle.tif (160, 512, 512)\n",
      "T14_C1_cmle.tif (160, 512, 512)\n",
      "T15_C1_cmle.tif (160, 512, 512)\n",
      "T16_C1_cmle.tif (160, 512, 512)\n",
      "T17_C1_cmle.tif (160, 512, 512)\n",
      "T18_C1_cmle.tif (160, 512, 512)\n",
      "T19_C1_cmle.tif (160, 512, 512)\n",
      "T20_C1_cmle.tif (160, 512, 512)\n",
      "T21_C1_cmle.tif (160, 512, 512)\n",
      "T22_C1_cmle.tif (160, 512, 512)\n",
      "T23_C1_cmle.tif (160, 512, 512)\n",
      "T24_C1_cmle.tif (160, 512, 512)\n",
      "T25_C1_cmle.tif (160, 512, 512)\n",
      "T26_C1_cmle.tif (160, 512, 512)\n",
      "T27_C1_cmle.tif (160, 512, 512)\n",
      "T28_C1_cmle.tif (160, 512, 512)\n",
      "T29_C1_cmle.tif (160, 512, 512)\n",
      "T30_C1_cmle.tif (160, 512, 512)\n",
      "T31_C1_cmle.tif (160, 512, 512)\n",
      "T32_C1_cmle.tif (160, 512, 512)\n",
      "T33_C1_cmle.tif (160, 512, 512)\n",
      "T34_C1_cmle.tif (160, 512, 512)\n",
      "T35_C1_cmle.tif (160, 512, 512)\n",
      "T36_C1_cmle.tif (160, 512, 512)\n",
      "T37_C1_cmle.tif (160, 512, 512)\n",
      "T38_C1_cmle.tif (160, 512, 512)\n",
      "T39_C1_cmle.tif (160, 512, 512)\n",
      "T40_C1_cmle.tif (160, 512, 512)\n",
      "T41_C1_cmle.tif (160, 512, 512)\n",
      "T42_C1_cmle.tif (160, 512, 512)\n",
      "T43_C1_cmle.tif (160, 512, 512)\n",
      "T44_C1_cmle.tif (160, 512, 512)\n",
      "T45_C1_cmle.tif (160, 512, 512)\n",
      "T46_C1_cmle.tif (160, 512, 512)\n",
      "T47_C1_cmle.tif (160, 512, 512)\n",
      "T48_C1_cmle.tif (160, 512, 512)\n",
      "T49_C1_cmle.tif (160, 512, 512)\n",
      "T50_C1_cmle.tif (160, 512, 512)\n",
      "T51_C1_cmle.tif (160, 512, 512)\n",
      "T52_C1_cmle.tif (160, 512, 512)\n",
      "T53_C1_cmle.tif (160, 512, 512)\n",
      "T54_C1_cmle.tif (160, 512, 512)\n",
      "T55_C1_cmle.tif (160, 512, 512)\n",
      "T56_C1_cmle.tif (160, 512, 512)\n",
      "T57_C1_cmle.tif (160, 512, 512)\n",
      "T58_C1_cmle.tif (160, 512, 512)\n",
      "T59_C1_cmle.tif (160, 512, 512)\n",
      "T60_C1_cmle.tif (160, 512, 512)\n",
      "T61_C1_cmle.tif (160, 512, 512)\n",
      "T62_C1_cmle.tif (160, 512, 512)\n",
      "T63_C1_cmle.tif (160, 512, 512)\n",
      "T64_C1_cmle.tif (160, 512, 512)\n",
      "T65_C1_cmle.tif (160, 512, 512)\n",
      "T66_C1_cmle.tif (160, 512, 512)\n",
      "T67_C1_cmle.tif (160, 512, 512)\n",
      "T68_C1_cmle.tif (160, 512, 512)\n",
      "T69_C1_cmle.tif (160, 512, 512)\n",
      "T70_C1_cmle.tif (160, 512, 512)\n",
      "T71_C1_cmle.tif (160, 512, 512)\n",
      "T72_C1_cmle.tif (160, 512, 512)\n",
      "T73_C1_cmle.tif (160, 512, 512)\n"
     ]
    }
   ],
   "source": [
    "import tifffile\n",
    "import os\n",
    "import numpy as np\n",
    "\n",
    "MoviePath = \"C:/Users/amityu/Gel_Sheet_Data/new/\";\n",
    "#get file list in input directory\n",
    "dir = MoviePath +'tif/'\n",
    "files = os.listdir(dir)\n",
    "\n",
    "#sort the file list\n",
    "files.sort(key=lambda f:int(f.split('_')[0][1:]))\n",
    "\n",
    "images = []\n",
    "for file in files:\n",
    "    #load tif file and append to list\n",
    "    array = tifffile.imread(dir + file)\n",
    "    images.append(array.reshape((160,512,512)))\n",
    "    print(file, array.shape)\n",
    "image_np = np.array(images)\n",
    "np.save(MoviePath + 'np/gel_try.npy', image_np)\n",
    "\n"
   ]
  },
  {
   "cell_type": "code",
   "execution_count": 6,
   "outputs": [],
   "source": [
    "import tifffile\n",
    "import numpy as np\n",
    "image = tifffile.imread(\"C:/Users/amityu/Gel_Sheet_Data/new/tif/T0_C1_cmle.tif\")"
   ],
   "metadata": {
    "collapsed": false
   }
  },
  {
   "cell_type": "code",
   "execution_count": 7,
   "outputs": [
    {
     "data": {
      "text/plain": "870.01074"
     },
     "execution_count": 7,
     "metadata": {},
     "output_type": "execute_result"
    }
   ],
   "source": [
    "image.max()"
   ],
   "metadata": {
    "collapsed": false
   }
  }
 ],
 "metadata": {
  "kernelspec": {
   "display_name": "Python 3",
   "language": "python",
   "name": "python3"
  },
  "language_info": {
   "codemirror_mode": {
    "name": "ipython",
    "version": 2
   },
   "file_extension": ".py",
   "mimetype": "text/x-python",
   "name": "python",
   "nbconvert_exporter": "python",
   "pygments_lexer": "ipython2",
   "version": "2.7.6"
  }
 },
 "nbformat": 4,
 "nbformat_minor": 0
}
