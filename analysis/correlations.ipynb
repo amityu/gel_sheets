{
 "cells": [
  {
   "cell_type": "code",
   "execution_count": 8,
   "metadata": {
    "collapsed": true,
    "ExecuteTime": {
     "end_time": "2023-05-21T12:12:00.343019200Z",
     "start_time": "2023-05-21T12:12:00.323010800Z"
    }
   },
   "outputs": [],
   "source": [
    "DATA_PATH = 'C:/Users/amityu/Gel_Sheet_Data/'\n",
    "#movie = 'Control 050721'\n",
    "#movie = 'CCA60'\n",
    "movie ='140721'\n",
    "MOVIE_PATH = DATA_PATH +  movie + '/'\n",
    "GRAPH_PATH = 'C:/Users/amityu/Gel_Sheet_Graph/'\n",
    "import numpy as np\n",
    "import matplotlib.pyplot as plt\n",
    "import matplotlib.cm as cm\n",
    "from  skimage.filters import gaussian\n",
    "from tqdm.notebook import trange, tqdm\n",
    "import pandas as pd\n",
    "from objects import movie_structure\n",
    "from objects.movie_structure import gaussian_curvature, mean_curvature\n",
    "\n",
    "from preprocessing import preprocessing\n",
    "import importlib\n",
    "import seaborn as sns\n",
    "\n",
    "import json\n",
    "\n",
    "# Loading a JSON file\n",
    "def load_json(file_path):\n",
    "    with open(file_path, 'r') as file:\n",
    "        data = json.load(file)\n",
    "    return data\n",
    "\n",
    "# Saving data to a JSON file\n",
    "def save_json(data, file_path):\n",
    "    with open(file_path, 'w') as file:\n",
    "        json.dump(data, file, indent=4)"
   ]
  },
  {
   "cell_type": "code",
   "execution_count": 27,
   "outputs": [],
   "source": [
    "movie = 'control'\n",
    "DATA_PATH = 'C:/Users/amityu/Gel_Sheet_Data/'\n",
    "MOVIE_PATH = DATA_PATH +  movie + '/'\n",
    "GRAPH_PATH = 'C:/Users/amityu/Gel_Sheet_Graph/'\n",
    "gel_data = load_json(DATA_PATH + 'global/%s.json'%movie)"
   ],
   "metadata": {
    "collapsed": false,
    "ExecuteTime": {
     "end_time": "2023-05-21T12:25:20.779596500Z",
     "start_time": "2023-05-21T12:25:20.767597100Z"
    }
   }
  },
  {
   "cell_type": "code",
   "execution_count": 40,
   "outputs": [
    {
     "data": {
      "text/plain": "<module 'objects.movie_structure' from 'C:\\\\Users\\\\amityu\\\\DataspellProjects\\\\gel_sheets\\\\objects\\\\movie_structure.py'>"
     },
     "execution_count": 40,
     "metadata": {},
     "output_type": "execute_result"
    }
   ],
   "source": [
    "#reload modoule if changed\n",
    "importlib.reload(movie_structure)"
   ],
   "metadata": {
    "collapsed": false,
    "ExecuteTime": {
     "end_time": "2023-05-21T12:46:08.094978500Z",
     "start_time": "2023-05-21T12:46:08.064111900Z"
    }
   }
  },
  {
   "cell_type": "code",
   "execution_count": 41,
   "outputs": [],
   "source": [
    "gel = movie_structure.Movie.from_plate_and_height(gel_data)\n"
   ],
   "metadata": {
    "collapsed": false,
    "ExecuteTime": {
     "end_time": "2023-05-21T12:46:09.943311700Z",
     "start_time": "2023-05-21T12:46:09.857312900Z"
    }
   }
  },
  {
   "cell_type": "code",
   "execution_count": 26,
   "outputs": [
    {
     "name": "stdout",
     "output_type": "stream",
     "text": [
      "{'data_path': 'C:\\\\Users\\\\amityu\\\\Gel_Sheet_Data\\\\Control 050721\\\\\\\\', 'name': 'Control 05/07/21'}\n"
     ]
    }
   ],
   "source": [
    "import json\n",
    "\n",
    "# Loading a JSON file\n",
    "def load_json(file_path):\n",
    "    with open(file_path, 'r') as file:\n",
    "        data = json.load(file)\n",
    "    return data\n",
    "\n",
    "# Saving data to a JSON file\n",
    "def save_json(data, file_path):\n",
    "    with open(file_path, 'w') as file:\n",
    "        json.dump(data, file, indent=4)\n",
    "\n",
    "# Example usage\n",
    "file_path = r'C:\\Users\\amityu\\Gel_Sheet_Data\\global\\control.txt'\n",
    "output_path = r'C:\\Users\\amityu\\Gel_Sheet_Data\\global\\control.json'\n",
    "# Loading a JSON file\n",
    "loaded_data = {\n",
    "    \"data_path\": r'C:\\Users\\amityu\\Gel_Sheet_Data\\Control 050721\\\\',\n",
    "    \"name\":      \"Control 05/07/21\"\n",
    "}\n",
    "\n",
    "print(loaded_data)\n",
    "\n",
    "# Modifying the data\n",
    "#loaded_data['new_key'] = 'new_value'\n",
    "\n",
    "# Saving the modified data to a JSON file\n",
    "save_json(loaded_data, output_path)\n"
   ],
   "metadata": {
    "collapsed": false,
    "ExecuteTime": {
     "end_time": "2023-05-21T12:25:12.794093100Z",
     "start_time": "2023-05-21T12:25:12.789091700Z"
    }
   }
  },
  {
   "cell_type": "code",
   "execution_count": 43,
   "outputs": [
    {
     "data": {
      "text/plain": "  0%|          | 0/95 [00:00<?, ?it/s]",
      "application/vnd.jupyter.widget-view+json": {
       "version_major": 2,
       "version_minor": 0,
       "model_id": "e446abe155344882ab701e72b8bb534d"
      }
     },
     "metadata": {},
     "output_type": "display_data"
    },
    {
     "ename": "TypeError",
     "evalue": "'list' object cannot be interpreted as an integer",
     "output_type": "error",
     "traceback": [
      "\u001B[1;31m---------------------------------------------------------------------------\u001B[0m",
      "\u001B[1;31mTypeError\u001B[0m                                 Traceback (most recent call last)",
      "Cell \u001B[1;32mIn[43], line 14\u001B[0m\n\u001B[0;32m     11\u001B[0m     \u001B[38;5;28;01mexcept\u001B[39;00m:\n\u001B[0;32m     12\u001B[0m         \u001B[38;5;28;01mpass\u001B[39;00m\n\u001B[1;32m---> 14\u001B[0m plt\u001B[38;5;241m.\u001B[39mscatter(\u001B[38;5;28;43mrange\u001B[39;49m\u001B[43m(\u001B[49m\u001B[43mcorrelation_list\u001B[49m\u001B[43m)\u001B[49m, correlation_list)\n\u001B[0;32m     15\u001B[0m plt\u001B[38;5;241m.\u001B[39mshow()\n",
      "\u001B[1;31mTypeError\u001B[0m: 'list' object cannot be interpreted as an integer"
     ]
    }
   ],
   "source": [
    "def plane_correlation(plane1, plane2):\n",
    "    c = np.corrcoef(plane1.flatten(), plane2.flatten())[0,1]\n",
    "    return c\n",
    "\n",
    "correlation_list = []\n",
    "for tp in tqdm(gel.tp_list):\n",
    "    try:\n",
    "        plate = tp.get_plate_plane()\n",
    "        height = tp.get_height_plane()\n",
    "        correlation_list.append(plane_correlation(plate, height))\n",
    "    except:\n",
    "        pass\n",
    "\n",
    "plt.scatter(range(len(correlation_list)), correlation_list)\n",
    "plt.show()\n"
   ],
   "metadata": {
    "collapsed": false,
    "ExecuteTime": {
     "end_time": "2023-05-21T13:05:12.826462400Z",
     "start_time": "2023-05-21T13:02:48.820477900Z"
    }
   }
  },
  {
   "cell_type": "code",
   "execution_count": 44,
   "outputs": [
    {
     "data": {
      "text/plain": "<Figure size 640x480 with 1 Axes>",
      "image/png": "[encoded data removed]"
     },
     "metadata": {},
     "output_type": "display_data"
    }
   ],
   "source": [
    "plt.scatter(range(len(correlation_list)), correlation_list)\n",
    "plt.show()\n"
   ],
   "metadata": {
    "collapsed": false,
    "ExecuteTime": {
     "end_time": "2023-05-21T13:05:39.196288400Z",
     "start_time": "2023-05-21T13:05:38.943286300Z"
    }
   }
  }
 ],
 "metadata": {
  "kernelspec": {
   "display_name": "Python 3",
   "language": "python",
   "name": "python3"
  },
  "language_info": {
   "codemirror_mode": {
    "name": "ipython",
    "version": 2
   },
   "file_extension": ".py",
   "mimetype": "text/x-python",
   "name": "python",
   "nbconvert_exporter": "python",
   "pygments_lexer": "ipython2",
   "version": "2.7.6"
  }
 },
 "nbformat": 4,
 "nbformat_minor": 0
}
