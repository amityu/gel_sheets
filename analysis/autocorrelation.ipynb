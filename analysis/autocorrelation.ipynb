{
 "cells": [
  {
   "cell_type": "code",
   "execution_count": null,
   "metadata": {
    "collapsed": true
   },
   "outputs": [],
   "source": [
    "import libpysal\n",
    "\n",
    "import numpy as np\n",
    "\n",
    "#np.random.seed(10)\n",
    "image = gel[20, 20, :, :].astype('uint16')\n",
    "\n",
    "\n",
    "def autocorr(image):\n",
    "    w = libpysal.weights.lat2W(*image.shape)\n",
    "\n",
    "    y = image.reshape(-1, 1)\n",
    "\n",
    "    y = np.copy(y)\n",
    "    from esda.moran import Moran_Local\n",
    "\n",
    "    lm = Moran_Local(y, w, transformation=\"r\", permutations=99)\n",
    "    return lm.Is.reshape(*image.shape)\n"
   ]
  },
  {
   "cell_type": "code",
   "execution_count": null,
   "outputs": [],
   "source": [
    "image = gel[20, 20, :, :].astype('uint16')\n",
    "output_image = autocorr(image)\n",
    "\n",
    "plt.figure(figsize=(30, 30))\n",
    "plt.imshow(output_image, vmin=-5, vmax=5, aspect='auto', origin='lower')\n",
    "plt.ylabel('Time', fontsize=40)\n",
    "plt.colorbar()\n",
    "plt.show()\n"
   ],
   "metadata": {
    "collapsed": false
   }
  },
  {
   "cell_type": "code",
   "execution_count": null,
   "outputs": [],
   "source": [],
   "metadata": {
    "collapsed": false
   }
  },
  {
   "cell_type": "code",
   "execution_count": null,
   "outputs": [],
   "source": [
    "output_image = lm.Is.reshape(*image.shape)\n",
    "plt.imshow(output_image)\n",
    "plt.colorbar()\n",
    "plt.show()\n"
   ],
   "metadata": {
    "collapsed": false
   }
  },
  {
   "cell_type": "code",
   "execution_count": null,
   "outputs": [],
   "source": [
    "import matplotlib.image as mpimg\n",
    "import numpy as np\n",
    "import scipy.stats as stats\n",
    "import matplotlib.pyplot as pl\n",
    "\n",
    "image = output_image.copy()\n",
    "def power_spectrum(image):\n",
    "    npix = image.shape[0]\n",
    "\n",
    "    fourier_image = np.fft.fftn(image)\n",
    "    fourier_amplitudes = np.abs(fourier_image)**2\n",
    "\n",
    "    kfreq = np.fft.fftfreq(npix) * npix\n",
    "    kfreq2D = np.meshgrid(kfreq, kfreq)\n",
    "    knrm = np.sqrt(kfreq2D[0]**2 + kfreq2D[1]**2)\n",
    "\n",
    "    knrm = knrm.flatten()\n",
    "    fourier_amplitudes = fourier_amplitudes.flatten()\n",
    "\n",
    "    kbins = np.arange(0.5, npix//2+1, 1.)\n",
    "    kvals = 0.5 * (kbins[1:] + kbins[:-1])\n",
    "    Abins, _, _ = stats.binned_statistic(knrm, fourier_amplitudes,\n",
    "                                         statistic = \"mean\",\n",
    "                                         bins = kbins)\n",
    "    Abins *= np.pi * (kbins[1:]**2 - kbins[:-1]**2)\n",
    "    return (kvals,Abins)\n"
   ],
   "metadata": {
    "collapsed": false
   }
  },
  {
   "cell_type": "code",
   "execution_count": null,
   "outputs": [],
   "source": [
    "image = output_image.copy()\n",
    "kvals, Abins =  power_spectrum(image)\n",
    "\n",
    "pl.loglog(kvals, Abins)\n",
    "pl.xlabel(\"$k$\")\n",
    "pl.ylabel(\"$P(k)$\")\n",
    "pl.tight_layout()\n",
    "plt.show()"
   ],
   "metadata": {
    "collapsed": false
   }
  },
  {
   "cell_type": "code",
   "execution_count": null,
   "outputs": [],
   "source": [
    "kvals_ls = []\n",
    "abins_ls = []\n",
    "for t in trange(5,41,5):\n",
    "    image = gel[t,20,:,:].astype('uint16')\n",
    "    output_image = autocorr(image)\n",
    "    image = output_image.copy()\n",
    "    kvals, Abins =  power_spectrum(image)\n",
    "    kvals_ls.append(kvals)\n",
    "    abins_ls.append(Abins)\n",
    "\n",
    "    pl.loglog(kvals, Abins, label=str(t))\n",
    "    pl.xlabel(\"$k$\")\n",
    "    pl.ylabel(\"$P(k)$\")\n",
    "    pl.tight_layout()\n",
    "    pl.loglog(kvals, Abins, ls=\"None\")\n",
    "\n",
    "df = pd.DataFrame(columns=['kval','abins'])\n",
    "df['kval'] = kvals_ls\n",
    "df['abins'] = abins_ls\n",
    "df.to_csv(GRAPH_PATH + 'spectrum/spectrum.csv')\n",
    "plt.title('Power Spectrum')\n",
    "plt.legend()\n",
    "plt.show()"
   ],
   "metadata": {
    "collapsed": false
   }
  },
  {
   "cell_type": "code",
   "execution_count": null,
   "outputs": [],
   "source": [
    "plt.hist(auto[0])\n",
    "plt.show()\n",
    "mean_list = []\n",
    "for t in range(len(gel)):\n",
    "    mean_list.append((gel[t].min()))\n",
    "plt.plot(mean_list)\n",
    "plt.show()\n",
    "import libpysal\n",
    "\n",
    "import numpy as np\n",
    "\n",
    "#np.random.seed(10)\n",
    "image = gel[20, 20, :, :].astype('uint16')\n",
    "\n",
    "\n",
    "def autocorr(image):\n",
    "    w = libpysal.weights.lat2W(*image.shape)\n",
    "\n",
    "    y = image.reshape(-1, 1)\n",
    "\n",
    "    y = np.copy(y)\n",
    "    from esda.moran import Moran_Local\n",
    "\n",
    "    lm = Moran_Local(y, w, transformation=\"r\", permutations=99)\n",
    "    return lm.Is.reshape(*image.shape)\n",
    "\n",
    "\n",
    "image = gel[20, 20, :, :].astype('uint16')\n",
    "output_image = autocorr(image)\n",
    "\n",
    "plt.figure(figsize=(30, 30))\n",
    "plt.imshow(output_image, vmin=-5, vmax=5, aspect='auto', origin='lower')\n",
    "plt.ylabel('Time', fontsize=40)\n",
    "plt.colorbar()\n",
    "plt.show()\n",
    "\n",
    "output_image = lm.Is.reshape(*image.shape)\n",
    "plt.imshow(output_image)\n",
    "plt.colorbar()\n",
    "plt.show()\n",
    "\n",
    "import matplotlib.image as mpimg\n",
    "import numpy as np\n",
    "import scipy.stats as stats\n",
    "import matplotlib.pyplot as pl\n",
    "\n",
    "image = output_image.copy()\n",
    "\n",
    "\n",
    "def power_spectrum(image):\n",
    "    npix = image.shape[0]\n",
    "\n",
    "    fourier_image = np.fft.fftn(image)\n",
    "    fourier_amplitudes = np.abs(fourier_image) ** 2\n",
    "\n",
    "    kfreq = np.fft.fftfreq(npix) * npix\n",
    "    kfreq2D = np.meshgrid(kfreq, kfreq)\n",
    "    knrm = np.sqrt(kfreq2D[0] ** 2 + kfreq2D[1] ** 2)\n",
    "\n",
    "    knrm = knrm.flatten()\n",
    "    fourier_amplitudes = fourier_amplitudes.flatten()\n",
    "\n",
    "    kbins = np.arange(0.5, npix // 2 + 1, 1.)\n",
    "    kvals = 0.5 * (kbins[1:] + kbins[:-1])\n",
    "    Abins, _, _ = stats.binned_statistic(knrm, fourier_amplitudes,\n",
    "                                         statistic=\"mean\",\n",
    "                                         bins=kbins)\n",
    "    Abins *= np.pi * (kbins[1:] ** 2 - kbins[:-1] ** 2)\n",
    "    return (kvals, Abins)\n",
    "\n",
    "\n",
    "image = output_image.copy()\n",
    "kvals, Abins = power_spectrum(image)\n",
    "\n",
    "pl.loglog(kvals, Abins)\n",
    "pl.xlabel(\"$k$\")\n",
    "pl.ylabel(\"$P(k)$\")\n",
    "pl.tight_layout()\n",
    "plt.show()\n",
    "kvals_ls = []\n",
    "abins_ls = []\n",
    "for t in trange(5, 41, 5):\n",
    "    image = gel[t, 20, :, :].astype('uint16')\n",
    "    output_image = autocorr(image)\n",
    "    image = output_image.copy()\n",
    "    kvals, Abins = power_spectrum(image)\n",
    "    kvals_ls.append(kvals)\n",
    "    abins_ls.append(Abins)\n",
    "\n",
    "    pl.loglog(kvals, Abins, label=str(t))\n",
    "    pl.xlabel(\"$k$\")\n",
    "    pl.ylabel(\"$P(k)$\")\n",
    "    pl.tight_layout()\n",
    "    pl.loglog(kvals, Abins, ls=\"None\")\n",
    "\n",
    "df = pd.DataFrame(columns=['kval', 'abins'])\n",
    "df['kval'] = kvals_ls\n",
    "df['abins'] = abins_ls\n",
    "df.to_csv(GRAPH_PATH + 'spectrum/spectrum.csv')\n",
    "plt.title('Power Spectrum')\n",
    "plt.legend()\n",
    "plt.show()\n",
    "#plt.imshow(image, cmap='Set1')\n",
    "plt.plot(np.arange(10), np.arange(10) / 10, color=cm.get_cmap('Set1'))\n",
    "plt.show()"
   ],
   "metadata": {
    "collapsed": false
   }
  }
 ],
 "metadata": {
  "kernelspec": {
   "display_name": "Python 3",
   "language": "python",
   "name": "python3"
  },
  "language_info": {
   "codemirror_mode": {
    "name": "ipython",
    "version": 2
   },
   "file_extension": ".py",
   "mimetype": "text/x-python",
   "name": "python",
   "nbconvert_exporter": "python",
   "pygments_lexer": "ipython2",
   "version": "2.7.6"
  }
 },
 "nbformat": 4,
 "nbformat_minor": 0
}
