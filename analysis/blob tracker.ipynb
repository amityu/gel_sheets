{
 "cells": [
  {
   "cell_type": "code",
   "execution_count": 53,
   "id": "initial_id",
   "metadata": {
    "collapsed": true,
    "ExecuteTime": {
     "end_time": "2024-09-16T12:55:50.844888Z",
     "start_time": "2024-09-16T12:55:50.836510Z"
    }
   },
   "outputs": [],
   "source": [
    "import numpy as np\n",
    "import cv2\n",
    "from skimage.feature import blob_log\n",
    "from scipy.spatial import distance\n",
    "import os\n",
    "from tqdm.notebook import  tqdm\n",
    "from multiprocessing import Pool\n"
   ]
  },
  {
   "cell_type": "code",
   "outputs": [],
   "source": [
    "\n",
    "PROJECT_PATH = 'C:/Users/amityu/DataspellProjects/gel_sheets/'\n",
    "#DATA_PATH = 'C:/Users/amityu/Gel_Sheet_Data/'\n",
    "DATA_PATH = r'D:\\amityu\\backoffice_data\\\\' \n",
    "movie ='130721_CCA60_RAW'\n",
    "ADD_PATH = os.path.join(PROJECT_PATH, \"add_data/\")\n",
    "MOVIE_PATH = DATA_PATH +  movie + '/'\n",
    "GRAPH_PATH = 'C:/Users/amityu/Gel_Sheet_Graph/'"
   ],
   "metadata": {
    "collapsed": false,
    "ExecuteTime": {
     "end_time": "2024-09-16T10:55:17.997269Z",
     "start_time": "2024-09-16T10:55:17.983956Z"
    }
   },
   "id": "76ee1957520e7586",
   "execution_count": 6
  },
  {
   "cell_type": "code",
   "outputs": [],
   "source": [
    "image_sequence = np.load(MOVIE_PATH + 'np/height.npy')"
   ],
   "metadata": {
    "collapsed": false,
    "ExecuteTime": {
     "end_time": "2024-09-16T10:55:20.485247Z",
     "start_time": "2024-09-16T10:55:20.443444Z"
    }
   },
   "id": "e5b10e2549168a4e",
   "execution_count": 7
  },
  {
   "cell_type": "code",
   "outputs": [],
   "source": [
    "def preprocess_image(gray_image):\n",
    "    normalized_image = cv2.normalize(gray_image, None, 0, 255, cv2.NORM_MINMAX)\n",
    "    blurred_image = cv2.GaussianBlur(normalized_image, (5, 5), 0)\n",
    "    return blurred_image\n",
    "\n",
    "def detect_blobs(image):\n",
    "    blobs = blob_log(image, max_sigma=40, num_sigma=10, threshold=0.1)\n",
    "    # Compute the radii in the 3rd column.\n",
    "    blobs[:, 2] = blobs[:, 2] * np.sqrt(2)\n",
    "    return blobs\n",
    "\n"
   ],
   "metadata": {
    "collapsed": false,
    "ExecuteTime": {
     "end_time": "2024-09-16T10:55:23.675932Z",
     "start_time": "2024-09-16T10:55:23.667638Z"
    }
   },
   "id": "d99207e8da40326c",
   "execution_count": 8
  },
  {
   "cell_type": "code",
   "outputs": [],
   "source": [
    "tracks = {}\n",
    "next_track_id = 0\n"
   ],
   "metadata": {
    "collapsed": false,
    "ExecuteTime": {
     "end_time": "2024-09-16T10:55:26.832931Z",
     "start_time": "2024-09-16T10:55:26.819401Z"
    }
   },
   "id": "c2165caa41f278dc",
   "execution_count": 9
  },
  {
   "cell_type": "code",
   "outputs": [],
   "source": [
    "def track_blobs(previous_blobs, current_blobs, max_distance=20):\n",
    "    global next_track_id\n",
    "    assigned_tracks = set()\n",
    "    # Add an extra column to current_blobs for track_id\n",
    "    current_blobs = np.hstack((current_blobs, np.zeros((current_blobs.shape[0], 1))))\n",
    "    for i, current_blob in enumerate(current_blobs):\n",
    "        min_dist = float('inf')\n",
    "        closest_blob_idx = -1\n",
    "        for j, previous_blob in enumerate(previous_blobs):\n",
    "            dist = np.linalg.norm(current_blob[:2] - previous_blob[:2])\n",
    "            if dist < min_dist and dist < max_distance:\n",
    "                min_dist = dist\n",
    "                closest_blob_idx = j\n",
    "        if min_dist < max_distance:\n",
    "            # Assign to existing track\n",
    "            track_id = previous_blobs[closest_blob_idx][3]\n",
    "            current_blobs[i, 3] = track_id  # Assign track_id to the 4th element\n",
    "            assigned_tracks.add(track_id)\n",
    "        else:\n",
    "            # Create new track\n",
    "            current_blobs[i, 3] = next_track_id\n",
    "            next_track_id += 1\n",
    "    return current_blobs\n"
   ],
   "metadata": {
    "collapsed": false,
    "ExecuteTime": {
     "end_time": "2024-09-16T10:55:27.819612Z",
     "start_time": "2024-09-16T10:55:27.811290Z"
    }
   },
   "id": "461fdb60c0b3e74d",
   "execution_count": 10
  },
  {
   "cell_type": "code",
   "outputs": [],
   "source": [
    "image_sequence = image_sequence[:5]"
   ],
   "metadata": {
    "collapsed": false,
    "ExecuteTime": {
     "end_time": "2024-09-16T10:29:06.783619Z",
     "start_time": "2024-09-16T10:29:06.768087Z"
    }
   },
   "id": "b1afd4dc12527b83",
   "execution_count": 17
  },
  {
   "cell_type": "code",
   "outputs": [
    {
     "data": {
      "text/plain": "  0%|          | 0/62 [00:00<?, ?it/s]",
      "application/vnd.jupyter.widget-view+json": {
       "version_major": 2,
       "version_minor": 0,
       "model_id": "352f5c8c53ee412bad76318ada553a5c"
      }
     },
     "metadata": {},
     "output_type": "display_data"
    },
    {
     "ename": "KeyboardInterrupt",
     "evalue": "",
     "output_type": "error",
     "traceback": [
      "\u001B[1;31m---------------------------------------------------------------------------\u001B[0m",
      "\u001B[1;31mKeyboardInterrupt\u001B[0m                         Traceback (most recent call last)",
      "Cell \u001B[1;32mIn[11], line 8\u001B[0m\n\u001B[0;32m      5\u001B[0m preprocessed_image \u001B[38;5;241m=\u001B[39m preprocess_image(image)\n\u001B[0;32m      7\u001B[0m \u001B[38;5;66;03m# Detect blobs\u001B[39;00m\n\u001B[1;32m----> 8\u001B[0m blobs \u001B[38;5;241m=\u001B[39m \u001B[43mdetect_blobs\u001B[49m\u001B[43m(\u001B[49m\u001B[43mpreprocessed_image\u001B[49m\u001B[43m)\u001B[49m\n\u001B[0;32m     10\u001B[0m \u001B[38;5;66;03m# Initialize track IDs for the first frame\u001B[39;00m\n\u001B[0;32m     11\u001B[0m \u001B[38;5;28;01mif\u001B[39;00m previous_blobs \u001B[38;5;129;01mis\u001B[39;00m \u001B[38;5;28;01mNone\u001B[39;00m:\n",
      "Cell \u001B[1;32mIn[8], line 7\u001B[0m, in \u001B[0;36mdetect_blobs\u001B[1;34m(image)\u001B[0m\n\u001B[0;32m      6\u001B[0m \u001B[38;5;28;01mdef\u001B[39;00m \u001B[38;5;21mdetect_blobs\u001B[39m(image):\n\u001B[1;32m----> 7\u001B[0m     blobs \u001B[38;5;241m=\u001B[39m \u001B[43mblob_log\u001B[49m\u001B[43m(\u001B[49m\u001B[43mimage\u001B[49m\u001B[43m,\u001B[49m\u001B[43m \u001B[49m\u001B[43mmax_sigma\u001B[49m\u001B[38;5;241;43m=\u001B[39;49m\u001B[38;5;241;43m30\u001B[39;49m\u001B[43m,\u001B[49m\u001B[43m \u001B[49m\u001B[43mnum_sigma\u001B[49m\u001B[38;5;241;43m=\u001B[39;49m\u001B[38;5;241;43m10\u001B[39;49m\u001B[43m,\u001B[49m\u001B[43m \u001B[49m\u001B[43mthreshold\u001B[49m\u001B[38;5;241;43m=\u001B[39;49m\u001B[38;5;241;43m0.1\u001B[39;49m\u001B[43m)\u001B[49m\n\u001B[0;32m      8\u001B[0m     \u001B[38;5;66;03m# Compute the radii in the 3rd column.\u001B[39;00m\n\u001B[0;32m      9\u001B[0m     blobs[:, \u001B[38;5;241m2\u001B[39m] \u001B[38;5;241m=\u001B[39m blobs[:, \u001B[38;5;241m2\u001B[39m] \u001B[38;5;241m*\u001B[39m np\u001B[38;5;241m.\u001B[39msqrt(\u001B[38;5;241m2\u001B[39m)\n",
      "File \u001B[1;32m~\\AppData\\Local\\anaconda3\\lib\\site-packages\\skimage\\feature\\blob.py:581\u001B[0m, in \u001B[0;36mblob_log\u001B[1;34m(image, min_sigma, max_sigma, num_sigma, threshold, overlap, log_scale, threshold_rel, exclude_border)\u001B[0m\n\u001B[0;32m    577\u001B[0m lm \u001B[38;5;241m=\u001B[39m np\u001B[38;5;241m.\u001B[39mhstack([lm[:, :\u001B[38;5;241m-\u001B[39m\u001B[38;5;241m1\u001B[39m], sigmas_of_peaks])\n\u001B[0;32m    579\u001B[0m sigma_dim \u001B[38;5;241m=\u001B[39m sigmas_of_peaks\u001B[38;5;241m.\u001B[39mshape[\u001B[38;5;241m1\u001B[39m]\n\u001B[1;32m--> 581\u001B[0m \u001B[38;5;28;01mreturn\u001B[39;00m \u001B[43m_prune_blobs\u001B[49m\u001B[43m(\u001B[49m\u001B[43mlm\u001B[49m\u001B[43m,\u001B[49m\u001B[43m \u001B[49m\u001B[43moverlap\u001B[49m\u001B[43m,\u001B[49m\u001B[43m \u001B[49m\u001B[43msigma_dim\u001B[49m\u001B[38;5;241;43m=\u001B[39;49m\u001B[43msigma_dim\u001B[49m\u001B[43m)\u001B[49m\n",
      "File \u001B[1;32m~\\AppData\\Local\\anaconda3\\lib\\site-packages\\skimage\\feature\\blob.py:183\u001B[0m, in \u001B[0;36m_prune_blobs\u001B[1;34m(blobs_array, overlap, sigma_dim)\u001B[0m\n\u001B[0;32m    181\u001B[0m \u001B[38;5;28;01mfor\u001B[39;00m i, j \u001B[38;5;129;01min\u001B[39;00m pairs:\n\u001B[0;32m    182\u001B[0m     blob1, blob2 \u001B[38;5;241m=\u001B[39m blobs_array[i], blobs_array[j]\n\u001B[1;32m--> 183\u001B[0m     \u001B[38;5;28;01mif\u001B[39;00m \u001B[43m_blob_overlap\u001B[49m\u001B[43m(\u001B[49m\u001B[43mblob1\u001B[49m\u001B[43m,\u001B[49m\u001B[43m \u001B[49m\u001B[43mblob2\u001B[49m\u001B[43m,\u001B[49m\u001B[43m \u001B[49m\u001B[43msigma_dim\u001B[49m\u001B[38;5;241;43m=\u001B[39;49m\u001B[43msigma_dim\u001B[49m\u001B[43m)\u001B[49m \u001B[38;5;241m>\u001B[39m overlap:\n\u001B[0;32m    184\u001B[0m         \u001B[38;5;66;03m# note: this test works even in the anisotropic case because\u001B[39;00m\n\u001B[0;32m    185\u001B[0m         \u001B[38;5;66;03m# all sigmas increase together.\u001B[39;00m\n\u001B[0;32m    186\u001B[0m         \u001B[38;5;28;01mif\u001B[39;00m blob1[\u001B[38;5;241m-\u001B[39m\u001B[38;5;241m1\u001B[39m] \u001B[38;5;241m>\u001B[39m blob2[\u001B[38;5;241m-\u001B[39m\u001B[38;5;241m1\u001B[39m]:\n\u001B[0;32m    187\u001B[0m             blob2[\u001B[38;5;241m-\u001B[39m\u001B[38;5;241m1\u001B[39m] \u001B[38;5;241m=\u001B[39m \u001B[38;5;241m0\u001B[39m\n",
      "File \u001B[1;32m~\\AppData\\Local\\anaconda3\\lib\\site-packages\\skimage\\feature\\blob.py:135\u001B[0m, in \u001B[0;36m_blob_overlap\u001B[1;34m(blob1, blob2, sigma_dim)\u001B[0m\n\u001B[0;32m    132\u001B[0m pos1 \u001B[38;5;241m=\u001B[39m blob1[:ndim] \u001B[38;5;241m/\u001B[39m (max_sigma \u001B[38;5;241m*\u001B[39m root_ndim)\n\u001B[0;32m    133\u001B[0m pos2 \u001B[38;5;241m=\u001B[39m blob2[:ndim] \u001B[38;5;241m/\u001B[39m (max_sigma \u001B[38;5;241m*\u001B[39m root_ndim)\n\u001B[1;32m--> 135\u001B[0m d \u001B[38;5;241m=\u001B[39m np\u001B[38;5;241m.\u001B[39msqrt(\u001B[43mnp\u001B[49m\u001B[38;5;241;43m.\u001B[39;49m\u001B[43msum\u001B[49m\u001B[43m(\u001B[49m\u001B[43m(\u001B[49m\u001B[43mpos2\u001B[49m\u001B[43m \u001B[49m\u001B[38;5;241;43m-\u001B[39;49m\u001B[43m \u001B[49m\u001B[43mpos1\u001B[49m\u001B[43m)\u001B[49m\u001B[43m \u001B[49m\u001B[38;5;241;43m*\u001B[39;49m\u001B[38;5;241;43m*\u001B[39;49m\u001B[43m \u001B[49m\u001B[38;5;241;43m2\u001B[39;49m\u001B[43m)\u001B[49m)\n\u001B[0;32m    136\u001B[0m \u001B[38;5;28;01mif\u001B[39;00m d \u001B[38;5;241m>\u001B[39m r1 \u001B[38;5;241m+\u001B[39m r2:  \u001B[38;5;66;03m# centers farther than sum of radii, so no overlap\u001B[39;00m\n\u001B[0;32m    137\u001B[0m     \u001B[38;5;28;01mreturn\u001B[39;00m \u001B[38;5;241m0.0\u001B[39m\n",
      "File \u001B[1;32m~\\AppData\\Local\\anaconda3\\lib\\site-packages\\numpy\\core\\fromnumeric.py:2177\u001B[0m, in \u001B[0;36msum\u001B[1;34m(a, axis, dtype, out, keepdims, initial, where)\u001B[0m\n\u001B[0;32m   2172\u001B[0m \u001B[38;5;28;01mdef\u001B[39;00m \u001B[38;5;21m_sum_dispatcher\u001B[39m(a, axis\u001B[38;5;241m=\u001B[39m\u001B[38;5;28;01mNone\u001B[39;00m, dtype\u001B[38;5;241m=\u001B[39m\u001B[38;5;28;01mNone\u001B[39;00m, out\u001B[38;5;241m=\u001B[39m\u001B[38;5;28;01mNone\u001B[39;00m, keepdims\u001B[38;5;241m=\u001B[39m\u001B[38;5;28;01mNone\u001B[39;00m,\n\u001B[0;32m   2173\u001B[0m                     initial\u001B[38;5;241m=\u001B[39m\u001B[38;5;28;01mNone\u001B[39;00m, where\u001B[38;5;241m=\u001B[39m\u001B[38;5;28;01mNone\u001B[39;00m):\n\u001B[0;32m   2174\u001B[0m     \u001B[38;5;28;01mreturn\u001B[39;00m (a, out)\n\u001B[1;32m-> 2177\u001B[0m \u001B[38;5;129m@array_function_dispatch\u001B[39m(_sum_dispatcher)\n\u001B[0;32m   2178\u001B[0m \u001B[38;5;28;01mdef\u001B[39;00m \u001B[38;5;21msum\u001B[39m(a, axis\u001B[38;5;241m=\u001B[39m\u001B[38;5;28;01mNone\u001B[39;00m, dtype\u001B[38;5;241m=\u001B[39m\u001B[38;5;28;01mNone\u001B[39;00m, out\u001B[38;5;241m=\u001B[39m\u001B[38;5;28;01mNone\u001B[39;00m, keepdims\u001B[38;5;241m=\u001B[39mnp\u001B[38;5;241m.\u001B[39m_NoValue,\n\u001B[0;32m   2179\u001B[0m         initial\u001B[38;5;241m=\u001B[39mnp\u001B[38;5;241m.\u001B[39m_NoValue, where\u001B[38;5;241m=\u001B[39mnp\u001B[38;5;241m.\u001B[39m_NoValue):\n\u001B[0;32m   2180\u001B[0m \u001B[38;5;250m    \u001B[39m\u001B[38;5;124;03m\"\"\"\u001B[39;00m\n\u001B[0;32m   2181\u001B[0m \u001B[38;5;124;03m    Sum of array elements over a given axis.\u001B[39;00m\n\u001B[0;32m   2182\u001B[0m \n\u001B[1;32m   (...)\u001B[0m\n\u001B[0;32m   2298\u001B[0m \u001B[38;5;124;03m    15\u001B[39;00m\n\u001B[0;32m   2299\u001B[0m \u001B[38;5;124;03m    \"\"\"\u001B[39;00m\n\u001B[0;32m   2300\u001B[0m     \u001B[38;5;28;01mif\u001B[39;00m \u001B[38;5;28misinstance\u001B[39m(a, _gentype):\n\u001B[0;32m   2301\u001B[0m         \u001B[38;5;66;03m# 2018-02-25, 1.15.0\u001B[39;00m\n",
      "\u001B[1;31mKeyboardInterrupt\u001B[0m: "
     ]
    }
   ],
   "source": [
    "previous_blobs = None\n",
    "\n",
    "for image in tqdm(image_sequence):\n",
    "    # Preprocess the image\n",
    "    preprocessed_image = preprocess_image(image)\n",
    "\n",
    "    # Detect blobs\n",
    "    blobs = detect_blobs(preprocessed_image)\n",
    "\n",
    "    # Initialize track IDs for the first frame\n",
    "    if previous_blobs is None:\n",
    "        blobs = np.hstack((blobs, np.arange(len(blobs)).reshape(-1, 1)))\n",
    "        next_track_id = len(blobs)\n",
    "    else:\n",
    "        # Track blobs\n",
    "        blobs = track_blobs(previous_blobs, blobs)\n",
    "\n",
    "    # Update tracks\n",
    "    for blob in blobs:\n",
    "        track_id = int(blob[3])\n",
    "        position = blob[:2]\n",
    "        # Update your tracks data structure accordingly\n",
    "        if track_id in tracks:\n",
    "            tracks[track_id].append(position)\n",
    "        else:\n",
    "            tracks[track_id] = [position]\n",
    "\n",
    "    previous_blobs = blobs.copy()\n",
    "    visualize_tracking(image.copy(), blobs)\n",
    "\n",
    "cv2.destroyAllWindows()\n"
   ],
   "metadata": {
    "collapsed": false,
    "ExecuteTime": {
     "end_time": "2024-09-16T10:55:35.938847Z",
     "start_time": "2024-09-16T10:55:32.195805Z"
    }
   },
   "id": "6e510acea89288f4",
   "execution_count": 11
  },
  {
   "cell_type": "code",
   "outputs": [],
   "source": [
    "def get_blobs(_image):\n",
    "    preprocessed_image = preprocess_image(_image)\n",
    "    # Detect blobs\n",
    "    blobs = detect_blobs(preprocessed_image)\n",
    "    return preprocessed_image, blobs"
   ],
   "metadata": {
    "collapsed": false,
    "ExecuteTime": {
     "end_time": "2024-09-16T12:56:39.625645Z",
     "start_time": "2024-09-16T12:56:39.611645Z"
    }
   },
   "id": "47943610579e8191",
   "execution_count": 55
  },
  {
   "cell_type": "code",
   "outputs": [],
   "source": [
    "def select_random_blobs(_blobs, num_blobs=30):\n",
    "    num_detected_blobs = len(_blobs)\n",
    "    if num_detected_blobs <= num_blobs:\n",
    "        # If there are fewer than or equal to 30 blobs, return all\n",
    "        return _blobs\n",
    "    else:\n",
    "        # Randomly select 30 indices without replacement\n",
    "        indices = np.random.choice(num_detected_blobs, num_blobs, replace=False)\n",
    "        selected_blobs = _blobs[indices]\n",
    "        return selected_blobs\n"
   ],
   "metadata": {
    "collapsed": false,
    "ExecuteTime": {
     "end_time": "2024-09-16T11:08:27.765334Z",
     "start_time": "2024-09-16T11:08:27.758982Z"
    }
   },
   "id": "31b32c4de7dbe0ba",
   "execution_count": 37
  },
  {
   "cell_type": "code",
   "outputs": [],
   "source": [
    "\n",
    "\n",
    "\n",
    "\n",
    "\n",
    "if __name__ == '__main__':\n",
    "    with Pool() as p:\n",
    "        result = p.map(get_blobs, image_sequence[:6])"
   ],
   "metadata": {
    "collapsed": false,
    "ExecuteTime": {
     "start_time": "2024-09-16T12:57:00.698420Z"
    }
   },
   "id": "b7d69104499587af",
   "execution_count": null
  },
  {
   "cell_type": "code",
   "outputs": [],
   "source": [
    "def visualize_tracking(image, blobs):\n",
    "    image_with_tracking = normalize_image_for_display(image)\n",
    "\n",
    "    # Create a copy of the original image to draw on\n",
    "\n",
    "    for blob in blobs:\n",
    "        y, x, r = blob[:3]  # Ensure you're only taking the first three elements\n",
    "        cv2.circle(image_with_tracking, (int(x), int(y)), int(r), (0, 255, 0), 2)\n",
    "        # If you have track_id, you can include it as well\n",
    "        # y, x, r, track_id = blob\n",
    "        # cv2.putText(image_with_tracking, f'ID: {int(track_id)}', (int(x), int(y)), \n",
    "        #             cv2.FONT_HERSHEY_SIMPLEX, 0.5, (255, 0, 0), 2)\n",
    "\n",
    "\n",
    "    # Show the image with tracking overlays\n",
    "    cv2.imshow('Tracking', image_with_tracking)\n",
    "\n",
    "    cv2.waitKey(1)  # Adjust the waitKey as needed\n"
   ],
   "metadata": {
    "collapsed": false,
    "ExecuteTime": {
     "end_time": "2024-09-16T12:50:59.677133Z",
     "start_time": "2024-09-16T12:50:59.659334Z"
    }
   },
   "id": "c397d0623406107",
   "execution_count": 48
  },
  {
   "cell_type": "code",
   "outputs": [],
   "source": [
    "visualize_tracking(preprocessed_image, select_random_blobs(blobs,30))"
   ],
   "metadata": {
    "collapsed": false,
    "ExecuteTime": {
     "end_time": "2024-09-16T12:51:30.411751Z",
     "start_time": "2024-09-16T12:51:30.388301Z"
    }
   },
   "id": "da5c1d5fb6fdc236",
   "execution_count": 51
  },
  {
   "cell_type": "code",
   "outputs": [],
   "source": [
    "cv2.destroyAllWindows()\n"
   ],
   "metadata": {
    "collapsed": false,
    "ExecuteTime": {
     "end_time": "2024-09-16T12:51:24.657604Z",
     "start_time": "2024-09-16T12:51:24.637224Z"
    }
   },
   "id": "c98c6c7259cc7966",
   "execution_count": 50
  },
  {
   "cell_type": "code",
   "outputs": [],
   "source": [
    "def normalize_image_for_display(image):\n",
    "    # Normalize the image to [0, 255]\n",
    "    image_normalized = cv2.normalize(image, None, 0, 255, cv2.NORM_MINMAX)\n",
    "    # Convert to uint8\n",
    "    image_uint8 = image_normalized.astype(np.uint8)\n",
    "    return image_uint8"
   ],
   "metadata": {
    "collapsed": false,
    "ExecuteTime": {
     "end_time": "2024-09-16T11:04:04.476818Z",
     "start_time": "2024-09-16T11:04:04.459634Z"
    }
   },
   "id": "8e948d9de463decc",
   "execution_count": 30
  }
 ],
 "metadata": {
  "kernelspec": {
   "display_name": "Python 3",
   "language": "python",
   "name": "python3"
  },
  "language_info": {
   "codemirror_mode": {
    "name": "ipython",
    "version": 2
   },
   "file_extension": ".py",
   "mimetype": "text/x-python",
   "name": "python",
   "nbconvert_exporter": "python",
   "pygments_lexer": "ipython2",
   "version": "2.7.6"
  }
 },
 "nbformat": 4,
 "nbformat_minor": 5
}
