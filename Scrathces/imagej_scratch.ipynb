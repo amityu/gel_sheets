{
 "cells": [
  {
   "cell_type": "code",
   "execution_count": 4,
   "metadata": {
    "collapsed": true,
    "ExecuteTime": {
     "end_time": "2023-09-03T12:26:41.670320600Z",
     "start_time": "2023-09-03T12:26:41.666319300Z"
    }
   },
   "outputs": [],
   "source": [
    "import imagej\n",
    "import os"
   ]
  },
  {
   "cell_type": "code",
   "execution_count": 5,
   "outputs": [],
   "source": [
    "PROJECT_PATH = 'C:/Users/amityu/DataspellProjects/gel_sheets/'\n",
    "DATA_PATH = 'C:/Users/amityu/Gel_Sheet_Data/'\n",
    "#movie = 'Control'\n",
    "#movie = '130721'\n",
    "#movie ='140721'\n",
    "#movie ='150721'\n",
    "#movie ='100621'\n",
    "movie ='280523 AM100 568'\n",
    "ADD_PATH = os.path.join(PROJECT_PATH, \"add_data/\")\n",
    "\n",
    "\n",
    "MOVIE_PATH = DATA_PATH +  movie + '/'\n",
    "GRAPH_PATH = 'C:/Users/amityu/Gel_Sheet_Graph/'"
   ],
   "metadata": {
    "collapsed": false,
    "ExecuteTime": {
     "end_time": "2023-09-03T12:26:44.275110500Z",
     "start_time": "2023-09-03T12:26:44.260112600Z"
    }
   }
  },
  {
   "cell_type": "code",
   "execution_count": 8,
   "outputs": [
    {
     "ename": "java.lang.IllegalArgumentException",
     "evalue": "java.lang.IllegalArgumentException: No candidate 'Concatenate' ops",
     "output_type": "error",
     "traceback": [
      "\u001B[1;31m---------------------------------------------------------------------------\u001B[0m",
      "\u001B[1;31mException\u001B[0m                                 Traceback (most recent call last)",
      "File \u001B[1;32mOpEnvironment.java:136\u001B[0m, in \u001B[0;36mnet.imagej.ops.OpEnvironment.run\u001B[1;34m()\u001B[0m\n",
      "\u001B[1;31mException\u001B[0m: Java Exception",
      "\nThe above exception was the direct cause of the following exception:\n",
      "\u001B[1;31mjava.lang.IllegalArgumentException\u001B[0m        Traceback (most recent call last)",
      "Cell \u001B[1;32mIn[8], line 21\u001B[0m\n\u001B[0;32m     18\u001B[0m imps_ij1 \u001B[38;5;241m=\u001B[39m [ij\u001B[38;5;241m.\u001B[39mpy\u001B[38;5;241m.\u001B[39mto_java(imp) \u001B[38;5;28;01mfor\u001B[39;00m imp \u001B[38;5;129;01min\u001B[39;00m imps]\n\u001B[0;32m     20\u001B[0m \u001B[38;5;66;03m# Use ImageJ's built-in function to concatenate along the 4th dimension (time)\u001B[39;00m\n\u001B[1;32m---> 21\u001B[0m concatenated_imp \u001B[38;5;241m=\u001B[39m \u001B[43mij\u001B[49m\u001B[38;5;241;43m.\u001B[39;49m\u001B[43mop\u001B[49m\u001B[43m(\u001B[49m\u001B[43m)\u001B[49m\u001B[38;5;241;43m.\u001B[39;49m\u001B[43mrun\u001B[49m\u001B[43m(\u001B[49m\u001B[38;5;124;43m\"\u001B[39;49m\u001B[38;5;124;43mConcatenate\u001B[39;49m\u001B[38;5;124;43m\"\u001B[39;49m\u001B[43m,\u001B[49m\u001B[43m \u001B[49m\u001B[43mimps_ij1\u001B[49m\u001B[43m)\u001B[49m\n\u001B[0;32m     23\u001B[0m \u001B[38;5;66;03m# Save the resulting 4D TIFF\u001B[39;00m\n\u001B[0;32m     24\u001B[0m ij\u001B[38;5;241m.\u001B[39mio()\u001B[38;5;241m.\u001B[39msave(concatenated_imp, MOVIE_PATH \u001B[38;5;241m+\u001B[39m \u001B[38;5;124m'\u001B[39m\u001B[38;5;124mnp/4D_output.tif\u001B[39m\u001B[38;5;124m'\u001B[39m)\n",
      "\u001B[1;31mjava.lang.IllegalArgumentException\u001B[0m: java.lang.IllegalArgumentException: No candidate 'Concatenate' ops"
     ]
    }
   ],
   "source": [
    "\n",
    "# Initialize ImageJ\n",
    "ij = imagej.init()\n",
    "\n",
    "# List of 3D tiff files\n",
    "files = [MOVIE_PATH + 'np/transformed_image_' + str(i) + '.tif' for i in range(39)]\n",
    "\n",
    "# Create an empty list to hold the ImagePlus objects\n",
    "imps = []\n",
    "\n",
    "for file in files:\n",
    "    # Load each 3D TIFF file as an ImagePlus object\n",
    "    imp = ij.io().open(os.path.abspath(file))\n",
    "\n",
    "    # Add to list\n",
    "    imps.append(imp)\n",
    "\n",
    "# Convert list of ImagePlus objects to ImageJ 1.x format (for compatibility)\n",
    "imps_ij1 = [ij.py.to_java(imp) for imp in imps]\n",
    "\n",
    "# Use ImageJ's built-in function to concatenate along the 4th dimension (time)\n",
    "concatenated_imp = ij.op().run(\"Concatenate\", imps_ij1)\n",
    "\n",
    "# Save the resulting 4D TIFF\n",
    "ij.io().save(concatenated_imp, MOVIE_PATH + 'np/4D_output.tif')\n"
   ],
   "metadata": {
    "collapsed": false,
    "ExecuteTime": {
     "end_time": "2023-09-03T12:56:46.234447700Z",
     "start_time": "2023-09-03T12:56:08.054406700Z"
    }
   }
  }
 ],
 "metadata": {
  "kernelspec": {
   "display_name": "Python 3",
   "language": "python",
   "name": "python3"
  },
  "language_info": {
   "codemirror_mode": {
    "name": "ipython",
    "version": 2
   },
   "file_extension": ".py",
   "mimetype": "text/x-python",
   "name": "python",
   "nbconvert_exporter": "python",
   "pygments_lexer": "ipython2",
   "version": "2.7.6"
  }
 },
 "nbformat": 4,
 "nbformat_minor": 0
}
