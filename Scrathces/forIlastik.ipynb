{
 "cells": [
  {
   "cell_type": "code",
   "execution_count": 5,
   "metadata": {
    "collapsed": true
   },
   "outputs": [],
   "source": [
    "DATA_PATH = 'C:/Users/amityu/Gel_Sheet_Data/'\n",
    "MOVIE_PATH = DATA_PATH + 'Control 050721/'\n",
    "GRAPH_PATH = 'C:Users/amityu/Gel_Sheet_Graph/'\n",
    "from multiprocessing import Pool\n",
    "\n",
    "import numpy as np\n",
    "import pandas as pd\n",
    "from skimage import filters\n",
    "from tqdm import tqdm, trange\n",
    "\n",
    "def fix_surface(surf, percentile_down = 0.7, percentile_up = 1.3):\n",
    "    for Z in surf:\n",
    "        mean = np.nanmean(Z)\n",
    "        Z[Z>mean*percentile_up] = np.nan\n",
    "        Z[Z<mean*percentile_down] = np.nan\n",
    "    return surf\n"
   ]
  },
  {
   "cell_type": "code",
   "execution_count": 16,
   "outputs": [
    {
     "name": "stderr",
     "output_type": "stream",
     "text": [
      "100%|██████████| 95/95 [01:18<00:00,  1.20it/s]\n"
     ]
    }
   ],
   "source": [
    "surface = np.load(MOVIE_PATH + 'np/height.npy').reshape(-1, 512, 512)\n",
    "fix_surface(surface)\n",
    "plate = np.load(MOVIE_PATH + 'np/plate.npy').reshape(-1, 512, 512)\n",
    "gel = np.load(MOVIE_PATH + 'np/gel.npy', mmap_mode='r')\n",
    "ilastik_mask = np.zeros(gel.shape, dtype=int)\n",
    "for t in trange(plate.shape[0]):\n",
    "    for x in range(plate.shape[2]):\n",
    "        for y in range(plate.shape[1]):\n",
    "            if np.isnan(plate[t,y,x]) or np.isnan(surface[t,y,x]):\n",
    "                ilastik_mask[t,:,y,x] = 2\n",
    "            else:\n",
    "                ilastik_mask[t,int(plate[t,y,x]):int(plate[t,y,x])+int(surface[t,y,x]),y,x] = 1\n",
    "np.save(MOVIE_PATH + 'np/ilastik_mask.npy', ilastik_mask)\n",
    "\n"
   ],
   "metadata": {
    "collapsed": false
   }
  },
  {
   "cell_type": "code",
   "execution_count": null,
   "outputs": [],
   "source": [],
   "metadata": {
    "collapsed": false
   }
  }
 ],
 "metadata": {
  "kernelspec": {
   "display_name": "Python 3",
   "language": "python",
   "name": "python3"
  },
  "language_info": {
   "codemirror_mode": {
    "name": "ipython",
    "version": 2
   },
   "file_extension": ".py",
   "mimetype": "text/x-python",
   "name": "python",
   "nbconvert_exporter": "python",
   "pygments_lexer": "ipython2",
   "version": "2.7.6"
  }
 },
 "nbformat": 4,
 "nbformat_minor": 0
}
