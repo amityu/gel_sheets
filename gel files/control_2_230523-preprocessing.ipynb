{
 "cells": [
  {
   "cell_type": "code",
   "execution_count": 3,
   "id": "b552c922",
   "metadata": {
    "ExecuteTime": {
     "end_time": "2023-09-28T15:56:54.893138100Z",
     "start_time": "2023-09-28T15:56:31.971771800Z"
    }
   },
   "outputs": [],
   "source": [
    "import numpy as np\n",
    "import matplotlib.pyplot as plt\n",
    "import pandas as pd\n",
    "import os\n",
    "\n",
    "import scipy.interpolate\n",
    "from scipy.ndimage import gaussian_filter\n",
    "import tifffile\n",
    "import seaborn as sns\n",
    "\n",
    "from IPython.display import HTML\n",
    "import matplotlib.animation as animation\n",
    "from tqdm.notebook import tqdm, trange\n",
    "from scipy.optimize import curve_fit\n",
    "#import gaussian\n",
    "from skimage.filters import gaussian\n",
    "from scipy.interpolate import RectBivariateSpline\n",
    "from PIL import Image\n",
    "import itertools\n",
    "from preprocessing import preprocessingV2 as pre\n",
    "\n"
   ]
  },
  {
   "cell_type": "markdown",
   "id": "f119ffcf",
   "metadata": {},
   "source": [
    "## PATHS and CONSTANTS\n",
    "\n"
   ]
  },
  {
   "cell_type": "code",
   "execution_count": 4,
   "id": "897cf2ef",
   "metadata": {
    "ExecuteTime": {
     "end_time": "2023-09-28T15:56:58.753385900Z",
     "start_time": "2023-09-28T15:56:58.740387Z"
    }
   },
   "outputs": [],
   "source": [
    "PROJECT_PATH = 'C:/Users/amityu/DataspellProjects/gel_sheets/'\n",
    "DATA_PATH = 'C:/Users/amityu/Gel_Sheet_Data/'\n",
    "#movie = 'Control'\n",
    "#movie = '130721'\n",
    "#movie ='140721'\n",
    "#movie ='150721'\n",
    "#movie ='100621'\n",
    "#movie ='130721_CCA60_RAW'\n",
    "#movie ='280523 AM100 568'\n",
    "movie = 'control_2_230523'\n",
    "ADD_PATH = os.path.join(PROJECT_PATH, \"add_data/\", movie + \"/\")\n",
    "\n",
    "\n",
    "MOVIE_PATH = DATA_PATH +  movie + '/'\n",
    "GRAPH_PATH = 'C:/Users/amityu/Gel_Sheet_Graph/'"
   ]
  },
  {
   "cell_type": "markdown",
   "id": "ab31e3a0",
   "metadata": {},
   "source": [
    "## <span color=red >Load Images\n",
    "\n",
    "</span>\n"
   ]
  },
  {
   "cell_type": "code",
   "execution_count": 3,
   "id": "7961d759",
   "metadata": {
    "ExecuteTime": {
     "end_time": "2023-09-27T11:57:25.029204700Z",
     "start_time": "2023-09-27T11:57:25.019204100Z"
    }
   },
   "outputs": [
    {
     "name": "stdout",
     "output_type": "stream",
     "text": [
      "57 Z57_T10_C1.tif\n",
      "57 Z57_T11_C1.tif\n",
      "57 Z57_T12_C1.tif\n",
      "57 Z57_T13_C1.tif\n",
      "57 Z57_T14_C1.tif\n",
      "57 Z57_T15_C1.tif\n",
      "57 Z57_T16_C1.tif\n",
      "57 Z57_T17_C1.tif\n",
      "57 Z57_T18_C1.tif\n",
      "57 Z57_T19_C1.tif\n",
      "57 Z57_T1_C1.tif\n",
      "57 Z57_T20_C1.tif\n",
      "57 Z57_T21_C1.tif\n",
      "57 Z57_T22_C1.tif\n",
      "57 Z57_T23_C1.tif\n",
      "57 Z57_T24_C1.tif\n",
      "57 Z57_T25_C1.tif\n",
      "57 Z57_T26_C1.tif\n",
      "57 Z57_T27_C1.tif\n",
      "57 Z57_T28_C1.tif\n",
      "57 Z57_T29_C1.tif\n",
      "57 Z57_T2_C1.tif\n",
      "57 Z57_T30_C1.tif\n",
      "57 Z57_T31_C1.tif\n",
      "57 Z57_T32_C1.tif\n",
      "57 Z57_T33_C1.tif\n",
      "57 Z57_T34_C1.tif\n",
      "57 Z57_T35_C1.tif\n",
      "57 Z57_T36_C1.tif\n",
      "57 Z57_T37_C1.tif\n",
      "57 Z57_T38_C1.tif\n",
      "57 Z57_T39_C1.tif\n",
      "57 Z57_T3_C1.tif\n",
      "57 Z57_T40_C1.tif\n",
      "57 Z57_T41_C1.tif\n",
      "57 Z57_T42_C1.tif\n",
      "57 Z57_T43_C1.tif\n",
      "57 Z57_T44_C1.tif\n",
      "57 Z57_T45_C1.tif\n",
      "57 Z57_T46_C1.tif\n",
      "57 Z57_T47_C1.tif\n",
      "57 Z57_T48_C1.tif\n",
      "57 Z57_T4_C1.tif\n",
      "57 Z57_T5_C1.tif\n",
      "57 Z57_T6_C1.tif\n",
      "57 Z57_T7_C1.tif\n",
      "57 Z57_T8_C1.tif\n",
      "57 Z57_T9_C1.tif\n",
      "69 Z69_T49_C1.tif\n",
      "69 Z69_T50_C1.tif\n",
      "69 Z69_T51_C1.tif\n",
      "93 Z93_T52_C1.tif\n",
      "93 Z93_T53_C1.tif\n",
      "93 Z93_T54_C1.tif\n",
      "93 Z93_T55_C1.tif\n",
      "93 Z93_T56_C1.tif\n",
      "117 Z117_T57_C1.tif\n",
      "117 Z117_T58_C1.tif\n",
      "117 Z117_T59_C1.tif\n",
      "117 Z117_T60_C1.tif\n",
      "117 Z117_T61_C1.tif\n",
      "117 Z117_T62_C1.tif\n",
      "117 Z117_T63_C1.tif\n",
      "117 Z117_T64_C1.tif\n",
      "117 Z117_T65_C1.tif\n",
      "117 Z117_T66_C1.tif\n",
      "117 Z117_T67_C1.tif\n",
      "117 Z117_T68_C1.tif\n",
      "117 Z117_T69_C1.tif\n",
      "117 Z117_T70_C1.tif\n",
      "117 Z117_T71_C1.tif\n",
      "117 Z117_T72_C1.tif\n",
      "141 Z141_T73_C1.tif\n",
      "141 Z141_T74_C1.tif\n",
      "141 Z141_T75_C1.tif\n",
      "141 Z141_T76_C1.tif\n",
      "141 Z141_T77_C1.tif\n",
      "141 Z141_T78_C1.tif\n",
      "141 Z141_T79_C1.tif\n",
      "141 Z141_T80_C1.tif\n",
      "141 Z141_T81_C1.tif\n",
      "161 Z161_T100_C1.tif\n",
      "161 Z161_T101_C1.tif\n",
      "161 Z161_T82_C1.tif\n",
      "161 Z161_T83_C1.tif\n",
      "161 Z161_T84_C1.tif\n",
      "161 Z161_T85_C1.tif\n",
      "161 Z161_T86_C1.tif\n",
      "161 Z161_T87_C1.tif\n",
      "161 Z161_T88_C1.tif\n",
      "161 Z161_T89_C1.tif\n",
      "161 Z161_T90_C1.tif\n",
      "161 Z161_T91_C1.tif\n",
      "161 Z161_T92_C1.tif\n",
      "161 Z161_T93_C1.tif\n",
      "161 Z161_T94_C1.tif\n",
      "161 Z161_T95_C1.tif\n",
      "161 Z161_T96_C1.tif\n",
      "161 Z161_T97_C1.tif\n",
      "161 Z161_T98_C1.tif\n",
      "161 Z161_T99_C1.tif\n",
      "205 Z205_T102_C1.tif\n",
      "205 Z205_T103_C1.tif\n",
      "205 Z205_T104_C1.tif\n",
      "205 Z205_T105_C1.tif\n",
      "205 Z205_T106_C1.tif\n",
      "205 Z205_T107_C1.tif\n",
      "205 Z205_T108_C1.tif\n",
      "205 Z205_T109_C1.tif\n",
      "205 Z205_T110_C1.tif\n",
      "205 Z205_T111_C1.tif\n",
      "205 Z205_T112_C1.tif\n",
      "205 Z205_T113_C1.tif\n",
      "205 Z205_T114_C1.tif\n",
      "205 Z205_T115_C1.tif\n",
      "205 Z205_T116_C1.tif\n",
      "205 Z205_T117_C1.tif\n",
      "205 Z205_T118_C1.tif\n",
      "205 Z205_T119_C1.tif\n",
      "205 Z205_T120_C1.tif\n",
      "205 Z205_T121_C1.tif\n",
      "225 Z225_T122_C1.tif\n",
      "225 Z225_T123_C1.tif\n",
      "225 Z225_T124_C1.tif\n"
     ]
    }
   ],
   "source": [
    "#get list of files in directory\n",
    "import os\n",
    "filelist = os.listdir(MOVIE_PATH + 'tiff/C1/')\n",
    "file_list_numbered = []\n",
    "for i in range(len(filelist)):\n",
    "    #split file by '_'\n",
    "    t = int(filelist[i].split('_')[0][1:])\n",
    "    file_list_numbered.append((t,filelist[i]))\n",
    "    #sort by time\n",
    "file_list_numbered.sort(key = lambda x: x[0])\n",
    "for t in range(len(file_list_numbered)):\n",
    "    print(file_list_numbered[t][0],file_list_numbered[t][1])\n",
    "\n",
    "\n"
   ]
  },
  {
   "cell_type": "code",
   "execution_count": 5,
   "id": "26aee45b",
   "metadata": {
    "ExecuteTime": {
     "end_time": "2023-09-27T11:57:58.210486Z",
     "start_time": "2023-09-27T11:57:47.501843Z"
    }
   },
   "outputs": [
    {
     "name": "stdout",
     "output_type": "stream",
     "text": [
      "0\n",
      "1\n",
      "2\n",
      "3\n",
      "4\n",
      "5\n",
      "6\n",
      "7\n",
      "8\n",
      "9\n",
      "10\n",
      "11\n",
      "12\n",
      "13\n",
      "14\n",
      "15\n",
      "16\n",
      "17\n",
      "18\n",
      "19\n",
      "20\n",
      "21\n",
      "22\n",
      "23\n",
      "24\n",
      "25\n",
      "26\n",
      "27\n",
      "28\n",
      "29\n",
      "30\n",
      "31\n",
      "32\n",
      "33\n",
      "34\n",
      "35\n",
      "36\n",
      "37\n",
      "38\n",
      "39\n",
      "40\n",
      "41\n",
      "42\n",
      "43\n",
      "44\n",
      "45\n",
      "46\n",
      "47\n",
      "48\n",
      "49\n",
      "50\n",
      "51\n",
      "52\n",
      "53\n",
      "54\n",
      "55\n",
      "56\n",
      "57\n",
      "58\n",
      "59\n",
      "60\n",
      "61\n",
      "62\n",
      "63\n",
      "64\n",
      "65\n",
      "66\n",
      "67\n",
      "68\n",
      "69\n",
      "70\n",
      "71\n",
      "72\n",
      "73\n",
      "74\n",
      "75\n",
      "76\n",
      "77\n",
      "78\n",
      "79\n",
      "80\n",
      "81\n",
      "82\n",
      "83\n",
      "84\n",
      "85\n",
      "86\n",
      "87\n",
      "88\n",
      "89\n",
      "90\n",
      "91\n",
      "92\n",
      "93\n",
      "94\n",
      "95\n",
      "96\n",
      "97\n",
      "98\n",
      "99\n",
      "100\n",
      "101\n",
      "102\n",
      "103\n",
      "104\n",
      "105\n",
      "106\n",
      "107\n",
      "108\n",
      "109\n",
      "110\n",
      "111\n",
      "112\n",
      "113\n",
      "114\n",
      "115\n",
      "116\n",
      "117\n",
      "118\n",
      "119\n",
      "120\n",
      "121\n",
      "122\n",
      "123\n"
     ]
    }
   ],
   "source": [
    "#load images\n",
    "gel_list = []\n",
    "for i in range(len(file_list_numbered)):\n",
    "    gel_list.append(tifffile.imread(MOVIE_PATH + 'tiff/C1/' + file_list_numbered[i][1]).astype(np.float32))\n",
    "    print(i)"
   ]
  },
  {
   "cell_type": "code",
   "execution_count": 6,
   "id": "2a3d5be0",
   "metadata": {
    "ExecuteTime": {
     "end_time": "2023-09-27T11:57:58.256484Z",
     "start_time": "2023-09-27T11:57:58.213485300Z"
    }
   },
   "outputs": [
    {
     "name": "stdout",
     "output_type": "stream",
     "text": [
      "0 (57, 512, 512)\n",
      "1 (57, 512, 512)\n",
      "2 (57, 512, 512)\n",
      "3 (57, 512, 512)\n",
      "4 (57, 512, 512)\n",
      "5 (57, 512, 512)\n",
      "6 (57, 512, 512)\n",
      "7 (57, 512, 512)\n",
      "8 (57, 512, 512)\n",
      "9 (57, 512, 512)\n",
      "10 (57, 512, 512)\n",
      "11 (57, 512, 512)\n",
      "12 (57, 512, 512)\n",
      "13 (57, 512, 512)\n",
      "14 (57, 512, 512)\n",
      "15 (57, 512, 512)\n",
      "16 (57, 512, 512)\n",
      "17 (57, 512, 512)\n",
      "18 (57, 512, 512)\n",
      "19 (57, 512, 512)\n",
      "20 (57, 512, 512)\n",
      "21 (57, 512, 512)\n",
      "22 (57, 512, 512)\n",
      "23 (57, 512, 512)\n",
      "24 (57, 512, 512)\n",
      "25 (57, 512, 512)\n",
      "26 (57, 512, 512)\n",
      "27 (57, 512, 512)\n",
      "28 (57, 512, 512)\n",
      "29 (57, 512, 512)\n",
      "30 (57, 512, 512)\n",
      "31 (57, 512, 512)\n",
      "32 (57, 512, 512)\n",
      "33 (57, 512, 512)\n",
      "34 (57, 512, 512)\n",
      "35 (57, 512, 512)\n",
      "36 (57, 512, 512)\n",
      "37 (57, 512, 512)\n",
      "38 (57, 512, 512)\n",
      "39 (57, 512, 512)\n",
      "40 (57, 512, 512)\n",
      "41 (57, 512, 512)\n",
      "42 (57, 512, 512)\n",
      "43 (57, 512, 512)\n",
      "44 (57, 512, 512)\n",
      "45 (57, 512, 512)\n",
      "46 (57, 512, 512)\n",
      "47 (57, 512, 512)\n",
      "48 (69, 512, 512)\n",
      "49 (69, 512, 512)\n",
      "50 (69, 512, 512)\n",
      "51 (93, 512, 512)\n",
      "52 (93, 512, 512)\n",
      "53 (93, 512, 512)\n",
      "54 (93, 512, 512)\n",
      "55 (93, 512, 512)\n",
      "56 (117, 512, 512)\n",
      "57 (117, 512, 512)\n",
      "58 (117, 512, 512)\n",
      "59 (117, 512, 512)\n",
      "60 (117, 512, 512)\n",
      "61 (117, 512, 512)\n",
      "62 (117, 512, 512)\n",
      "63 (117, 512, 512)\n",
      "64 (117, 512, 512)\n",
      "65 (117, 512, 512)\n",
      "66 (117, 512, 512)\n",
      "67 (117, 512, 512)\n",
      "68 (117, 512, 512)\n",
      "69 (117, 512, 512)\n",
      "70 (117, 512, 512)\n",
      "71 (117, 512, 512)\n",
      "72 (141, 512, 512)\n",
      "73 (141, 512, 512)\n",
      "74 (141, 512, 512)\n",
      "75 (141, 512, 512)\n",
      "76 (141, 512, 512)\n",
      "77 (141, 512, 512)\n",
      "78 (141, 512, 512)\n",
      "79 (141, 512, 512)\n",
      "80 (141, 512, 512)\n",
      "81 (161, 512, 512)\n",
      "82 (161, 512, 512)\n",
      "83 (161, 512, 512)\n",
      "84 (161, 512, 512)\n",
      "85 (161, 512, 512)\n",
      "86 (161, 512, 512)\n",
      "87 (161, 512, 512)\n",
      "88 (161, 512, 512)\n",
      "89 (161, 512, 512)\n",
      "90 (161, 512, 512)\n",
      "91 (161, 512, 512)\n",
      "92 (161, 512, 512)\n",
      "93 (161, 512, 512)\n",
      "94 (161, 512, 512)\n",
      "95 (161, 512, 512)\n",
      "96 (161, 512, 512)\n",
      "97 (161, 512, 512)\n",
      "98 (161, 512, 512)\n",
      "99 (161, 512, 512)\n",
      "100 (161, 512, 512)\n",
      "101 (205, 512, 512)\n",
      "102 (205, 512, 512)\n",
      "103 (205, 512, 512)\n",
      "104 (205, 512, 512)\n",
      "105 (205, 512, 512)\n",
      "106 (205, 512, 512)\n",
      "107 (205, 512, 512)\n",
      "108 (205, 512, 512)\n",
      "109 (205, 512, 512)\n",
      "110 (205, 512, 512)\n",
      "111 (205, 512, 512)\n",
      "112 (205, 512, 512)\n",
      "113 (205, 512, 512)\n",
      "114 (205, 512, 512)\n",
      "115 (205, 512, 512)\n",
      "116 (205, 512, 512)\n",
      "117 (205, 512, 512)\n",
      "118 (205, 512, 512)\n",
      "119 (205, 512, 512)\n",
      "120 (205, 512, 512)\n",
      "121 (225, 512, 512)\n",
      "122 (225, 512, 512)\n",
      "123 (225, 512, 512)\n",
      "225\n"
     ]
    }
   ],
   "source": [
    "# get the max z since images where taken with different\n",
    "max_z = 0\n",
    "for t, image in enumerate(gel_list):\n",
    "    print(t,image.shape)\n",
    "    z = image.shape[0]\n",
    "    if z > max_z:\n",
    "        max_z = z\n",
    "print(max_z)\n"
   ]
  },
  {
   "cell_type": "code",
   "execution_count": 7,
   "id": "88ff3480",
   "metadata": {
    "ExecuteTime": {
     "end_time": "2023-09-27T11:58:36.443860200Z",
     "start_time": "2023-09-27T11:58:02.266393800Z"
    }
   },
   "outputs": [],
   "source": [
    "#set blank areas to nan\n",
    "gel = np.zeros((len(gel_list), max_z,*gel_list[0].shape[1:]), dtype=np.float32)\n",
    "gel[gel ==0] = np.nan\n",
    "for t in range(len(gel)):\n",
    "    gel[t,:gel_list[t].shape[0],:,:] = gel_list[t]"
   ]
  },
  {
   "cell_type": "code",
   "execution_count": 8,
   "id": "9556cc7d",
   "metadata": {
    "ExecuteTime": {
     "end_time": "2023-09-27T11:59:13.920901300Z",
     "start_time": "2023-09-27T11:58:36.449858900Z"
    }
   },
   "outputs": [],
   "source": [
    "np.save(MOVIE_PATH + 'np/gel.npy',gel)"
   ]
  },
  {
   "cell_type": "code",
   "execution_count": 9,
   "outputs": [],
   "source": [
    "del gel"
   ],
   "metadata": {
    "collapsed": false,
    "ExecuteTime": {
     "end_time": "2023-09-18T11:31:39.030707Z",
     "start_time": "2023-09-18T11:31:37.327554200Z"
    }
   },
   "id": "e048b887d4d75930"
  },
  {
   "cell_type": "code",
   "execution_count": 10,
   "outputs": [],
   "source": [
    "gel = np.load(MOVIE_PATH + 'np/gel.npy', mmap_mode='r')"
   ],
   "metadata": {
    "collapsed": false,
    "ExecuteTime": {
     "end_time": "2023-09-18T11:32:01.593606300Z",
     "start_time": "2023-09-18T11:32:01.546922100Z"
    }
   },
   "id": "93fa6deced68768f"
  },
  {
   "cell_type": "markdown",
   "source": [
    "## <span color=red > Load Channel 2 images"
   ],
   "metadata": {
    "collapsed": false
   },
   "id": "3d67e561252de4e9"
  },
  {
   "cell_type": "code",
   "execution_count": null,
   "outputs": [],
   "source": [
    "#get list of files in directory\n",
    "import os\n",
    "filelist = os.listdir(MOVIE_PATH + 'tiff\\C2')\n",
    "file_list_numbered = []\n",
    "for i in range(len(filelist)):\n",
    "    #split file by '_'\n",
    "    t = int(filelist[i].split('_')[-2][1:])\n",
    "    file_list_numbered.append((t,filelist[i]))\n",
    "    #sort by time\n",
    "file_list_numbered.sort(key = lambda x: x[0])\n",
    "for t in range(len(file_list_numbered)):\n",
    "    print(file_list_numbered[t][0],file_list_numbered[t][1])\n",
    "\n",
    "\n"
   ],
   "metadata": {
    "collapsed": false
   },
   "id": "1bbfc8a16360d09a"
  },
  {
   "cell_type": "code",
   "execution_count": null,
   "outputs": [],
   "source": [
    "#load images\n",
    "motors_list = []\n",
    "for i in range(len(file_list_numbered)):\n",
    "    motors_list.append(tifffile.imread(MOVIE_PATH + 'tiff/C2/' + file_list_numbered[i][1]))\n",
    "    print(i)"
   ],
   "metadata": {
    "collapsed": false
   },
   "id": "58ae16d01412794a"
  },
  {
   "cell_type": "code",
   "execution_count": null,
   "outputs": [],
   "source": [
    "# get the max z since images where taken with different\n",
    "max_z = 0\n",
    "for t, image in enumerate(motors_list):\n",
    "    print(t,image.shape)\n",
    "    z = image.shape[0]\n",
    "    if z > max_z:\n",
    "        max_z = z\n",
    "print(max_z)\n"
   ],
   "metadata": {
    "collapsed": false
   },
   "id": "7c037aa031ab3202"
  },
  {
   "cell_type": "code",
   "execution_count": null,
   "outputs": [],
   "source": [
    "#set blank areas to nan\n",
    "motors = np.zeros((len(motors_list), max_z,*motors_list[0].shape[1:]))\n",
    "motors[motors ==0] = np.nan\n",
    "for t in range(len(motors)):\n",
    "    motors[t,:motors_list[t].shape[0],:,:] = motors_list[t]"
   ],
   "metadata": {
    "collapsed": false
   },
   "id": "ff73025430ff4216"
  },
  {
   "cell_type": "code",
   "execution_count": null,
   "outputs": [],
   "source": [
    "np.save(MOVIE_PATH + 'np/motors.npy',motors)"
   ],
   "metadata": {
    "collapsed": false
   },
   "id": "a410fab51cce2953"
  },
  {
   "cell_type": "code",
   "execution_count": null,
   "outputs": [],
   "source": [
    "motors = np.load(MOVIE_PATH + 'np/motors.npy')\n",
    "motors_transformed = np.zeros(motors.shape)\n",
    "import ants\n",
    "for t in range(len(gel)):\n",
    "    image = ants.from_numpy(np.transpose(motors[t], (2,1,0)))\n",
    "    new_image = ants.apply_transforms(fixed=image, moving=image, transformlist=PROJECT_PATH + 'add_data/%s/transform/transform%d.mat'%(movie,t+1), defaultvalue =0)\n",
    "    motors_transformed[t] = np.transpose(new_image.numpy(), (2,1,0))"
   ],
   "metadata": {
    "collapsed": false
   },
   "id": "d85091dedc72c079"
  },
  {
   "cell_type": "code",
   "execution_count": null,
   "outputs": [],
   "source": [
    "plt.hist(motors_transformed[~np.isnan(motors_transformed)])\n",
    "plt.title('Motors intensity histogram')\n",
    "plt.show()\n"
   ],
   "metadata": {
    "collapsed": false
   },
   "id": "88c62922a29cb498"
  },
  {
   "cell_type": "code",
   "execution_count": null,
   "outputs": [],
   "source": [
    "np.save(MOVIE_PATH + 'np/motors_transformed.npy',motors_transformed)"
   ],
   "metadata": {
    "collapsed": false
   },
   "id": "19e84cbad4c5e767"
  },
  {
   "cell_type": "markdown",
   "id": "927c6798",
   "metadata": {},
   "source": [
    "## <span color=red >LOAD RAW GEL HERE\n"
   ]
  },
  {
   "cell_type": "markdown",
   "source": [
    "### applyting calculated transform to gel\n"
   ],
   "metadata": {
    "collapsed": false
   },
   "id": "29c84015613b27c4"
  },
  {
   "cell_type": "code",
   "execution_count": 11,
   "outputs": [],
   "source": [
    "gel = np.load(MOVIE_PATH + 'np/gel.npy', mmap_mode='r')\n",
    "gel_transformed = np.zeros(gel.shape, dtype = np.float32)\n",
    "import ants\n",
    "for t in range(len(gel)):\n",
    "    numpy_image = np.array(np.transpose(gel[t], (2,1,0)))\n",
    "    image = ants.from_numpy(numpy_image)\n",
    "    new_image = ants.apply_transforms(fixed=image, moving=image, transformlist=PROJECT_PATH + 'add_data/%s/transform/transform%d.mat'%(movie,t+1), defaultvalue =0)\n",
    "    gel_transformed[t] = np.transpose(new_image.numpy(), (2,1,0))"
   ],
   "metadata": {
    "collapsed": false,
    "ExecuteTime": {
     "end_time": "2023-09-18T15:10:21.449311900Z",
     "start_time": "2023-09-18T15:07:57.294039500Z"
    }
   },
   "id": "52f0cbcb5c5fafb1"
  },
  {
   "cell_type": "markdown",
   "source": [
    "## <span color = red> transform gel"
   ],
   "metadata": {
    "collapsed": false
   },
   "id": "67b48d73385b213f"
  },
  {
   "cell_type": "code",
   "execution_count": 5,
   "outputs": [],
   "source": [
    "z_df = pd.read_csv(MOVIE_PATH + 'np/stabilize_df.csv')"
   ],
   "metadata": {
    "collapsed": false,
    "ExecuteTime": {
     "end_time": "2023-09-28T15:57:28.842786400Z",
     "start_time": "2023-09-28T15:57:28.746564600Z"
    }
   },
   "id": "5c739765669b1b1e"
  },
  {
   "cell_type": "code",
   "execution_count": 8,
   "outputs": [
    {
     "data": {
      "text/plain": "<module 'preprocessing.preprocessingV2' from 'C:\\\\Users\\\\amityu\\\\DataspellProjects\\\\gel_sheets\\\\preprocessing\\\\preprocessingV2.py'>"
     },
     "execution_count": 8,
     "metadata": {},
     "output_type": "execute_result"
    }
   ],
   "source": [
    "import importlib\n",
    "importlib.reload(pre)"
   ],
   "metadata": {
    "collapsed": false,
    "ExecuteTime": {
     "end_time": "2023-09-28T15:59:56.454835700Z",
     "start_time": "2023-09-28T15:59:56.425835200Z"
    }
   },
   "id": "43197639d9910eb8"
  },
  {
   "cell_type": "code",
   "execution_count": null,
   "outputs": [
    {
     "name": "stdout",
     "output_type": "stream",
     "text": [
      "2023-09-28 18:59:58\n"
     ]
    },
    {
     "name": "stderr",
     "output_type": "stream",
     "text": [
      " 48%|████▊     | 59/124 [14:07<16:06, 14.87s/it]"
     ]
    }
   ],
   "source": [
    "gel = np.load(MOVIE_PATH + 'np/gel.npy', mmap_mode='r')\n",
    "gel_transofrmed = pre.stabilize(gel, movie_path=MOVIE_PATH ,transform_path =PROJECT_PATH + 'add_data/%s/transform/'%movie, mask_coordinates = (0,20,0,512,0,512),  moving_mask_coordinates =(0,0, 0,512,0,512), z_df=z_df)"
   ],
   "metadata": {
    "collapsed": false,
    "is_executing": true,
    "ExecuteTime": {
     "start_time": "2023-09-28T15:59:58.743959600Z"
    }
   },
   "id": "7ca4ee2984ebc36c"
  },
  {
   "cell_type": "code",
   "execution_count": null,
   "outputs": [],
   "source": [
    "plt.imshow(gel_transformed[10,8,:,:])\n",
    "plt.show()"
   ],
   "metadata": {
    "collapsed": false
   },
   "id": "461b5027e9a258d4"
  },
  {
   "cell_type": "code",
   "execution_count": 12,
   "outputs": [],
   "source": [
    "\n",
    "gel_transformed[gel_transformed == 0] = np.nan\n"
   ],
   "metadata": {
    "collapsed": false,
    "ExecuteTime": {
     "end_time": "2023-09-18T15:11:11.547356100Z",
     "start_time": "2023-09-18T15:10:21.465312200Z"
    }
   },
   "id": "f493f89bc2ce722d"
  },
  {
   "cell_type": "code",
   "execution_count": 13,
   "outputs": [],
   "source": [
    "tifffile.imsave(MOVIE_PATH + 'np/slice.tif', gel_transformed[:,:,:,200].astype(np.float32))"
   ],
   "metadata": {
    "collapsed": false,
    "ExecuteTime": {
     "end_time": "2023-09-18T15:11:11.796356400Z",
     "start_time": "2023-09-18T15:11:11.568356Z"
    }
   },
   "id": "1dbd3a5a6b05a254"
  },
  {
   "cell_type": "code",
   "execution_count": null,
   "outputs": [],
   "source": [
    "bins = np.linspace(0, 300, 50)\n",
    "plt.hist(gel[~np.isnan(gel)], bins = bins)\n",
    "plt.title('Histogram of intensity before transformation')\n",
    "plt.show()\n",
    "\n",
    "plt.hist(gel_transformed[~np.isnan(gel_transformed)], bins = bins)\n",
    "plt.title('Histogram of intensity after transformation')\n",
    "\n",
    "plt.show()\n"
   ],
   "metadata": {
    "collapsed": false
   },
   "id": "468f1166f3a569ae"
  },
  {
   "cell_type": "code",
   "execution_count": 5,
   "outputs": [],
   "source": [
    "np.save(MOVIE_PATH + 'np/gel_transformed.npy',gel_transformed)"
   ],
   "metadata": {
    "collapsed": false,
    "ExecuteTime": {
     "end_time": "2023-09-18T12:21:58.162432600Z",
     "start_time": "2023-09-18T12:21:24.584666100Z"
    }
   },
   "id": "4bd4e09af563e65d"
  },
  {
   "cell_type": "code",
   "execution_count": null,
   "outputs": [],
   "source": [
    "gel_transformed = np.load(MOVIE_PATH + 'np/gel_transformed.npy')"
   ],
   "metadata": {
    "collapsed": false
   },
   "id": "9f491570476d0cde"
  },
  {
   "cell_type": "markdown",
   "source": [],
   "metadata": {
    "collapsed": false
   },
   "id": "587e54d5ad623731"
  },
  {
   "cell_type": "markdown",
   "source": [
    "gel_transformed[np.isnan(gel_transformed)] = np.nanmean(gel_transformed[25,70:80,:,:])"
   ],
   "metadata": {
    "collapsed": false
   },
   "id": "ea65cf709031e846"
  },
  {
   "cell_type": "markdown",
   "source": [
    "## <span color=red> Illumination filter"
   ],
   "metadata": {
    "collapsed": false
   },
   "id": "6e136984711a33c"
  },
  {
   "cell_type": "code",
   "execution_count": null,
   "outputs": [],
   "source": [
    "fig, axes = plt.subplots(15,1, figsize = (10,30))\n",
    "for i,t in enumerate(range(0,len(gel_transformed),5)):\n",
    "    slice = gel_transformed[t,0:5,:,:]\n",
    "    slice[np.isnan(slice)] = np.nanmean(slice)\n",
    "    illumination_filter = np.nanmean(gaussian_filter(slice,sigma=25),axis = 0)\n",
    "    axes[i].imshow(illumination_filter)\n",
    "    axes[i].set_title('Illumination filter time %d'%t)\n",
    "plt.show()"
   ],
   "metadata": {
    "collapsed": false
   },
   "id": "6996c1ae2d50e2ed"
  },
  {
   "cell_type": "code",
   "execution_count": null,
   "outputs": [],
   "source": [
    "gel_corrected = np.zeros(gel.shape, dtype=np.float32)\n",
    "filter_sigma = 25\n",
    "\n",
    "for t in range(len(gel_transformed)):\n",
    "    slice = gel_transformed[t,0:5,:,:]\n",
    "    slice[np.isnan(slice)] = np.nanmean(slice)\n",
    "    illumination_filter = np.nanmean(gaussian_filter(slice,sigma=25),axis = 0)\n",
    "    gel_corrected[t] = gel_transformed[t]/illumination_filter"
   ],
   "metadata": {
    "collapsed": false
   },
   "id": "ced9d27cabbfc5cf"
  },
  {
   "cell_type": "code",
   "execution_count": null,
   "outputs": [],
   "source": [
    "del gel_transformed"
   ],
   "metadata": {
    "collapsed": false
   },
   "id": "e7bf16301c1174ee"
  },
  {
   "cell_type": "code",
   "execution_count": null,
   "outputs": [],
   "source": [
    "bins = np.linspace(0, 5, 50)\n",
    "plt.hist(gel_corrected[~np.isnan(gel_corrected)], bins = bins)\n",
    "plt.title('Histogram of intensity with filter')\n",
    "plt.show()\n"
   ],
   "metadata": {
    "collapsed": false
   },
   "id": "ba7fe9ebff26f14a"
  },
  {
   "cell_type": "code",
   "execution_count": null,
   "outputs": [],
   "source": [],
   "metadata": {
    "collapsed": false
   },
   "id": "f873f740d0dbb8c4"
  },
  {
   "cell_type": "code",
   "execution_count": null,
   "outputs": [],
   "source": [
    "np.save(MOVIE_PATH + 'np/gel_norm.npy',gel_corrected)"
   ],
   "metadata": {
    "collapsed": false
   },
   "id": "379df6ea21a2e1ec"
  },
  {
   "cell_type": "code",
   "execution_count": null,
   "outputs": [],
   "source": [
    "gel_corrected = np.load(MOVIE_PATH + 'np/gel_norm.npy')"
   ],
   "metadata": {
    "collapsed": false
   },
   "id": "d252e9fc86f35a74"
  },
  {
   "cell_type": "markdown",
   "source": [
    "<span color = yellow> Background bellow membrane measuring\n"
   ],
   "metadata": {
    "collapsed": false
   },
   "id": "403d5cabba936562"
  },
  {
   "cell_type": "markdown",
   "source": [
    "monomer_data_df = pd.read_csv(MOVIE_PATH + 'np/monomer_rect.csv')\n",
    "mean_corrected = []\n",
    "std_corrected = []\n",
    "for idx,row in monomer_data_df.iterrows():\n",
    "    t = idx\n",
    "    iz = int(row['Z'])\n",
    "    iy = int(row['Y'])\n",
    "    ix = int(row['X'])\n",
    "    r_size = int(row['r_size'])\n",
    "    gap_from_surface = int(row['gap_from_surface'])\n",
    "    y_gap = int(row['y_gap'])\n",
    "    i_data = gel_corrected[t, iz+gap_from_surface:iz+r_size, iy:iy+y_gap, ix:ix+r_size]\n",
    "    i_data = i_data[i_data>0]\n",
    "    mean = np.nanmean(i_data)\n",
    "    std = np.nanstd(i_data)\n",
    "    mean_corrected.append(mean)\n",
    "    std_corrected.append(std)\n",
    "\n",
    "monomer_data_df['mean'] = mean_corrected\n",
    "monomer_data_df['std'] = std_corrected\n",
    "monomer_data_df.to_csv(MOVIE_PATH + 'np/monomer_rect.csv')"
   ],
   "metadata": {
    "collapsed": false
   },
   "id": "8771e70df74c87b3"
  },
  {
   "cell_type": "markdown",
   "source": [
    "illumination_fix = True\n",
    "sigma =25\n",
    "z = 0\n",
    "delta_z =5\n",
    "bin_number =50\n",
    "#frame_shape = gel[0,:,:,0].shape\n",
    "max_intensity = np.nanmax(gel[:,z:z + delta_z, :, :])\n",
    "min_intensity = np.nanmin(gel[:,z:z + delta_z, :, :])\n",
    "bins = np.linspace(min_intensity, max_intensity, bin_number + 1)\n",
    "\n",
    "num_frames = len(gel)\n",
    "y_max = 0.2\n",
    "\n",
    "# Update function for each frame\n",
    "def update_frame(t):\n",
    "\n",
    "    ax.clear()\n",
    "    data_corrected = gel_corrected[t,z:z + delta_z, :, :].flatten()\n",
    "    #data_not_corrected = gel[t,z:z + delta_z, :, :].flatten()\n",
    "\n",
    "    # Create an array for the interpolated values\n",
    "    interpolated_x, smoothed_y, density,  mean, std, amp = plot_data(data_corrected, bins=bins)\n",
    "    ax.bar(bins[:-1], density,width=np.diff(bins), align='edge', label='histogram corrected', alpha=0.7, color='red')\n",
    "    ax.plot(interpolated_x, smoothed_y, label='Gaussian fit', color='red', linewidth=2)\n",
    "    ax.set_ylim (0,y_max)\n",
    "    illumination_str = 'illumination_fix' if illumination_fix else 'no_illumination_fix'\n",
    "    ax.set_title('BG below membrane frequency \\n movie %s time %d \\n z=%d-%d' % (movie,t, z, z+delta_z))\n",
    "\n",
    "    #interpolated_x, smoothed_y, density,  mean, std , amp= plot_data(data_not_corrected, bins=bins)\n",
    "    #ax.bar(bins[:-1], density,width=np.diff(bins), align='edge', label='histogram not corrected', alpha=0.5, color = 'blue')\n",
    "    #ax.plot(interpolated_x, smoothed_y, label='Gaussian fit', color='blue', linewidth=2)\n",
    "\n",
    "    ax.legend()\n",
    "    return plot,\n",
    "\n",
    "# Create a figure and axis\n",
    "fig = plt.figure(figsize=(10, 10))\n",
    "ax = fig.add_subplot(111)\n",
    "\n",
    "# Create an empty plot\n",
    "plot = ax.bar(bins, np.ones(len(bins)))\n",
    "\n",
    "ax.set_ylim(0,0.1)\n",
    "\n",
    "\n",
    "# Create the animation\n",
    "myanimation = animation.FuncAnimation(fig, update_frame, range(num_frames), interval=1000)\n",
    "writer = animation.FFMpegWriter(fps=1)\n",
    "\n",
    "myanimation.save(GRAPH_PATH + 'bg_bellow_membrane\\%s_bg_hist_ill%d.mp4'%(movie, illumination_fix), writer=writer)\n",
    "\n",
    "# Display the animation\n",
    "HTML(myanimation.to_jshtml())\n",
    "plt.close()"
   ],
   "metadata": {
    "collapsed": false
   },
   "id": "a976fee15de4c0e5"
  },
  {
   "cell_type": "code",
   "execution_count": null,
   "outputs": [],
   "source": [
    "bins"
   ],
   "metadata": {
    "collapsed": false
   },
   "id": "5faec57c60682977"
  },
  {
   "cell_type": "code",
   "execution_count": null,
   "outputs": [],
   "source": [
    "t = 2\n",
    "imseq = gel[t]\n"
   ],
   "metadata": {
    "collapsed": false
   },
   "id": "87cfacbae54a9aca"
  },
  {
   "cell_type": "markdown",
   "source": [
    "np.array(imseq[10]).shape"
   ],
   "metadata": {
    "collapsed": false
   },
   "id": "55d745946668c07f"
  },
  {
   "cell_type": "code",
   "execution_count": null,
   "outputs": [],
   "source": [
    "im_stack = imseq"
   ],
   "metadata": {
    "collapsed": false
   },
   "id": "43e288498c0511f0"
  },
  {
   "cell_type": "code",
   "execution_count": null,
   "outputs": [],
   "source": [
    "plt.figure()\n",
    "for i  in range(0,512,50):\n",
    "    plt.plot(im_stack[:,256,i])\n",
    "\n",
    "plt.title(' Raw data '  + movie + \" t = %d intensity profile in z \"%t)\n",
    "plt.show()"
   ],
   "metadata": {
    "collapsed": false
   },
   "id": "a557a0c748692157"
  },
  {
   "cell_type": "markdown",
   "source": [
    "###    Illumination filter validation"
   ],
   "metadata": {
    "collapsed": false
   },
   "id": "3f6e819b3a67ffb5"
  },
  {
   "cell_type": "markdown",
   "source": [
    "### Photobeaching? I plot the mean of intensity below the membrane over time\n",
    "## Photobleaching seems low, but it could be intersting to see how much the membrange florecense is bleaching, so we can get better estimation. THe membrane is  \\n\n",
    "## using different flourcence material in  a different channel\n"
   ],
   "metadata": {
    "collapsed": false
   },
   "id": "148e03dd4c578c2f"
  },
  {
   "cell_type": "markdown",
   "source": [
    "mean_list = []\n",
    "corrected_mean_list = []\n",
    "min_z = 0\n",
    "max_z = 8\n",
    "sigma =25\n",
    "for t in range(len(gel)):\n",
    "    bg_below_plate = gel[t,min_z:max_z,:,:]\n",
    "    illumination_filter = np.mean(gaussian_filter(bg_below_plate,sigma=sigma),axis = 0)\n",
    "    corrected_mean_list.append(np.mean(gel[t,min_z:max_z,:,:]/illumination_filter))\n",
    "    mean_list.append(np.mean(gel[t,min_z:max_z,:,:]))#/np.mean(illumination_filter))\n",
    "\n",
    "fig,axes = plt.subplots(1,2  , figsize = (15,5))\n",
    "\n",
    "\n",
    "plt.suptitle('%s \\n z from %d to %d'%(movie, min_z, max_z))\n",
    "\n",
    "axes[0].plot(mean_list, label = 'mean_bg', color = 'red')\n",
    "axes[0].title.set_text('Intensity mean below membrane \\n on raw data')\n",
    "axes[1].plot(corrected_mean_list, label = 'mean_bg_corrected')\n",
    "axes[1].title.set_text(' \\nMean below membrane \\n corrected with Gaussian filter with sigma = %d \\n filter taken at each time frame'%sigma)\n",
    "#plt.ylim(0.9968,0.9970)\n",
    "\n",
    "axes[0].set_xlabel('t (min)')\n",
    "axes[1].set_xlabel('t (min)')\n",
    "axes[0].set_ylabel('Intensity Mean')\n",
    "axes[1].set_ylabel('Intensity Mean')\n",
    "axes[1].set_ylim(min(corrected_mean_list),min(corrected_mean_list)*max(mean_list)/min(mean_list))\n",
    "plt.savefig(GRAPH_PATH + 'illumination_filter\\%s_mean_bg.png'%movie)\n",
    "plt.show()\n"
   ],
   "metadata": {
    "collapsed": false
   },
   "id": "806f002e45a028ae"
  },
  {
   "cell_type": "markdown",
   "source": [
    "###    Illumination filter animation\n"
   ],
   "metadata": {
    "collapsed": false
   },
   "id": "753e4d348c172ca4"
  },
  {
   "cell_type": "code",
   "execution_count": null,
   "outputs": [],
   "source": [
    "\n",
    "#write animation with illumination filter for each frame\n",
    "import matplotlib.animation as animation\n",
    "from IPython.display import HTML\n",
    "plt.rcParams['animation.html'] = 'jshtml'\n",
    "gel = np.load(MOVIE_PATH + 'np/gel.npy')\n",
    "frames = np.zeros((gel.shape[0],gel.shape[2],gel.shape[3]))\n",
    "for t in range(len(gel)):\n",
    "    frames[t] = np.mean(gaussian_filter(gel[t,min_z:max_z,:,:], sigma),axis = 0)\n",
    "num_frames = len(frames)\n",
    "frame_shape = frames.shape[1:]\n",
    "\n",
    "# Create a figure and axis\n",
    "fig = plt.figure()\n",
    "ax = fig.add_subplot(111)\n",
    "# Create an empty plot\n",
    "plot = ax.imshow(frames[0], cmap='jet', vmin=105, vmax = 115,animated=True)\n",
    "plt.xlabel('X (Pixels)')\n",
    "plt.ylabel('Y (Pixels)')\n",
    "\n",
    "\n",
    "cbar = plt.colorbar(plot)\n",
    "#set max color bar is 200\n",
    "\n",
    "# Update function for each frame\n",
    "def update_frame(t):\n",
    "    ax.imshow(frames[t], cmap='jet',vmin=105,vmax=115)\n",
    "\n",
    "    #ax.set_title('movie %s Frame: %d \\n Intesity projection \\n i =  %d -  %d' % (movie,t,i,i+i_gap))\n",
    "    ax.set_title('%s \\n Illumination filter time %d' % (movie,t    ))\n",
    "    # Highlight the specified coordinates\n",
    "    #plot.axes.plot(x_coord, y_coord, 'ro')\n",
    "\n",
    "    return plot,\n",
    "\n",
    "# Create the animation\n",
    "myanimation = animation.FuncAnimation(fig, update_frame, frames=range(num_frames), interval=1000, blit=True)\n",
    "writer = animation.FFMpegWriter(fps=1)\n",
    "\n",
    "myanimation.save(GRAPH_PATH + 'preprocessing/' + movie + 'illumination filter z=%d- %d.mp4'%(min_z, max_z), writer=writer)\n",
    "#myanimation.save(GRAPH_PATH + 'preprocessing/' + movie + 'j=256.mp4', writer=writer)\n",
    "\n",
    "\n",
    "# Display the animation\n",
    "plt.show()\n",
    "HTML(myanimation.to_jshtml())"
   ],
   "metadata": {
    "collapsed": false
   },
   "id": "855ccbad3504da1e"
  },
  {
   "cell_type": "code",
   "execution_count": null,
   "outputs": [],
   "source": [
    "mean_illumination = np.mean(frames, axis = (1,2))\n",
    "plt.plot(mean_illumination)\n",
    "plt.title('Mean illumination filter over time')\n",
    "plt.xlabel('Time')\n",
    "plt.ylabel('Mean illumination filter')\n",
    "plt.show()\n"
   ],
   "metadata": {
    "collapsed": false
   },
   "id": "bf794ca8db1a46af"
  },
  {
   "cell_type": "code",
   "execution_count": null,
   "outputs": [],
   "source": [],
   "metadata": {
    "collapsed": false
   },
   "id": "5a21890a64b2be6b"
  },
  {
   "cell_type": "markdown",
   "source": [
    "### geting monomoer signal,\n",
    "## finding monomer area\n",
    "## Line scan of monomer area animation"
   ],
   "metadata": {
    "collapsed": false
   },
   "id": "afe4b7e8c1db835b"
  },
  {
   "cell_type": "code",
   "execution_count": null,
   "outputs": [],
   "source": [
    "from IPython.display import HTML\n",
    "plt.rcParams['animation.html'] = 'jshtml'\n",
    "import matplotlib.animation as animation\n",
    "\n",
    "mip_width = 500\n",
    "frame_shape = gel[0,:,:,0].shape\n",
    "max_intensity = np.nanmax(gel)\n",
    "num_frames = len(gel)\n",
    "\n",
    "#for j in range(0,gel.shape[3],mip_width):\n",
    "for j in [250]:\n",
    "    # Create a figure and axis\n",
    "    fig = plt.figure(figsize=(10, 10))\n",
    "    ax = fig.add_subplot(111)\n",
    "    #ax.set_position([0.1, 0.1, 0.8, 0.8])  # Sets the size of the axes within the figure\n",
    "\n",
    "    # Create an empty plot\n",
    "    plot, = ax.plot(np.zeros(10))\n",
    "    ax.set_ylim(0,max_intensity)\n",
    "\n",
    "    # Update function for each frame\n",
    "    def update_frame(t):\n",
    "\n",
    "        ax.clear()\n",
    "        for i in range(0,500,500):\n",
    "        #for i in range(0,gel.shape[2],mip_width):\n",
    "\n",
    "            line = np.max(gel[t,:,i:i+mip_width,j], axis=1) #get line of intensity\n",
    "            #replace nun with zero in image\n",
    "            line[np.isnan(line)] = 0\n",
    "            ax.plot(line, label = 'i = %d - %d'%(i, i+mip_width))\n",
    "            ax.set_ylim (0,max_intensity)\n",
    "            plt.xlabel('Z')\n",
    "            plt.ylabel('Intensity')\n",
    "\n",
    "        ax.set_title('movie %s Frame: %d j=%d, mip_width=%d' % (movie,t,j,mip_width))\n",
    "        ax.legend()\n",
    "        return plot,\n",
    "\n",
    "    # Create the animation\n",
    "    myanimation = animation.FuncAnimation(fig, update_frame, range(num_frames), interval=1000, blit=True)\n",
    "    writer = animation.FFMpegWriter(fps=1)\n",
    "\n",
    "    myanimation.save(GRAPH_PATH + 'preprocessing/' + movie + 'linescan_j=%d_mip_width=%d.mp4'%(j,mip_width), writer=writer)\n",
    "\n",
    "# Display the animation\n",
    "#plt.show()\n",
    "#HTML(myanimation.to_jshtml())\n",
    "plt.close()"
   ],
   "metadata": {
    "collapsed": false
   },
   "id": "5e3eb365ca85fb4c"
  },
  {
   "cell_type": "markdown",
   "source": [
    "## <span color = red>RAW MIP  animation"
   ],
   "metadata": {
    "collapsed": false
   },
   "id": "859d9f7fa1a35933"
  },
  {
   "cell_type": "markdown",
   "source": [
    "\n",
    "import matplotlib.animation as animation\n",
    "from IPython.display import HTML\n",
    "plt.rcParams['animation.html'] = 'jshtml'\n",
    "gel = np.load(MOVIE_PATH + 'np/gel.npy')\n",
    "gel_corrected = np.zeros(gel.shape)\n",
    "min_z = 0\n",
    "max_z = 8\n",
    "for t in range(len(gel)):\n",
    "    gel_corrected[t] = np.mean(gaussian_filter(gel[t,min_z:max_z,:,:], sigma),axis = 0)\n",
    "\n",
    "gel = gel_corrected\n",
    "\n",
    "i = 0\n",
    "for i_gap in [1,20,50,100,250,500]:\n",
    "    frames = np.max(gel[:,:, i:i+i_gap, :], axis = 2)\n",
    "    frames[np.isnan(frames)] = 0\n",
    "    num_frames = len(frames)\n",
    "    frame_shape = frames.shape[1:]\n",
    "\n",
    "    # Create a figure and axis\n",
    "    fig = plt.figure()\n",
    "    ax = fig.add_subplot(111)\n",
    "    # Create an empty plot\n",
    "    plot = ax.imshow(frames[0], cmap='jet', vmin=0, vmax = 200,animated=True)\n",
    "    plt.xlabel('X (Pixels)')\n",
    "    plt.ylabel('Z (Pixels)')\n",
    "\n",
    "    cbar = plt.colorbar(plot)\n",
    "    #set max color bar is 200\n",
    "\n",
    "    # Update function for each frame\n",
    "    def update_frame(t):\n",
    "        ax.imshow(frames[t], cmap='jet',vmin=0,vmax=200)\n",
    "\n",
    "        #ax.set_title('movie %s Frame: %d \\n Intesity projection \\n i =  %d -  %d' % (movie,t,i,i+i_gap))\n",
    "        ax.set_title('%s raw y=%d-%d'%(movie, i, i+i_gap))\n",
    "        # Highlight the specified coordinates\n",
    "        #plot.axes.plot(x_coord, y_coord, 'ro')\n",
    "\n",
    "        return plot,\n",
    "\n",
    "    # Create the animation\n",
    "    myanimation = animation.FuncAnimation(fig, update_frame, frames=range(num_frames), interval=100, blit=True)\n",
    "    writer = animation.FFMpegWriter(fps=1)\n",
    "\n",
    "    myanimation.save(GRAPH_PATH + 'preprocessing/' + movie + 'mip_i_%d-%d.mp4'%(i,i+i_gap), writer=writer)\n",
    "    #myanimation.save(GRAPH_PATH + 'preprocessing/' + movie + 'j=256.mp4', writer=writer)\n",
    "\n",
    "\n",
    "# Display the animation\n",
    "plt.show()\n",
    "HTML(myanimation.to_jshtml())"
   ],
   "metadata": {
    "collapsed": false
   },
   "id": "921f6028de2acf10"
  },
  {
   "cell_type": "markdown",
   "source": [],
   "metadata": {
    "collapsed": false
   },
   "id": "5de283be4b329fa8"
  },
  {
   "cell_type": "markdown",
   "source": [
    "## <span color = red>Gel monomer free area animation <span>\n"
   ],
   "metadata": {
    "collapsed": false
   },
   "id": "b417f89b09a6a3b0"
  },
  {
   "cell_type": "markdown",
   "source": [
    "# now we treat gel as the final version after illumination filter and transformation\n"
   ],
   "metadata": {
    "collapsed": false
   },
   "id": "916f4c316b34cc5c"
  },
  {
   "cell_type": "code",
   "execution_count": null,
   "outputs": [],
   "source": [
    "from scipy.optimize import curve_fit\n",
    "\n",
    "# Define the Gaussian function\n",
    "def fit_gaussian(x, mu, sigma, amplitude):\n",
    "    return amplitude * np.exp(-0.5 * ((x - mu) / sigma) ** 2)\n"
   ],
   "metadata": {
    "collapsed": false
   },
   "id": "e44c309cd1179e8f"
  },
  {
   "cell_type": "code",
   "execution_count": null,
   "outputs": [],
   "source": [
    "def plot_data(data, bins, bins_number=50):\n",
    "    # bins = np.linspace(min_intensity, max_intensity, bins_number+1)   # Define the bins\n",
    "    hist, _ = np.histogram(data[~np.isnan(data)], bins=bins, density=True)\n",
    "    mean = np.nanmean(data)\n",
    "    std = np.nanstd(data)\n",
    "\n",
    "    # Calculate the bin widths\n",
    "    bin_widths = bins[1:] - bins[:-1]\n",
    "    bin_gap_mid = (bins[1] - bins[0])/ 2\n",
    "    # Calculate the density function\n",
    "    density = hist / np.sum(hist * bin_widths)\n",
    "    #original_array = density\n",
    "\n",
    "    x_data = np.linspace(bins[0] + bin_gap_mid , bins[-1] - bin_gap_mid, len(density))\n",
    "    y_data = density\n",
    "\n",
    "    # Fit the Gaussian function to the data\n",
    "    initial_guess = [mean, std, 1]  # Initial guess for the parameters: [mu, sigma, amplitude]\n",
    "    optimized_params, _ = curve_fit(fit_gaussian, x_data, y_data, p0=initial_guess)\n",
    "\n",
    "    # Extract the optimized parameter values\n",
    "    mu_opt, sigma_opt, amplitude_opt = optimized_params\n",
    "\n",
    "    # Generate the fitted curve using the optimized parameters\n",
    "    y_fitted = fit_gaussian(x_data, mu_opt, sigma_opt, amplitude_opt)\n",
    "    new_indices = np.linspace(0, len(y_fitted) - 1, 50 * len(y_fitted))\n",
    "\n",
    "    # Perform interpolation\n",
    "    interpolated_y   = np.interp(new_indices, range(len(y_fitted)), y_fitted)\n",
    "    interpolated_x   = np.interp(new_indices, range(len(y_fitted)), x_data)\n",
    "    smoothed_y = gaussian_filter(interpolated_y, sigma=15)\n",
    "    return interpolated_x, smoothed_y, density,  mu_opt, sigma_opt, amplitude_opt"
   ],
   "metadata": {
    "collapsed": false
   },
   "id": "32770788cf6dac9a"
  },
  {
   "cell_type": "code",
   "execution_count": null,
   "outputs": [],
   "source": [
    "gel = np.load(MOVIE_PATH + 'np/gel_norm.npy')"
   ],
   "metadata": {
    "collapsed": false
   },
   "id": "4b32524ab9f75827"
  },
  {
   "cell_type": "code",
   "execution_count": null,
   "outputs": [],
   "source": [
    "illumination_fix = True\n",
    "monomer_data_df = pd.read_csv(ADD_PATH + 'monomer_rect.csv')\n",
    "sigma = 25\n",
    "z = 0\n",
    "delta_z = 5\n",
    "bin_number = 50\n",
    "frame_shape = gel[0,:,:,0].shape\n",
    "num_frames = len(gel)\n",
    "y_max = 15\n",
    "#gel_corrected = np.zeros(gel.shape)\n",
    "#gel_corrected[np.isnan(gel_corrected)] = 0\n",
    "#for t in range(len(gel)):\n",
    "#    gel_corrected[t] = gel[t] / illumination_filter\n",
    "#gel_corrected[gel_corrected < 0.5] = np.nan\n",
    "max_intensity = np.nanmax(gel)\n",
    "max_intensity =1.5\n",
    "min_intensity = np.nanmin(gel)\n",
    "\n",
    "\n",
    "bin_number = 50\n",
    "bins = np.linspace(min_intensity, max_intensity, bin_number + 1)\n",
    "I_mean_list = []\n",
    "I_std_list = []\n",
    "\n",
    "# Update function for each frame\n",
    "def update_frame(t):\n",
    "    ax.clear()\n",
    "\n",
    "    iz = monomer_data_df.at[t, 'Z']\n",
    "    iy =monomer_data_df.at[t, 'Y']\n",
    "    ix = monomer_data_df.at[t, 'X']\n",
    "    r_size = monomer_data_df.at[t, 'r_size']\n",
    "    gap_from_surface =monomer_data_df.at[t, 'gap_from_surface']\n",
    "    y_gap = monomer_data_df.at[t, 'y_gap']\n",
    "    data_corrected = gel[t, iz+gap_from_surface:iz+r_size, iy:iy+y_gap, ix:ix+r_size]\n",
    "    #data_not_corrected = gel_corrected[t, iz+gap_from_surface:iz+r_size, iy:iy+y_gap, :]\n",
    "\n",
    "    data_corrected = data_corrected[~np.isnan(data_corrected)]\n",
    "    if data_corrected.size == 0:\n",
    "        return plot,\n",
    "    #data_not_corrected = data_not_corrected[~np.isnan(data_not_corrected)]\n",
    "    #if data_not_corrected.size == 0:\n",
    "    #    return plot,\n",
    "\n",
    "    # Create an array for the interpolated values\n",
    "    try:\n",
    "        interpolated_x, smoothed_y, density, mean, std, amp = plot_data(data_corrected, bins=bins)\n",
    "\n",
    "        I_mean_list.append(mean)\n",
    "        I_std_list.append(std)\n",
    "        ax.set_xlabel('Intensity', fontsize = 18)\n",
    "        ax.set_ylabel('Frequency', fontsize = 18)\n",
    "        ax.set_ylim(0, y_max)\n",
    "        #ax.set_title('Monomer Histogram\\n movie %s time %d \\n z=%d-%d, x=%d-%d all y \\n ' % (movie, t, row['z_start'], row['z_start'] + row['z_gap'], row['j_start'], row['j_start'] + row['j_gap']))\n",
    "        ax.set_title('Monomer Histogram\\n movie %s time %d' % (movie, t ))\n",
    "\n",
    "        #interpolated_x, smoothed_y, density, mean, std, amp = plot_data(data_not_corrected, bins=bins)\n",
    "        #ax.plot(interpolated_x, smoothed_y, color='b', label='Gaussian Fit on all values including debris ')\n",
    "        ax.plot(interpolated_x, smoothed_y, color='r', label='Gaussian Fit on areas without debris ')\n",
    "    except:\n",
    "        print(t, 'error')\n",
    "        return plot,\n",
    "    #density[np.isnan(density)] = 0\n",
    "    ax.bar(bins[:-1], density, width=np.diff(bins), align='edge', label='intensity histogram', alpha=0.5, color='b')\n",
    "    ax.legend()\n",
    "    return plot,\n",
    "\n",
    "\n",
    "# Create a figure and axis\n",
    "fig = plt.figure(figsize=(10, 10))\n",
    "ax = fig.add_subplot(111)\n",
    "#ax.set_position([0.1, 0.1, 0.8, 0.8])  # Sets the size of the axes within the figure\n",
    "\n",
    "# Create an empty plot\n",
    "plot = ax.bar(bins, np.ones(len(bins)))\n",
    "\n",
    "\n",
    "# Create the animation\n",
    "myanimation = animation.FuncAnimation(fig, update_frame, range(num_frames), interval=1000)\n",
    "writer = animation.FFMpegWriter(fps=1)\n",
    "\n",
    "myanimation.save(GRAPH_PATH + 'detecting_monomer\\%s_monomer_hist_red_clean.mp4' % movie, writer=writer)\n",
    "\n",
    "# Display the animation\n",
    "HTML(myanimation.to_jshtml())\n",
    "#plt.close()"
   ],
   "metadata": {
    "collapsed": false
   },
   "id": "11061f7eb9d4b3fe"
  },
  {
   "cell_type": "code",
   "execution_count": null,
   "outputs": [],
   "source": [
    "I_mean_list = []\n",
    "I_std_list = []\n",
    "z = 0\n",
    "delta_z = 5\n",
    "sigma = 25\n",
    "\n",
    "\n",
    "max_intensity =1.5\n",
    "min_intensity = np.nanmin(gel)\n",
    "\n",
    "\n",
    "bin_number = 50\n",
    "bins = np.linspace(min_intensity, max_intensity, bin_number + 1)\n",
    "\n",
    "\n",
    "for t in trange(len(gel)):\n",
    "\n",
    "    iz = monomer_data_df.at[t, 'Z']\n",
    "    iy =monomer_data_df.at[t, 'Y']\n",
    "    ix = monomer_data_df.at[t, 'X']\n",
    "    r_size = monomer_data_df.at[t, 'r_size']\n",
    "    gap_from_surface =monomer_data_df.at[t, 'gap_from_surface']\n",
    "    y_gap = monomer_data_df.at[t, 'y_gap']\n",
    "    data_corrected = gel[t, iz+gap_from_surface:iz+r_size, iy:iy+y_gap, ix:ix+r_size]\n",
    "\n",
    "    data_corrected = data_corrected[~np.isnan(data_corrected)]\n",
    "    if data_corrected.size == 0:\n",
    "        I_mean_list.append(np.nan)\n",
    "        I_std_list.append(np.nan)\n",
    "        continue\n",
    "    interpolated_x, smoothed_y, density, mean, std, amp = plot_data(data_corrected, bins=bins)\n",
    "    I_mean_list.append(mean)\n",
    "    I_std_list.append(std)\n",
    "\n",
    "\n",
    "\n",
    "monomer_data_df['gaussian_mean'] = I_mean_list\n",
    "monomer_data_df['gaussian_std'] = I_std_list\n",
    "monomer_data_df.to_csv(MOVIE_PATH + 'np/monomer_rect.csv')"
   ],
   "metadata": {
    "collapsed": false
   },
   "id": "ff1654244c6b469"
  },
  {
   "cell_type": "markdown",
   "source": [
    "### <span color = red> copy dataframe to add data folder\n"
   ],
   "metadata": {
    "collapsed": false
   },
   "id": "f59cf5195729cf4b"
  },
  {
   "cell_type": "code",
   "execution_count": null,
   "outputs": [],
   "source": [
    "monomer_data_df = pd.read_csv(ADD_PATH + 'monomer_rect.csv')"
   ],
   "metadata": {
    "collapsed": false
   },
   "id": "c58c2aad07e3ac7a"
  },
  {
   "cell_type": "code",
   "execution_count": null,
   "outputs": [],
   "source": [
    "gel = np.load(MOVIE_PATH + 'np/gel_norm.npy')"
   ],
   "metadata": {
    "collapsed": false
   },
   "id": "615d02fe7eb1314e"
  },
  {
   "cell_type": "code",
   "execution_count": null,
   "outputs": [],
   "source": [
    "zero_gel =gel.copy()\n",
    "zero_gel[np.isnan(zero_gel)] = 0\n",
    "gel_corrected = zero_gel\n",
    "from skimage.filters import apply_hysteresis_threshold\n",
    "from skimage import morphology\n",
    "from skimage.morphology import ball\n",
    "from scipy.ndimage import label\n",
    "monomer_data_df = pd.read_csv(MOVIE_PATH + 'np/monomer_rect.csv')\n",
    "step_number_list = [512]#[64,128,170,256]\n",
    "selem_radius_list = [2]#[1]\n",
    "surface = np.zeros((gel_corrected.shape[0],gel_corrected.shape[2], gel_corrected.shape[3]))\n",
    "membrane = np.zeros((gel_corrected.shape[0],gel_corrected.shape[2], gel_corrected.shape[3]))\n",
    "time_range = range(len(surface))\n",
    "# get the Cartesian product\n",
    "cartesian_product = itertools.product(step_number_list, selem_radius_list)\n",
    "\n",
    "# iterate over the Cartesian product\n",
    "for (step_number, selem_radius) in cartesian_product:\n",
    "    for t in tqdm(time_range):\n",
    "        h = np.zeros(gel.shape[2:])\n",
    "        m = np.zeros(gel.shape[2:])\n",
    "        '''mask = apply_hysteresis_threshold(gel_corrected[t,:,:,:], monomer_data_df.iloc[t]['gaussian_std']*3.5+ monomer_data_df.iloc[t]['gaussian_mean'], monomer_data_df\n",
    "        .iloc[t]['gaussian_std']*3.5 + monomer_data_df.iloc[t]['gaussian_mean'])'''\n",
    "        mask = gel_corrected[t,:,:,:] > monomer_data_df.iloc[t]['gaussian_std']*4.5+ monomer_data_df.iloc[t]['gaussian_mean']\n",
    "        #mask = gel_corrected[t,:,:,:] > monomer_data_df.iloc[t]['gaussian_std']*4+ 1\n",
    "        selem =ball(selem_radius)\n",
    "        selem[2:] = 0\n",
    "\n",
    "        #selem = np.ones((2,3,3), dtype=bool)\n",
    "        #selem[:int(selem_detph/2)] = 0\n",
    "\n",
    "        # Perform binary closing with the specified structuring element to fill holes\n",
    "        #mask = morphology.binary_closing(mask, selem)\n",
    "        mask = morphology.binary_dilation(mask, selem)\n",
    "        cleaned_mask = np.zeros(mask.shape)\n",
    "        #for z in range(mask.shape[0]):\n",
    "        #    cleaned_mask[z] = morphology.remove_small_objects(mask[z], min_size=2500    , connectivity=3)\n",
    "        connected_components, num_components = label(mask)\n",
    "        component_sizes = np.bincount(connected_components.ravel())\n",
    "\n",
    "        # Get the label of the largest component (label 0 is reserved for the background)\n",
    "        largest_label = np.argmax(component_sizes[1:]) + 1\n",
    "\n",
    "        # Create a binary mask containing only the largest component\n",
    "        cleaned_mask = connected_components == largest_label\n",
    "        for i in range(h.shape[0]):\n",
    "            for j in range(h.shape[1]):\n",
    "                try:\n",
    "                    h[i,j] = np.where(cleaned_mask[:,i,j])[0][-1]\n",
    "                    m[i,j] = np.where(cleaned_mask[:,i,j])[0][0]\n",
    "                except:\n",
    "                    print ('error')\n",
    "                    h[i,j] = np.nan\n",
    "                    m[i,j] = np.nan\n",
    "\n",
    "        x = range(h.shape[1])\n",
    "        y = range(h.shape[0])\n",
    "\n",
    "        #spline = RectBivariateSpline(y, x, h, kx=2, ky=2, s=0)\n",
    "        #new_x = np.linspace(0, h.shape[1], step_number)\n",
    "        #new_y = np.linspace(0, h.shape[0], step_number)\n",
    "        #h_tag= spline(new_y,new_x)\n",
    "        #spline = RectBivariateSpline(new_y, new_x, h_tag, kx=2, ky=2, s=0)\n",
    "        #h = spline(y,x)\n",
    "        surface[t] = h#gaussian(h, sigma=1)\n",
    "        membrane[t] = m#gaussian(m, sigma=1)\n",
    "    np.save(MOVIE_PATH + 'np/height%d_ball_radius%d.npy'%(step_number,selem_radius), surface)\n",
    "    np.save(MOVIE_PATH + 'np/membrane%d_ball_radius%d.npy'%(step_number,selem_radius),membrane)\n",
    "    plt.pcolormesh(h)\n",
    "\n",
    "    plt.colorbar()\n",
    "    plt.show()\n"
   ],
   "metadata": {
    "collapsed": false
   },
   "id": "c61625101619411f"
  },
  {
   "cell_type": "code",
   "execution_count": null,
   "outputs": [],
   "source": [
    "gel = np.load(MOVIE_PATH + 'np/gel_norm.npy')\n",
    "membrane = np.load(MOVIE_PATH + 'np/membrane.npy') + 3\n",
    "surface = np.load(MOVIE_PATH + 'np/height.npy')\n",
    "membrane_mask = ~np.isnan(membrane)\n",
    "surface_mask = ~np.isnan(surface)\n",
    "\n",
    "membrane[np.isnan(membrane)] = 0\n",
    "surface[np.isnan(surface)] = 0\n",
    "membrane = membrane.astype(int)\n",
    "surface = surface.astype(int)"
   ],
   "metadata": {
    "collapsed": false
   },
   "id": "777b9f3a3c24e339"
  },
  {
   "cell_type": "code",
   "execution_count": null,
   "outputs": [],
   "source": [
    "masked_gel = gel.copy()\n",
    "for t in range(gel.shape[0]):\n",
    "    for x in range(gel.shape[3]):\n",
    "        for y in range(gel.shape[2]):\n",
    "            gel[t,:membrane[t,y,x],y,x] = 0\n",
    "            gel[t,surface[t,y,x]:,y,x] = 0"
   ],
   "metadata": {
    "collapsed": false
   },
   "id": "7de1c79df849e322"
  },
  {
   "cell_type": "code",
   "execution_count": null,
   "outputs": [],
   "source": [
    "np.save(MOVIE_PATH + 'np/masked_gel.npy', masked_gel)"
   ],
   "metadata": {
    "collapsed": false
   },
   "id": "8286c7a4df8db949"
  },
  {
   "cell_type": "code",
   "execution_count": null,
   "outputs": [],
   "source": [
    "for t,image in enumerate(masked_gel):\n",
    "    tifffile.imsave(MOVIE_PATH + 'masked_tiff/masked_gel_%d.tif'%t, image)"
   ],
   "metadata": {
    "collapsed": false
   },
   "id": "43aad9ed34a905ef"
  },
  {
   "cell_type": "code",
   "execution_count": null,
   "outputs": [],
   "source": [
    "#force reload of module\n",
    "import importlib\n",
    "importlib.reload(exploration_exec)"
   ],
   "metadata": {
    "collapsed": false
   },
   "id": "fe93224ba38ef2b2"
  },
  {
   "cell_type": "code",
   "execution_count": null,
   "outputs": [],
   "source": [
    "plt.hist(gel_corrected[21,85:95,380,300:310].flatten(), bins=100)\n",
    "plt.show()"
   ],
   "metadata": {
    "collapsed": false
   },
   "id": "f9dde4f50a6f990d"
  },
  {
   "cell_type": "code",
   "execution_count": null,
   "outputs": [],
   "source": [
    "from analysis import exploration_exec\n",
    "\n",
    "step_number_list = [128,170,256,512]\n",
    "selem_radius_list = [1,2,3]\n",
    "plot_sigma_list = [5,7,9]\n",
    "cartesian_product = itertools.product(step_number_list, selem_radius_list, plot_sigma_list)\n",
    "for (step_number, selem_radius, plot_sigma) in cartesian_product:\n",
    "    exploration_exec.surface_animation_save(movie, step_number, selem_radius, plot_sigma)\n"
   ],
   "metadata": {
    "collapsed": false
   },
   "id": "85a76ed886404760"
  },
  {
   "cell_type": "code",
   "execution_count": null,
   "outputs": [],
   "source": [
    "gel_image = Image.fromarray(gel[t,:, :,x_line]).resize((step_number,160))\n",
    "plt.pcolormesh(gel_image)\n",
    "plt.plot(gaussian_filter(h_tag[:, int(step_number*x_line/h.shape[1])],1), 'r')\n"
   ],
   "metadata": {
    "collapsed": false
   },
   "id": "68e646ce3d97e52f"
  },
  {
   "cell_type": "code",
   "execution_count": null,
   "outputs": [],
   "source": [
    "np_img = np.array(gel_image)\n",
    "#plt.plot(np_img[:,105], label='105')\n",
    "plt.plot(np_img[:,110], label='110')\n",
    "#plt.plot(np_img[:,115], label='115')\n",
    "plt.plot(np_img[:,10], label='10')\n",
    "#plt.plot(np_img[:,30], label='30')\n",
    "plt.legend()\n",
    "plt.show()"
   ],
   "metadata": {
    "collapsed": false
   },
   "id": "884230290289d6e3"
  },
  {
   "cell_type": "code",
   "execution_count": null,
   "id": "33fafec0",
   "metadata": {},
   "outputs": [],
   "source": [
    "t= 20\n",
    "z =60\n",
    "fig, (ax1,ax2) = plt.subplots(1,2)\n",
    "thresh = monomer_data_df.iloc[t]['line_std']*3+ monomer_data_df.iloc[t]['I_mean']\n",
    "gel_image = gel_corrected[t,z,:,:]\n",
    "binary = gel_image> thresh\n",
    "plot = ax1.imshow(binary, cmap = 'gray')\n",
    "colorbar = fig.colorbar(plot, ax=ax1)\n",
    "\n",
    "ax1.set_title('binary')\n",
    "ax2.imshow(gel_image)\n",
    "ax2.set_title('gel')\n",
    "plt.show()\n"
   ]
  },
  {
   "cell_type": "code",
   "execution_count": null,
   "outputs": [],
   "source": [
    "import matplotlib.pyplot as plt\n",
    "from skimage import data, filters\n",
    "\n",
    "# Load an example image\n",
    "image = gel_image\n",
    "\n",
    "# Apply all threshold methods and plot the results\n",
    "fig, ax = filters.try_all_threshold(image, figsize=(10, 8), verbose=False)\n",
    "\n",
    "# Customize the plot\n",
    "plt.tight_layout()\n",
    "plt.show()\n"
   ],
   "metadata": {
    "collapsed": false
   },
   "id": "9a2cc93f87c23425"
  },
  {
   "cell_type": "code",
   "execution_count": null,
   "outputs": [],
   "source": [
    "import matplotlib.pyplot as plt\n",
    "from skimage import data, morphology\n",
    "\n",
    "# Load a binary image (e.g., after thresholding)\n",
    "image = binary.copy()\n",
    "\n",
    "# Perform morphological opening to remove noise\n",
    "opened_image = morphology.opening(image, morphology.disk(1))\n",
    "\n",
    "# Perform morphological closing to further refine the image\n",
    "closed_image = morphology.closing(opened_image, morphology.disk(1))\n",
    "\n",
    "# Display the original and processed images\n",
    "fig, axes = plt.subplots(nrows=1, ncols=3, figsize=(10, 4))\n",
    "ax = axes.ravel()\n",
    "\n",
    "ax[0].imshow(image, cmap='gray')\n",
    "ax[0].set_title('Original Image')\n",
    "\n",
    "ax[1].imshow(opened_image, cmap='gray')\n",
    "ax[1].set_title('Opened Image')\n",
    "\n",
    "ax[2].imshow(closed_image, cmap='gray')\n",
    "ax[2].set_title('Closed Image')\n",
    "\n",
    "for a in ax:\n",
    "    a.axis('off')\n",
    "\n",
    "plt.tight_layout()\n",
    "plt.show()\n"
   ],
   "metadata": {
    "collapsed": false
   },
   "id": "726fe1f96e82591"
  },
  {
   "cell_type": "code",
   "execution_count": null,
   "outputs": [],
   "source": [
    "import matplotlib.pyplot as plt\n",
    "from skimage import data, morphology\n",
    "#use otsu to threshold\n",
    "thresh = filters.threshold_otsu(gel_image)\n",
    "# Load a binary image (e.g., after thresholding)\n",
    "image = gel_image > thresh\n",
    "# Remove small objects (noise) from the binary image\n",
    "cleaned_image = morphology.remove_small_objects(image, min_size=9, connectivity=3)\n",
    "cleaned_image_monomer = morphology.remove_small_objects(binary, min_size=9, connectivity=3)\n",
    "\n",
    "\n",
    "# Display the original and cleaned images\n",
    "fig, ax = plt.subplots(nrows=1, ncols=3, figsize=(8, 4))\n",
    "\n",
    "ax[0].imshow(image, cmap='gray')\n",
    "ax[0].set_title('Original Image')\n",
    "\n",
    "ax[1].imshow(cleaned_image, cmap='gray')\n",
    "ax[1].set_title('Cleaned Image')\n",
    "\n",
    "ax[2].imshow(cleaned_image_monomer, cmap='gray')\n",
    "ax[2].set_title('Cleaned Image Monomer')\n",
    "\n",
    "for a in ax:\n",
    "    a.axis('off')\n",
    "\n",
    "plt.tight_layout()\n",
    "plt.show()\n"
   ],
   "metadata": {
    "collapsed": false
   },
   "id": "82b003d83f9b8546"
  }
 ],
 "metadata": {
  "kernelspec": {
   "display_name": "Python 3 (ipykernel)",
   "language": "python",
   "name": "python3"
  },
  "language_info": {
   "codemirror_mode": {
    "name": "ipython",
    "version": 3
   },
   "file_extension": ".py",
   "mimetype": "text/x-python",
   "name": "python",
   "nbconvert_exporter": "python",
   "pygments_lexer": "ipython3",
   "version": "3.10.9"
  }
 },
 "nbformat": 4,
 "nbformat_minor": 5
}
