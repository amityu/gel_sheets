{
 "cells": [
  {
   "cell_type": "code",
   "execution_count": 2,
   "id": "initial_id",
   "metadata": {
    "collapsed": true,
    "ExecuteTime": {
     "end_time": "2023-12-06T13:10:21.789597800Z",
     "start_time": "2023-12-06T13:10:16.816296300Z"
    }
   },
   "outputs": [
    {
     "ename": "ValueError",
     "evalue": "Could not find a backend to open `C:/Users/amityu/Gel_Sheet_Data/Control/raw_data\\T1_C1_cmle.hgsb`` with iomode `ri`.",
     "output_type": "error",
     "traceback": [
      "\u001B[1;31m---------------------------------------------------------------------------\u001B[0m",
      "\u001B[1;31mValueError\u001B[0m                                Traceback (most recent call last)",
      "Cell \u001B[1;32mIn[2], line 13\u001B[0m\n\u001B[0;32m     11\u001B[0m MOVIE_PATH \u001B[38;5;241m=\u001B[39m DATA_PATH \u001B[38;5;241m+\u001B[39m  movie \u001B[38;5;241m+\u001B[39m \u001B[38;5;124m'\u001B[39m\u001B[38;5;124m/\u001B[39m\u001B[38;5;124m'\u001B[39m\n\u001B[0;32m     12\u001B[0m GRAPH_PATH \u001B[38;5;241m=\u001B[39m \u001B[38;5;124m'\u001B[39m\u001B[38;5;124mC:/Users/amityu/Gel_Sheet_Graph/\u001B[39m\u001B[38;5;124m'\u001B[39m\n\u001B[1;32m---> 13\u001B[0m img \u001B[38;5;241m=\u001B[39m \u001B[43mpims\u001B[49m\u001B[38;5;241;43m.\u001B[39;49m\u001B[43mopen\u001B[49m\u001B[43m(\u001B[49m\u001B[43mMOVIE_PATH\u001B[49m\u001B[43m \u001B[49m\u001B[38;5;241;43m+\u001B[39;49m\u001B[43m \u001B[49m\u001B[38;5;124;43m'\u001B[39;49m\u001B[38;5;124;43mraw_data/T1_C1_cmle.*\u001B[39;49m\u001B[38;5;124;43m'\u001B[39;49m\u001B[43m)\u001B[49m\n",
      "File \u001B[1;32m~\\AppData\\Local\\anaconda3\\lib\\site-packages\\pims\\api.py:166\u001B[0m, in \u001B[0;36mopen\u001B[1;34m(sequence, **kwargs)\u001B[0m\n\u001B[0;32m    162\u001B[0m files \u001B[38;5;241m=\u001B[39m glob\u001B[38;5;241m.\u001B[39mglob(sequence)\n\u001B[0;32m    163\u001B[0m \u001B[38;5;28;01mif\u001B[39;00m \u001B[38;5;28mlen\u001B[39m(files) \u001B[38;5;241m>\u001B[39m \u001B[38;5;241m1\u001B[39m:\n\u001B[0;32m    164\u001B[0m     \u001B[38;5;66;03m# todo: test if ImageSequence can read the image type,\u001B[39;00m\n\u001B[0;32m    165\u001B[0m     \u001B[38;5;66;03m#       delegate to subclasses as needed\u001B[39;00m\n\u001B[1;32m--> 166\u001B[0m     \u001B[38;5;28;01mreturn\u001B[39;00m ImageSequence(sequence, \u001B[38;5;241m*\u001B[39m\u001B[38;5;241m*\u001B[39mkwargs)\n\u001B[0;32m    168\u001B[0m _, ext \u001B[38;5;241m=\u001B[39m os\u001B[38;5;241m.\u001B[39mpath\u001B[38;5;241m.\u001B[39msplitext(sequence)\n\u001B[0;32m    169\u001B[0m \u001B[38;5;28;01mif\u001B[39;00m ext \u001B[38;5;129;01mis\u001B[39;00m \u001B[38;5;28;01mNone\u001B[39;00m \u001B[38;5;129;01mor\u001B[39;00m \u001B[38;5;28mlen\u001B[39m(ext) \u001B[38;5;241m<\u001B[39m \u001B[38;5;241m2\u001B[39m:\n",
      "File \u001B[1;32m~\\AppData\\Local\\anaconda3\\lib\\site-packages\\pims\\image_sequence.py:68\u001B[0m, in \u001B[0;36mImageSequence.__init__\u001B[1;34m(self, path_spec, plugin)\u001B[0m\n\u001B[0;32m     65\u001B[0m \u001B[38;5;28mself\u001B[39m\u001B[38;5;241m.\u001B[39m_zipfile \u001B[38;5;241m=\u001B[39m \u001B[38;5;28;01mNone\u001B[39;00m\n\u001B[0;32m     66\u001B[0m \u001B[38;5;28mself\u001B[39m\u001B[38;5;241m.\u001B[39m_get_files(path_spec)\n\u001B[1;32m---> 68\u001B[0m tmp \u001B[38;5;241m=\u001B[39m \u001B[38;5;28mself\u001B[39m\u001B[38;5;241m.\u001B[39mimread(\u001B[38;5;28mself\u001B[39m\u001B[38;5;241m.\u001B[39m_filepaths[\u001B[38;5;241m0\u001B[39m], \u001B[38;5;241m*\u001B[39m\u001B[38;5;241m*\u001B[39m\u001B[38;5;28mself\u001B[39m\u001B[38;5;241m.\u001B[39mkwargs)\n\u001B[0;32m     69\u001B[0m \u001B[38;5;28mself\u001B[39m\u001B[38;5;241m.\u001B[39m_first_frame_shape \u001B[38;5;241m=\u001B[39m tmp\u001B[38;5;241m.\u001B[39mshape\n\u001B[0;32m     70\u001B[0m \u001B[38;5;28mself\u001B[39m\u001B[38;5;241m.\u001B[39m_dtype \u001B[38;5;241m=\u001B[39m tmp\u001B[38;5;241m.\u001B[39mdtype\n",
      "File \u001B[1;32m~\\AppData\\Local\\anaconda3\\lib\\site-packages\\pims\\image_sequence.py:85\u001B[0m, in \u001B[0;36mImageSequence.imread\u001B[1;34m(self, filename, **kwargs)\u001B[0m\n\u001B[0;32m     83\u001B[0m     \u001B[38;5;28;01mreturn\u001B[39;00m imread(file_handle, \u001B[38;5;241m*\u001B[39m\u001B[38;5;241m*\u001B[39mkwargs)\n\u001B[0;32m     84\u001B[0m \u001B[38;5;28;01melse\u001B[39;00m:\n\u001B[1;32m---> 85\u001B[0m     \u001B[38;5;28;01mreturn\u001B[39;00m imread(filename, \u001B[38;5;241m*\u001B[39m\u001B[38;5;241m*\u001B[39mkwargs)\n",
      "File \u001B[1;32m~\\AppData\\Local\\anaconda3\\lib\\site-packages\\skimage\\io\\_io.py:53\u001B[0m, in \u001B[0;36mimread\u001B[1;34m(fname, as_gray, plugin, **plugin_args)\u001B[0m\n\u001B[0;32m     50\u001B[0m         plugin \u001B[38;5;241m=\u001B[39m \u001B[38;5;124m'\u001B[39m\u001B[38;5;124mtifffile\u001B[39m\u001B[38;5;124m'\u001B[39m\n\u001B[0;32m     52\u001B[0m \u001B[38;5;28;01mwith\u001B[39;00m file_or_url_context(fname) \u001B[38;5;28;01mas\u001B[39;00m fname:\n\u001B[1;32m---> 53\u001B[0m     img \u001B[38;5;241m=\u001B[39m call_plugin(\u001B[38;5;124m'\u001B[39m\u001B[38;5;124mimread\u001B[39m\u001B[38;5;124m'\u001B[39m, fname, plugin\u001B[38;5;241m=\u001B[39mplugin, \u001B[38;5;241m*\u001B[39m\u001B[38;5;241m*\u001B[39mplugin_args)\n\u001B[0;32m     55\u001B[0m \u001B[38;5;28;01mif\u001B[39;00m \u001B[38;5;129;01mnot\u001B[39;00m \u001B[38;5;28mhasattr\u001B[39m(img, \u001B[38;5;124m'\u001B[39m\u001B[38;5;124mndim\u001B[39m\u001B[38;5;124m'\u001B[39m):\n\u001B[0;32m     56\u001B[0m     \u001B[38;5;28;01mreturn\u001B[39;00m img\n",
      "File \u001B[1;32m~\\AppData\\Local\\anaconda3\\lib\\site-packages\\skimage\\io\\manage_plugins.py:205\u001B[0m, in \u001B[0;36mcall_plugin\u001B[1;34m(kind, *args, **kwargs)\u001B[0m\n\u001B[0;32m    202\u001B[0m     \u001B[38;5;28;01mexcept\u001B[39;00m \u001B[38;5;167;01mIndexError\u001B[39;00m:\n\u001B[0;32m    203\u001B[0m         \u001B[38;5;28;01mraise\u001B[39;00m \u001B[38;5;167;01mRuntimeError\u001B[39;00m(\u001B[38;5;124mf\u001B[39m\u001B[38;5;124m'\u001B[39m\u001B[38;5;124mCould not find the plugin \u001B[39m\u001B[38;5;124m\"\u001B[39m\u001B[38;5;132;01m{\u001B[39;00mplugin\u001B[38;5;132;01m}\u001B[39;00m\u001B[38;5;124m\"\u001B[39m\u001B[38;5;124m for \u001B[39m\u001B[38;5;132;01m{\u001B[39;00mkind\u001B[38;5;132;01m}\u001B[39;00m\u001B[38;5;124m.\u001B[39m\u001B[38;5;124m'\u001B[39m)\n\u001B[1;32m--> 205\u001B[0m \u001B[38;5;28;01mreturn\u001B[39;00m func(\u001B[38;5;241m*\u001B[39margs, \u001B[38;5;241m*\u001B[39m\u001B[38;5;241m*\u001B[39mkwargs)\n",
      "File \u001B[1;32m~\\AppData\\Local\\anaconda3\\lib\\site-packages\\skimage\\io\\_plugins\\imageio_plugin.py:15\u001B[0m, in \u001B[0;36mimread\u001B[1;34m(*args, **kwargs)\u001B[0m\n\u001B[0;32m     13\u001B[0m \u001B[38;5;129m@wraps\u001B[39m(imageio_imread)\n\u001B[0;32m     14\u001B[0m \u001B[38;5;28;01mdef\u001B[39;00m \u001B[38;5;21mimread\u001B[39m(\u001B[38;5;241m*\u001B[39margs, \u001B[38;5;241m*\u001B[39m\u001B[38;5;241m*\u001B[39mkwargs):\n\u001B[1;32m---> 15\u001B[0m     \u001B[38;5;28;01mreturn\u001B[39;00m np\u001B[38;5;241m.\u001B[39masarray(imageio_imread(\u001B[38;5;241m*\u001B[39margs, \u001B[38;5;241m*\u001B[39m\u001B[38;5;241m*\u001B[39mkwargs))\n",
      "File \u001B[1;32m~\\AppData\\Local\\anaconda3\\lib\\site-packages\\imageio\\v2.py:359\u001B[0m, in \u001B[0;36mimread\u001B[1;34m(uri, format, **kwargs)\u001B[0m\n\u001B[0;32m    356\u001B[0m imopen_args \u001B[38;5;241m=\u001B[39m decypher_format_arg(\u001B[38;5;28mformat\u001B[39m)\n\u001B[0;32m    357\u001B[0m imopen_args[\u001B[38;5;124m\"\u001B[39m\u001B[38;5;124mlegacy_mode\u001B[39m\u001B[38;5;124m\"\u001B[39m] \u001B[38;5;241m=\u001B[39m \u001B[38;5;28;01mTrue\u001B[39;00m\n\u001B[1;32m--> 359\u001B[0m \u001B[38;5;28;01mwith\u001B[39;00m imopen(uri, \u001B[38;5;124m\"\u001B[39m\u001B[38;5;124mri\u001B[39m\u001B[38;5;124m\"\u001B[39m, \u001B[38;5;241m*\u001B[39m\u001B[38;5;241m*\u001B[39mimopen_args) \u001B[38;5;28;01mas\u001B[39;00m file:\n\u001B[0;32m    360\u001B[0m     result \u001B[38;5;241m=\u001B[39m file\u001B[38;5;241m.\u001B[39mread(index\u001B[38;5;241m=\u001B[39m\u001B[38;5;241m0\u001B[39m, \u001B[38;5;241m*\u001B[39m\u001B[38;5;241m*\u001B[39mkwargs)\n\u001B[0;32m    362\u001B[0m \u001B[38;5;28;01mreturn\u001B[39;00m result\n",
      "File \u001B[1;32m~\\AppData\\Local\\anaconda3\\lib\\site-packages\\imageio\\core\\imopen.py:281\u001B[0m, in \u001B[0;36mimopen\u001B[1;34m(uri, io_mode, plugin, extension, format_hint, legacy_mode, **kwargs)\u001B[0m\n\u001B[0;32m    275\u001B[0m         err_msg \u001B[38;5;241m+\u001B[39m\u001B[38;5;241m=\u001B[39m (\n\u001B[0;32m    276\u001B[0m             \u001B[38;5;124m\"\u001B[39m\u001B[38;5;130;01m\\n\u001B[39;00m\u001B[38;5;124mBased on the extension, the following plugins might add capable backends:\u001B[39m\u001B[38;5;130;01m\\n\u001B[39;00m\u001B[38;5;124m\"\u001B[39m\n\u001B[0;32m    277\u001B[0m             \u001B[38;5;124mf\u001B[39m\u001B[38;5;124m\"\u001B[39m\u001B[38;5;132;01m{\u001B[39;00minstall_candidates\u001B[38;5;132;01m}\u001B[39;00m\u001B[38;5;124m\"\u001B[39m\n\u001B[0;32m    278\u001B[0m         )\n\u001B[0;32m    280\u001B[0m request\u001B[38;5;241m.\u001B[39mfinish()\n\u001B[1;32m--> 281\u001B[0m \u001B[38;5;28;01mraise\u001B[39;00m err_type(err_msg)\n",
      "\u001B[1;31mValueError\u001B[0m: Could not find a backend to open `C:/Users/amityu/Gel_Sheet_Data/Control/raw_data\\T1_C1_cmle.hgsb`` with iomode `ri`."
     ]
    }
   ],
   "source": [
    "import pims\n",
    "DATA_PATH = 'C:/Users/amityu/Gel_Sheet_Data/'\n",
    "movie = 'Control'\n",
    "#movie ='140721'\n",
    "#movie ='150721'\n",
    "#movie ='100621'\n",
    "#movie = '130721_CCA60_RAW'\n",
    "#movie ='280523 AM100 568'\n",
    "#movie = 'control_1_050721'\n",
    "\n",
    "MOVIE_PATH = DATA_PATH +  movie + '/'\n",
    "GRAPH_PATH = 'C:/Users/amityu/Gel_Sheet_Graph/'\n",
    "img = pims.open(MOVIE_PATH + 'raw_data/T1_C1_cmle.')"
   ]
  }
 ],
 "metadata": {
  "kernelspec": {
   "display_name": "Python 3",
   "language": "python",
   "name": "python3"
  },
  "language_info": {
   "codemirror_mode": {
    "name": "ipython",
    "version": 2
   },
   "file_extension": ".py",
   "mimetype": "text/x-python",
   "name": "python",
   "nbconvert_exporter": "python",
   "pygments_lexer": "ipython2",
   "version": "2.7.6"
  }
 },
 "nbformat": 4,
 "nbformat_minor": 5
}
