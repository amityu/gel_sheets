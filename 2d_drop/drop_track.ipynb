{
 "cells": [
  {
   "cell_type": "code",
   "execution_count": 116,
   "id": "22faa245ab50d732",
   "metadata": {
    "collapsed": false,
    "ExecuteTime": {
     "end_time": "2024-06-26T04:33:28.607247Z",
     "start_time": "2024-06-26T04:33:28.604086Z"
    }
   },
   "outputs": [],
   "source": [
    "import os\n",
    "from skimage.filters import threshold_otsu\n",
    "import pandas as pd\n",
    "import numpy as np\n",
    "import tifffile\n",
    "import matplotlib.pyplot as plt\n",
    "import seaborn as sns\n",
    "from tqdm.notebook import  tqdm\n",
    "import trackpy as tp"
   ]
  },
  {
   "cell_type": "code",
   "outputs": [],
   "source": [
    "def remove_disc(_img, r =20, value = 0):\n",
    "    \"\"\"\n",
    "    Remove a disc from an image.\n",
    "\n",
    "    :param _img: The input image to remove the disc from.\n",
    "    :param r: The radius of the disc. Default value is 20.\n",
    "    :param value: The value to set inside the disc. Default value is 0.\n",
    "    :return: The image with the disc removed.\n",
    "\n",
    "    Example usage:\n",
    "        _img = cv2.imread(\"image.jpg\")\n",
    "        removed_img = remove_disc(_img, r=30, value=255)\n",
    "    \"\"\"\n",
    "    _img = _img.copy()\n",
    "    # Define the center and radius of the disk\n",
    "    center = (img.shape[0]//2, _img.shape[1]//2)\n",
    "    \n",
    "    # Create index arrays to img\n",
    "    x = np.arange(0, img.shape[1])\n",
    "    y = np.arange(0, img.shape[0])\n",
    "\n",
    "    # Create boolean mask with disk pixel positions set to True\n",
    "    mask = (x[np.newaxis, :] - center[0]) ** 2 + (y[:, np.newaxis] - center[1]) ** 2 < r ** 2\n",
    "\n",
    "    # Apply mask to the image\n",
    "    _img[mask] = value  # or whatever value you wish to set inside the mask\n",
    "    return _img\n",
    "\n"
   ],
   "metadata": {
    "collapsed": false,
    "ExecuteTime": {
     "end_time": "2024-06-18T08:33:38.683113Z",
     "start_time": "2024-06-18T08:33:38.665402Z"
    }
   },
   "id": "bb39c6b38756e494",
   "execution_count": 63
  },
  {
   "cell_type": "code",
   "outputs": [],
   "source": [
    "DATA_PATH = r'C:\\Users\\amityu\\Gel_Drop_Data'\n",
    "MOVIE_PATH = os.path.join(DATA_PATH , 'tif_centered')\n",
    "#MOVIE_PATH = os.path.join(DATA_PATH, 'eye_gel')\n",
    "\n",
    "# tiff source\n",
    "#output_dir = r'C:\\Users\\amityu\\Gel_Drop_Data\\yuval_clip\\\\'\n",
    "output_dir = r'C:\\Users\\amityu\\Gel_Drop_Data\\175_950_ex1_clip\\\\'\n",
    "\n",
    "files = os.listdir(MOVIE_PATH)\n",
    "files= sorted(files)\n",
    "files = files[175:950] #take only relevant files"
   ],
   "metadata": {
    "collapsed": false,
    "ExecuteTime": {
     "end_time": "2024-06-26T04:35:13.768279Z",
     "start_time": "2024-06-26T04:35:13.691342Z"
    }
   },
   "id": "b8c858cfa253bae2",
   "execution_count": 117
  },
  {
   "cell_type": "code",
   "outputs": [
    {
     "data": {
      "text/plain": "  0%|          | 0/775 [00:00<?, ?it/s]",
      "application/vnd.jupyter.widget-view+json": {
       "version_major": 2,
       "version_minor": 0,
       "model_id": "508ad19c0512494faec73854baec9587"
      }
     },
     "metadata": {},
     "output_type": "display_data"
    }
   ],
   "source": [
    "# read all images\n",
    "only_quarter = False\n",
    "img_list = []\n",
    "for file in tqdm(files):\n",
    "    img = tifffile.imread(os.path.join(MOVIE_PATH, file))\n",
    "    if only_quarter:\n",
    "        img[img.shape[0]//2:,:] = 0\n",
    "        img[:, img.shape[1]//2:] = 0\n",
    "\n",
    "    img_list.append(img)\n",
    "image_array = np.array(img_list)\n"
   ],
   "metadata": {
    "collapsed": false,
    "ExecuteTime": {
     "end_time": "2024-06-26T04:35:22.698334Z",
     "start_time": "2024-06-26T04:35:18.772602Z"
    }
   },
   "id": "fe49259736df0110",
   "execution_count": 118
  },
  {
   "cell_type": "code",
   "outputs": [
    {
     "data": {
      "text/plain": "  0%|          | 0/775 [00:00<?, ?it/s]",
      "application/vnd.jupyter.widget-view+json": {
       "version_major": 2,
       "version_minor": 0,
       "model_id": "b220f243ff764a8197fe3dc7a707a885"
      }
     },
     "metadata": {},
     "output_type": "display_data"
    }
   ],
   "source": [
    "#clipping for visualization to adjust image contrast\n",
    "for file in tqdm(files):\n",
    "    img = tifffile.imread(os.path.join(MOVIE_PATH, file))\n",
    "    data = img.flatten()\n",
    "    data = data[~np.isnan(data)]\n",
    "    threshold = threshold_otsu(data)\n",
    "    threshold_data = data[data > threshold]\n",
    "    threshold2 = np.percentile(threshold_data, 5)\n",
    "    img=np.clip(img, threshold2, np.percentile(img, 99))\n",
    "    tifffile.imwrite(os.path.join(output_dir,file), img)\n",
    "    \n"
   ],
   "metadata": {
    "collapsed": false,
    "ExecuteTime": {
     "end_time": "2024-06-26T04:35:37.060859Z",
     "start_time": "2024-06-26T04:35:27.787991Z"
    }
   },
   "id": "7e32e1992d000225",
   "execution_count": 119
  },
  {
   "cell_type": "code",
   "outputs": [],
   "source": [
    "# put crosses in visualization to create ROI for the trackmate plugin to find\n",
    "# only for exploation purpuses, for production use trackpy\n",
    "def paint_indices_cross(_img,indices):\n",
    "    mask = np.zeros_like(_img)\n",
    "    indices = np.array(indices)\n",
    "    for j in range(len(indices)):\n",
    "        x = int(indices[j,1])\n",
    "        y = int(indices[j,0])\n",
    "        mask [max(y-1,0):min(y+2, img.shape[0]), x] = 1\n",
    "        mask[y,max(x-1,0):min(x+2, img.shape[1])] = 1\n",
    "    return mask"
   ],
   "metadata": {
    "collapsed": false,
    "ExecuteTime": {
     "end_time": "2024-06-22T11:39:07.496933Z",
     "start_time": "2024-06-22T11:39:07.492710Z"
    }
   },
   "id": "fc382b915dd36c4d",
   "execution_count": 4
  },
  {
   "cell_type": "code",
   "outputs": [],
   "source": [
    "import numpy as np\n",
    "import scipy.ndimage as ndimage\n",
    "\n",
    "def find_local_maxima(_image, min_distance=1, q_max  = 0.1):\n",
    "    \"\"\"\n",
    "    :param _image: The input image for finding local maxima.\n",
    "    :param min_distance: The minimum distance between two local maxima. Defaults to 1.\n",
    "    :param q_max: The threshold value to filter out low-value peaks. Defaults to 0.1.\n",
    "    :return: A list of coordinates representing the local maxima.\n",
    "\n",
    "    \"\"\"\n",
    "    # Apply a maximum filter to find local maxima\n",
    "    neighborhood_size = 2 * min_distance + 1\n",
    "    local_max = ndimage.maximum_filter(_image, size=neighborhood_size, mode='constant')\n",
    "\n",
    "    # Compare the original image to the local maxima\n",
    "    local_maxima = (_image == local_max)\n",
    "\n",
    "    # Apply a threshold to avoid low-value peaks (optional)\n",
    "    _threshold = np.nanmax(_image) * q_max\n",
    "    local_maxima = local_maxima & (_image > _threshold)\n",
    "\n",
    "    # Label the maxima\n",
    "    labeled, num_objects = ndimage.label(local_maxima)\n",
    "\n",
    "    # Find the coordinates of the local maxima\n",
    "    slices = ndimage.find_objects(labeled)\n",
    "    _coordinates = [(int(s[0].start + s[0].stop - 1) // 2, int(s[1].start + s[1].stop - 1) // 2) for s in slices]\n",
    "    \n",
    "    return _coordinates\n",
    "\n"
   ],
   "metadata": {
    "collapsed": false,
    "ExecuteTime": {
     "end_time": "2024-06-26T04:35:37.076549Z",
     "start_time": "2024-06-26T04:35:37.061921Z"
    }
   },
   "id": "9345a06ec107dae9",
   "execution_count": 120
  },
  {
   "cell_type": "code",
   "outputs": [],
   "source": [
    "output_maxima_dir =r'C:\\Users\\amityu\\Gel_Drop_Data\\175_950_ex1_local\\\\'"
   ],
   "metadata": {
    "collapsed": false,
    "ExecuteTime": {
     "end_time": "2024-06-26T05:11:35.018112Z",
     "start_time": "2024-06-26T05:11:35.000495Z"
    }
   },
   "id": "ff9e5afe08facb9b",
   "execution_count": 149
  },
  {
   "cell_type": "code",
   "outputs": [
    {
     "data": {
      "text/plain": "0it [00:00, ?it/s]",
      "application/vnd.jupyter.widget-view+json": {
       "version_major": 2,
       "version_minor": 0,
       "model_id": "d911480f1cdb403586ac203487043efe"
      }
     },
     "metadata": {},
     "output_type": "display_data"
    }
   ],
   "source": [
    "## creates images with cross at local maxima for tracking in TRACKMATE\n",
    "## saves coordinates as a list of coordinates for each time in dataframe of lists\n",
    "x_list = []\n",
    "y_list = []\n",
    "frame_list = []\n",
    "for i,file in tqdm(enumerate(files)):\n",
    "    coordinates = find_local_maxima(image_array[i],6)\n",
    "    #img = paint_indices_cross(image_array[i], coordinates)\n",
    "    x_list+=[x for (y,x) in coordinates]\n",
    "    y_list+=[y for (y,x) in coordinates]\n",
    "\n",
    "    frame_list+=[i]*len(coordinates)\n",
    "    tifffile.imwrite(os.path.join(output_maxima_dir, file), img)"
   ],
   "metadata": {
    "collapsed": false,
    "ExecuteTime": {
     "end_time": "2024-06-26T05:11:47.656755Z",
     "start_time": "2024-06-26T05:11:38.636127Z"
    }
   },
   "id": "656be3ab05873538",
   "execution_count": 150
  },
  {
   "cell_type": "code",
   "outputs": [],
   "source": [
    "\n",
    "co_df = pd.DataFrame({'frame': frame_list,'y': y_list,'x':x_list})\n",
    "co_df.to_csv(os.path.join(output_maxima_dir, 'coordinates.csv') )\n"
   ],
   "metadata": {
    "collapsed": false,
    "ExecuteTime": {
     "end_time": "2024-06-26T05:12:31.264756Z",
     "start_time": "2024-06-26T05:12:30.532495Z"
    }
   },
   "id": "b2a212d0960a8442",
   "execution_count": 155
  },
  {
   "cell_type": "code",
   "outputs": [],
   "source": [
    "# save cordinate_df in a format for the tracking gui \n",
    "co_df_gui = pd.DataFrame({'FRAME': frame_list,'POSITION_Y': y_list,'POSITION_X':x_list})\n",
    "co_df_gui.to_csv(os.path.join(output_maxima_dir, 'coordinates_gui.csv') )\n"
   ],
   "metadata": {
    "collapsed": false,
    "ExecuteTime": {
     "end_time": "2024-06-26T05:12:28.179734Z",
     "start_time": "2024-06-26T05:12:27.495031Z"
    }
   },
   "id": "fd2c2d96f11a905e",
   "execution_count": 154
  },
  {
   "cell_type": "code",
   "outputs": [],
   "source": [
    "\n",
    "def process_tracks(_df, loc_df = None):\n",
    "\n",
    "    \"\"\"\n",
    "    Process tracks in a given DataFrame and return a new DataFrame with collected results.\n",
    "\n",
    "    :param _df: The DataFrame containing the tracks.\n",
    "    :param loc_df: Optional DataFrame containing additional location information. The FRAME,x,y of a fixed point in image for registration\n",
    "    :return: A new DataFrame with the collected results.\n",
    "    \"\"\"\n",
    "    # Group by TRACK_ID\n",
    "    grouped = _df.groupby('TRACK_ID')\n",
    "\n",
    "    # Initialize lists to collect results\n",
    "    track_ids = []\n",
    "    _frame_list = []\n",
    "    min_frames = []\n",
    "    max_frames = []\n",
    "    min_positions_x = []\n",
    "    min_positions_y = []\n",
    "    max_positions_x = []\n",
    "    max_positions_y = []\n",
    "    min_angles = []\n",
    "    max_angles = []\n",
    "    duration = []\n",
    "    # Iterate over each group\n",
    "    for track_id, group in tqdm(grouped):\n",
    "        min_frame = group['FRAME'].min()\n",
    "        max_frame = group['FRAME'].max()\n",
    "        min_frame_row = group[group['FRAME'] == min_frame]\n",
    "        max_frame_row = group[group['FRAME'] == max_frame]\n",
    "        min_pos_x = min_frame_row['POSITION_X'].values[0]\n",
    "        min_pos_y = min_frame_row['POSITION_Y'].values[0]\n",
    "        max_pos_x = max_frame_row['POSITION_X'].values[0]\n",
    "        max_pos_y = max_frame_row['POSITION_Y'].values[0]\n",
    "        if loc_df is not None:\n",
    "            try:\n",
    "                # noinspection PyShadowingNames\n",
    "                x0 = loc_df.loc[loc_df['FRAME']==min_frame, 'x'].values[0]\n",
    "                # noinspection PyShadowingNames\n",
    "                y0 = loc_df.loc[loc_df['FRAME']==min_frame, 'y'].values[0]\n",
    "                x1 = loc_df.loc[loc_df['FRAME']==max_frame, 'x'].values[0]\n",
    "                # noinspection PyShadowingNames\n",
    "                y1 = loc_df.loc[loc_df['FRAME']==max_frame, 'y'].values[0]\n",
    "\n",
    "                \n",
    "\n",
    "            except Exception as e:\n",
    "                print(e)\n",
    "        else:\n",
    "            x0 = 256\n",
    "            y0 = 256\n",
    "            x1 = 256\n",
    "            y1 = 256\n",
    "        min_angle = np.degrees(np.arctan2(min_pos_y - y0, min_pos_x - x0))\n",
    "        max_angle = np.degrees(np.arctan2(max_pos_y - y1, max_pos_x - x1))\n",
    "\n",
    "        min_angles.append(min_angle)\n",
    "        max_angles.append(max_angle)\n",
    "\n",
    "        track_ids.append(track_id)\n",
    "        min_frames.append(min_frame)\n",
    "        max_frames.append(max_frame)\n",
    "        duration.append(max_frame-min_frame)\n",
    "    \n",
    "        min_positions_x.append(min_pos_x)\n",
    "        min_positions_y.append(min_pos_y)\n",
    "        max_positions_x.append(max_pos_x)\n",
    "        max_positions_y.append(max_pos_y)\n",
    "        \n",
    "    # Create a new DataFrame with the collected results\n",
    "    _result_df = pd.DataFrame({\n",
    "        'TRACK_ID': track_ids,\n",
    "        'MIN_FRAME': min_frames,\n",
    "        'MAX_FRAME': max_frames,\n",
    "        'MIN_POSITION_X': min_positions_x,\n",
    "        'MIN_POSITION_Y': min_positions_y,\n",
    "        'MAX_POSITION_X': max_positions_x,\n",
    "        'MAX_POSITION_Y': max_positions_y,\n",
    "        'MIN_ANGLE': min_angles,\n",
    "        'MAX_ANGLE': max_angles,\n",
    "        'DURATION': duration\n",
    "        \n",
    "    })\n",
    "\n",
    "    return _result_df\n",
    "\n"
   ],
   "metadata": {
    "collapsed": false,
    "ExecuteTime": {
     "end_time": "2024-06-26T04:48:42.444850Z",
     "start_time": "2024-06-26T04:48:42.434848Z"
    }
   },
   "id": "9d2da2d4d085f239",
   "execution_count": 140
  },
  {
   "cell_type": "code",
   "outputs": [
    {
     "name": "stdout",
     "output_type": "stream",
     "text": [
      "Frame 774: 90 trajectories present.\n"
     ]
    }
   ],
   "source": [
    "import pandas as pd\n",
    "\n",
    "# Perform linkage between frames\n",
    "\n",
    "tracks = tp.link(co_df, search_range=6,\n",
    "                 memory=4)  # where search_range is the maximum distance features can move between frames, and memory is the maximum number of frames during which a feature can vanish, then reappear nearby, and be considered the same particle.\n",
    "\n",
    "# adding stats and saving for gui\n",
    "# \n",
    "trackmate_df = pd.DataFrame({'TRACK_ID':tracks['particle'], 'FRAME': tracks['frame'], 'POSITION_X':tracks['x'], 'POSITION_Y':tracks['y']})\n",
    "trackmate_df.to_csv(os.path.join(output_maxima_dir,'trackmate.csv'))\n"
   ],
   "metadata": {
    "collapsed": false
   },
   "id": "7868ce545d34ebdc",
   "execution_count": 244
  },
  {
   "cell_type": "code",
   "outputs": [
    {
     "data": {
      "text/plain": "  0%|          | 0/39837 [00:00<?, ?it/s]",
      "application/vnd.jupyter.widget-view+json": {
       "version_major": 2,
       "version_minor": 0,
       "model_id": "e6141eeb34fd4e448572b7366ff70751"
      }
     },
     "metadata": {},
     "output_type": "display_data"
    }
   ],
   "source": [
    "trackmate_df = pd.read_csv(os.path.join(output_maxima_dir,'trackmate.csv'))\n",
    "#loc_df = pd.read_csv(os.path.join(MOVIE_PATH ,'np/loc.csv'))\n",
    "\n",
    "result_df = process_tracks(trackmate_df)#, loc_df)  # creating statistics\n",
    "result_df.to_csv(os.path.join(output_maxima_dir,'tracks.csv'))\n"
   ],
   "metadata": {
    "collapsed": false,
    "ExecuteTime": {
     "end_time": "2024-06-27T10:02:42.525758Z",
     "start_time": "2024-06-27T10:02:23.090146Z"
    }
   },
   "id": "7388acd3df2bab03",
   "execution_count": 245
  },
  {
   "cell_type": "code",
   "outputs": [
    {
     "data": {
      "text/plain": "'tracking_data = pd.read_csv(csv_file, skiprows=[1,2,3])'"
     },
     "execution_count": 142,
     "metadata": {},
     "output_type": "execute_result"
    }
   ],
   "source": [
    "image_folder = os.path.join(DATA_PATH , r'175_950_ex1_clip')\n",
    "csv_file = os.path.join(DATA_PATH, os.path.join(output_maxima_dir,'tracks.csv'))\n",
    "'''tracking_data = pd.read_csv(csv_file, skiprows=[1,2,3])'''"
   ],
   "metadata": {
    "collapsed": false,
    "ExecuteTime": {
     "end_time": "2024-06-26T05:07:11.417909Z",
     "start_time": "2024-06-26T05:07:11.399549Z"
    }
   },
   "id": "bade66cd59a80b71",
   "execution_count": 142
  },
  {
   "cell_type": "code",
   "outputs": [],
   "source": [
    "result_df = pd.read_csv(os.path.join(output_maxima_dir,'tracks.csv'))"
   ],
   "metadata": {
    "collapsed": false,
    "ExecuteTime": {
     "end_time": "2024-06-26T04:42:25.891396Z",
     "start_time": "2024-06-26T04:42:25.770268Z"
    }
   },
   "id": "4078b5037705ffd7",
   "execution_count": 130
  },
  {
   "cell_type": "code",
   "outputs": [
    {
     "name": "stderr",
     "output_type": "stream",
     "text": [
      "C:\\Users\\amityu\\AppData\\Local\\anaconda3\\lib\\site-packages\\seaborn\\_oldcore.py:1498: FutureWarning: is_categorical_dtype is deprecated and will be removed in a future version. Use isinstance(dtype, CategoricalDtype) instead\n",
      "  if pd.api.types.is_categorical_dtype(vector):\n",
      "C:\\Users\\amityu\\AppData\\Local\\anaconda3\\lib\\site-packages\\seaborn\\_oldcore.py:1498: FutureWarning: is_categorical_dtype is deprecated and will be removed in a future version. Use isinstance(dtype, CategoricalDtype) instead\n",
      "  if pd.api.types.is_categorical_dtype(vector):\n"
     ]
    },
    {
     "data": {
      "text/plain": "<Figure size 1000x600 with 1 Axes>",
      "image/png": "[encoded data removed]"
     },
     "metadata": {},
     "output_type": "display_data"
    }
   ],
   "source": [
    "\n",
    "# Angles graph\n",
    "plt.figure(figsize=(10, 6))\n",
    "sns.scatterplot(x='MIN_ANGLE', y='MAX_ANGLE', data=result_df[result_df['DURATION']>250])\n",
    "plt.xlabel('Min Angle')\n",
    "plt.ylabel('Max Angle')\n",
    "\n",
    "# Set x and y axis limits \n",
    "plt.xlim(-180, 180)\n",
    "plt.ylim(-180, 180)\n",
    "\n",
    "plt.title('Scatter Plot of Min Angle vs Max Angle ex1 - DOME frame >250')\n",
    "plt.show()"
   ],
   "metadata": {
    "collapsed": false,
    "ExecuteTime": {
     "end_time": "2024-06-26T05:13:56.225378Z",
     "start_time": "2024-06-26T05:13:56.055620Z"
    }
   },
   "id": "301cd209185744fa",
   "execution_count": 158
  },
  {
   "cell_type": "code",
   "outputs": [],
   "source": [
    "loc_df= pd.DataFrame({'FRAME':range(len(image_array)), 'x': [256]*len(image_array), 'y':[256]*len(image_array)})"
   ],
   "metadata": {
    "collapsed": false,
    "ExecuteTime": {
     "end_time": "2024-06-26T05:15:59.051684Z",
     "start_time": "2024-06-26T05:15:59.045683Z"
    }
   },
   "id": "1f0d20279298337",
   "execution_count": 160
  },
  {
   "cell_type": "code",
   "outputs": [
    {
     "data": {
      "text/plain": "<Figure size 640x480 with 1 Axes>",
      "image/png": "[encoded data removed]"
     },
     "metadata": {},
     "output_type": "display_data"
    }
   ],
   "source": [
    "\n",
    "# Plotting the track of particles, compensated for the registration anchor, in loc_df saved in preprocessing file\n",
    "long_track_id = result_df[result_df['DURATION']>250]['TRACK_ID']\n",
    "long_track_id = per_track['TRACK_ID']\n",
    "for track_id in long_track_id:#.iloc[np.random.randint(0,len(long_track_id), size=20)]:\n",
    "    track_data = trackmate_df[trackmate_df['TRACK_ID'] == track_id]\n",
    "    x = []\n",
    "    y = []\n",
    "    for idx, row in track_data.iterrows():    \n",
    "        x.append(row['POSITION_X'] - (loc_df.loc[loc_df['FRAME'] == row['FRAME'], 'x']-256).values[0])\n",
    "        y.append(row['POSITION_Y'] - (loc_df.loc[loc_df['FRAME'] == row['FRAME'], 'y']-256).values[0])\n",
    "\n",
    "       \n",
    "    plt.scatter(x,y, label = str(track_id),s=1 )\n",
    "plt.title('ex1 Dome TRACKS (>250 frames)')\n",
    "plt.xlabel('X (pixels)')\n",
    "plt.ylabel('Y (pixels)')\n",
    "plt.xlim(0, 512)\n",
    "plt.ylim(0, 512)\n",
    "\n",
    "#plt.legend()\n",
    "plt.show()"
   ],
   "metadata": {
    "collapsed": false,
    "ExecuteTime": {
     "end_time": "2024-06-27T10:03:18.717034Z",
     "start_time": "2024-06-27T10:03:14.418401Z"
    }
   },
   "id": "598835b84c0969f0",
   "execution_count": 248
  },
  {
   "cell_type": "code",
   "outputs": [
    {
     "name": "stdout",
     "output_type": "stream",
     "text": [
      "63\n"
     ]
    }
   ],
   "source": [
    "per_track = result_df[(np.sqrt((result_df['MAX_POSITION_X'].values - 256)**2 + (result_df['MAX_POSITION_Y'].values - 256)**2 )>90) & (result_df['MIN_FRAME']< 300 ) & (result_df['MIN_FRAME']> 200 ) & (result_df['DURATION']>120) ]\n",
    "print(len(per_track))"
   ],
   "metadata": {
    "collapsed": false,
    "ExecuteTime": {
     "end_time": "2024-06-27T10:07:49.225889Z",
     "start_time": "2024-06-27T10:07:49.219534Z"
    }
   },
   "id": "5760a84e7f49148e",
   "execution_count": 254
  },
  {
   "cell_type": "code",
   "outputs": [
    {
     "name": "stdout",
     "output_type": "stream",
     "text": [
      "           TRACK_ID   MIN_FRAME   MAX_FRAME  MIN_POSITION_X  MIN_POSITION_Y  \\\n",
      "count     63.000000   63.000000   63.000000       63.000000       63.000000   \n",
      "mean   26189.904762  246.603175  410.825397      277.047619      256.666667   \n",
      "std     1649.332854   21.472818   42.803580      120.376751      124.586801   \n",
      "min    22779.000000  202.000000  332.000000       43.000000       56.000000   \n",
      "25%    25220.000000  234.000000  384.000000      170.500000      150.000000   \n",
      "50%    26352.000000  250.000000  404.000000      313.000000      256.000000   \n",
      "75%    27203.000000  259.000000  434.000000      377.000000      366.500000   \n",
      "max    30109.000000  299.000000  523.000000      465.000000      458.000000   \n",
      "\n",
      "       MAX_POSITION_X  MAX_POSITION_Y   MIN_ANGLE   MAX_ANGLE    DURATION  \n",
      "count       63.000000       63.000000   63.000000   63.000000   63.000000  \n",
      "mean       274.063492      259.126984   -5.299865   -4.838835  164.222222  \n",
      "std         89.816636       91.350176   94.620359   93.945239   36.321790  \n",
      "min         99.000000      103.000000 -176.275942 -171.940896  121.000000  \n",
      "25%        194.000000      176.000000  -81.263245  -84.075755  138.500000  \n",
      "50%        305.000000      267.000000    0.000000    5.069420  150.000000  \n",
      "75%        341.000000      330.000000   64.505694   62.282391  182.000000  \n",
      "max        420.000000      418.000000  160.676816  166.414009  271.000000  \n"
     ]
    }
   ],
   "source": [
    "print(per_track.describe())"
   ],
   "metadata": {
    "collapsed": false,
    "ExecuteTime": {
     "end_time": "2024-06-27T10:05:41.510113Z",
     "start_time": "2024-06-27T10:05:41.491182Z"
    }
   },
   "id": "f763098b0a3208a4",
   "execution_count": 250
  },
  {
   "cell_type": "code",
   "outputs": [
    {
     "data": {
      "text/plain": "<Figure size 640x480 with 1 Axes>",
      "image/png": "[encoded data removed]"
     },
     "metadata": {},
     "output_type": "display_data"
    }
   ],
   "source": [
    "plt.hist(per_track['DURATION'])\n",
    "plt.show()"
   ],
   "metadata": {
    "collapsed": false,
    "ExecuteTime": {
     "end_time": "2024-06-27T09:43:03.144140Z",
     "start_time": "2024-06-27T09:43:03.016894Z"
    }
   },
   "id": "b6622c7a85c534b1",
   "execution_count": 198
  },
  {
   "cell_type": "code",
   "outputs": [],
   "source": [
    "import numpy as np\n",
    "import matplotlib.pyplot as plt\n",
    "\n",
    "def center_of_contraction(positions, vectors):\n",
    "    # Extract x, y positions and u, v vector components\n",
    "    x, y = zip(*positions)\n",
    "    u, v = zip(*vectors)\n",
    "\n",
    "    # Convert to numpy arrays\n",
    "    x = np.array(x)\n",
    "    y = np.array(y)\n",
    "    u = np.array(u)\n",
    "    v = np.array(v)\n",
    "\n",
    "    # Calculate magnitudes of vectors\n",
    "    magnitudes = np.sqrt(u**2 + v**2)\n",
    "\n",
    "    # Calculate the weighted average of positions\n",
    "    x_center = np.sum(x * magnitudes) / np.sum(magnitudes)\n",
    "    y_center = np.sum(y * magnitudes) / np.sum(magnitudes)\n",
    "\n",
    "    return y_center, x_center\n",
    "\n",
    "# Example usage\n",
    "positions = [(1, 7), (2, 6), (5, 8), (7, 7), (9, 6)]\n",
    "vectors = [(-1, -1), (-1, -1), (-2, -2), (-1, -1), (-1, -1)]\n",
    "\n",
    "y_center, x_center = center_of_contraction(positions, vectors)\n",
    "print(f\"Center of contraction: ({x_center}, {y_center})\")\n",
    "\n",
    "# Visualization\n",
    "fig, ax = plt.subplots()\n",
    "ax.set_aspect('equal')\n",
    "\n",
    "# Plot the original points and vectors\n",
    "for (x, y), (u, v) in zip(positions, vectors):\n",
    "    ax.quiver(x, y, u, v, angles='xy', scale_units='xy', scale=1, color='blue')\n",
    "\n",
    "# Plot the center of contraction\n",
    "ax.plot(x_center, y_center, 'ro', label='Center of contraction')\n",
    "\n",
    "# Set plot limits\n",
    "buffer = 1\n",
    "ax.set_xlim(min(x) - buffer, max(x) + buffer)\n",
    "ax.set_ylim(min(y) - buffer, max(y) + buffer)\n",
    "\n",
    "# Add labels and legend\n",
    "ax.set_xlabel('X')\n",
    "ax.set_ylabel('Y')\n",
    "ax.legend()\n",
    "ax.set_title('Center of Contraction')\n",
    "\n",
    "plt.show()"
   ],
   "metadata": {
    "collapsed": false
   },
   "id": "150016d3fc323227"
  },
  {
   "cell_type": "code",
   "outputs": [],
   "source": [
    "result_df['SIGN'] = np.sign(result_df['MIN_ANGLE'] * result_df['MAX_ANGLE'])\n"
   ],
   "metadata": {
    "collapsed": false,
    "ExecuteTime": {
     "end_time": "2024-06-24T15:58:35.553363Z",
     "start_time": "2024-06-24T15:58:35.535696Z"
    }
   },
   "id": "a3cb6f5a00b7f0e6",
   "execution_count": 72
  },
  {
   "cell_type": "code",
   "outputs": [
    {
     "data": {
      "text/plain": "   TRACK_ID  MIN_FRAME  MAX_FRAME  MIN_POSITION_X  MIN_POSITION_Y  \\\n0         0          0         12              29               0   \n1         1          0         32              70             335   \n2         2          0         10              50             335   \n3         3          0          5             355             334   \n4         4          0         19              60             334   \n\n   MAX_POSITION_X  MAX_POSITION_Y   MIN_ANGLE   MAX_ANGLE  DURATION  SIGN  \n0              27               2 -134.333800 -147.855634        12   1.0  \n1              65             332 -177.510447  114.897665        32  -1.0  \n2              52             335 -177.666354  117.135140        10  -1.0  \n3             352             334 -135.000000   53.476878         5  -1.0  \n4              57             333 -177.405849  116.372137        19  -1.0  ",
      "text/html": "<div>\n<style scoped>\n    .dataframe tbody tr th:only-of-type {\n        vertical-align: middle;\n    }\n\n    .dataframe tbody tr th {\n        vertical-align: top;\n    }\n\n    .dataframe thead th {\n        text-align: right;\n    }\n</style>\n<table border=\"1\" class=\"dataframe\">\n  <thead>\n    <tr style=\"text-align: right;\">\n      <th></th>\n      <th>TRACK_ID</th>\n      <th>MIN_FRAME</th>\n      <th>MAX_FRAME</th>\n      <th>MIN_POSITION_X</th>\n      <th>MIN_POSITION_Y</th>\n      <th>MAX_POSITION_X</th>\n      <th>MAX_POSITION_Y</th>\n      <th>MIN_ANGLE</th>\n      <th>MAX_ANGLE</th>\n      <th>DURATION</th>\n      <th>SIGN</th>\n    </tr>\n  </thead>\n  <tbody>\n    <tr>\n      <th>0</th>\n      <td>0</td>\n      <td>0</td>\n      <td>12</td>\n      <td>29</td>\n      <td>0</td>\n      <td>27</td>\n      <td>2</td>\n      <td>-134.333800</td>\n      <td>-147.855634</td>\n      <td>12</td>\n      <td>1.0</td>\n    </tr>\n    <tr>\n      <th>1</th>\n      <td>1</td>\n      <td>0</td>\n      <td>32</td>\n      <td>70</td>\n      <td>335</td>\n      <td>65</td>\n      <td>332</td>\n      <td>-177.510447</td>\n      <td>114.897665</td>\n      <td>32</td>\n      <td>-1.0</td>\n    </tr>\n    <tr>\n      <th>2</th>\n      <td>2</td>\n      <td>0</td>\n      <td>10</td>\n      <td>50</td>\n      <td>335</td>\n      <td>52</td>\n      <td>335</td>\n      <td>-177.666354</td>\n      <td>117.135140</td>\n      <td>10</td>\n      <td>-1.0</td>\n    </tr>\n    <tr>\n      <th>3</th>\n      <td>3</td>\n      <td>0</td>\n      <td>5</td>\n      <td>355</td>\n      <td>334</td>\n      <td>352</td>\n      <td>334</td>\n      <td>-135.000000</td>\n      <td>53.476878</td>\n      <td>5</td>\n      <td>-1.0</td>\n    </tr>\n    <tr>\n      <th>4</th>\n      <td>4</td>\n      <td>0</td>\n      <td>19</td>\n      <td>60</td>\n      <td>334</td>\n      <td>57</td>\n      <td>333</td>\n      <td>-177.405849</td>\n      <td>116.372137</td>\n      <td>19</td>\n      <td>-1.0</td>\n    </tr>\n  </tbody>\n</table>\n</div>"
     },
     "execution_count": 79,
     "metadata": {},
     "output_type": "execute_result"
    }
   ],
   "source": [
    "result_df.head()\n"
   ],
   "metadata": {
    "collapsed": false,
    "ExecuteTime": {
     "end_time": "2024-06-24T16:01:07.988095Z",
     "start_time": "2024-06-24T16:01:07.967582Z"
    }
   },
   "id": "24283fc07984738d",
   "execution_count": 79
  },
  {
   "cell_type": "code",
   "outputs": [
    {
     "name": "stdout",
     "output_type": "stream",
     "text": [
      "90221 1405\n"
     ]
    }
   ],
   "source": [
    "s = result_df['SIGN'].values\n",
    "print(np.sum(s>0), np.sum(s<0))\n"
   ],
   "metadata": {
    "collapsed": false,
    "ExecuteTime": {
     "end_time": "2024-06-24T16:03:08.916678Z",
     "start_time": "2024-06-24T16:03:08.903420Z"
    }
   },
   "id": "37a27f53445ff7f8",
   "execution_count": 86
  },
  {
   "cell_type": "code",
   "outputs": [
    {
     "name": "stderr",
     "output_type": "stream",
     "text": [
      "C:\\Users\\amityu\\AppData\\Local\\anaconda3\\lib\\site-packages\\seaborn\\_oldcore.py:1498: FutureWarning: is_categorical_dtype is deprecated and will be removed in a future version. Use isinstance(dtype, CategoricalDtype) instead\n",
      "  if pd.api.types.is_categorical_dtype(vector):\n",
      "C:\\Users\\amityu\\AppData\\Local\\anaconda3\\lib\\site-packages\\seaborn\\_oldcore.py:1119: FutureWarning: use_inf_as_na option is deprecated and will be removed in a future version. Convert inf values to NaN before operating instead.\n",
      "  with pd.option_context('mode.use_inf_as_na', True):\n"
     ]
    },
    {
     "data": {
      "text/plain": "<Axes: xlabel='DURATION', ylabel='Count'>"
     },
     "execution_count": 55,
     "metadata": {},
     "output_type": "execute_result"
    },
    {
     "data": {
      "text/plain": "<Figure size 640x480 with 1 Axes>",
      "image/png": "[encoded data removed]"
     },
     "metadata": {},
     "output_type": "display_data"
    }
   ],
   "source": [
    "sns.histplot(data=result_df[result_df['DURATION']>20], x = 'DURATION', bins=np.linspace(0,80,50))"
   ],
   "metadata": {
    "collapsed": false,
    "ExecuteTime": {
     "end_time": "2024-06-24T15:17:49.989230Z",
     "start_time": "2024-06-24T15:17:49.771976Z"
    }
   },
   "id": "f1511e908245e88c",
   "execution_count": 55
  },
  {
   "cell_type": "code",
   "outputs": [
    {
     "ename": "AttributeError",
     "evalue": "'Series' object has no attribute 'valuess'",
     "output_type": "error",
     "traceback": [
      "\u001B[1;31m---------------------------------------------------------------------------\u001B[0m",
      "\u001B[1;31mAttributeError\u001B[0m                            Traceback (most recent call last)",
      "\u001B[1;32m~\\AppData\\Local\\Temp\\ipykernel_8212\\4050778016.py\u001B[0m in \u001B[0;36m?\u001B[1;34m()\u001B[0m\n\u001B[1;32m----> 1\u001B[1;33m \u001B[0mx\u001B[0m \u001B[1;33m=\u001B[0m \u001B[0mresult_df\u001B[0m\u001B[1;33m[\u001B[0m\u001B[1;34m'DURATION'\u001B[0m\u001B[1;33m]\u001B[0m\u001B[1;33m.\u001B[0m\u001B[0mvaluess\u001B[0m\u001B[1;33m\u001B[0m\u001B[1;33m\u001B[0m\u001B[0m\n\u001B[0m",
      "\u001B[1;32m~\\AppData\\Local\\anaconda3\\lib\\site-packages\\pandas\\core\\generic.py\u001B[0m in \u001B[0;36m?\u001B[1;34m(self, name)\u001B[0m\n\u001B[0;32m   6200\u001B[0m             \u001B[1;32mand\u001B[0m \u001B[0mname\u001B[0m \u001B[1;32mnot\u001B[0m \u001B[1;32min\u001B[0m \u001B[0mself\u001B[0m\u001B[1;33m.\u001B[0m\u001B[0m_accessors\u001B[0m\u001B[1;33m\u001B[0m\u001B[1;33m\u001B[0m\u001B[0m\n\u001B[0;32m   6201\u001B[0m             \u001B[1;32mand\u001B[0m \u001B[0mself\u001B[0m\u001B[1;33m.\u001B[0m\u001B[0m_info_axis\u001B[0m\u001B[1;33m.\u001B[0m\u001B[0m_can_hold_identifiers_and_holds_name\u001B[0m\u001B[1;33m(\u001B[0m\u001B[0mname\u001B[0m\u001B[1;33m)\u001B[0m\u001B[1;33m\u001B[0m\u001B[1;33m\u001B[0m\u001B[0m\n\u001B[0;32m   6202\u001B[0m         ):\n\u001B[0;32m   6203\u001B[0m             \u001B[1;32mreturn\u001B[0m \u001B[0mself\u001B[0m\u001B[1;33m[\u001B[0m\u001B[0mname\u001B[0m\u001B[1;33m]\u001B[0m\u001B[1;33m\u001B[0m\u001B[1;33m\u001B[0m\u001B[0m\n\u001B[1;32m-> 6204\u001B[1;33m         \u001B[1;32mreturn\u001B[0m \u001B[0mobject\u001B[0m\u001B[1;33m.\u001B[0m\u001B[0m__getattribute__\u001B[0m\u001B[1;33m(\u001B[0m\u001B[0mself\u001B[0m\u001B[1;33m,\u001B[0m \u001B[0mname\u001B[0m\u001B[1;33m)\u001B[0m\u001B[1;33m\u001B[0m\u001B[1;33m\u001B[0m\u001B[0m\n\u001B[0m",
      "\u001B[1;31mAttributeError\u001B[0m: 'Series' object has no attribute 'valuess'"
     ]
    }
   ],
   "source": [
    "x = result_df['DURATION'].valuess"
   ],
   "metadata": {
    "collapsed": false,
    "ExecuteTime": {
     "end_time": "2024-06-24T15:14:07.702620Z",
     "start_time": "2024-06-24T15:14:07.674975Z"
    }
   },
   "id": "5af88c05f68da512",
   "execution_count": 52
  },
  {
   "cell_type": "code",
   "outputs": [
    {
     "name": "stdout",
     "output_type": "stream",
     "text": [
      "CPU times: total: 0 ns\n",
      "Wall time: 3.68 ms\n",
      "Circle center: (4, 2), Radius: 5.47\n"
     ]
    }
   ],
   "source": [
    "import numpy as np\n",
    "from scipy.optimize import least_squares\n",
    "\n",
    "def circle_residuals(params, x, y):\n",
    "    xc, yc, r = params\n",
    "    return np.sqrt((x - xc)**2 + (y - yc)**2) - r\n",
    "\n",
    "def fit_circle(x, y):\n",
    "    # Initial guess for circle parameters (x_center, y_center, radius)\n",
    "    x_m = np.mean(x)\n",
    "    y_m = np.mean(y)\n",
    "    r_guess = np.sqrt(np.mean((x - x_m)**2 + (y - y_m)**2))\n",
    "    initial_guess = [x_m, y_m, r_guess]\n",
    "\n",
    "    # Optimize the parameters to minimize the residuals\n",
    "    result = least_squares(circle_residuals, initial_guess, args=(x, y))\n",
    "    xc, yc, r = result.x\n",
    "\n",
    "    return int(yc), int(xc), np.round(r,2)\n",
    "\n",
    "# Example usage\n",
    "coordinates = [(1, 7), (2, 6), (5, 8), (7, 7), (9, 6)]\n",
    "x, y = zip(*coordinates)\n",
    "\n",
    "%time y_center, x_center, radius = fit_circle(np.array(x), np.array(y))\n",
    "print(f\"Circle center: ({x_center}, {y_center}), Radius: {radius}\")\n"
   ],
   "metadata": {
    "collapsed": false,
    "ExecuteTime": {
     "end_time": "2024-06-26T15:59:05.613458Z",
     "start_time": "2024-06-26T15:59:05.590958Z"
    }
   },
   "id": "d0886db90774b380",
   "execution_count": 171
  },
  {
   "cell_type": "code",
   "outputs": [
    {
     "name": "stdout",
     "output_type": "stream",
     "text": [
      "Circle center: (4.882781647847784, 2.253668497714227), Radius: 5.474099214202387\n"
     ]
    },
    {
     "data": {
      "text/plain": "[<matplotlib.lines.Line2D at 0x29eeed40cd0>]"
     },
     "execution_count": 163,
     "metadata": {},
     "output_type": "execute_result"
    },
    {
     "data": {
      "text/plain": "<Figure size 640x480 with 1 Axes>",
      "image/png": "[encoded data removed]"
     },
     "metadata": {},
     "output_type": "display_data"
    }
   ],
   "source": [
    "y_center, x_center, radius = fit_circle(np.array(x), np.array(y))\n",
    "print(f\"Circle center: ({x_center}, {y_center}), Radius: {radius}\")\n",
    "\n",
    "# Visualization\n",
    "fig, ax = plt.subplots()\n",
    "ax.set_aspect('equal')\n",
    "\n",
    "# Plot the original points\n",
    "ax.plot(x, y, 'bo', label='Data points')\n",
    "\n",
    "# Plot the fitted circle\n",
    "circle = plt.Circle((x_center, y_center), radius, color='r', fill=False, label='Fitted circle')\n",
    "ax.add_artist(circle)\n",
    "\n",
    "# Plot the center of the circle\n",
    "ax.plot(x_center, y_center, 'ro', label='Circle center')\n"
   ],
   "metadata": {
    "collapsed": false,
    "ExecuteTime": {
     "end_time": "2024-06-26T15:56:17.481592Z",
     "start_time": "2024-06-26T15:56:17.309641Z"
    }
   },
   "id": "200ff64d14c5512c",
   "execution_count": 163
  }
 ],
 "metadata": {
  "kernelspec": {
   "display_name": "Python 3",
   "language": "python",
   "name": "python3"
  },
  "language_info": {
   "codemirror_mode": {
    "name": "ipython",
    "version": 2
   },
   "file_extension": ".py",
   "mimetype": "text/x-python",
   "name": "python",
   "nbconvert_exporter": "python",
   "pygments_lexer": "ipython2",
   "version": "2.7.6"
  }
 },
 "nbformat": 4,
 "nbformat_minor": 5
}
