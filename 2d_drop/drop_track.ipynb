{
 "cells": [
  {
   "cell_type": "code",
   "execution_count": 2,
   "id": "22faa245ab50d732",
   "metadata": {
    "collapsed": false,
    "ExecuteTime": {
     "end_time": "2024-06-24T13:36:29.749135Z",
     "start_time": "2024-06-24T13:36:22.421298Z"
    }
   },
   "outputs": [],
   "source": [
    "import os\n",
    "from skimage.filters import threshold_otsu\n",
    "import pandas as pd\n",
    "import numpy as np\n",
    "import tifffile\n",
    "import matplotlib.pyplot as plt\n",
    "import seaborn as sns\n",
    "from tqdm.notebook import  tqdm\n",
    "import trackpy as tp"
   ]
  },
  {
   "cell_type": "code",
   "outputs": [],
   "source": [
    "def remove_disc(_img, r =20, value = 0):\n",
    "    \"\"\"\n",
    "    Remove a disc from an image.\n",
    "\n",
    "    :param _img: The input image to remove the disc from.\n",
    "    :param r: The radius of the disc. Default value is 20.\n",
    "    :param value: The value to set inside the disc. Default value is 0.\n",
    "    :return: The image with the disc removed.\n",
    "\n",
    "    Example usage:\n",
    "        _img = cv2.imread(\"image.jpg\")\n",
    "        removed_img = remove_disc(_img, r=30, value=255)\n",
    "    \"\"\"\n",
    "    _img = _img.copy()\n",
    "    # Define the center and radius of the disk\n",
    "    center = (img.shape[0]//2, _img.shape[1]//2)\n",
    "    \n",
    "    # Create index arrays to img\n",
    "    x = np.arange(0, img.shape[1])\n",
    "    y = np.arange(0, img.shape[0])\n",
    "\n",
    "    # Create boolean mask with disk pixel positions set to True\n",
    "    mask = (x[np.newaxis, :] - center[0]) ** 2 + (y[:, np.newaxis] - center[1]) ** 2 < r ** 2\n",
    "\n",
    "    # Apply mask to the image\n",
    "    _img[mask] = value  # or whatever value you wish to set inside the mask\n",
    "    return _img\n",
    "\n"
   ],
   "metadata": {
    "collapsed": false,
    "ExecuteTime": {
     "end_time": "2024-06-18T08:33:38.683113Z",
     "start_time": "2024-06-18T08:33:38.665402Z"
    }
   },
   "id": "bb39c6b38756e494",
   "execution_count": 63
  },
  {
   "cell_type": "code",
   "outputs": [],
   "source": [
    "DATA_PATH = r'C:\\Users\\amityu\\Gel_Drop_Data'\n",
    "#MOVIE_PATH = os.path.join(DATA_PATH , 'tif_centered')\n",
    "MOVIE_PATH = os.path.join(DATA_PATH, 'eye_gel')\n",
    "\n",
    "# tiff source\n",
    "output_dir = r'C:\\Users\\amityu\\Gel_Drop_Data\\yuval_clip\\\\'\n",
    "files = os.listdir(MOVIE_PATH)\n",
    "files= sorted(files)\n",
    "#files = files[175:950] #take only relevant files"
   ],
   "metadata": {
    "collapsed": false,
    "ExecuteTime": {
     "end_time": "2024-06-24T13:46:33.089802Z",
     "start_time": "2024-06-24T13:46:33.076307Z"
    }
   },
   "id": "b8c858cfa253bae2",
   "execution_count": 7
  },
  {
   "cell_type": "code",
   "outputs": [
    {
     "data": {
      "text/plain": "  0%|          | 0/972 [00:00<?, ?it/s]",
      "application/vnd.jupyter.widget-view+json": {
       "version_major": 2,
       "version_minor": 0,
       "model_id": "305e348ece2848ef9db34d977345d452"
      }
     },
     "metadata": {},
     "output_type": "display_data"
    }
   ],
   "source": [
    "# read all images\n",
    "only_quarter = False\n",
    "img_list = []\n",
    "for file in tqdm(files):\n",
    "    img = tifffile.imread(os.path.join(MOVIE_PATH, file))\n",
    "    if only_quarter:\n",
    "        img[img.shape[0]//2:,:] = 0\n",
    "        img[:, img.shape[1]//2:] = 0\n",
    "\n",
    "    img_list.append(img)\n",
    "image_array = np.array(img_list)\n"
   ],
   "metadata": {
    "collapsed": false,
    "ExecuteTime": {
     "end_time": "2024-06-22T11:40:56.664742Z",
     "start_time": "2024-06-22T11:40:49.984833Z"
    }
   },
   "id": "fe49259736df0110",
   "execution_count": 7
  },
  {
   "cell_type": "code",
   "outputs": [
    {
     "data": {
      "text/plain": "  0%|          | 0/972 [00:00<?, ?it/s]",
      "application/vnd.jupyter.widget-view+json": {
       "version_major": 2,
       "version_minor": 0,
       "model_id": "8f71695e9fd043768b9383c3c768ca03"
      }
     },
     "metadata": {},
     "output_type": "display_data"
    }
   ],
   "source": [
    "#clipping for visualization to adjust image contrast\n",
    "for file in tqdm(files):\n",
    "    img = tifffile.imread(os.path.join(MOVIE_PATH, file))\n",
    "    data = img.flatten()\n",
    "    data = data[~np.isnan(data)]\n",
    "    threshold = threshold_otsu(data)\n",
    "    threshold_data = data[data > threshold]\n",
    "    threshold2 = np.percentile(threshold_data, 5)\n",
    "    img=np.clip(img, threshold2, np.percentile(img, 99))\n",
    "    tifffile.imwrite(os.path.join(output_dir,file), img)\n",
    "    \n"
   ],
   "metadata": {
    "collapsed": false,
    "ExecuteTime": {
     "end_time": "2024-06-22T11:41:39.382479Z",
     "start_time": "2024-06-22T11:41:31.418548Z"
    }
   },
   "id": "7e32e1992d000225",
   "execution_count": 9
  },
  {
   "cell_type": "code",
   "outputs": [],
   "source": [
    "# put crosses in visualization to create ROI for the trackmate plugin to find\n",
    "# only for exploation purpuses, for production use trackpy\n",
    "def paint_indices_cross(_img,indices):\n",
    "    mask = np.zeros_like(_img)\n",
    "    indices = np.array(indices)\n",
    "    for j in range(len(indices)):\n",
    "        x = int(indices[j,1])\n",
    "        y = int(indices[j,0])\n",
    "        mask [max(y-1,0):min(y+2, img.shape[0]), x] = 1\n",
    "        mask[y,max(x-1,0):min(x+2, img.shape[1])] = 1\n",
    "    return mask"
   ],
   "metadata": {
    "collapsed": false,
    "ExecuteTime": {
     "end_time": "2024-06-22T11:39:07.496933Z",
     "start_time": "2024-06-22T11:39:07.492710Z"
    }
   },
   "id": "fc382b915dd36c4d",
   "execution_count": 4
  },
  {
   "cell_type": "code",
   "outputs": [],
   "source": [
    "import numpy as np\n",
    "import scipy.ndimage as ndimage\n",
    "\n",
    "def find_local_maxima(_image, min_distance=1, q_max  = 0.1):\n",
    "    \"\"\"\n",
    "    :param _image: The input image for finding local maxima.\n",
    "    :param min_distance: The minimum distance between two local maxima. Defaults to 1.\n",
    "    :param q_max: The threshold value to filter out low-value peaks. Defaults to 0.1.\n",
    "    :return: A list of coordinates representing the local maxima.\n",
    "\n",
    "    \"\"\"\n",
    "    # Apply a maximum filter to find local maxima\n",
    "    neighborhood_size = 2 * min_distance + 1\n",
    "    local_max = ndimage.maximum_filter(_image, size=neighborhood_size, mode='constant')\n",
    "\n",
    "    # Compare the original image to the local maxima\n",
    "    local_maxima = (_image == local_max)\n",
    "\n",
    "    # Apply a threshold to avoid low-value peaks (optional)\n",
    "    _threshold = np.nanmax(_image) * q_max\n",
    "    local_maxima = local_maxima & (_image > _threshold)\n",
    "\n",
    "    # Label the maxima\n",
    "    labeled, num_objects = ndimage.label(local_maxima)\n",
    "\n",
    "    # Find the coordinates of the local maxima\n",
    "    slices = ndimage.find_objects(labeled)\n",
    "    _coordinates = [(int(s[0].start + s[0].stop - 1) // 2, int(s[1].start + s[1].stop - 1) // 2) for s in slices]\n",
    "    \n",
    "    return _coordinates\n",
    "\n"
   ],
   "metadata": {
    "collapsed": false,
    "ExecuteTime": {
     "end_time": "2024-06-22T11:41:42.398443Z",
     "start_time": "2024-06-22T11:41:42.393147Z"
    }
   },
   "id": "9345a06ec107dae9",
   "execution_count": 10
  },
  {
   "cell_type": "code",
   "outputs": [
    {
     "data": {
      "text/plain": "  0%|          | 0/91847 [00:00<?, ?it/s]",
      "application/vnd.jupyter.widget-view+json": {
       "version_major": 2,
       "version_minor": 0,
       "model_id": "e0b3be83f0434ba18de2f2c4488f525e"
      }
     },
     "metadata": {},
     "output_type": "display_data"
    }
   ],
   "source": [
    "trackmate_df = pd.read_csv(os.path.join(output_maxima_dir,'trackmate.csv'))\n",
    "loc_df = pd.read_csv(os.path.join(MOVIE_PATH ,'np/loc.csv'))\n",
    "\n",
    "result_df = process_tracks(trackmate_df, loc_df)  # creating statistics\n",
    "result_df.to_csv(os.path.join(output_maxima_dir,'tracks.csv'))\n"
   ],
   "metadata": {
    "collapsed": false,
    "ExecuteTime": {
     "end_time": "2024-06-24T15:47:00.838897Z",
     "start_time": "2024-06-24T15:45:10.601331Z"
    }
   },
   "id": "7388acd3df2bab03",
   "execution_count": 59
  },
  {
   "cell_type": "code",
   "outputs": [],
   "source": [
    "output_maxima_dir =r'C:\\Users\\amityu\\Gel_Drop_Data\\yuval_local\\\\'"
   ],
   "metadata": {
    "collapsed": false,
    "ExecuteTime": {
     "end_time": "2024-06-24T13:36:51.009759Z",
     "start_time": "2024-06-24T13:36:50.996199Z"
    }
   },
   "id": "ff9e5afe08facb9b",
   "execution_count": 3
  },
  {
   "cell_type": "code",
   "outputs": [
    {
     "data": {
      "text/plain": "0it [00:00, ?it/s]",
      "application/vnd.jupyter.widget-view+json": {
       "version_major": 2,
       "version_minor": 0,
       "model_id": "43ed57b9d55d42e1897da159aee71791"
      }
     },
     "metadata": {},
     "output_type": "display_data"
    }
   ],
   "source": [
    "## creates images with cross at local maxima for tracking in TRACKMATE\n",
    "## saves coordinates as a list of coordinates for each time in dataframe of lists\n",
    "x_list = []\n",
    "y_list = []\n",
    "frame_list = []\n",
    "for i,file in tqdm(enumerate(files)):\n",
    "    coordinates = find_local_maxima(image_array[i],6)\n",
    "    img = paint_indices_cross(image_array[i], coordinates)\n",
    "    x_list+=[x for (y,x) in coordinates]\n",
    "    y_list+=[y for (y,x) in coordinates]\n",
    "\n",
    "    frame_list+=[i]*len(coordinates)\n",
    "    tifffile.imwrite(os.path.join(output_maxima_dir, file), img)\n",
    "    \n",
    "co_df = pd.DataFrame({'frame': frame_list,'y': y_list,'x':x_list})\n",
    "co_df.to_csv(os.path.join(output_maxima_dir, 'coordinates.csv') )\n"
   ],
   "metadata": {
    "collapsed": false,
    "ExecuteTime": {
     "end_time": "2024-06-22T11:42:18.000490Z",
     "start_time": "2024-06-22T11:42:06.262322Z"
    }
   },
   "id": "b2a212d0960a8442",
   "execution_count": 11
  },
  {
   "cell_type": "code",
   "outputs": [],
   "source": [
    "# save cordinate_df in a format for the tracking gui \n",
    "co_df = pd.DataFrame({'FRAME': frame_list,'POSITION_Y': y_list,'POSITION_X':x_list})\n",
    "co_df.to_csv(os.path.join(output_maxima_dir, 'coordinates_gui.csv') )\n"
   ],
   "metadata": {
    "collapsed": false,
    "ExecuteTime": {
     "end_time": "2024-06-22T11:53:52.248481Z",
     "start_time": "2024-06-22T11:53:51.522387Z"
    }
   },
   "id": "fd2c2d96f11a905e",
   "execution_count": 14
  },
  {
   "cell_type": "code",
   "outputs": [],
   "source": [
    "x0 = 256\n",
    "y0 = 256\n",
    "def process_tracks(_df, loc_df = None):\n",
    "\n",
    "    \"\"\"\n",
    "    Process tracks in a given DataFrame and return a new DataFrame with collected results.\n",
    "\n",
    "    :param _df: The DataFrame containing the tracks.\n",
    "    :param loc_df: Optional DataFrame containing additional location information. The FRAME,x,y of a fixed point in image for registration\n",
    "    :return: A new DataFrame with the collected results.\n",
    "    \"\"\"\n",
    "    # Group by TRACK_ID\n",
    "    grouped = _df.groupby('TRACK_ID')\n",
    "\n",
    "    # Initialize lists to collect results\n",
    "    track_ids = []\n",
    "    _frame_list = []\n",
    "    min_frames = []\n",
    "    max_frames = []\n",
    "    min_positions_x = []\n",
    "    min_positions_y = []\n",
    "    max_positions_x = []\n",
    "    max_positions_y = []\n",
    "    min_angles = []\n",
    "    max_angles = []\n",
    "    duration = []\n",
    "    \n",
    "    # Iterate over each group\n",
    "    for track_id, group in tqdm(grouped):\n",
    "        min_frame = group['FRAME'].min()\n",
    "        max_frame = group['FRAME'].max()\n",
    "        min_frame_row = group[group['FRAME'] == min_frame]\n",
    "        max_frame_row = group[group['FRAME'] == max_frame]\n",
    "        min_pos_x = min_frame_row['POSITION_X'].values[0]\n",
    "        min_pos_y = min_frame_row['POSITION_Y'].values[0]\n",
    "        max_pos_x = max_frame_row['POSITION_X'].values[0]\n",
    "        max_pos_y = max_frame_row['POSITION_Y'].values[0]\n",
    "        if loc_df is not None:\n",
    "            try:\n",
    "                # noinspection PyShadowingNames\n",
    "                x0 = loc_df.loc[loc_df['FRAME']==min_frame, 'x'].values[0]\n",
    "                # noinspection PyShadowingNames\n",
    "                y0 = loc_df.loc[loc_df['FRAME']==min_frame, 'y'].values[0]\n",
    "                x1 = loc_df.loc[loc_df['FRAME']==max_frame, 'x'].values[0]\n",
    "                # noinspection PyShadowingNames\n",
    "                y1 = loc_df.loc[loc_df['FRAME']==max_frame, 'y'].values[0]\n",
    "\n",
    "                min_angle = np.degrees(np.arctan2(min_pos_y - y0, min_pos_x - x0))\n",
    "                max_angle = np.degrees(np.arctan2(max_pos_y - y1, max_pos_x - x1))\n",
    "                min_angles.append(min_angle)\n",
    "                max_angles.append(max_angle)\n",
    "\n",
    "\n",
    "            except Exception as e:\n",
    "                print(e)\n",
    "       \n",
    "        track_ids.append(track_id)\n",
    "        min_frames.append(min_frame)\n",
    "        max_frames.append(max_frame)\n",
    "        duration.append(max_frame-min_frame)\n",
    "        min_positions_x.append(min_pos_x)\n",
    "        min_positions_y.append(min_pos_y)\n",
    "        max_positions_x.append(max_pos_x)\n",
    "        max_positions_y.append(max_pos_y)\n",
    "        \n",
    "    # Create a new DataFrame with the collected results\n",
    "    _result_df = pd.DataFrame({\n",
    "        'TRACK_ID': track_ids,\n",
    "        'MIN_FRAME': min_frames,\n",
    "        'MAX_FRAME': max_frames,\n",
    "        'MIN_POSITION_X': min_positions_x,\n",
    "        'MIN_POSITION_Y': min_positions_y,\n",
    "        'MAX_POSITION_X': max_positions_x,\n",
    "        'MAX_POSITION_Y': max_positions_y,\n",
    "        'MIN_ANGLE': min_angles,\n",
    "        'MAX_ANGLE': max_angles,\n",
    "        'DURATION': duration\n",
    "        \n",
    "    })\n",
    "\n",
    "    return _result_df\n",
    "\n"
   ],
   "metadata": {
    "collapsed": false,
    "ExecuteTime": {
     "end_time": "2024-06-24T15:07:30.689961Z",
     "start_time": "2024-06-24T15:07:30.679885Z"
    }
   },
   "id": "9d2da2d4d085f239",
   "execution_count": 46
  },
  {
   "cell_type": "code",
   "outputs": [],
   "source": [
    "import pandas as pd\n",
    "\n",
    "# Perform linkage between frames\n",
    "\n",
    "tracks = tp.link(co_df, search_range=4,\n",
    "                 memory=2)  # where search_range is the maximum distance features can move between frames, and memory is the maximum number of frames during which a feature can vanish, then reappear nearby, and be considered the same particle.\n",
    "\n",
    "# adding stats and saving for gui\n",
    "# \n",
    "trackmate_df = pd.DataFrame({'TRACK_ID':tracks['particle'], 'FRAME': tracks['frame'], 'POSITION_X':tracks['x'], 'POSITION_Y':tracks['y']})\n",
    "trackmate_df.to_csv(os.path.join(output_maxima_dir,'trackmate.csv'))\n"
   ],
   "metadata": {
    "collapsed": false
   },
   "id": "7868ce545d34ebdc",
   "execution_count": 0
  },
  {
   "cell_type": "code",
   "outputs": [],
   "source": [
    "'''image_folder = os.path.join(DATA_PATH , r'175_950_ex1_clip')\n",
    "csv_file = os.path.join(DATA_PATH, os.path.join(output_maxima_dir,'tracks.csv'))\n",
    "tracking_data = pd.read_csv(csv_file, skiprows=[1,2,3])'''"
   ],
   "metadata": {
    "collapsed": false,
    "ExecuteTime": {
     "end_time": "2024-06-21T10:02:23.625240Z",
     "start_time": "2024-06-21T10:02:23.575236Z"
    }
   },
   "id": "bade66cd59a80b71",
   "execution_count": 43
  },
  {
   "cell_type": "code",
   "outputs": [],
   "source": [
    "result_df = pd.read_csv(os.path.join(output_maxima_dir,'tracks.csv'))"
   ],
   "metadata": {
    "collapsed": false,
    "ExecuteTime": {
     "end_time": "2024-06-24T13:37:34.627791Z",
     "start_time": "2024-06-24T13:37:34.540171Z"
    }
   },
   "id": "4078b5037705ffd7",
   "execution_count": 5
  },
  {
   "cell_type": "code",
   "outputs": [
    {
     "name": "stderr",
     "output_type": "stream",
     "text": [
      "C:\\Users\\amityu\\AppData\\Local\\anaconda3\\lib\\site-packages\\seaborn\\_oldcore.py:1498: FutureWarning: is_categorical_dtype is deprecated and will be removed in a future version. Use isinstance(dtype, CategoricalDtype) instead\n",
      "  if pd.api.types.is_categorical_dtype(vector):\n",
      "C:\\Users\\amityu\\AppData\\Local\\anaconda3\\lib\\site-packages\\seaborn\\_oldcore.py:1498: FutureWarning: is_categorical_dtype is deprecated and will be removed in a future version. Use isinstance(dtype, CategoricalDtype) instead\n",
      "  if pd.api.types.is_categorical_dtype(vector):\n"
     ]
    },
    {
     "data": {
      "text/plain": "<Figure size 1000x600 with 1 Axes>",
      "image/png": "[encoded data removed]"
     },
     "metadata": {},
     "output_type": "display_data"
    }
   ],
   "source": [
    "\n",
    "# Angles graph\n",
    "plt.figure(figsize=(10, 6))\n",
    "sns.scatterplot(x='MIN_ANGLE', y='MAX_ANGLE', data=result_df[result_df['DURATION']>450])\n",
    "plt.xlabel('Min Angle')\n",
    "plt.ylabel('Max Angle')\n",
    "\n",
    "# Set x and y axis limits \n",
    "plt.xlim(-180, 180)\n",
    "plt.ylim(-180, 180)\n",
    "\n",
    "plt.title('Scatter Plot of Min Angle vs Max Angle EYE-GEL')\n",
    "plt.show()"
   ],
   "metadata": {
    "collapsed": false,
    "ExecuteTime": {
     "end_time": "2024-06-25T11:11:27.744448Z",
     "start_time": "2024-06-25T11:11:27.574706Z"
    }
   },
   "id": "301cd209185744fa",
   "execution_count": 90
  },
  {
   "cell_type": "code",
   "outputs": [
    {
     "data": {
      "text/plain": "<Figure size 640x480 with 1 Axes>",
      "image/png": "[encoded data removed]"
     },
     "metadata": {},
     "output_type": "display_data"
    }
   ],
   "source": [
    "\n",
    "# Plotting the track of particles, compensated for the registration anchor, in loc_df saved in preprocessing file\n",
    "long_track_id = result_df[result_df['DURATION']>450]['TRACK_ID']\n",
    "for track_id in long_track_id.iloc[np.random.randint(0,len(long_track_id), size=20)]:\n",
    "    track_data = trackmate_df[trackmate_df['TRACK_ID'] == track_id]\n",
    "    x = []\n",
    "    y = []\n",
    "    for idx, row in track_data.iterrows():    \n",
    "        x.append(row['POSITION_X'] - (loc_df.loc[loc_df['FRAME'] == row['FRAME'], 'x']-256).values[0])\n",
    "        y.append(row['POSITION_Y'] - (loc_df.loc[loc_df['FRAME'] == row['FRAME'], 'y']-256).values[0])\n",
    "\n",
    "       \n",
    "    plt.scatter(x,y, label = str(track_id),s=1 )\n",
    "plt.title('EYE GEL LONG TRACKS (>450 frames)')\n",
    "plt.xlabel('X (pixels)')\n",
    "plt.ylabel('Y (pixels)')\n",
    "plt.xlim(0, 512)\n",
    "plt.ylim(0, 512)\n",
    "\n",
    "#plt.legend()\n",
    "plt.show()"
   ],
   "metadata": {
    "collapsed": false,
    "ExecuteTime": {
     "end_time": "2024-06-25T12:06:15.991531Z",
     "start_time": "2024-06-25T12:06:10.118786Z"
    }
   },
   "id": "598835b84c0969f0",
   "execution_count": 115
  },
  {
   "cell_type": "code",
   "outputs": [],
   "source": [
    "result_df['SIGN'] = np.sign(result_df['MIN_ANGLE'] * result_df['MAX_ANGLE'])\n"
   ],
   "metadata": {
    "collapsed": false,
    "ExecuteTime": {
     "end_time": "2024-06-24T15:58:35.553363Z",
     "start_time": "2024-06-24T15:58:35.535696Z"
    }
   },
   "id": "a3cb6f5a00b7f0e6",
   "execution_count": 72
  },
  {
   "cell_type": "code",
   "outputs": [
    {
     "data": {
      "text/plain": "   TRACK_ID  MIN_FRAME  MAX_FRAME  MIN_POSITION_X  MIN_POSITION_Y  \\\n0         0          0         12              29               0   \n1         1          0         32              70             335   \n2         2          0         10              50             335   \n3         3          0          5             355             334   \n4         4          0         19              60             334   \n\n   MAX_POSITION_X  MAX_POSITION_Y   MIN_ANGLE   MAX_ANGLE  DURATION  SIGN  \n0              27               2 -134.333800 -147.855634        12   1.0  \n1              65             332 -177.510447  114.897665        32  -1.0  \n2              52             335 -177.666354  117.135140        10  -1.0  \n3             352             334 -135.000000   53.476878         5  -1.0  \n4              57             333 -177.405849  116.372137        19  -1.0  ",
      "text/html": "<div>\n<style scoped>\n    .dataframe tbody tr th:only-of-type {\n        vertical-align: middle;\n    }\n\n    .dataframe tbody tr th {\n        vertical-align: top;\n    }\n\n    .dataframe thead th {\n        text-align: right;\n    }\n</style>\n<table border=\"1\" class=\"dataframe\">\n  <thead>\n    <tr style=\"text-align: right;\">\n      <th></th>\n      <th>TRACK_ID</th>\n      <th>MIN_FRAME</th>\n      <th>MAX_FRAME</th>\n      <th>MIN_POSITION_X</th>\n      <th>MIN_POSITION_Y</th>\n      <th>MAX_POSITION_X</th>\n      <th>MAX_POSITION_Y</th>\n      <th>MIN_ANGLE</th>\n      <th>MAX_ANGLE</th>\n      <th>DURATION</th>\n      <th>SIGN</th>\n    </tr>\n  </thead>\n  <tbody>\n    <tr>\n      <th>0</th>\n      <td>0</td>\n      <td>0</td>\n      <td>12</td>\n      <td>29</td>\n      <td>0</td>\n      <td>27</td>\n      <td>2</td>\n      <td>-134.333800</td>\n      <td>-147.855634</td>\n      <td>12</td>\n      <td>1.0</td>\n    </tr>\n    <tr>\n      <th>1</th>\n      <td>1</td>\n      <td>0</td>\n      <td>32</td>\n      <td>70</td>\n      <td>335</td>\n      <td>65</td>\n      <td>332</td>\n      <td>-177.510447</td>\n      <td>114.897665</td>\n      <td>32</td>\n      <td>-1.0</td>\n    </tr>\n    <tr>\n      <th>2</th>\n      <td>2</td>\n      <td>0</td>\n      <td>10</td>\n      <td>50</td>\n      <td>335</td>\n      <td>52</td>\n      <td>335</td>\n      <td>-177.666354</td>\n      <td>117.135140</td>\n      <td>10</td>\n      <td>-1.0</td>\n    </tr>\n    <tr>\n      <th>3</th>\n      <td>3</td>\n      <td>0</td>\n      <td>5</td>\n      <td>355</td>\n      <td>334</td>\n      <td>352</td>\n      <td>334</td>\n      <td>-135.000000</td>\n      <td>53.476878</td>\n      <td>5</td>\n      <td>-1.0</td>\n    </tr>\n    <tr>\n      <th>4</th>\n      <td>4</td>\n      <td>0</td>\n      <td>19</td>\n      <td>60</td>\n      <td>334</td>\n      <td>57</td>\n      <td>333</td>\n      <td>-177.405849</td>\n      <td>116.372137</td>\n      <td>19</td>\n      <td>-1.0</td>\n    </tr>\n  </tbody>\n</table>\n</div>"
     },
     "execution_count": 79,
     "metadata": {},
     "output_type": "execute_result"
    }
   ],
   "source": [
    "result_df.head()\n"
   ],
   "metadata": {
    "collapsed": false,
    "ExecuteTime": {
     "end_time": "2024-06-24T16:01:07.988095Z",
     "start_time": "2024-06-24T16:01:07.967582Z"
    }
   },
   "id": "24283fc07984738d",
   "execution_count": 79
  },
  {
   "cell_type": "code",
   "outputs": [
    {
     "name": "stdout",
     "output_type": "stream",
     "text": [
      "90221 1405\n"
     ]
    }
   ],
   "source": [
    "s = result_df['SIGN'].values\n",
    "print(np.sum(s>0), np.sum(s<0))\n"
   ],
   "metadata": {
    "collapsed": false,
    "ExecuteTime": {
     "end_time": "2024-06-24T16:03:08.916678Z",
     "start_time": "2024-06-24T16:03:08.903420Z"
    }
   },
   "id": "37a27f53445ff7f8",
   "execution_count": 86
  },
  {
   "cell_type": "code",
   "outputs": [
    {
     "name": "stderr",
     "output_type": "stream",
     "text": [
      "C:\\Users\\amityu\\AppData\\Local\\anaconda3\\lib\\site-packages\\seaborn\\_oldcore.py:1498: FutureWarning: is_categorical_dtype is deprecated and will be removed in a future version. Use isinstance(dtype, CategoricalDtype) instead\n",
      "  if pd.api.types.is_categorical_dtype(vector):\n",
      "C:\\Users\\amityu\\AppData\\Local\\anaconda3\\lib\\site-packages\\seaborn\\_oldcore.py:1119: FutureWarning: use_inf_as_na option is deprecated and will be removed in a future version. Convert inf values to NaN before operating instead.\n",
      "  with pd.option_context('mode.use_inf_as_na', True):\n"
     ]
    },
    {
     "data": {
      "text/plain": "<Axes: xlabel='DURATION', ylabel='Count'>"
     },
     "execution_count": 55,
     "metadata": {},
     "output_type": "execute_result"
    },
    {
     "data": {
      "text/plain": "<Figure size 640x480 with 1 Axes>",
      "image/png": "[encoded data removed]"
     },
     "metadata": {},
     "output_type": "display_data"
    }
   ],
   "source": [
    "sns.histplot(data=result_df[result_df['DURATION']>20], x = 'DURATION', bins=np.linspace(0,80,50))"
   ],
   "metadata": {
    "collapsed": false,
    "ExecuteTime": {
     "end_time": "2024-06-24T15:17:49.989230Z",
     "start_time": "2024-06-24T15:17:49.771976Z"
    }
   },
   "id": "f1511e908245e88c",
   "execution_count": 55
  },
  {
   "cell_type": "code",
   "outputs": [
    {
     "ename": "AttributeError",
     "evalue": "'Series' object has no attribute 'valuess'",
     "output_type": "error",
     "traceback": [
      "\u001B[1;31m---------------------------------------------------------------------------\u001B[0m",
      "\u001B[1;31mAttributeError\u001B[0m                            Traceback (most recent call last)",
      "\u001B[1;32m~\\AppData\\Local\\Temp\\ipykernel_8212\\4050778016.py\u001B[0m in \u001B[0;36m?\u001B[1;34m()\u001B[0m\n\u001B[1;32m----> 1\u001B[1;33m \u001B[0mx\u001B[0m \u001B[1;33m=\u001B[0m \u001B[0mresult_df\u001B[0m\u001B[1;33m[\u001B[0m\u001B[1;34m'DURATION'\u001B[0m\u001B[1;33m]\u001B[0m\u001B[1;33m.\u001B[0m\u001B[0mvaluess\u001B[0m\u001B[1;33m\u001B[0m\u001B[1;33m\u001B[0m\u001B[0m\n\u001B[0m",
      "\u001B[1;32m~\\AppData\\Local\\anaconda3\\lib\\site-packages\\pandas\\core\\generic.py\u001B[0m in \u001B[0;36m?\u001B[1;34m(self, name)\u001B[0m\n\u001B[0;32m   6200\u001B[0m             \u001B[1;32mand\u001B[0m \u001B[0mname\u001B[0m \u001B[1;32mnot\u001B[0m \u001B[1;32min\u001B[0m \u001B[0mself\u001B[0m\u001B[1;33m.\u001B[0m\u001B[0m_accessors\u001B[0m\u001B[1;33m\u001B[0m\u001B[1;33m\u001B[0m\u001B[0m\n\u001B[0;32m   6201\u001B[0m             \u001B[1;32mand\u001B[0m \u001B[0mself\u001B[0m\u001B[1;33m.\u001B[0m\u001B[0m_info_axis\u001B[0m\u001B[1;33m.\u001B[0m\u001B[0m_can_hold_identifiers_and_holds_name\u001B[0m\u001B[1;33m(\u001B[0m\u001B[0mname\u001B[0m\u001B[1;33m)\u001B[0m\u001B[1;33m\u001B[0m\u001B[1;33m\u001B[0m\u001B[0m\n\u001B[0;32m   6202\u001B[0m         ):\n\u001B[0;32m   6203\u001B[0m             \u001B[1;32mreturn\u001B[0m \u001B[0mself\u001B[0m\u001B[1;33m[\u001B[0m\u001B[0mname\u001B[0m\u001B[1;33m]\u001B[0m\u001B[1;33m\u001B[0m\u001B[1;33m\u001B[0m\u001B[0m\n\u001B[1;32m-> 6204\u001B[1;33m         \u001B[1;32mreturn\u001B[0m \u001B[0mobject\u001B[0m\u001B[1;33m.\u001B[0m\u001B[0m__getattribute__\u001B[0m\u001B[1;33m(\u001B[0m\u001B[0mself\u001B[0m\u001B[1;33m,\u001B[0m \u001B[0mname\u001B[0m\u001B[1;33m)\u001B[0m\u001B[1;33m\u001B[0m\u001B[1;33m\u001B[0m\u001B[0m\n\u001B[0m",
      "\u001B[1;31mAttributeError\u001B[0m: 'Series' object has no attribute 'valuess'"
     ]
    }
   ],
   "source": [
    "x = result_df['DURATION'].valuess"
   ],
   "metadata": {
    "collapsed": false,
    "ExecuteTime": {
     "end_time": "2024-06-24T15:14:07.702620Z",
     "start_time": "2024-06-24T15:14:07.674975Z"
    }
   },
   "id": "5af88c05f68da512",
   "execution_count": 52
  }
 ],
 "metadata": {
  "kernelspec": {
   "display_name": "Python 3",
   "language": "python",
   "name": "python3"
  },
  "language_info": {
   "codemirror_mode": {
    "name": "ipython",
    "version": 2
   },
   "file_extension": ".py",
   "mimetype": "text/x-python",
   "name": "python",
   "nbconvert_exporter": "python",
   "pygments_lexer": "ipython2",
   "version": "2.7.6"
  }
 },
 "nbformat": 4,
 "nbformat_minor": 5
}
