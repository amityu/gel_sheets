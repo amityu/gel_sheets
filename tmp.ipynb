{
 "cells": [
  {
   "cell_type": "code",
   "execution_count": 3,
   "metadata": {
    "collapsed": true
   },
   "outputs": [],
   "source": [
    "import movie_structure\n",
    "import preprocessing\n",
    "import numpy as np\n",
    "import pims\n",
    "DATA_PATH = 'C:/Users/amityu/Gel_Sheet_Data/'\n",
    "MOVIE_PATH = DATA_PATH +'Control 050721/'\n",
    "GRAPH_PATH = 'C:Users/amityu/Gel_Sheet_Graph/'"
   ]
  },
  {
   "cell_type": "code",
   "execution_count": 6,
   "outputs": [],
   "source": [
    "images = pims.open(MOVIE_PATH + 'T2.tif')\n",
    "gel = np.copy(images)\n"
   ],
   "metadata": {
    "collapsed": false
   }
  },
  {
   "cell_type": "code",
   "execution_count": 9,
   "outputs": [],
   "source": [
    "import gdal\n",
    "import numpy as np\n",
    "ds = gdal.Open(MOVIE_PATH + 'T2.tif')\n",
    "channel = np.array(ds.GetRasterBand(1).ReadAsArray())"
   ],
   "metadata": {
    "collapsed": false
   }
  },
  {
   "cell_type": "code",
   "execution_count": 6,
   "outputs": [],
   "source": [
    "import tifffile\n",
    "gel2 = tifffile.imread(MOVIE_PATH + 't2.tif')\n",
    "gel2= gel2.reshape((95,186,512,512))\n",
    "# np.save(MOVIE_PATH +'gel2.npy',gel2)"
   ],
   "metadata": {
    "collapsed": false
   }
  },
  {
   "cell_type": "code",
   "execution_count": 0,
   "outputs": [],
   "source": [
    "g = gel2.astype('uint32')"
   ],
   "metadata": {
    "collapsed": false
   }
  },
  {
   "cell_type": "code",
   "execution_count": 8,
   "outputs": [],
   "source": [
    "np.save(MOVIE_PATH +'tmp/gel_uint32', g)"
   ],
   "metadata": {
    "collapsed": false
   }
  }
 ],
 "metadata": {
  "kernelspec": {
   "display_name": "Python 3",
   "language": "python",
   "name": "python3"
  },
  "language_info": {
   "codemirror_mode": {
    "name": "ipython",
    "version": 2
   },
   "file_extension": ".py",
   "mimetype": "text/x-python",
   "name": "python",
   "nbconvert_exporter": "python",
   "pygments_lexer": "ipython2",
   "version": "2.7.6"
  }
 },
 "nbformat": 4,
 "nbformat_minor": 0
}
