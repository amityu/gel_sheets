{
 "cells": [
  {
   "cell_type": "code",
   "execution_count": 1,
   "metadata": {
    "collapsed": true
   },
   "outputs": [],
   "source": [
    "import movie_structure\n",
    "import preprocessing\n",
    "import numpy as np\n",
    "DATA_PATH = 'C:/Users/amityu/Gel_Sheet_Data/'\n",
    "MOVIE_PATH = DATA_PATH +'new/'\n",
    "GRAPH_PATH = 'C:Users/amityu/Gel_Sheet_Graph/'"
   ]
  },
  {
   "cell_type": "code",
   "execution_count": 3,
   "outputs": [
    {
     "name": "stderr",
     "output_type": "stream",
     "text": [
      "C:\\Users\\amityu\\AppData\\Local\\anaconda3\\lib\\site-packages\\pims\\api.py:204: UserWarning: <class 'pims.bioformats.BioformatsReader'> errored: 'NoneType' object has no attribute 'isJVMStarted'\n",
      "  warn(message)\n"
     ]
    },
    {
     "ename": "UnknownFormatError",
     "evalue": "All handlers returned exceptions:\n<class 'pims.bioformats.BioformatsReader'> errored: 'NoneType' object has no attribute 'isJVMStarted'\n",
     "output_type": "error",
     "traceback": [
      "\u001B[1;31m---------------------------------------------------------------------------\u001B[0m",
      "\u001B[1;31mUnknownFormatError\u001B[0m                        Traceback (most recent call last)",
      "Cell \u001B[1;32mIn[3], line 2\u001B[0m\n\u001B[0;32m      1\u001B[0m \u001B[38;5;28;01mimport\u001B[39;00m \u001B[38;5;21;01mpims\u001B[39;00m\n\u001B[1;32m----> 2\u001B[0m image \u001B[38;5;241m=\u001B[39m \u001B[43mpims\u001B[49m\u001B[38;5;241;43m.\u001B[39;49m\u001B[43mopen\u001B[49m\u001B[43m(\u001B[49m\u001B[43mMOVIE_PATH\u001B[49m\u001B[43m \u001B[49m\u001B[38;5;241;43m+\u001B[39;49m\u001B[43m \u001B[49m\u001B[38;5;124;43m'\u001B[39;49m\u001B[38;5;124;43mYuval/T0_C1_cmle.ics\u001B[39;49m\u001B[38;5;124;43m'\u001B[39;49m\u001B[43m)\u001B[49m\n",
      "File \u001B[1;32m~\\AppData\\Local\\anaconda3\\lib\\site-packages\\pims\\api.py:206\u001B[0m, in \u001B[0;36mopen\u001B[1;34m(sequence, **kwargs)\u001B[0m\n\u001B[0;32m    204\u001B[0m         warn(message)\n\u001B[0;32m    205\u001B[0m         exceptions \u001B[38;5;241m+\u001B[39m\u001B[38;5;241m=\u001B[39m message \u001B[38;5;241m+\u001B[39m \u001B[38;5;124m'\u001B[39m\u001B[38;5;130;01m\\n\u001B[39;00m\u001B[38;5;124m'\u001B[39m\n\u001B[1;32m--> 206\u001B[0m \u001B[38;5;28;01mraise\u001B[39;00m UnknownFormatError(\u001B[38;5;124m\"\u001B[39m\u001B[38;5;124mAll handlers returned exceptions:\u001B[39m\u001B[38;5;130;01m\\n\u001B[39;00m\u001B[38;5;124m\"\u001B[39m \u001B[38;5;241m+\u001B[39m exceptions)\n",
      "\u001B[1;31mUnknownFormatError\u001B[0m: All handlers returned exceptions:\n<class 'pims.bioformats.BioformatsReader'> errored: 'NoneType' object has no attribute 'isJVMStarted'\n"
     ]
    }
   ],
   "source": [
    "import pims\n",
    "image = pims.open(MOVIE_PATH + 'Yuval/T0_C1_cmle.ics')\n",
    "#gel = np.copy(images)\n"
   ],
   "metadata": {
    "collapsed": false
   }
  },
  {
   "cell_type": "code",
   "execution_count": 54,
   "outputs": [
    {
     "ename": "ModuleNotFoundError",
     "evalue": "No module named 'javabridge'",
     "output_type": "error",
     "traceback": [
      "\u001B[1;31m---------------------------------------------------------------------------\u001B[0m",
      "\u001B[1;31mModuleNotFoundError\u001B[0m                       Traceback (most recent call last)",
      "Cell \u001B[1;32mIn[54], line 1\u001B[0m\n\u001B[1;32m----> 1\u001B[0m \u001B[38;5;28;01mimport\u001B[39;00m \u001B[38;5;21;01mjavabridge\u001B[39;00m\n\u001B[0;32m      2\u001B[0m javabridge\u001B[38;5;241m.\u001B[39mstart_vm(class_path\u001B[38;5;241m=\u001B[39mbf\u001B[38;5;241m.\u001B[39mJARS)\n",
      "\u001B[1;31mModuleNotFoundError\u001B[0m: No module named 'javabridge'"
     ]
    }
   ],
   "source": [
    "import javabridge\n",
    "javabridge.start_vm(class_path=bf.JARS)\n"
   ],
   "metadata": {
    "collapsed": false
   }
  },
  {
   "cell_type": "code",
   "execution_count": 35,
   "outputs": [
    {
     "name": "stderr",
     "output_type": "stream",
     "text": [
      "C:\\Users\\amityu\\AppData\\Local\\Temp\\ipykernel_17940\\540070332.py:2: DeprecationWarning: Starting with ImageIO v3 the behavior of this function will switch to that of iio.v3.imread. To keep the current behavior (and make this warning disappear) use `import imageio.v2 as imageio` or call `imageio.v2.imread` directly.\n",
      "  image = imageio.imread(MOVIE_PATH + 'ids/T56_C1_cmle.ids')\n"
     ]
    },
    {
     "ename": "ValueError",
     "evalue": "Could not find a backend to open `C:/Users/amityu/Gel_Sheet_Data/new/ids/T56_C1_cmle.ids`` with iomode `ri`.",
     "output_type": "error",
     "traceback": [
      "\u001B[1;31m---------------------------------------------------------------------------\u001B[0m",
      "\u001B[1;31mValueError\u001B[0m                                Traceback (most recent call last)",
      "Cell \u001B[1;32mIn[35], line 2\u001B[0m\n\u001B[0;32m      1\u001B[0m \u001B[38;5;28;01mimport\u001B[39;00m \u001B[38;5;21;01mimageio\u001B[39;00m\n\u001B[1;32m----> 2\u001B[0m image \u001B[38;5;241m=\u001B[39m \u001B[43mimageio\u001B[49m\u001B[38;5;241;43m.\u001B[39;49m\u001B[43mimread\u001B[49m\u001B[43m(\u001B[49m\u001B[43mMOVIE_PATH\u001B[49m\u001B[43m \u001B[49m\u001B[38;5;241;43m+\u001B[39;49m\u001B[43m \u001B[49m\u001B[38;5;124;43m'\u001B[39;49m\u001B[38;5;124;43mids/T56_C1_cmle.ids\u001B[39;49m\u001B[38;5;124;43m'\u001B[39;49m\u001B[43m)\u001B[49m\n",
      "File \u001B[1;32m~\\AppData\\Local\\anaconda3\\lib\\site-packages\\imageio\\__init__.py:97\u001B[0m, in \u001B[0;36mimread\u001B[1;34m(uri, format, **kwargs)\u001B[0m\n\u001B[0;32m     68\u001B[0m \u001B[38;5;124;03m\"\"\"imread(uri, format=None, **kwargs)\u001B[39;00m\n\u001B[0;32m     69\u001B[0m \n\u001B[0;32m     70\u001B[0m \u001B[38;5;124;03mReads an image from the specified file. Returns a numpy array, which\u001B[39;00m\n\u001B[1;32m   (...)\u001B[0m\n\u001B[0;32m     86\u001B[0m \u001B[38;5;124;03m    to see what arguments are available for a particular format.\u001B[39;00m\n\u001B[0;32m     87\u001B[0m \u001B[38;5;124;03m\"\"\"\u001B[39;00m\n\u001B[0;32m     89\u001B[0m warnings\u001B[38;5;241m.\u001B[39mwarn(\n\u001B[0;32m     90\u001B[0m     \u001B[38;5;124m\"\u001B[39m\u001B[38;5;124mStarting with ImageIO v3 the behavior of this function will switch to that of\u001B[39m\u001B[38;5;124m\"\u001B[39m\n\u001B[0;32m     91\u001B[0m     \u001B[38;5;124m\"\u001B[39m\u001B[38;5;124m iio.v3.imread. To keep the current behavior (and make this warning disappear)\u001B[39m\u001B[38;5;124m\"\u001B[39m\n\u001B[1;32m   (...)\u001B[0m\n\u001B[0;32m     94\u001B[0m     stacklevel\u001B[38;5;241m=\u001B[39m\u001B[38;5;241m2\u001B[39m,\n\u001B[0;32m     95\u001B[0m )\n\u001B[1;32m---> 97\u001B[0m \u001B[38;5;28;01mreturn\u001B[39;00m imread_v2(uri, \u001B[38;5;28mformat\u001B[39m\u001B[38;5;241m=\u001B[39m\u001B[38;5;28mformat\u001B[39m, \u001B[38;5;241m*\u001B[39m\u001B[38;5;241m*\u001B[39mkwargs)\n",
      "File \u001B[1;32m~\\AppData\\Local\\anaconda3\\lib\\site-packages\\imageio\\v2.py:226\u001B[0m, in \u001B[0;36mimread\u001B[1;34m(uri, format, **kwargs)\u001B[0m\n\u001B[0;32m    223\u001B[0m imopen_args \u001B[38;5;241m=\u001B[39m decypher_format_arg(\u001B[38;5;28mformat\u001B[39m)\n\u001B[0;32m    224\u001B[0m imopen_args[\u001B[38;5;124m\"\u001B[39m\u001B[38;5;124mlegacy_mode\u001B[39m\u001B[38;5;124m\"\u001B[39m] \u001B[38;5;241m=\u001B[39m \u001B[38;5;28;01mTrue\u001B[39;00m\n\u001B[1;32m--> 226\u001B[0m \u001B[38;5;28;01mwith\u001B[39;00m imopen(uri, \u001B[38;5;124m\"\u001B[39m\u001B[38;5;124mri\u001B[39m\u001B[38;5;124m\"\u001B[39m, \u001B[38;5;241m*\u001B[39m\u001B[38;5;241m*\u001B[39mimopen_args) \u001B[38;5;28;01mas\u001B[39;00m file:\n\u001B[0;32m    227\u001B[0m     result \u001B[38;5;241m=\u001B[39m file\u001B[38;5;241m.\u001B[39mread(index\u001B[38;5;241m=\u001B[39m\u001B[38;5;241m0\u001B[39m, \u001B[38;5;241m*\u001B[39m\u001B[38;5;241m*\u001B[39mkwargs)\n\u001B[0;32m    229\u001B[0m \u001B[38;5;28;01mreturn\u001B[39;00m result\n",
      "File \u001B[1;32m~\\AppData\\Local\\anaconda3\\lib\\site-packages\\imageio\\core\\imopen.py:298\u001B[0m, in \u001B[0;36mimopen\u001B[1;34m(uri, io_mode, plugin, extension, format_hint, legacy_mode, **kwargs)\u001B[0m\n\u001B[0;32m    292\u001B[0m         err_msg \u001B[38;5;241m+\u001B[39m\u001B[38;5;241m=\u001B[39m (\n\u001B[0;32m    293\u001B[0m             \u001B[38;5;124m\"\u001B[39m\u001B[38;5;130;01m\\n\u001B[39;00m\u001B[38;5;124mBased on the extension, the following plugins might add capable backends:\u001B[39m\u001B[38;5;130;01m\\n\u001B[39;00m\u001B[38;5;124m\"\u001B[39m\n\u001B[0;32m    294\u001B[0m             \u001B[38;5;124mf\u001B[39m\u001B[38;5;124m\"\u001B[39m\u001B[38;5;132;01m{\u001B[39;00minstall_candidates\u001B[38;5;132;01m}\u001B[39;00m\u001B[38;5;124m\"\u001B[39m\n\u001B[0;32m    295\u001B[0m         )\n\u001B[0;32m    297\u001B[0m request\u001B[38;5;241m.\u001B[39mfinish()\n\u001B[1;32m--> 298\u001B[0m \u001B[38;5;28;01mraise\u001B[39;00m err_type(err_msg)\n",
      "\u001B[1;31mValueError\u001B[0m: Could not find a backend to open `C:/Users/amityu/Gel_Sheet_Data/new/ids/T56_C1_cmle.ids`` with iomode `ri`."
     ]
    }
   ],
   "source": [
    "import imageio\n",
    "image = imageio.imread(MOVIE_PATH + 'ids/T56_C1_cmle.ids')\n",
    "\n"
   ],
   "metadata": {
    "collapsed": false
   }
  },
  {
   "cell_type": "code",
   "execution_count": 14,
   "outputs": [],
   "source": [
    "import pims"
   ],
   "metadata": {
    "collapsed": false
   }
  },
  {
   "cell_type": "code",
   "execution_count": 47,
   "outputs": [],
   "source": [
    "import tifffile\n",
    "gel2 = tifffile.imread(MOVIE_PATH + '/raw_data/Yuval.tif')\n",
    "gel2= gel2.reshape((148,160,512,512))\n"
   ],
   "metadata": {
    "collapsed": false
   }
  },
  {
   "cell_type": "code",
   "execution_count": 48,
   "outputs": [],
   "source": [
    "np.save(MOVIE_PATH +'tmp/gel.npy', gel2)"
   ],
   "metadata": {
    "collapsed": false
   }
  },
  {
   "cell_type": "code",
   "execution_count": null,
   "outputs": [],
   "source": [
    "import matplotlib.pyplot as plt\n",
    "mean = np.mean(gel2, axis = (1,2,3))"
   ],
   "metadata": {
    "collapsed": false
   }
  },
  {
   "cell_type": "code",
   "execution_count": 43,
   "outputs": [],
   "source": [
    "mean_list = []\n",
    "for t  in range(len(gel2)):\n",
    "    frame_mean = np.mean(gel2[t])\n",
    "    if frame_mean < 20:\n",
    "        mean_list.append(np.mean(gel2[t]))\n",
    "mean = np.array(mean_list)"
   ],
   "metadata": {
    "collapsed": false
   }
  },
  {
   "cell_type": "code",
   "execution_count": 44,
   "outputs": [
    {
     "data": {
      "text/plain": "<Figure size 640x480 with 1 Axes>",
      "image/png": "[encoded data removed]"
     },
     "metadata": {},
     "output_type": "display_data"
    }
   ],
   "source": [
    "plt.scatter(range(len(mean)),mean)\n",
    "plt.show()"
   ],
   "metadata": {
    "collapsed": false
   }
  },
  {
   "cell_type": "code",
   "execution_count": 0,
   "outputs": [],
   "source": [
    "g = gel2.astype('uint32')"
   ],
   "metadata": {
    "collapsed": false
   }
  },
  {
   "cell_type": "code",
   "execution_count": 45,
   "outputs": [
    {
     "data": {
      "text/plain": "88"
     },
     "execution_count": 45,
     "metadata": {},
     "output_type": "execute_result"
    }
   ],
   "source": [
    "len(mean)"
   ],
   "metadata": {
    "collapsed": false
   }
  },
  {
   "cell_type": "code",
   "execution_count": 8,
   "outputs": [],
   "source": [
    "np.save(MOVIE_PATH +'tmp/gel_uint32', g)"
   ],
   "metadata": {
    "collapsed": false
   }
  },
  {
   "cell_type": "code",
   "execution_count": 1,
   "outputs": [
    {
     "name": "stdout",
     "output_type": "stream",
     "text": [
      "Cell Type: code, Cell Size: 20 bytes\n",
      "Cell Type: code, Cell Size: 20 bytes\n",
      "Cell Type: code, Cell Size: 20 bytes\n",
      "Cell Type: code, Cell Size: 20 bytes\n",
      "Cell Type: code, Cell Size: 20 bytes\n",
      "Cell Type: code, Cell Size: 20 bytes\n",
      "Cell Type: code, Cell Size: 20 bytes\n",
      "Cell Type: code, Cell Size: 20 bytes\n",
      "Cell Type: code, Cell Size: 20 bytes\n",
      "Cell Type: code, Cell Size: 20 bytes\n",
      "Cell Type: code, Cell Size: 20 bytes\n",
      "Cell Type: code, Cell Size: 20 bytes\n",
      "Cell Type: code, Cell Size: 20 bytes\n",
      "Cell Type: code, Cell Size: 20 bytes\n",
      "Cell Type: code, Cell Size: 20 bytes\n",
      "Cell Type: code, Cell Size: 20 bytes\n",
      "Cell Type: code, Cell Size: 20 bytes\n",
      "Cell Type: code, Cell Size: 20 bytes\n",
      "Cell Type: code, Cell Size: 20 bytes\n",
      "Cell Type: code, Cell Size: 20 bytes\n",
      "Cell Type: code, Cell Size: 20 bytes\n",
      "Cell Type: code, Cell Size: 20 bytes\n",
      "Cell Type: code, Cell Size: 20 bytes\n",
      "Cell Type: code, Cell Size: 20 bytes\n",
      "Cell Type: code, Cell Size: 20 bytes\n",
      "Cell Type: code, Cell Size: 20 bytes\n",
      "Cell Type: code, Cell Size: 20 bytes\n",
      "Cell Type: code, Cell Size: 20 bytes\n",
      "Cell Type: code, Cell Size: 20 bytes\n",
      "Cell Type: code, Cell Size: 20 bytes\n",
      "Cell Type: code, Cell Size: 20 bytes\n",
      "Cell Type: code, Cell Size: 20 bytes\n",
      "Cell Type: code, Cell Size: 20 bytes\n",
      "Cell Type: code, Cell Size: 20 bytes\n",
      "Cell Type: code, Cell Size: 20 bytes\n",
      "Cell Type: code, Cell Size: 20 bytes\n",
      "Cell Type: code, Cell Size: 20 bytes\n",
      "Cell Type: code, Cell Size: 20 bytes\n",
      "Cell Type: code, Cell Size: 20 bytes\n",
      "Cell Type: code, Cell Size: 20 bytes\n",
      "Cell Type: code, Cell Size: 20 bytes\n",
      "Cell Type: code, Cell Size: 20 bytes\n",
      "Cell Type: code, Cell Size: 20 bytes\n",
      "Cell Type: code, Cell Size: 20 bytes\n",
      "Cell Type: code, Cell Size: 20 bytes\n",
      "Cell Type: code, Cell Size: 20 bytes\n",
      "Cell Type: code, Cell Size: 20 bytes\n",
      "Cell Type: code, Cell Size: 20 bytes\n",
      "Cell Type: code, Cell Size: 20 bytes\n",
      "Cell Type: code, Cell Size: 20 bytes\n",
      "Cell Type: code, Cell Size: 20 bytes\n",
      "Cell Type: code, Cell Size: 20 bytes\n",
      "Cell Type: code, Cell Size: 20 bytes\n",
      "Cell Type: code, Cell Size: 20 bytes\n",
      "Cell Type: code, Cell Size: 20 bytes\n",
      "Cell Type: code, Cell Size: 20 bytes\n",
      "Cell Type: markdown, Cell Size: 20 bytes\n",
      "Cell Type: code, Cell Size: 20 bytes\n",
      "Cell Type: code, Cell Size: 20 bytes\n",
      "Cell Type: code, Cell Size: 20 bytes\n",
      "Cell Type: code, Cell Size: 20 bytes\n",
      "Cell Type: code, Cell Size: 20 bytes\n",
      "Cell Type: code, Cell Size: 20 bytes\n",
      "Cell Type: code, Cell Size: 20 bytes\n",
      "Cell Type: code, Cell Size: 20 bytes\n",
      "Cell Type: code, Cell Size: 20 bytes\n",
      "Cell Type: code, Cell Size: 20 bytes\n",
      "Cell Type: code, Cell Size: 20 bytes\n",
      "Cell Type: markdown, Cell Size: 20 bytes\n",
      "Cell Type: code, Cell Size: 20 bytes\n",
      "Cell Type: code, Cell Size: 20 bytes\n",
      "Cell Type: code, Cell Size: 20 bytes\n",
      "Cell Type: code, Cell Size: 20 bytes\n",
      "Cell Type: code, Cell Size: 20 bytes\n",
      "Cell Type: code, Cell Size: 20 bytes\n",
      "Cell Type: code, Cell Size: 20 bytes\n",
      "Cell Type: code, Cell Size: 20 bytes\n",
      "Cell Type: code, Cell Size: 20 bytes\n",
      "Cell Type: code, Cell Size: 20 bytes\n",
      "Cell Type: code, Cell Size: 20 bytes\n",
      "Cell Type: code, Cell Size: 20 bytes\n",
      "Cell Type: code, Cell Size: 20 bytes\n",
      "Cell Type: code, Cell Size: 20 bytes\n",
      "Cell Type: code, Cell Size: 20 bytes\n",
      "Cell Type: code, Cell Size: 20 bytes\n",
      "Cell Type: code, Cell Size: 20 bytes\n",
      "Cell Type: code, Cell Size: 20 bytes\n",
      "Cell Type: code, Cell Size: 20 bytes\n",
      "Cell Type: code, Cell Size: 20 bytes\n",
      "Cell Type: code, Cell Size: 20 bytes\n",
      "Cell Type: code, Cell Size: 20 bytes\n",
      "Cell Type: code, Cell Size: 20 bytes\n",
      "Cell Type: code, Cell Size: 20 bytes\n",
      "Cell Type: code, Cell Size: 20 bytes\n",
      "Cell Type: code, Cell Size: 20 bytes\n",
      "Cell Type: code, Cell Size: 20 bytes\n",
      "Cell Type: code, Cell Size: 20 bytes\n",
      "Cell Type: code, Cell Size: 20 bytes\n",
      "Cell Type: code, Cell Size: 20 bytes\n",
      "Cell Type: code, Cell Size: 20 bytes\n",
      "Cell Type: code, Cell Size: 20 bytes\n",
      "Cell Type: code, Cell Size: 20 bytes\n",
      "Cell Type: code, Cell Size: 20 bytes\n",
      "Cell Type: code, Cell Size: 20 bytes\n",
      "Cell Type: code, Cell Size: 20 bytes\n",
      "Cell Type: markdown, Cell Size: 20 bytes\n",
      "Cell Type: code, Cell Size: 20 bytes\n",
      "Cell Type: code, Cell Size: 20 bytes\n",
      "Cell Type: code, Cell Size: 20 bytes\n",
      "Cell Type: code, Cell Size: 20 bytes\n",
      "Cell Type: code, Cell Size: 20 bytes\n",
      "Cell Type: code, Cell Size: 20 bytes\n",
      "Cell Type: markdown, Cell Size: 20 bytes\n",
      "Cell Type: code, Cell Size: 20 bytes\n",
      "Cell Type: code, Cell Size: 20 bytes\n",
      "Cell Type: code, Cell Size: 20 bytes\n",
      "Cell Type: code, Cell Size: 20 bytes\n",
      "Cell Type: code, Cell Size: 20 bytes\n",
      "Cell Type: code, Cell Size: 20 bytes\n",
      "Cell Type: code, Cell Size: 20 bytes\n",
      "Cell Type: code, Cell Size: 20 bytes\n",
      "Cell Type: code, Cell Size: 20 bytes\n",
      "Cell Type: markdown, Cell Size: 20 bytes\n",
      "Cell Type: code, Cell Size: 20 bytes\n",
      "Cell Type: code, Cell Size: 20 bytes\n",
      "Cell Type: code, Cell Size: 20 bytes\n",
      "Cell Type: code, Cell Size: 20 bytes\n",
      "Cell Type: code, Cell Size: 20 bytes\n",
      "Cell Type: code, Cell Size: 20 bytes\n",
      "Cell Type: code, Cell Size: 20 bytes\n",
      "Cell Type: code, Cell Size: 20 bytes\n",
      "Cell Type: code, Cell Size: 20 bytes\n"
     ]
    }
   ],
   "source": [
    "import json\n",
    "import os\n",
    "\n",
    "def get_cell_sizes(nb_file):\n",
    "    with open(nb_file, \"r\", encoding=\"utf-8\") as f:\n",
    "        nb = json.load(f)\n",
    "\n",
    "    for cell in nb[\"cells\"]:\n",
    "        cell_size = len(json.dumps(cell[\"metadata\"]))\n",
    "        print(f\"Cell Type: {cell['cell_type']}, Cell Size: {cell_size} bytes\")\n",
    "\n",
    "# Example usage\n",
    "notebook_file = \"exploration.ipynb\"\n",
    "get_cell_sizes(notebook_file)\n"
   ],
   "metadata": {
    "collapsed": false
   }
  }
 ],
 "metadata": {
  "kernelspec": {
   "display_name": "Python 3",
   "language": "python",
   "name": "python3"
  },
  "language_info": {
   "codemirror_mode": {
    "name": "ipython",
    "version": 2
   },
   "file_extension": ".py",
   "mimetype": "text/x-python",
   "name": "python",
   "nbconvert_exporter": "python",
   "pygments_lexer": "ipython2",
   "version": "2.7.6"
  }
 },
 "nbformat": 4,
 "nbformat_minor": 0
}
