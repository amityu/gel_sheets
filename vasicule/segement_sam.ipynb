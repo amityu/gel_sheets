{
 "cells": [
  {
   "cell_type": "code",
   "execution_count": 5,
   "id": "initial_id",
   "metadata": {
    "collapsed": true,
    "ExecuteTime": {
     "end_time": "2024-07-04T13:06:03.476738Z",
     "start_time": "2024-07-04T13:06:03.473699Z"
    }
   },
   "outputs": [],
   "source": [
    "import micro_sam\n",
    "import tifffile\n",
    "from micro_sam.bioimageio import predictor_adaptor as predictor"
   ]
  },
  {
   "cell_type": "code",
   "outputs": [],
   "source": [
    "img = tifffile.imread(r'C:\\Users\\amityu\\Downloads\\1-1frame5.tif')"
   ],
   "metadata": {
    "collapsed": false,
    "ExecuteTime": {
     "end_time": "2024-07-04T13:06:04.607257Z",
     "start_time": "2024-07-04T13:06:04.602801Z"
    }
   },
   "id": "2597a53b1b818a2f",
   "execution_count": 6
  },
  {
   "cell_type": "code",
   "outputs": [
    {
     "ename": "AttributeError",
     "evalue": "module 'micro_sam.inference' has no attribute 'batch_inference'",
     "output_type": "error",
     "traceback": [
      "\u001B[1;31m---------------------------------------------------------------------------\u001B[0m",
      "\u001B[1;31mAttributeError\u001B[0m                            Traceback (most recent call last)",
      "Cell \u001B[1;32mIn[7], line 1\u001B[0m\n\u001B[1;32m----> 1\u001B[0m mask \u001B[38;5;241m=\u001B[39m \u001B[43mmicro_sam\u001B[49m\u001B[38;5;241;43m.\u001B[39;49m\u001B[43minference\u001B[49m\u001B[38;5;241;43m.\u001B[39;49m\u001B[43mbatch_inference\u001B[49m(\u001B[38;5;124m'\u001B[39m\u001B[38;5;124mvit_b\u001B[39m\u001B[38;5;124m'\u001B[39m)\n",
      "\u001B[1;31mAttributeError\u001B[0m: module 'micro_sam.inference' has no attribute 'batch_inference'"
     ]
    }
   ],
   "source": [
    "mask = micro_sam.inference.batch_inference('vit_b')"
   ],
   "metadata": {
    "collapsed": false,
    "ExecuteTime": {
     "end_time": "2024-07-04T13:21:56.279409Z",
     "start_time": "2024-07-04T13:21:56.250644Z"
    }
   },
   "id": "48aeee1d6007a769",
   "execution_count": 7
  }
 ],
 "metadata": {
  "kernelspec": {
   "display_name": "Python 3",
   "language": "python",
   "name": "python3"
  },
  "language_info": {
   "codemirror_mode": {
    "name": "ipython",
    "version": 2
   },
   "file_extension": ".py",
   "mimetype": "text/x-python",
   "name": "python",
   "nbconvert_exporter": "python",
   "pygments_lexer": "ipython2",
   "version": "2.7.6"
  }
 },
 "nbformat": 4,
 "nbformat_minor": 5
}
