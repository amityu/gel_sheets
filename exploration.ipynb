{
 "cells": [
  {
   "cell_type": "code",
   "execution_count": null,
   "outputs": [],
   "source": [
    "DATA_PATH = 'C:/Users/amityu/Gel_Sheet_Data/'\n",
    "MOVIE_PATH = DATA_PATH +'Control 050721/'\n",
    "GRAPH_PATH = 'C:Users/amityu/Gel_Sheet_Graph/'\n",
    "import numpy as np\n",
    "import matplotlib.pyplot as plt\n",
    "import matplotlib.cm as cm\n",
    "from  skimage.filters import gaussian\n",
    "from tqdm.notebook import trange, tqdm\n",
    "import pandas as pd\n",
    "import movie_structure\n",
    "from  concurrent.futures import ThreadPoolExecutor\n",
    "import preprocessing\n",
    "import autocorrelation_and_structure_factor_IK_20220103 as iac\n",
    "import importlib\n",
    "import seaborn as sns\n",
    "from skimage import filters\n",
    "#from p_tqdm import p_map\n",
    "from scipy.ndimage import median_filter\n"
   ],
   "metadata": {
    "collapsed": false
   }
  },
  {
   "cell_type": "code",
   "execution_count": null,
   "outputs": [],
   "source": [
    "importlib.reload(plotly)"
   ],
   "metadata": {
    "collapsed": false
   }
  },
  {
   "cell_type": "code",
   "execution_count": null,
   "outputs": [],
   "source": [
    "gel = np.load(MOVIE_PATH +'np/gel_norm.npy', mmap_mode='r+')\n",
    "mask = np.load(MOVIE_PATH +'np/mask.npy', mmap_mode='r+')"
   ],
   "metadata": {
    "collapsed": false
   }
  },
  {
   "cell_type": "code",
   "execution_count": null,
   "outputs": [],
   "source": [
    "flat = gel.reshape(-1)\n",
    "plt.hist(flat)\n",
    "plt.show()"
   ],
   "metadata": {
    "collapsed": false
   }
  },
  {
   "cell_type": "code",
   "execution_count": null,
   "outputs": [],
   "source": [
    "print ('gel min %f gel max %f' %(np.min(gel),np.max(gel)))\n"
   ],
   "metadata": {
    "collapsed": false
   }
  },
  {
   "cell_type": "code",
   "execution_count": null,
   "outputs": [],
   "source": [
    "\n",
    "t1 = 63\n",
    "x = gel[t1].reshape(-1)#[1:-1:20]\n",
    "t2 = 64\n",
    "y = gel[t2].reshape(-1)#[1:-1:20]\n",
    "t3 = 65\n",
    "z = gel[t1].reshape(-1)#[1:-1:20]\n",
    "t4 = 66\n",
    "w = gel[t1].reshape(-1)#[1:-1:20]\n",
    "\n",
    "hist_df = pd.concat(axis=0, ignore_index=True, objs=[\n",
    "    pd.DataFrame.from_dict({'value': x, 'Time': str(t1)}),\n",
    "    pd.DataFrame.from_dict({'value': y, 'Time': str(t2)}),\n",
    "    pd.DataFrame.from_dict({'value': z, 'Time': str(t3)}),\n",
    "    pd.DataFrame.from_dict({'value': w, 'Time': str(t4)})\n",
    "])\n",
    "fig, ax = plt.subplots()\n",
    "sns.histplot(\n",
    "    data=hist_df, x='value', hue='Time', multiple='dodge',\n",
    "     ax=ax, stat='density', bins=range(0,600,30), element='step'\n",
    ")\n",
    "ax.set_xlim([0, 600])\n",
    "ax.set_title('Time points %d, %d, %d %d Histogram '%(t1,t2,t3,t4))\n"
   ],
   "metadata": {
    "collapsed": false
   }
  },
  {
   "cell_type": "code",
   "execution_count": null,
   "outputs": [],
   "source": [
    "t = 65\n",
    "flat = gel[t].reshape(-1)[1:-1:10]\n",
    "n, bins, patches = plt.hist(flat,cumulative=False, density=True)\n",
    "plt.title('Time poind %d Histogram '%t)\n",
    "plt.show()"
   ],
   "metadata": {
    "collapsed": false
   }
  },
  {
   "cell_type": "code",
   "execution_count": null,
   "outputs": [],
   "source": [
    "min_intensity = bins[1]\n",
    "max_intensity = 10000\n",
    "\n",
    "threshold_gel = gaussian(gel[65],3)\n",
    "threshold_gel[threshold_gel<min_intensity] =0\n",
    "threshold_gel[threshold_gel>max_intensity] = 0\n",
    "threshold_gel[np.bitwise_and(threshold_gel>= min_intensity , threshold_gel<= max_intensity)] =1\n",
    "\n",
    "# np.save(DATA_PATH + 'tmp/t_gel.npy', threshold_gel)\n",
    "\n"
   ],
   "metadata": {
    "collapsed": false
   }
  },
  {
   "cell_type": "code",
   "execution_count": null,
   "outputs": [],
   "source": [
    "#import napari\n",
    "viewer = napari.Viewer()\n",
    "image = gel[:,:,:,256]\n",
    "viewer.add_image(image, name='65')\n",
    "napari.utils.nbscreenshot(viewer)"
   ],
   "metadata": {
    "collapsed": false
   }
  },
  {
   "cell_type": "code",
   "execution_count": null,
   "outputs": [],
   "source": [
    "for t in range(5,85,10):\n",
    "    viewer.add_image(gel[t,:,:,256], name = 'gel %d'%t )\n",
    "    viewer.add_image(mask[t,:,:,256], name = 'mask %d'%t )\n",
    "\n"
   ],
   "metadata": {
    "collapsed": false
   }
  },
  {
   "cell_type": "code",
   "execution_count": null,
   "outputs": [],
   "source": [
    "import matplotlib.image\n",
    "for t in range(5,86,10):\n",
    "\n",
    "\n",
    "    matplotlib.image.imsave(MOVIE_PATH + 'tmp/gel %t x =256.jpeg', gel[t,:,:,256])\n",
    "    matplotlib.image.imsave(MOVIE_PATH + 'tmp/gel %t x =256.jpeg', gel[t,:,:,256])#%%\n",
    "DATA_PATH = 'C:/Users/amityu/Gel_Sheet_Data/'\n",
    "MOVIE_PATH = DATA_PATH +'Control 050721/'\n",
    "GRAPH_PATH = 'C:Users/amityu/Gel_Sheet_Graph/'\n",
    "import numpy as np\n",
    "import matplotlib.pyplot as plt\n",
    "import matplotlib.cm as cm\n",
    "from  skimage.filters import gaussian\n",
    "from tqdm.notebook import trange, tqdm\n",
    "import pandas as pd\n",
    "import movie_structure\n",
    "from  concurrent.futures import ThreadPoolExecutor\n",
    "import preprocessing\n",
    "import autocorrelation_and_structure_factor_IK_20220103 as iac\n",
    "import importlib\n",
    "import seaborn as sns\n",
    "from skimage import filters\n",
    "#from p_tqdm import p_map\n"
   ],
   "metadata": {
    "collapsed": false
   }
  },
  {
   "cell_type": "code",
   "execution_count": null,
   "outputs": [],
   "source": [
    "gel = np.load(MOVIE_PATH +'np/gel_norm.npy', mmap_mode='r+')\n",
    "mask = np.load(MOVIE_PATH +'np/mask.npy', mmap_mode='r+')"
   ],
   "metadata": {
    "collapsed": false
   }
  },
  {
   "cell_type": "code",
   "execution_count": null,
   "outputs": [],
   "source": [
    "flat = gel.reshape(-1)\n",
    "plt.hist(flat)\n",
    "plt.show()"
   ],
   "metadata": {
    "collapsed": false
   }
  },
  {
   "cell_type": "code",
   "execution_count": null,
   "outputs": [],
   "source": [
    "print ('gel min %f gel max %f' %(np.min(gel),np.max(gel)))\n"
   ],
   "metadata": {
    "collapsed": false
   }
  },
  {
   "cell_type": "code",
   "execution_count": null,
   "outputs": [],
   "source": [
    "\n",
    "t1 = 63\n",
    "x = gel[t1].reshape(-1)#[1:-1:20]\n",
    "t2 = 64\n",
    "y = gel[t2].reshape(-1)#[1:-1:20]\n",
    "t3 = 65\n",
    "z = gel[t1].reshape(-1)#[1:-1:20]\n",
    "t4 = 66\n",
    "w = gel[t1].reshape(-1)#[1:-1:20]\n",
    "\n",
    "hist_df = pd.concat(axis=0, ignore_index=True, objs=[\n",
    "    pd.DataFrame.from_dict({'value': x, 'Time': str(t1)}),\n",
    "    pd.DataFrame.from_dict({'value': y, 'Time': str(t2)}),\n",
    "    pd.DataFrame.from_dict({'value': z, 'Time': str(t3)}),\n",
    "    pd.DataFrame.from_dict({'value': w, 'Time': str(t4)})\n",
    "])\n",
    "fig, ax = plt.subplots()\n",
    "sns.histplot(\n",
    "    data=hist_df, x='value', hue='Time', multiple='dodge',\n",
    "     ax=ax, stat='density', bins=range(0,600,30), element='step'\n",
    ")\n",
    "ax.set_xlim([0, 600])\n",
    "ax.set_title('Time points %d, %d, %d Histogram '%(t1,t2, t3))\n"
   ],
   "metadata": {
    "collapsed": false
   }
  },
  {
   "cell_type": "code",
   "execution_count": null,
   "outputs": [],
   "source": [
    "t = 65\n",
    "flat = gel[t].reshape(-1)[1:-1:10]\n",
    "n, bins, patches = plt.hist(flat,cumulative=False, density=True)\n",
    "plt.title('Time poind %d Histogram '%t)\n",
    "plt.show()"
   ],
   "metadata": {
    "collapsed": false
   }
  },
  {
   "cell_type": "code",
   "execution_count": null,
   "outputs": [],
   "source": [
    "min_intensity = bins[1]\n",
    "max_intensity = 10000\n",
    "\n",
    "threshold_gel = gaussian(gel[65],3)\n",
    "threshold_gel[threshold_gel<min_intensity] =0\n",
    "threshold_gel[threshold_gel>max_intensity] = 0\n",
    "threshold_gel[np.bitwise_and(threshold_gel>= min_intensity , threshold_gel<= max_intensity)] =1\n",
    "\n",
    "# np.save(DATA_PATH + 'tmp/t_gel.npy', threshold_gel)\n",
    "\n"
   ],
   "metadata": {
    "collapsed": false
   }
  },
  {
   "cell_type": "code",
   "execution_count": null,
   "outputs": [],
   "source": [
    "#import napari\n",
    "viewer = napari.Viewer()\n",
    "image = gel[65,:,:,256]\n",
    "viewer.add_image(image, name='65')\n",
    "napari.utils.nbscreenshot(viewer)"
   ],
   "metadata": {
    "collapsed": false
   }
  },
  {
   "cell_type": "code",
   "execution_count": null,
   "outputs": [],
   "source": [
    "for t in range(5,85,10):\n",
    "    viewer.add_image(gel[t,:,:,256], name = 'gel %d'%t )\n",
    "    viewer.add_image(mask[t,:,:,256], name = 'mask %d'%t )\n",
    "\n"
   ],
   "metadata": {
    "collapsed": false
   }
  },
  {
   "cell_type": "code",
   "execution_count": null,
   "outputs": [],
   "source": [
    "import matplotlib.image\n",
    "\n",
    "fig, ax = plt.subplots(10,2, figsize = (30,200))\n",
    "plt.subplots_adjust(hspace=1)\n",
    "t= 60\n",
    "x = 30\n",
    "for col in range(ax.shape[0]):\n",
    "    sns.heatmap(gel[t,:,:,x], ax=ax[col, 0], xticklabels= [], yticklabels=50, cbar=False)\n",
    "    sns.heatmap(median_filter(mask[t,:,:,x],5), ax=ax[col, 1], xticklabels= [], yticklabels=50, cbar=False)\n",
    "    ax[col, 0].set_title('Gel T= %d'%t, fontsize = 12)\n",
    "    ax[col, 1].set_title('Mask T = %d'%t, fontsize = 12)\n",
    "    t+=1\n"
   ],
   "metadata": {
    "collapsed": false
   }
  },
  {
   "cell_type": "code",
   "execution_count": null,
   "outputs": [],
   "source": [
    "from  concurrent.futures import ThreadPoolExecutor\n",
    "gradient_table = np.zeros((len(gel), gel.shape[2]))\n",
    "height_table = np.zeros((len(gel), gel.shape[2]))\n",
    "height_deviation = np.zeros((len(gel), gel.shape[2]))\n",
    "\n",
    "def x(t):\n",
    "    print('proces %d starts'%t)\n",
    "    #flat = gel[t].reshape(-1)[1:-1:10]\n",
    "    # n, bins, patches = plt.hist(flat,cumulative=True,  density=True)\n",
    "    #hist, bins = np.histogram(flat, density=True)\n",
    "    #min_intensity = bins[2]\n",
    "\n",
    "    max_intensity = 10000\n",
    "\n",
    "    gel_time_point = gel[t]\n",
    "    for i in range(gel_time_point.shape[1]):\n",
    "        for j in range(gel_time_point.shape[2]):\n",
    "            z_line = gel_time_point[:,i,j]\n",
    "            min_intensity = filters.threshold_li(z_line)\n",
    "\n",
    "            z_line[z_line < min_intensity] =0\n",
    "            z_line[z_line>max_intensity] = 0\n",
    "            z_line[np.bitwise_and(z_line>= min_intensity , z_line<= max_intensity)] =1\n",
    "    plane = movie_structure.Vplane(gel_time_point[:,:,256], gel_time_point[:,:,256])\n",
    "    height = plane.set_height()\n",
    "\n",
    "    height_table[t] = height\n",
    "    height_deviation[t] = height - np.nanmean(height)\n",
    "\n",
    "    gradient_table[t] = np.gradient(height)\n",
    "    print('proces %d ends'%t)\n",
    "    return height"
   ],
   "metadata": {
    "collapsed": false
   }
  },
  {
   "cell_type": "code",
   "execution_count": null,
   "outputs": [],
   "source": [
    "\n",
    "with ThreadPoolExecutor(max_workers=8) as e:\n",
    "    for t in trange(len(gel)):\n",
    "        e.submit(x,t)\n",
    "\n"
   ],
   "metadata": {
    "collapsed": false
   }
  },
  {
   "cell_type": "code",
   "execution_count": null,
   "outputs": [],
   "source": [
    "for t in trange(len(gel)):\n",
    "    x(t)\n",
    "\n",
    "np.save(MOVIE_PATH +'tmp/gradient_table.npy',gradient_table)\n",
    "np.save(MOVIE_PATH +'tmp/height_table.npy', height_table)\n",
    "np.save(MOVIE_PATH +'tmp/height_deviation.npy', height_deviation )\n"
   ],
   "metadata": {
    "collapsed": false
   }
  },
  {
   "cell_type": "code",
   "execution_count": null,
   "outputs": [],
   "source": [
    "np.save (MOVIE_PATH +'tmp/mask.npy',gel)\n"
   ],
   "metadata": {
    "collapsed": false
   }
  },
  {
   "cell_type": "code",
   "execution_count": null,
   "outputs": [],
   "source": [
    "gradient_table = np.zeros((len(gel), gel.shape[2]))\n",
    "height_table = np.zeros((len(gel), gel.shape[2]))\n",
    "height_deviation = np.zeros((len(gel), gel.shape[2]))"
   ],
   "metadata": {
    "collapsed": false
   }
  },
  {
   "cell_type": "code",
   "execution_count": null,
   "outputs": [],
   "source": [
    "'''x_index = 320\n",
    "\n",
    "for tp in tqdm(gel):\n",
    "    plane = movie_structure.Vplane(tp[:,:,x_index], tp[:,:,x_index])\n",
    "    height = plane.set_height()\n",
    "\n",
    "    height_table[t] = height\n",
    "    height_deviation[t] = height - np.nanmean(height)\n",
    "\n",
    "    gradient_table[t] = np.gradient(height)\n",
    "'''"
   ],
   "metadata": {
    "collapsed": false
   }
  },
  {
   "cell_type": "code",
   "execution_count": null,
   "outputs": [],
   "source": [
    "np.save(MOVIE_PATH + 'tmp/mask.npy', gel)"
   ],
   "metadata": {
    "collapsed": false
   }
  },
  {
   "cell_type": "code",
   "execution_count": null,
   "outputs": [],
   "source": [
    "#gradient_table = gradient_table[range(len(gradient_table)-1,0,-1)]\n",
    "plt.figure(figsize=(30,30))\n",
    "plt.imshow(gradient_table, vmin= -1, vmax =1, aspect = 'auto')\n",
    "plt.xlabel('x - axe',  fontsize = 40)\n",
    "plt.ylabel('Time', fontsize = 40)\n",
    "plt.title('Boundary Gradient', fontsize = 40)\n",
    "plt.colorbar()\n",
    "plt.show()"
   ],
   "metadata": {
    "collapsed": false
   }
  },
  {
   "cell_type": "code",
   "execution_count": null,
   "outputs": [],
   "source": [
    "plt.figure(figsize=(30,30))\n",
    "plt.imshow(height_deviation, vmin = -5, vmax =5 ,aspect = 'auto')\n",
    "plt.xlabel('x - axe',fontsize = 40)\n",
    "plt.ylabel('Time', fontsize = 40)\n",
    "plt.title('Deviation from mean height',fontsize = 40)\n",
    "plt.colorbar()\n",
    "plt.show()\n",
    "\n"
   ],
   "metadata": {
    "collapsed": false
   }
  },
  {
   "cell_type": "code",
   "execution_count": null,
   "outputs": [],
   "source": [
    "plt.figure(figsize=(30,30))\n",
    "plt.imshow(height_table, aspect = 'auto')\n",
    "plt.xlabel('x - axe',fontsize = 40)\n",
    "plt.ylabel('Time', fontsize = 40)\n",
    "plt.title('Gel Height',fontsize = 40)\n",
    "plt.colorbar()\n",
    "plt.show()\n"
   ],
   "metadata": {
    "collapsed": false
   }
  },
  {
   "cell_type": "code",
   "execution_count": null,
   "outputs": [],
   "source": [
    "mean_height = np.zeros(len(height_table))\n",
    "for t in trange(len(height_table)):\n",
    "    mean_height[t] = np.nanmean(height_table[t])\n",
    "plt.scatter(range(len(mean_height)),mean_height)\n",
    "plt.xlabel('Time')\n",
    "plt.ylabel('Height')\n",
    "plt.show()"
   ],
   "metadata": {
    "collapsed": false
   }
  },
  {
   "cell_type": "code",
   "execution_count": null,
   "outputs": [],
   "source": [
    "x1, y1 = (0,40)\n",
    "x2,y2 = (90,140)\n",
    "\n",
    "a = (y2-y1)/(x2-x1)\n",
    "y1 = a"
   ],
   "metadata": {
    "collapsed": false
   }
  },
  {
   "cell_type": "code",
   "execution_count": null,
   "outputs": [],
   "source": [
    "auto = iac.spatial_autocorr(gaussian(gel[:,20,:,256],3), range(160),range(512))\n",
    "norm_auto = ((auto[0] - auto[0].min())/(auto[0].max() -auto[0].min())-0.5)*2\n",
    "plt.imshow(norm_auto ,  cmap= cm.get_cmap('RdBu'),aspect = 'auto')\n",
    "plt.ylabel('Time', fontsize = 40)\n",
    "plt.colorbar()\n",
    "plt.show()"
   ],
   "metadata": {
    "collapsed": false
   }
  },
  {
   "cell_type": "code",
   "execution_count": null,
   "outputs": [],
   "source": [
    "plt.hist(auto[0])\n",
    "plt.show()"
   ],
   "metadata": {
    "collapsed": false
   }
  },
  {
   "cell_type": "code",
   "execution_count": null,
   "outputs": [],
   "source": [
    "mean_list = []\n",
    "for t in range(len(gel)):\n",
    "    mean_list.append((gel[t].min()))\n",
    "plt.plot(mean_list)\n",
    "plt.show()"
   ],
   "metadata": {
    "collapsed": false
   }
  },
  {
   "cell_type": "code",
   "execution_count": null,
   "outputs": [],
   "source": [
    "import libpysal\n",
    "\n",
    "import numpy as np\n",
    "\n",
    "#np.random.seed(10)\n",
    "image = gel[20,20,:,:].astype('uint16')\n",
    "def autocorr(image):\n",
    "    w = libpysal.weights.lat2W(*image.shape)\n",
    "\n",
    "    y = image.reshape(-1,1)\n",
    "\n",
    "    y = np.copy(y)\n",
    "    from esda.moran import Moran_Local\n",
    "\n",
    "    lm = Moran_Local(y, w, transformation = \"r\", permutations = 99)\n",
    "    return lm.Is.reshape(*image.shape)\n"
   ],
   "metadata": {
    "collapsed": false
   }
  },
  {
   "cell_type": "code",
   "execution_count": null,
   "outputs": [],
   "source": [
    "image = gel[20,20,:,:].astype('uint16')\n",
    "output_image = autocorr(image)\n",
    "\n",
    "plt.figure(figsize=(30,30))\n",
    "plt.imshow(output_image, vmin =-5, vmax=5, aspect='auto',origin='lower')\n",
    "plt.ylabel('Time',fontsize = 40)\n",
    "plt.colorbar()\n",
    "plt.show()\n"
   ],
   "metadata": {
    "collapsed": false
   }
  },
  {
   "cell_type": "code",
   "execution_count": null,
   "outputs": [],
   "source": [
    "output_image = lm.Is.reshape(*image.shape)\n",
    "plt.imshow(output_image)\n",
    "plt.colorbar()\n",
    "plt.show()\n"
   ],
   "metadata": {
    "collapsed": false
   }
  },
  {
   "cell_type": "code",
   "execution_count": null,
   "outputs": [],
   "source": [
    "import matplotlib.image as mpimg\n",
    "import numpy as np\n",
    "import scipy.stats as stats\n",
    "import matplotlib.pyplot as pl\n",
    "\n",
    "image = output_image.copy()\n",
    "def power_spectrum(image):\n",
    "    npix = image.shape[0]\n",
    "\n",
    "    fourier_image = np.fft.fftn(image)\n",
    "    fourier_amplitudes = np.abs(fourier_image)**2\n",
    "\n",
    "    kfreq = np.fft.fftfreq(npix) * npix\n",
    "    kfreq2D = np.meshgrid(kfreq, kfreq)\n",
    "    knrm = np.sqrt(kfreq2D[0]**2 + kfreq2D[1]**2)\n",
    "\n",
    "    knrm = knrm.flatten()\n",
    "    fourier_amplitudes = fourier_amplitudes.flatten()\n",
    "\n",
    "    kbins = np.arange(0.5, npix//2+1, 1.)\n",
    "    kvals = 0.5 * (kbins[1:] + kbins[:-1])\n",
    "    Abins, _, _ = stats.binned_statistic(knrm, fourier_amplitudes,\n",
    "                                         statistic = \"mean\",\n",
    "                                         bins = kbins)\n",
    "    Abins *= np.pi * (kbins[1:]**2 - kbins[:-1]**2)\n",
    "    return (kvals,Abins)\n"
   ],
   "metadata": {
    "collapsed": false
   }
  },
  {
   "cell_type": "code",
   "execution_count": null,
   "outputs": [],
   "source": [
    "image = output_image.copy()\n",
    "kvals, Abins =  power_spectrum(image)\n",
    "\n",
    "pl.loglog(kvals, Abins)\n",
    "pl.xlabel(\"$k$\")\n",
    "pl.ylabel(\"$P(k)$\")\n",
    "pl.tight_layout()\n",
    "plt.show()"
   ],
   "metadata": {
    "collapsed": false
   }
  },
  {
   "cell_type": "code",
   "execution_count": null,
   "outputs": [],
   "source": [
    "kvals_ls = []\n",
    "abins_ls = []\n",
    "for t in trange(5,41,5):\n",
    "    image = gel[t,20,:,:].astype('uint16')\n",
    "    output_image = autocorr(image)\n",
    "    image = output_image.copy()\n",
    "    kvals, Abins =  power_spectrum(image)\n",
    "    kvals_ls.append(kvals)\n",
    "    abins_ls.append(Abins)\n",
    "\n",
    "    pl.loglog(kvals, Abins, label=str(t))\n",
    "    pl.xlabel(\"$k$\")\n",
    "    pl.ylabel(\"$P(k)$\")\n",
    "    pl.tight_layout()\n",
    "    pl.loglog(kvals, Abins, ls=\"None\")\n",
    "\n",
    "df = pd.DataFrame(columns=['kval','abins'])\n",
    "df['kval'] = kvals_ls\n",
    "df['abins'] = abins_ls\n",
    "df.to_csv(GRAPH_PATH + 'spectrum/spectrum.csv')\n",
    "plt.title('Power Spectrum')\n",
    "plt.legend()\n",
    "plt.show()"
   ],
   "metadata": {
    "collapsed": false
   }
  },
  {
   "cell_type": "code",
   "execution_count": null,
   "outputs": [],
   "source": [
    "#plt.imshow(image, cmap='Set1')\n",
    "plt.plot(np.arange(10), np.arange(10)/10, color = cm.get_cmap('Set1'))\n",
    "plt.show()"
   ],
   "metadata": {
    "collapsed": false
   }
  },
  {
   "cell_type": "code",
   "execution_count": null,
   "outputs": [],
   "source": [
    "zy = gel[5][:,:,256]\n",
    "plt.imshow(zy)\n",
    "plt.colorbar()\n",
    "plt.show()\n"
   ],
   "metadata": {
    "collapsed": false
   }
  },
  {
   "cell_type": "code",
   "execution_count": null,
   "outputs": [],
   "source": [
    "plt.hist(zy[:,40])"
   ],
   "metadata": {
    "collapsed": false
   }
  },
  {
   "cell_type": "code",
   "execution_count": null,
   "outputs": [],
   "source": [
    "plt.plot(zy[:,10])\n",
    "plt.show()"
   ],
   "metadata": {
    "collapsed": false
   }
  },
  {
   "cell_type": "code",
   "execution_count": null,
   "outputs": [],
   "source": [
    "from skimage import filters\n",
    "filters.threshold_li(zy[25:,10])"
   ],
   "metadata": {
    "collapsed": false
   }
  },
  {
   "cell_type": "code",
   "execution_count": null,
   "outputs": [],
   "source": [
    "zy = gel[20][:,:,444]\n",
    "plt.imshow(zy)\n",
    "plt.colorbar()\n",
    "plt.show()\n"
   ],
   "metadata": {
    "collapsed": false
   }
  },
  {
   "cell_type": "code",
   "execution_count": null,
   "outputs": [],
   "source": [
    "plt.hist(zy[:,40])\n"
   ],
   "metadata": {
    "collapsed": false
   }
  },
  {
   "cell_type": "code",
   "execution_count": null,
   "outputs": [],
   "source": [
    "plt.plot(zy[:,40])\n",
    "plt.show()"
   ],
   "metadata": {
    "collapsed": false
   }
  },
  {
   "cell_type": "code",
   "execution_count": null,
   "outputs": [],
   "source": [
    "h = np.zeros((len(gel), gel.shape[2], gel.shape[3]))\n",
    "\n",
    "\n",
    "def p(time):\n",
    "    tp = movie_structure.TimePoint(gel[time])\n",
    "    h[time] = tp.set_height()\n",
    "\n",
    "with ThreadPoolExecutor() as e:\n",
    "    for t in trange(len(gel)):\n",
    "        e.submit(p,t)\n",
    "\n"
   ],
   "metadata": {
    "collapsed": false
   }
  },
  {
   "cell_type": "code",
   "execution_count": null,
   "outputs": [],
   "source": [
    "np.save(MOVIE_PATH + 'tmp/h.npy',h)"
   ],
   "metadata": {
    "collapsed": false
   }
  },
  {
   "cell_type": "code",
   "execution_count": null,
   "outputs": [],
   "source": [
    "mean_height = np.zeros(len(h))\n",
    "for t in trange(len(h)):\n",
    "    mean_height[t] = np.nanmean(h[t])"
   ],
   "metadata": {
    "collapsed": false
   }
  },
  {
   "cell_type": "code",
   "execution_count": null,
   "outputs": [],
   "source": [
    "plt.scatter(range(len(h)),mean_height)\n",
    "plt.xlabel('Time')\n",
    "plt.ylabel('Height')\n",
    "plt.show()"
   ],
   "metadata": {
    "collapsed": false
   }
  },
  {
   "cell_type": "code",
   "execution_count": null,
   "outputs": [],
   "source": [
    "g = np.load(MOVIE_PATH +'tmp/gel_uint32.npy')"
   ],
   "metadata": {
    "collapsed": false
   }
  },
  {
   "cell_type": "code",
   "execution_count": null,
   "outputs": [],
   "source": [
    "g.max()"
   ],
   "metadata": {
    "collapsed": false
   }
  },
  {
   "cell_type": "code",
   "execution_count": null,
   "outputs": [],
   "source": [
    "viewer.add_image(g[0,:,:,20], name='uint32')"
   ],
   "metadata": {
    "collapsed": false
   }
  },
  {
   "cell_type": "markdown",
   "source": [],
   "metadata": {
    "collapsed": false
   }
  },
  {
   "cell_type": "code",
   "execution_count": null,
   "outputs": [],
   "source": [
    "importlib.reload(preprocessing)"
   ],
   "metadata": {
    "collapsed": false
   }
  },
  {
   "cell_type": "code",
   "execution_count": null,
   "outputs": [],
   "source": [
    "gel = preprocessing.normalize_to_background(gel,0,20,(0,0),(10,10))"
   ],
   "metadata": {
    "collapsed": false
   }
  },
  {
   "cell_type": "code",
   "execution_count": null,
   "outputs": [],
   "source": [
    "np.save(MOVIE_PATH +'tmp/gel_norm.npy' , gel)"
   ],
   "metadata": {
    "collapsed": false
   }
  },
  {
   "cell_type": "code",
   "execution_count": null,
   "outputs": [],
   "source": [
    "gel[:,0:20,:,:] = gel[:,-20:,:,:].copy()"
   ],
   "metadata": {
    "collapsed": false
   }
  },
  {
   "cell_type": "code",
   "execution_count": null,
   "outputs": [],
   "source": [
    "importlib.reload(movie_structure)\n"
   ],
   "metadata": {
    "collapsed": false
   }
  },
  {
   "cell_type": "code",
   "execution_count": null,
   "outputs": [],
   "source": [
    "df = pd.read_csv(MOVIE_PATH + 'height.csv')\n",
    "\n",
    "data = df.drop(['order','Unnamed: 0'],axis=1)\n",
    "ax = sns.heatmap(data,xticklabels =50, yticklabels=20, cmap ='plasma')\n",
    "plt.xlabel('X')\n",
    "plt.ylabel('Time')\n",
    "plt.title('Gel Height')\n",
    "ax.invert_yaxis()\n"
   ],
   "metadata": {
    "collapsed": false
   }
  },
  {
   "cell_type": "code",
   "execution_count": null,
   "outputs": [],
   "source": [
    "import seaborn as sns\n",
    "df = pd.read_csv(MOVIE_PATH + 'square.csv')\n",
    "\n",
    "data = df.drop(['order','Unnamed: 0'],axis=1)\n",
    "data = data.applymap(lambda x: x/512)\n",
    "ax = sns.heatmap(data,xticklabels =50, yticklabels=20, cmap ='plasma')\n",
    "plt.xlabel('X')\n",
    "plt.ylabel('Time')\n",
    "plt.title('Gel Square deviation from mean height')\n",
    "ax.invert_yaxis()\n",
    "\n"
   ],
   "metadata": {
    "collapsed": false
   }
  },
  {
   "cell_type": "code",
   "execution_count": null,
   "outputs": [],
   "source": [
    "df = pd.read_csv(MOVIE_PATH + 'curvature.csv')\n",
    "\n",
    "data = df.drop(['order','Unnamed: 0'],axis=1)\n",
    "ax = sns.heatmap(data,xticklabels =50, yticklabels=20, cmap ='plasma')\n",
    "plt.xlabel('X')\n",
    "plt.ylabel('Time')\n",
    "plt.title('Abs curvature of boundary')\n",
    "ax.invert_yaxis()\n"
   ],
   "metadata": {
    "collapsed": false
   }
  },
  {
   "cell_type": "code",
   "execution_count": null,
   "outputs": [],
   "source": [
    "data = df.drop(['order'],axis=1)\n",
    "sns.heatmap(data)"
   ],
   "metadata": {
    "collapsed": false
   }
  },
  {
   "cell_type": "code",
   "execution_count": null,
   "outputs": [],
   "source": [
    "importlib.reload(movie_structure)\n"
   ],
   "metadata": {
    "collapsed": false
   }
  },
  {
   "cell_type": "code",
   "execution_count": null,
   "outputs": [],
   "source": [
    "fig, axes = plt.subplots(2,5, figsize=(30,12))\n",
    "\n",
    "t=10\n",
    "for row in axes:\n",
    "    for col in row:\n",
    "        if t >90: continue\n",
    "        tp = movie_structure.TimePoint(gel[t], mask[t])\n",
    "        surface = tp.set_height_surface()\n",
    "        sns.heatmap(surface - np.mean(surface),ax= col, cmap= 'seismic', vmin = -200, vmax =200, xticklabels=50, yticklabels=50, square=True)\n",
    "        col.set_title('Surface height deviation Time point %d'%t, fontsize = 16)\n",
    "        t+=10\n",
    "\n",
    "plt.show()\n"
   ],
   "metadata": {
    "collapsed": false
   }
  },
  {
   "cell_type": "markdown",
   "source": [
    "$curvature = \\frac{\\frac{\\partial^2 z}{\\partial x^2} \\frac{\\partial^2 z}{\\partial y^2} - \\left(\\frac{\\partial^2 z}{\\partial x \\partial y}\\right)^2}{\\left(1 + \\left(\\frac{\\partial z}{\\partial x}\\right)^2 + \\left(\\frac{\\partial z}{\\partial y}\\right)^2\\right)^{3/2}}$"
   ],
   "metadata": {
    "collapsed": false
   }
  },
  {
   "cell_type": "code",
   "execution_count": null,
   "outputs": [],
   "source": [
    "from  concurrent.futures import ThreadPoolExecutor\n",
    "gradient_table = np.zeros((len(gel), gel.shape[2]))\n",
    "height_table = np.zeros((len(gel), gel.shape[2]))\n",
    "height_deviation = np.zeros((len(gel), gel.shape[2]))\n",
    "\n",
    "def x(t):\n",
    "    print('proces %d starts'%t)\n",
    "    #flat = gel[t].reshape(-1)[1:-1:10]\n",
    "    # n, bins, patches = plt.hist(flat,cumulative=True,  density=True)\n",
    "    #hist, bins = np.histogram(flat, density=True)\n",
    "    #min_intensity = bins[2]\n",
    "\n",
    "    max_intensity = 10000\n",
    "\n",
    "    gel_time_point = gel[t]\n",
    "    for i in range(gel_time_point.shape[1]):\n",
    "        for j in range(gel_time_point.shape[2]):\n",
    "            z_line = gel_time_point[:,i,j]\n",
    "            min_intensity = filters.threshold_li(z_line)\n",
    "\n",
    "            z_line[z_line < min_intensity] =0\n",
    "            z_line[z_line>max_intensity] = 0\n",
    "            z_line[np.bitwise_and(z_line>= min_intensity , z_line<= max_intensity)] =1\n",
    "    plane = movie_structure.Vplane(gel_time_point[:,:,256], gel_time_point[:,:,256])\n",
    "    height = plane.set_height()\n",
    "\n",
    "    height_table[t] = height\n",
    "    height_deviation[t] = height - np.nanmean(height)\n",
    "\n",
    "    gradient_table[t] = np.gradient(height)\n",
    "    print('proces %d ends'%t)\n",
    "    return height"
   ],
   "metadata": {
    "collapsed": false
   }
  },
  {
   "cell_type": "code",
   "execution_count": null,
   "outputs": [],
   "source": [
    "\n",
    "with ThreadPoolExecutor(max_workers=8) as e:\n",
    "    for t in trange(len(gel)):\n",
    "        e.submit(x,t)\n",
    "\n"
   ],
   "metadata": {
    "collapsed": false
   }
  },
  {
   "cell_type": "code",
   "execution_count": null,
   "outputs": [],
   "source": [
    "for t in trange(len(gel)):\n",
    "    x(t)\n",
    "\n",
    "np.save(MOVIE_PATH +'tmp/gradient_table.npy',gradient_table)\n",
    "np.save(MOVIE_PATH +'tmp/height_table.npy', height_table)\n",
    "np.save(MOVIE_PATH +'tmp/height_deviation.npy', height_deviation )\n"
   ],
   "metadata": {
    "collapsed": false
   }
  },
  {
   "cell_type": "code",
   "execution_count": null,
   "outputs": [],
   "source": [
    "np.save (MOVIE_PATH +'tmp/mask.npy',gel)\n"
   ],
   "metadata": {
    "collapsed": false
   }
  },
  {
   "cell_type": "code",
   "execution_count": null,
   "outputs": [],
   "source": [
    "gradient_table = np.zeros((len(gel), gel.shape[2]))\n",
    "height_table = np.zeros((len(gel), gel.shape[2]))\n",
    "height_deviation = np.zeros((len(gel), gel.shape[2]))"
   ],
   "metadata": {
    "collapsed": false
   }
  },
  {
   "cell_type": "code",
   "execution_count": null,
   "outputs": [],
   "source": [
    "'''x_index = 320\n",
    "\n",
    "for tp in tqdm(gel):\n",
    "    plane = movie_structure.Vplane(tp[:,:,x_index], tp[:,:,x_index])\n",
    "    height = plane.set_height()\n",
    "\n",
    "    height_table[t] = height\n",
    "    height_deviation[t] = height - np.nanmean(height)\n",
    "\n",
    "    gradient_table[t] = np.gradient(height)\n",
    "'''"
   ],
   "metadata": {
    "collapsed": false
   }
  },
  {
   "cell_type": "code",
   "execution_count": null,
   "outputs": [],
   "source": [
    "np.save(MOVIE_PATH + 'tmp/mask.npy', gel)"
   ],
   "metadata": {
    "collapsed": false
   }
  },
  {
   "cell_type": "code",
   "execution_count": null,
   "outputs": [],
   "source": [
    "#gradient_table = gradient_table[range(len(gradient_table)-1,0,-1)]\n",
    "plt.figure(figsize=(30,30))\n",
    "plt.imshow(gradient_table, vmin= -1, vmax =1, aspect = 'auto')\n",
    "plt.xlabel('x - axe',  fontsize = 40)\n",
    "plt.ylabel('Time', fontsize = 40)\n",
    "plt.title('Boundary Gradient', fontsize = 40)\n",
    "plt.colorbar()\n",
    "plt.show()"
   ],
   "metadata": {
    "collapsed": false
   }
  },
  {
   "cell_type": "code",
   "execution_count": null,
   "outputs": [],
   "source": [
    "plt.figure(figsize=(30,30))\n",
    "plt.imshow(height_deviation, vmin = -5, vmax =5 ,aspect = 'auto')\n",
    "plt.xlabel('x - axe',fontsize = 40)\n",
    "plt.ylabel('Time', fontsize = 40)\n",
    "plt.title('Deviation from mean height',fontsize = 40)\n",
    "plt.colorbar()\n",
    "plt.show()\n",
    "\n"
   ],
   "metadata": {
    "collapsed": false
   }
  },
  {
   "cell_type": "code",
   "execution_count": null,
   "outputs": [],
   "source": [
    "plt.figure(figsize=(30,30))\n",
    "plt.imshow(height_table, aspect = 'auto')\n",
    "plt.xlabel('x - axe',fontsize = 40)\n",
    "plt.ylabel('Time', fontsize = 40)\n",
    "plt.title('Gel Height',fontsize = 40)\n",
    "plt.colorbar()\n",
    "plt.show()\n"
   ],
   "metadata": {
    "collapsed": false
   }
  },
  {
   "cell_type": "code",
   "execution_count": null,
   "outputs": [],
   "source": [
    "mean_height = np.zeros(len(height_table))\n",
    "for t in trange(len(height_table)):\n",
    "    mean_height[t] = np.nanmean(height_table[t])\n",
    "plt.scatter(range(len(mean_height)),mean_height)\n",
    "plt.xlabel('Time')\n",
    "plt.ylabel('Height')\n",
    "plt.show()"
   ],
   "metadata": {
    "collapsed": false
   }
  },
  {
   "cell_type": "code",
   "execution_count": null,
   "outputs": [],
   "source": [
    "x1, y1 = (0,40)\n",
    "x2,y2 = (90,140)\n",
    "\n",
    "a = (y2-y1)/(x2-x1)\n",
    "y1 = a"
   ],
   "metadata": {
    "collapsed": false
   }
  },
  {
   "cell_type": "code",
   "execution_count": null,
   "outputs": [],
   "source": [
    "auto = iac.spatial_autocorr(gaussian(gel[:,20,:,256],3), range(160),range(512))\n",
    "norm_auto = ((auto[0] - auto[0].min())/(auto[0].max() -auto[0].min())-0.5)*2\n",
    "plt.imshow(norm_auto ,  cmap= cm.get_cmap('RdBu'),aspect = 'auto')\n",
    "plt.ylabel('Time', fontsize = 40)\n",
    "plt.colorbar()\n",
    "plt.show()"
   ],
   "metadata": {
    "collapsed": false
   }
  },
  {
   "cell_type": "code",
   "execution_count": null,
   "outputs": [],
   "source": [
    "plt.hist(auto[0])\n",
    "plt.show()"
   ],
   "metadata": {
    "collapsed": false
   }
  },
  {
   "cell_type": "code",
   "execution_count": null,
   "outputs": [],
   "source": [
    "mean_list = []\n",
    "for t in range(len(gel)):\n",
    "    mean_list.append((gel[t].min()))\n",
    "plt.plot(mean_list)\n",
    "plt.show()"
   ],
   "metadata": {
    "collapsed": false
   }
  },
  {
   "cell_type": "code",
   "execution_count": null,
   "outputs": [],
   "source": [
    "import libpysal\n",
    "\n",
    "import numpy as np\n",
    "\n",
    "#np.random.seed(10)\n",
    "image = gel[20,20,:,:].astype('uint16')\n",
    "def autocorr(image):\n",
    "    w = libpysal.weights.lat2W(*image.shape)\n",
    "\n",
    "    y = image.reshape(-1,1)\n",
    "\n",
    "    y = np.copy(y)\n",
    "    from esda.moran import Moran_Local\n",
    "\n",
    "    lm = Moran_Local(y, w, transformation = \"r\", permutations = 99)\n",
    "    return lm.Is.reshape(*image.shape)\n"
   ],
   "metadata": {
    "collapsed": false
   }
  },
  {
   "cell_type": "code",
   "execution_count": null,
   "outputs": [],
   "source": [
    "image = gel[20,20,:,:].astype('uint16')\n",
    "output_image = autocorr(image)\n",
    "\n",
    "plt.figure(figsize=(30,30))\n",
    "plt.imshow(output_image, vmin =-5, vmax=5, aspect='auto',origin='lower')\n",
    "plt.ylabel('Time',fontsize = 40)\n",
    "plt.colorbar()\n",
    "plt.show()\n"
   ],
   "metadata": {
    "collapsed": false
   }
  },
  {
   "cell_type": "code",
   "execution_count": null,
   "outputs": [],
   "source": [
    "output_image = lm.Is.reshape(*image.shape)\n",
    "plt.imshow(output_image)\n",
    "plt.colorbar()\n",
    "plt.show()\n"
   ],
   "metadata": {
    "collapsed": false
   }
  },
  {
   "cell_type": "code",
   "execution_count": null,
   "outputs": [],
   "source": [
    "import matplotlib.image as mpimg\n",
    "import numpy as np\n",
    "import scipy.stats as stats\n",
    "import matplotlib.pyplot as pl\n",
    "\n",
    "image = output_image.copy()\n",
    "def power_spectrum(image):\n",
    "    npix = image.shape[0]\n",
    "\n",
    "    fourier_image = np.fft.fftn(image)\n",
    "    fourier_amplitudes = np.abs(fourier_image)**2\n",
    "\n",
    "    kfreq = np.fft.fftfreq(npix) * npix\n",
    "    kfreq2D = np.meshgrid(kfreq, kfreq)\n",
    "    knrm = np.sqrt(kfreq2D[0]**2 + kfreq2D[1]**2)\n",
    "\n",
    "    knrm = knrm.flatten()\n",
    "    fourier_amplitudes = fourier_amplitudes.flatten()\n",
    "\n",
    "    kbins = np.arange(0.5, npix//2+1, 1.)\n",
    "    kvals = 0.5 * (kbins[1:] + kbins[:-1])\n",
    "    Abins, _, _ = stats.binned_statistic(knrm, fourier_amplitudes,\n",
    "                                         statistic = \"mean\",\n",
    "                                         bins = kbins)\n",
    "    Abins *= np.pi * (kbins[1:]**2 - kbins[:-1]**2)\n",
    "    return (kvals,Abins)\n"
   ],
   "metadata": {
    "collapsed": false
   }
  },
  {
   "cell_type": "code",
   "execution_count": null,
   "outputs": [],
   "source": [
    "image = output_image.copy()\n",
    "kvals, Abins =  power_spectrum(image)\n",
    "\n",
    "pl.loglog(kvals, Abins)\n",
    "pl.xlabel(\"$k$\")\n",
    "pl.ylabel(\"$P(k)$\")\n",
    "pl.tight_layout()\n",
    "plt.show()"
   ],
   "metadata": {
    "collapsed": false
   }
  },
  {
   "cell_type": "code",
   "execution_count": null,
   "outputs": [],
   "source": [
    "kvals_ls = []\n",
    "abins_ls = []\n",
    "for t in trange(5,41,5):\n",
    "    image = gel[t,20,:,:].astype('uint16')\n",
    "    output_image = autocorr(image)\n",
    "    image = output_image.copy()\n",
    "    kvals, Abins =  power_spectrum(image)\n",
    "    kvals_ls.append(kvals)\n",
    "    abins_ls.append(Abins)\n",
    "\n",
    "    pl.loglog(kvals, Abins, label=str(t))\n",
    "    pl.xlabel(\"$k$\")\n",
    "    pl.ylabel(\"$P(k)$\")\n",
    "    pl.tight_layout()\n",
    "    pl.loglog(kvals, Abins, ls=\"None\")\n",
    "\n",
    "df = pd.DataFrame(columns=['kval','abins'])\n",
    "df['kval'] = kvals_ls\n",
    "df['abins'] = abins_ls\n",
    "df.to_csv(GRAPH_PATH + 'spectrum/spectrum.csv')\n",
    "plt.title('Power Spectrum')\n",
    "plt.legend()\n",
    "plt.show()"
   ],
   "metadata": {
    "collapsed": false
   }
  },
  {
   "cell_type": "code",
   "execution_count": null,
   "outputs": [],
   "source": [
    "#plt.imshow(image, cmap='Set1')\n",
    "plt.plot(np.arange(10), np.arange(10)/10, color = cm.get_cmap('Set1'))\n",
    "plt.show()"
   ],
   "metadata": {
    "collapsed": false
   }
  },
  {
   "cell_type": "code",
   "execution_count": null,
   "outputs": [],
   "source": [
    "zy = gel[5][:,:,256]\n",
    "plt.imshow(zy)\n",
    "plt.colorbar()\n",
    "plt.show()\n"
   ],
   "metadata": {
    "collapsed": false
   }
  },
  {
   "cell_type": "code",
   "execution_count": null,
   "outputs": [],
   "source": [
    "plt.hist(zy[:,40])"
   ],
   "metadata": {
    "collapsed": false
   }
  },
  {
   "cell_type": "code",
   "execution_count": null,
   "outputs": [],
   "source": [
    "plt.plot(zy[:,10])\n",
    "plt.show()"
   ],
   "metadata": {
    "collapsed": false
   }
  },
  {
   "cell_type": "code",
   "execution_count": null,
   "outputs": [],
   "source": [
    "from skimage import filters\n",
    "filters.threshold_li(zy[25:,10])"
   ],
   "metadata": {
    "collapsed": false
   }
  },
  {
   "cell_type": "code",
   "execution_count": null,
   "outputs": [],
   "source": [
    "zy = gel[20][:,:,444]\n",
    "plt.imshow(zy)\n",
    "plt.colorbar()\n",
    "plt.show()\n"
   ],
   "metadata": {
    "collapsed": false
   }
  },
  {
   "cell_type": "code",
   "execution_count": null,
   "outputs": [],
   "source": [
    "plt.hist(zy[:,40])\n"
   ],
   "metadata": {
    "collapsed": false
   }
  },
  {
   "cell_type": "code",
   "execution_count": null,
   "outputs": [],
   "source": [
    "plt.plot(zy[:,40])\n",
    "plt.show()"
   ],
   "metadata": {
    "collapsed": false
   }
  },
  {
   "cell_type": "code",
   "execution_count": null,
   "outputs": [],
   "source": [
    "h = np.zeros((len(gel), gel.shape[2], gel.shape[3]))\n",
    "\n",
    "\n",
    "def p(time):\n",
    "    tp = movie_structure.TimePoint(gel[time])\n",
    "    h[time] = tp.set_height()\n",
    "\n",
    "with ThreadPoolExecutor() as e:\n",
    "    for t in trange(len(gel)):\n",
    "        e.submit(p,t)\n",
    "\n"
   ],
   "metadata": {
    "collapsed": false
   }
  },
  {
   "cell_type": "code",
   "execution_count": null,
   "outputs": [],
   "source": [
    "np.save(MOVIE_PATH + 'tmp/h.npy',h)"
   ],
   "metadata": {
    "collapsed": false
   }
  },
  {
   "cell_type": "code",
   "execution_count": null,
   "outputs": [],
   "source": [
    "mean_height = np.zeros(len(h))\n",
    "for t in trange(len(h)):\n",
    "    mean_height[t] = np.nanmean(h[t])"
   ],
   "metadata": {
    "collapsed": false
   }
  },
  {
   "cell_type": "code",
   "execution_count": null,
   "outputs": [],
   "source": [
    "plt.scatter(range(len(h)),mean_height)\n",
    "plt.xlabel('Time')\n",
    "plt.ylabel('Height')\n",
    "plt.show()"
   ],
   "metadata": {
    "collapsed": false
   }
  },
  {
   "cell_type": "code",
   "execution_count": null,
   "outputs": [],
   "source": [
    "g = np.load(MOVIE_PATH +'tmp/gel_uint32.npy')"
   ],
   "metadata": {
    "collapsed": false
   }
  },
  {
   "cell_type": "code",
   "execution_count": null,
   "outputs": [],
   "source": [
    "g.max()"
   ],
   "metadata": {
    "collapsed": false
   }
  },
  {
   "cell_type": "code",
   "execution_count": null,
   "outputs": [],
   "source": [
    "viewer.add_image(g[0,:,:,20], name='uint32')"
   ],
   "metadata": {
    "collapsed": false
   }
  },
  {
   "cell_type": "markdown",
   "source": [],
   "metadata": {
    "collapsed": false
   }
  },
  {
   "cell_type": "code",
   "execution_count": null,
   "outputs": [],
   "source": [
    "importlib.reload(preprocessing)"
   ],
   "metadata": {
    "collapsed": false
   }
  },
  {
   "cell_type": "code",
   "execution_count": null,
   "outputs": [],
   "source": [
    "gel = preprocessing.normalize_to_background(gel,0,20,(0,0),(10,10))"
   ],
   "metadata": {
    "collapsed": false
   }
  },
  {
   "cell_type": "code",
   "execution_count": null,
   "outputs": [],
   "source": [
    "np.save(MOVIE_PATH +'tmp/gel_norm.npy' , gel)"
   ],
   "metadata": {
    "collapsed": false
   }
  },
  {
   "cell_type": "code",
   "execution_count": null,
   "outputs": [],
   "source": [
    "gel[:,0:20,:,:] = gel[:,-20:,:,:].copy()"
   ],
   "metadata": {
    "collapsed": false
   }
  },
  {
   "cell_type": "code",
   "execution_count": null,
   "outputs": [],
   "source": [
    "importlib.reload(movie_structure)\n"
   ],
   "metadata": {
    "collapsed": false
   }
  },
  {
   "cell_type": "code",
   "execution_count": null,
   "outputs": [],
   "source": [
    "df = pd.read_csv(MOVIE_PATH + 'height.csv')\n",
    "\n",
    "data = df.drop(['order','Unnamed: 0'],axis=1)\n",
    "ax = sns.heatmap(data,xticklabels =50, yticklabels=20, cmap ='plasma')\n",
    "plt.xlabel('X')\n",
    "plt.ylabel('Time')\n",
    "plt.title('Gel Height')\n",
    "ax.invert_yaxis()\n"
   ],
   "metadata": {
    "collapsed": false
   }
  },
  {
   "cell_type": "markdown",
   "source": [
    "$\\bar{h}$\n"
   ],
   "metadata": {
    "collapsed": false
   }
  },
  {
   "cell_type": "code",
   "execution_count": null,
   "outputs": [],
   "source": [
    "df = pd.read_csv(MOVIE_PATH + 'height.csv')\n",
    "\n",
    "\n",
    "\n",
    "data = df.drop(['order','Unnamed: 0'],axis=1)\n",
    "data['time'] = pd.read_csv(MOVIE_PATH +'np/xtime.csv')['time']\n",
    "data['combined'] =data.apply(lambda row: [(row['time'], e) for e in row.drop('time')], axis = 1)\n",
    "# take all list in data['combined'] and make it one list\n",
    "values = data['combined'].apply(pd.Series).stack().reset_index(drop=True)\n",
    "\n",
    "graph_df = pd.DataFrame(columns=['x','y'])\n",
    "graph_df['Time'] = values.apply(lambda x:x[0])\n",
    "graph_df['Mean Height'] = values.apply(lambda x:x[1])\n",
    "sns.lineplot(data=graph_df, x = 'Time', y = 'Mean Height', estimator='mean' ,errorbar = 'sd')\n",
    "plt.xlabel('Time')\n",
    "plt.ylabel('h')\n",
    "plt.title(r'$\\bar{h}$')"
   ],
   "metadata": {
    "collapsed": false
   }
  },
  {
   "cell_type": "code",
   "execution_count": null,
   "outputs": [],
   "source": [
    "\n",
    "df = pd.read_csv(MOVIE_PATH + 'height.csv')\n",
    "\n",
    "data = df.drop(['order','Unnamed: 0'],axis=1).to_numpy()\n",
    "for row in data:\n",
    "    row-= np.nanmean(row)\n",
    "data = pd.DataFrame(data)\n",
    "data['time'] = pd.read_csv(MOVIE_PATH +'np/xtime.csv')['time']\n",
    "data['combined'] =data.apply(lambda row: [(row['time'], e) for e in row.drop('time')], axis = 1)\n",
    "# take all list in data['combined'] and make it one list\n",
    "values = data['combined'].apply(pd.Series).stack().reset_index(drop=True)\n",
    "\n",
    "graph_df = pd.DataFrame(columns=['x','y'])\n",
    "graph_df['Time'] = values.apply(lambda x:x[0])\n",
    "graph_df['Delta Height'] = values.apply(lambda x:x[1])\n",
    "sns.lineplot(data=graph_df, x = 'Time', y = 'Delta Height', estimator='mean' ,errorbar = 'sd')\n",
    "plt.title(r'$h - \\bar{h}$')\n",
    "plt.ylabel(r'$h - \\bar{h}$')\n",
    "plt.xlabel('Time')\n",
    "\n",
    "\n",
    "\n",
    "\n"
   ],
   "metadata": {
    "collapsed": false
   }
  },
  {
   "cell_type": "code",
   "execution_count": null,
   "outputs": [],
   "source": [
    "data['mean']"
   ],
   "metadata": {
    "collapsed": false
   }
  },
  {
   "cell_type": "code",
   "execution_count": null,
   "outputs": [],
   "source": [
    "import seaborn as sns\n",
    "df = pd.read_csv(MOVIE_PATH + 'square.csv')\n",
    "\n",
    "data = df.drop(['order','Unnamed: 0'],axis=1)\n",
    "data = data.applymap(lambda x: x/512)\n",
    "ax = sns.heatmap(data,xticklabels =50, yticklabels=20, cmap ='plasma')\n",
    "plt.xlabel('X')\n",
    "plt.ylabel('Time')\n",
    "plt.title('Gel Square deviation from mean height')\n",
    "ax.invert_yaxis()\n",
    "\n"
   ],
   "metadata": {
    "collapsed": false
   }
  },
  {
   "cell_type": "code",
   "execution_count": null,
   "outputs": [],
   "source": [
    "df = pd.read_csv(MOVIE_PATH + 'curvature.csv')\n",
    "\n",
    "data = df.drop(['order','Unnamed: 0'],axis=1)\n",
    "ax = sns.heatmap(data,xticklabels =50, yticklabels=20, cmap ='plasma')\n",
    "plt.xlabel('X')\n",
    "plt.ylabel('Time')\n",
    "plt.title('Abs curvature of boundary')\n",
    "ax.invert_yaxis()\n"
   ],
   "metadata": {
    "collapsed": false
   }
  },
  {
   "cell_type": "code",
   "execution_count": null,
   "outputs": [],
   "source": [
    "df = pd.read_csv(MOVIE_PATH + 'nan.csv')\n",
    "data = df.drop(['order','Unnamed: 0'],axis=1)\n",
    "data['time'] = pd.read_csv(MOVIE_PATH +'np/xtime.csv')['time']\n",
    "\n",
    "sns.lineplot(data=data, x='time', y='0')\n",
    "\n"
   ],
   "metadata": {
    "collapsed": false
   }
  },
  {
   "cell_type": "code",
   "execution_count": null,
   "outputs": [],
   "source": [
    "data = df.drop(['order'],axis=1)\n",
    "sns.heatmap(data)"
   ],
   "metadata": {
    "collapsed": false
   }
  },
  {
   "cell_type": "code",
   "execution_count": null,
   "outputs": [],
   "source": [
    "importlib.reload(seaborne)\n"
   ],
   "metadata": {
    "collapsed": false
   }
  },
  {
   "cell_type": "code",
   "execution_count": null,
   "outputs": [],
   "source": [
    "fig, axes = plt.subplots(2,5, figsize=(30,12))\n",
    "\n",
    "t=10\n",
    "for row in axes:\n",
    "    for col in row:\n",
    "        if t >90: continue\n",
    "        tp = movie_structure.TimePoint(gel[t], mask[t])\n",
    "        surface = tp.set_height_surface()\n",
    "        sns.heatmap(surface - np.mean(surface),ax= col, cmap= 'seismic', vmin = -200, vmax =200, xticklabels=50, yticklabels=50, square=True)\n",
    "        col.set_title('Surface height deviation Time point %d'%t, fontsize = 16)\n",
    "        t+=10\n",
    "\n",
    "plt.show()\n"
   ],
   "metadata": {
    "collapsed": false
   }
  },
  {
   "cell_type": "markdown",
   "source": [
    "$curvature = \\frac{\\frac{\\partial^2 z}{\\partial x^2} \\frac{\\partial^2 z}{\\partial y^2} - \\left(\\frac{\\partial^2 z}{\\partial x \\partial y}\\right)^2}{\\left(1 + \\left(\\frac{\\partial z}{\\partial x}\\right)^2 + \\left(\\frac{\\partial z}{\\partial y}\\right)^2\\right)^{3/2}}$\n"
   ],
   "metadata": {
    "collapsed": false
   }
  },
  {
   "cell_type": "code",
   "execution_count": null,
   "outputs": [],
   "source": [
    "df = pd.read_csv(MOVIE_PATH + 'height.csv')\n",
    "data = df.drop(['order','Unnamed: 0'],axis=1).to_numpy()\n",
    "#save data\n",
    "np.save(MOVIE_PATH + 'np/height.npy', data)\n"
   ],
   "metadata": {
    "collapsed": false
   }
  },
  {
   "cell_type": "code",
   "execution_count": null,
   "outputs": [],
   "source": [
    "#load data\n",
    "\n",
    "data = np.load(MOVIE_PATH + 'np/height.npy')"
   ],
   "metadata": {
    "collapsed": false
   }
  },
  {
   "cell_type": "code",
   "execution_count": null,
   "outputs": [],
   "source": [
    "import numpy as np\n",
    "from scipy import interpolate\n",
    "#from scipy.interpolate import RegularGridInterpolator\n",
    "def replace_nan_with_interpoation(z, sigma = 5):\n",
    "    img = z.copy()\n",
    "    mask = np.isnan(img)\n",
    "    img[mask] = np.nanmean(img)\n",
    "    g = gaussian(img, sigma)\n",
    "    img[mask] = g[mask]\n",
    "\n",
    "\n",
    "    return img\n",
    "\n"
   ],
   "metadata": {
    "collapsed": false
   }
  },
  {
   "cell_type": "code",
   "execution_count": null,
   "outputs": [],
   "source": [
    "import plotly.graph_objs as go\n",
    "from plotly.subplots import make_subplots\n",
    "import plotly.offline as pyo\n",
    "import numpy as np\n",
    "#import ndimage from scipy\n",
    "from scipy import ndimage\n",
    "from skimage.filters import threshold_otsu, threshold_local, threshold_mean, threshold_minimum, threshold_triangle, threshold_yen, threshold_li\n",
    "step = 5\n",
    "x = np.arange(0,512, step)\n",
    "y = np.arange(0,512, step)\n",
    "X, Y = np.meshgrid(x, y)\n",
    "plots_range = [20] #range(5, 95,10)\n",
    "#fig = make_subplots(rows=5, cols=2, specs=[[{\"type\": \"surface\"},{\"type\": \"surface\"}]]*5, subplot_titles=['Surface plot %d'%t for t in plots_range])\n",
    "\n",
    "fig = make_subplots(rows=1, cols=1, specs=[[{\"type\": \"surface\"}]], subplot_titles=['Surface plot %d'%t for t in plots_range])\n",
    "\n",
    "fig.update_layout(height=2000, width=800)\n",
    "subplot_row = 1\n",
    "subplot_col = 1\n",
    "\n",
    "for t in plots_range:\n",
    "\n",
    "\n",
    "    max_z = 100\n",
    "    row = data[t].copy()\n",
    "    #show histogram of row\n",
    "    #plt.hist(row.flatten(), bins=100)\n",
    "    #plt.title('Histogram of row %d'%t)\n",
    "    #plt.show()\n",
    "\n",
    "    Z = row.reshape(512,512)\n",
    "    Z = Z[::step,::step]\n",
    "\n",
    "\n",
    "    #replace nan with mean\n",
    "    Z[np.isnan(Z)] = np.nan\n",
    "    Z = replace_nan_with_interpoation(Z)\n",
    "\n",
    "    thresh = threshold_yen(Z)\n",
    "    print('first threshold of time %d is %d'%(t,thresh))\n",
    "    if (Z<thresh).sum() > (Z>thresh).sum():\n",
    "        print('surface below thresh  %d'%t)\n",
    "        Z[Z > thresh] = np.nan\n",
    "        Z = replace_nan_with_interpoation(Z)\n",
    "        #thresh = threshold_otsu(Z)\n",
    "        #Z[Z < thresh] = np.nan\n",
    "    else:\n",
    "        #surface above thresh\n",
    "        mask_nan = Z < thresh\n",
    "        Z[mask_nan] = np.nan\n",
    "        #Z = replace_nan_with_interpoation(Z)\n",
    "        thresh = threshold_yen(Z[~np.isnan(Z)])\n",
    "        print('second threshold of time %d is %d'%(t,thresh))\n",
    "        Z[Z> thresh] = np.nan\n",
    "        Z = replace_nan_with_interpoation(Z)\n",
    "        Z[mask_nan] = np.nan\n",
    "\n",
    "\n",
    "\n",
    "    Z = gaussian(Z, 5)\n",
    "\n",
    "\n",
    "    #make surface subplots with 10 rows and 1 column\n",
    "    #make spec for each row\n",
    "\n",
    "    trace = go.Surface(x=X, y=Y, z=Z, cmin=0, cmax=max_z )\n",
    "    fig.append_trace(trace, row=subplot_row, col=subplot_col)\n",
    "\n",
    "\n",
    "    #enlarge subplot size\n",
    "\n",
    "    #add title to each subplot\n",
    "    if subplot_col==2:\n",
    "        subplot_row +=1\n",
    "        subplot_col = 1\n",
    "    else:\n",
    "        subplot_col +=1\n",
    "\n",
    "\n",
    "\n",
    "fig.update_layout(\n",
    "    title_text=\"Surface plot %d\"%t, scene=dict(zaxis=dict(range=[0, max_z])),\n",
    "    margin=dict(l=5, r=5, t=5, b=5))\n",
    "\n",
    "fig.show()\n",
    "\n"
   ],
   "metadata": {
    "collapsed": false
   }
  },
  {
   "cell_type": "code",
   "execution_count": null,
   "outputs": [],
   "source": [
    "import numpy as np\n",
    "#import ndimage from scipy\n",
    "from scipy import ndimage\n",
    "from skimage.filters import threshold_otsu, threshold_local, threshold_mean, threshold_minimum, threshold_triangle, threshold_yen, threshold_li\n",
    "from mpl_toolkits import mplot3d\n",
    "\n",
    "import matplotlib.pyplot as plt\n",
    "subplot_row = 1\n",
    "subplot_col = 1\n",
    "\n",
    "step =1\n",
    "x = np.arange(0,512, step)\n",
    "y = np.arange(0,512, step)\n",
    "X, Y = np.meshgrid(x, y)\n",
    "plots_range = range(75, 85,1)\n",
    "#fig = make_subplots(rows=5, cols=2, specs=[[{\"type\": \"surface\"},{\"type\": \"surface\"}]]*5, subplot_titles=['Surface plot %d'%t for t in plots_range])\n",
    "\n",
    "#make subplots 5X2\n",
    "fig, ax = plt.subplots(5,2, subplot_kw={\"projection\": \"3d\"}, figsize=(30,30))\n",
    "\n",
    "for t in plots_range:\n",
    "\n",
    "\n",
    "    max_z = 100\n",
    "    row = data[t].copy()\n",
    "    #show histogram of row\n",
    "    #plt.hist(row.flatten(), bins=100)\n",
    "    #plt.title('Histogram of row %d'%t)\n",
    "    #plt.show()\n",
    "\n",
    "    Z = row.reshape(512,512)\n",
    "    Z = Z[::step,::step]\n",
    "\n",
    "\n",
    "    #replace nan with mean\n",
    "    Z[np.isnan(Z)] = np.nan\n",
    "    Z = replace_nan_with_interpoation(Z)\n",
    "\n",
    "    thresh = threshold_yen(Z)\n",
    "    print('first threshold of time %d is %d'%(t,thresh))\n",
    "    if (Z<thresh).sum() > (Z>thresh).sum():\n",
    "        print('surface below thresh  %d'%t)\n",
    "        Z[Z > thresh] = np.nan\n",
    "        Z = replace_nan_with_interpoation(Z)\n",
    "        #thresh = threshold_otsu(Z)\n",
    "        #Z[Z < thresh] = np.nan\n",
    "    else:\n",
    "        #surface above thresh\n",
    "        mask_nan = Z < thresh\n",
    "        Z[mask_nan] = np.nan\n",
    "        #Z = replace_nan_with_interpoation(Z)\n",
    "        thresh = threshold_yen(Z[~np.isnan(Z)])\n",
    "        print('second threshold of time %d is %d'%(t,thresh))\n",
    "        Z[Z> thresh] = np.nan\n",
    "        Z = replace_nan_with_interpoation(Z)\n",
    "        Z[mask_nan] = np.nan\n",
    "\n",
    "\n",
    "\n",
    "    Z = gaussian(Z, 5)\n",
    "\n",
    "\n",
    "    ax[subplot_row-1, subplot_col-1].plot_surface(X, Y, Z,cmap='viridis', edgecolor='none')\n",
    "    ax[subplot_row-1, subplot_col-1].set_title('Surface plot %d'%t)\n",
    "\n",
    "\n",
    "    #make surface subplots with 10 rows and 1 column\n",
    "    #make spec for each row\n",
    "\n",
    "\n",
    "    #enlarge subplot size\n",
    "\n",
    "    #add title to each subplot\n",
    "    if subplot_col==2:\n",
    "        subplot_row +=1\n",
    "        subplot_col = 1\n",
    "    else:\n",
    "        subplot_col +=1\n",
    "\n",
    "plt.show()\n",
    "\n",
    "\n"
   ],
   "metadata": {
    "collapsed": false
   }
  },
  {
   "cell_type": "code",
   "execution_count": null,
   "outputs": [],
   "source": [],
   "metadata": {
    "collapsed": false
   }
  },
  {
   "cell_type": "code",
   "execution_count": null,
   "outputs": [],
   "source": [
    "\n",
    "from skimage.filters import try_all_threshold\n",
    "\n",
    "img = Z.copy()\n",
    "#replace all nan with 0\n",
    "img[np.isnan(img)] = 0\n",
    "\n",
    "\n",
    "fig, ax = try_all_threshold(img, figsize=(10, 8), verbose=False)\n",
    "plt.show()"
   ],
   "metadata": {
    "collapsed": false
   }
  },
  {
   "cell_type": "code",
   "execution_count": null,
   "outputs": [],
   "source": [
    "plt.imshow(img)\n",
    "plt.show()"
   ],
   "metadata": {
    "collapsed": false
   }
  },
  {
   "cell_type": "code",
   "execution_count": null,
   "outputs": [],
   "source": [
    "from scipy import ndimage, datasets\n",
    "\n",
    "import matplotlib.pyplot as plt\n",
    "\n",
    "fig = plt.figure()\n",
    "\n",
    "#plt.gray()  # show the filtered result in grayscale\n",
    "\n",
    "ax1 = fig.add_subplot(121)  # left side\n",
    "\n",
    "ax2 = fig.add_subplot(122)  # right side\n",
    "ax2 = fig.add_subplot(123)  # right side\n",
    "\n",
    "\n",
    "ascent = Z\n",
    "\n",
    "result = ndimage.gaussian_gradient_magnitude(ascent, sigma=1)\n",
    "\n",
    "ax1.imshow(ascent)\n",
    "\n",
    "ax2.imshow(result)\n",
    "#ax3.imshow(g)\n",
    "plt.show()"
   ],
   "metadata": {
    "collapsed": false
   }
  },
  {
   "cell_type": "code",
   "execution_count": null,
   "outputs": [],
   "source": [],
   "metadata": {
    "collapsed": false
   }
  }
 ],
 "metadata": {
  "kernelspec": {
   "display_name": "Python 3",
   "language": "python",
   "name": "python3"
  },
  "language_info": {
   "codemirror_mode": {
    "name": "ipython",
    "version": 2
   },
   "file_extension": ".py",
   "mimetype": "text/x-python",
   "name": "python",
   "nbconvert_exporter": "python",
   "pygments_lexer": "ipython2",
   "version": "2.7.6"
  }
 },
 "nbformat": 4,
 "nbformat_minor": 0
}
