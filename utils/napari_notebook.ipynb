{
 "cells": [
  {
   "cell_type": "code",
   "outputs": [],
   "source": [
    "DATA_PATH = 'C:/Users/amityu/Gel_Sheet_Data/'\n",
    "#DATA_PATH = 'C:/Users/amityu/Gel_Drop_DATA/'\n",
    "#movie = 'for yuval/'\n",
    "#DATA_PATH ='D:/amityu/backoffice_data/'\n",
    "\n",
    "#movie ='130721_CCA60_RAW'\n",
    "#movie ='280523 AM100 568'\n",
    "#movie = 'control_2_230523'\n",
    "#movie ='cca120_am200'\n",
    "#movie ='280523 AM100 568_1'\n",
    "#movie = 'control_1_050721'\n",
    "#movie = 'cca40'\n",
    "#movie = 'cca60_dist'\n",
    "#movie ='cca300'\n",
    "movie = '160624c10'\n",
    "MOVIE_PATH = DATA_PATH +movie +'/'\n",
    "GRAPH_PATH = 'C:Users/amityu/Gel_Sheet_Graph/'\n",
    "import numpy as np\n",
    "import matplotlib.pyplot as plt\n",
    "import matplotlib.cm as cm\n",
    "from skimage.filters import gaussian\n",
    "from tqdm.notebook import trange, tqdm\n",
    "import pandas as pd\n",
    "from concurrent.futures import ThreadPoolExecutor\n",
    "import preprocessing\n",
    "import importlib\n",
    "from tifffile import imread, imsave, imwrite\n",
    "\n"
   ],
   "metadata": {
    "collapsed": false,
    "ExecuteTime": {
     "end_time": "2024-07-16T08:22:36.530449Z",
     "start_time": "2024-07-16T08:22:36.202311Z"
    }
   },
   "execution_count": 1
  },
  {
   "cell_type": "code",
   "execution_count": 2,
   "outputs": [],
   "source": [
    "gel = np.load(MOVIE_PATH + 'np/gel.npy', mmap_mode='r')\n",
    "gel_t = np.load(MOVIE_PATH + 'np/gel_transformed.npy', mmap_mode='r')\n",
    "\n",
    "\n",
    "#mean = np.load(MOVIE_PATH + 'np/mean.npy', mmap_mode='r')\n",
    "#mask = np.load(MOVIE_PATH + 'np/mask.np    y', mmap_mode='r')\n"
   ],
   "metadata": {
    "collapsed": false,
    "ExecuteTime": {
     "end_time": "2024-07-16T08:22:36.561940Z",
     "start_time": "2024-07-16T08:22:36.531537Z"
    }
   }
  },
  {
   "cell_type": "code",
   "execution_count": 5,
   "outputs": [],
   "source": [
    "gel_t._mmap.close()\n"
   ],
   "metadata": {
    "collapsed": false,
    "ExecuteTime": {
     "end_time": "2024-07-16T09:40:14.720775Z",
     "start_time": "2024-07-16T09:40:14.584771Z"
    }
   }
  },
  {
   "cell_type": "code",
   "outputs": [],
   "source": [
    "image = imread(MOVIE_PATH + '20120913 exp3 x2_5 stream00972.tif')\n",
    "#image_series = imread(r'C:\\Users\\amityu\\Downloads\\1-1c.tif')"
   ],
   "metadata": {
    "collapsed": false,
    "ExecuteTime": {
     "end_time": "2024-06-24T09:43:46.527978Z",
     "start_time": "2024-06-24T09:43:46.523358Z"
    }
   },
   "execution_count": 18
  },
  {
   "cell_type": "code",
   "execution_count": 4,
   "outputs": [
    {
     "data": {
      "text/plain": "<Image layer '0t' at 0x1e508629d20>"
     },
     "execution_count": 4,
     "metadata": {},
     "output_type": "execute_result"
    }
   ],
   "source": [
    "import napari\n",
    "#viewer = napari.Viewer()\n",
    "image =gel_t[:,:,:, 0].copy()\n",
    "#image =mean\n",
    "\n",
    "viewer.add_image(image, name='0t')\n",
    "#napari.utils.nbscreenshot(viewer)"
   ],
   "metadata": {
    "collapsed": false,
    "ExecuteTime": {
     "end_time": "2024-07-16T08:25:34.450342Z",
     "start_time": "2024-07-16T08:25:34.184342Z"
    }
   }
  },
  {
   "cell_type": "code",
   "outputs": [],
   "source": [
    "image = imread(r'C:\\Users\\amityu\\Downloads\\1-1frame5.tif')\n",
    "import napari\n",
    "# Check the shape of the loaded images\n",
    "\n",
    "# Assuming the second dimension represents channels, select the first channel\n",
    "# If it's Z-stacks, select the appropriate plane instead\n",
    "#images_2d = images[:5, 0, :, :].squeeze()  # Now the shape should be (5, 800, 828)\n",
    "img_series = imread(r'C:\\Users\\amityu\\Downloads\\1-1.tif')\n",
    "\n",
    "# Initialize Napari viewer\n",
    "viewer = napari.Viewer()\n",
    "\n",
    "# Add the 2D images to the viewer\n",
    "#viewer.add_image(img_series, name='Images')\n",
    "\n",
    "# Start the Napari event loop\n",
    "napari.run()"
   ],
   "metadata": {
    "collapsed": false,
    "ExecuteTime": {
     "start_time": "2024-07-02T07:44:36.797196Z"
    }
   },
   "execution_count": null
  },
  {
   "cell_type": "markdown",
   "source": [],
   "metadata": {
    "collapsed": false
   }
  },
  {
   "cell_type": "markdown",
   "source": [],
   "metadata": {
    "collapsed": false
   }
  }
 ],
 "metadata": {
  "kernelspec": {
   "display_name": "Python 3",
   "language": "python",
   "name": "python3"
  },
  "language_info": {
   "codemirror_mode": {
    "name": "ipython",
    "version": 2
   },
   "file_extension": ".py",
   "mimetype": "text/x-python",
   "name": "python",
   "nbconvert_exporter": "python",
   "pygments_lexer": "ipython2",
   "version": "2.7.6"
  }
 },
 "nbformat": 4,
 "nbformat_minor": 0
}
