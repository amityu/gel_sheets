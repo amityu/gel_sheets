{
 "cells": [
  {
   "cell_type": "code",
   "execution_count": 2,
   "id": "initial_id",
   "metadata": {
    "collapsed": true,
    "ExecuteTime": {
     "end_time": "2024-04-18T09:00:52.336280Z",
     "start_time": "2024-04-18T09:00:52.328992Z"
    }
   },
   "outputs": [],
   "source": [
    "import os\n",
    "import shutil\n",
    "\n",
    "#DATA_PATH = 'C:/Users/amityu/Gel_Sheet_Data/'\n",
    "DATA_PATH ='D:/amityu/backoffice_data/'\n",
    "movie_list = ['Control', '140721', '150721', '100621', '130721_CCA60_RAW','280523 AM100 568_1', 'control_1_050721','cca120', 'cca120_am200']\n"
   ]
  },
  {
   "cell_type": "code",
   "outputs": [
    {
     "name": "stdout",
     "output_type": "stream",
     "text": [
      "Directory copied from D:/amityu/backoffice_data/Control/tiff to D:/amityu/backoffice_data/all_tiff/Control/\n"
     ]
    }
   ],
   "source": [
    "for movie in movie_list[0:1]:\n",
    "    source_dir = DATA_PATH + movie +'/tiff'\n",
    "    target_dir = DATA_PATH + 'all_tiff/{}/'.format(movie)\n",
    "    if os.path.exists(source_dir):\n",
    "    # check if destination directory exists\n",
    "        if os.path.exists(target_dir):\n",
    "            print(f\"Directory {target_dir} already exists\")\n",
    "        else:\n",
    "            # copy directory\n",
    "            shutil.copytree(source_dir, target_dir)\n",
    "            print(f\"Directory copied from {source_dir} to {target_dir}\")\n",
    "    else:\n",
    "        print(f\"Source directory {source_dir} does not exist\")\n"
   ],
   "metadata": {
    "collapsed": false,
    "ExecuteTime": {
     "end_time": "2024-04-18T09:14:41.399999Z",
     "start_time": "2024-04-18T09:00:53.967358Z"
    }
   },
   "id": "97779c801b3455a7",
   "execution_count": 3
  }
 ],
 "metadata": {
  "kernelspec": {
   "display_name": "Python 3",
   "language": "python",
   "name": "python3"
  },
  "language_info": {
   "codemirror_mode": {
    "name": "ipython",
    "version": 2
   },
   "file_extension": ".py",
   "mimetype": "text/x-python",
   "name": "python",
   "nbconvert_exporter": "python",
   "pygments_lexer": "ipython2",
   "version": "2.7.6"
  }
 },
 "nbformat": 4,
 "nbformat_minor": 5
}
