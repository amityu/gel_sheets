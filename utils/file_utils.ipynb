{
 "cells": [
  {
   "cell_type": "code",
   "execution_count": 7,
   "id": "initial_id",
   "metadata": {
    "collapsed": true,
    "ExecuteTime": {
     "end_time": "2024-05-13T07:29:22.009316Z",
     "start_time": "2024-05-13T07:29:22.004154Z"
    }
   },
   "outputs": [],
   "source": [
    "import os\n",
    "import shutil\n",
    "\n",
    "#DATA_PATH = 'C:/Users/amityu/Gel_Sheet_Data/'\n",
    "DATA_PATH ='D:/amityu/backoffice_data/'\n",
    "movie_list = ['Control', '140721', '150721', '100621', '130721_CCA60_RAW','280523 AM100 568_1', 'control_1_050721','cca120', 'cca120_am200']\n",
    "target_dir = r'D:\\amityu\\backoffice_data\\all_tiff\\\\'\n"
   ]
  },
  {
   "cell_type": "code",
   "outputs": [
    {
     "name": "stdout",
     "output_type": "stream",
     "text": [
      "Source directory C:/Users/amityu/Gel_Sheet_Data/140721/tiff does not exist\n",
      "Source directory C:/Users/amityu/Gel_Sheet_Data/150721/tiff does not exist\n",
      "Source directory C:/Users/amityu/Gel_Sheet_Data/100621/tiff does not exist\n",
      "Directory copied from C:/Users/amityu/Gel_Sheet_Data/130721_CCA60_RAW/tiff to C:/Users/amityu/Gel_Sheet_Data/all_tiff/130721_CCA60_RAW/\n",
      "Source directory C:/Users/amityu/Gel_Sheet_Data/280523 AM100 568_1/tiff does not exist\n",
      "Directory copied from C:/Users/amityu/Gel_Sheet_Data/control_1_050721/tiff to C:/Users/amityu/Gel_Sheet_Data/all_tiff/control_1_050721/\n",
      "Directory copied from C:/Users/amityu/Gel_Sheet_Data/cca120/tiff to C:/Users/amityu/Gel_Sheet_Data/all_tiff/cca120/\n",
      "Directory copied from C:/Users/amityu/Gel_Sheet_Data/cca120_am200/tiff to C:/Users/amityu/Gel_Sheet_Data/all_tiff/cca120_am200/\n"
     ]
    }
   ],
   "source": [
    "# copy tiffs\n",
    "for movie in movie_list[1:]:\n",
    "    target_movie = target_dir + movie + '/'\n",
    "    source_dir = DATA_PATH + movie +'/tiff'\n",
    "    if os.path.exists(source_dir):\n",
    "    # check if destination directory exists\n",
    "        if os.path.exists(target_movie):\n",
    "            print(f\"Directory {target_movie} already exists\")\n",
    "        else:\n",
    "            # copy directory\n",
    "            shutil.copytree(source_dir, target_movie)\n",
    "            print(f\"Directory copied from {source_dir} to {target_movie}\")\n",
    "    else:\n",
    "        print(f\"Source directory {source_dir} does not exist\")\n"
   ],
   "metadata": {
    "collapsed": false,
    "ExecuteTime": {
     "end_time": "2024-05-13T07:26:24.774787Z",
     "start_time": "2024-05-13T07:24:32.837572Z"
    }
   },
   "id": "97779c801b3455a7",
   "execution_count": 4
  },
  {
   "cell_type": "code",
   "outputs": [
    {
     "name": "stdout",
     "output_type": "stream",
     "text": [
      "Directory removed from D:/amityu/backoffice_data/Control/tiff\n",
      "Source directory D:/amityu/backoffice_data/140721/tiff does not exist\n",
      "Source directory D:/amityu/backoffice_data/150721/tiff does not exist\n",
      "Source directory D:/amityu/backoffice_data/100621/tiff does not exist\n",
      "Source directory D:/amityu/backoffice_data/130721_CCA60_RAW/tiff does not exist\n",
      "Directory removed from D:/amityu/backoffice_data/280523 AM100 568_1/tiff\n",
      "Source directory D:/amityu/backoffice_data/control_1_050721/tiff does not exist\n",
      "Source directory D:/amityu/backoffice_data/cca120/tiff does not exist\n",
      "Source directory D:/amityu/backoffice_data/cca120_am200/tiff does not exist\n"
     ]
    }
   ],
   "source": [
    "#deleted tiff from source dir\n",
    "for movie in movie_list[:]:\n",
    "    source_dir = DATA_PATH + movie +'/tiff'\n",
    "    if os.path.exists(source_dir):\n",
    "        # check if destination directory exists\n",
    "            shutil.rmtree(source_dir)\n",
    "            print(f\"Directory removed from {source_dir}\")\n",
    "    else:\n",
    "        print(f\"Source directory {source_dir} does not exist\")\n"
   ],
   "metadata": {
    "collapsed": false,
    "ExecuteTime": {
     "end_time": "2024-05-13T07:31:50.269500Z",
     "start_time": "2024-05-13T07:31:22.333712Z"
    }
   },
   "id": "2eed5040a740a46c",
   "execution_count": 8
  }
 ],
 "metadata": {
  "kernelspec": {
   "display_name": "Python 3",
   "language": "python",
   "name": "python3"
  },
  "language_info": {
   "codemirror_mode": {
    "name": "ipython",
    "version": 2
   },
   "file_extension": ".py",
   "mimetype": "text/x-python",
   "name": "python",
   "nbconvert_exporter": "python",
   "pygments_lexer": "ipython2",
   "version": "2.7.6"
  }
 },
 "nbformat": 4,
 "nbformat_minor": 5
}
