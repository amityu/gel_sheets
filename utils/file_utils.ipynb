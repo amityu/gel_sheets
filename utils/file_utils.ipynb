{
 "cells": [
  {
   "cell_type": "code",
   "execution_count": 1,
   "id": "initial_id",
   "metadata": {
    "collapsed": true,
    "ExecuteTime": {
     "end_time": "2024-09-07T12:26:46.065040Z",
     "start_time": "2024-09-07T12:26:46.049995Z"
    }
   },
   "outputs": [],
   "source": [
    "import os\n",
    "import shutil\n",
    "import concurrent.futures\n",
    "DATA_PATH = 'C:/Users/amityu/Gel_Sheet_Data/'\n",
    "DATA_PATH ='D:/amityu/backoffice_data/'\n",
    "movie_list = ['Control', '140721', '150721', '100621', '130721_CCA60_RAW','280523 AM100 568_1', 'control_1_050721','cca120', 'cca120_am200']\n",
    "target_dir = r'D:\\amityu\\backoffice_data\\all_tiff\\\\'\n"
   ]
  },
  {
   "cell_type": "code",
   "outputs": [
    {
     "name": "stdout",
     "output_type": "stream",
     "text": [
      "Source directory C:/Users/amityu/Gel_Sheet_Data/140721/tiff does not exist\n",
      "Source directory C:/Users/amityu/Gel_Sheet_Data/150721/tiff does not exist\n",
      "Source directory C:/Users/amityu/Gel_Sheet_Data/100621/tiff does not exist\n",
      "Directory copied from C:/Users/amityu/Gel_Sheet_Data/130721_CCA60_RAW/tiff to C:/Users/amityu/Gel_Sheet_Data/all_tiff/130721_CCA60_RAW/\n",
      "Source directory C:/Users/amityu/Gel_Sheet_Data/280523 AM100 568_1/tiff does not exist\n",
      "Directory copied from C:/Users/amityu/Gel_Sheet_Data/control_1_050721/tiff to C:/Users/amityu/Gel_Sheet_Data/all_tiff/control_1_050721/\n",
      "Directory copied from C:/Users/amityu/Gel_Sheet_Data/cca120/tiff to C:/Users/amityu/Gel_Sheet_Data/all_tiff/cca120/\n",
      "Directory copied from C:/Users/amityu/Gel_Sheet_Data/cca120_am200/tiff to C:/Users/amityu/Gel_Sheet_Data/all_tiff/cca120_am200/\n"
     ]
    }
   ],
   "source": [
    "# copy tiffs\n",
    "for movie in movie_list[1:]:\n",
    "    target_movie = target_dir + movie + '/'\n",
    "    source_dir = DATA_PATH + movie +'/tiff'\n",
    "    if os.path.exists(source_dir):\n",
    "    # check if destination directory exists\n",
    "        if os.path.exists(target_movie):\n",
    "            print(f\"Directory {target_movie} already exists\")\n",
    "        else:\n",
    "            # copy directory\n",
    "            shutil.copytree(source_dir, target_movie)\n",
    "            print(f\"Directory copied from {source_dir} to {target_movie}\")\n",
    "    else:\n",
    "        print(f\"Source directory {source_dir} does not exist\")\n"
   ],
   "metadata": {
    "collapsed": false,
    "ExecuteTime": {
     "end_time": "2024-05-13T07:26:24.774787Z",
     "start_time": "2024-05-13T07:24:32.837572Z"
    }
   },
   "id": "97779c801b3455a7",
   "execution_count": 4
  },
  {
   "cell_type": "code",
   "outputs": [
    {
     "name": "stdout",
     "output_type": "stream",
     "text": [
      "Directory removed from D:/amityu/backoffice_data/Control/tiff\n",
      "Source directory D:/amityu/backoffice_data/140721/tiff does not exist\n",
      "Source directory D:/amityu/backoffice_data/150721/tiff does not exist\n",
      "Source directory D:/amityu/backoffice_data/100621/tiff does not exist\n",
      "Source directory D:/amityu/backoffice_data/130721_CCA60_RAW/tiff does not exist\n",
      "Directory removed from D:/amityu/backoffice_data/280523 AM100 568_1/tiff\n",
      "Source directory D:/amityu/backoffice_data/control_1_050721/tiff does not exist\n",
      "Source directory D:/amityu/backoffice_data/cca120/tiff does not exist\n",
      "Source directory D:/amityu/backoffice_data/cca120_am200/tiff does not exist\n"
     ]
    }
   ],
   "source": [
    "#deleted tiff from source dir\n",
    "for movie in movie_list[:]:\n",
    "    source_dir = DATA_PATH + movie +'/tiff'\n",
    "    if os.path.exists(source_dir):\n",
    "        # check if destination directory exists\n",
    "            shutil.rmtree(source_dir)\n",
    "            print(f\"Directory removed from {source_dir}\")\n",
    "    else:\n",
    "        print(f\"Source directory {source_dir} does not exist\")\n"
   ],
   "metadata": {
    "collapsed": false,
    "ExecuteTime": {
     "end_time": "2024-05-13T07:31:50.269500Z",
     "start_time": "2024-05-13T07:31:22.333712Z"
    }
   },
   "id": "2eed5040a740a46c",
   "execution_count": 8
  },
  {
   "cell_type": "code",
   "outputs": [],
   "source": [
    "import numpy as np\n",
    "import tifffile\n",
    "import os\n",
    "movie_list= ['160624c10','270524c8','280523 AM100 568_1','280523 AM100 568_2','280523 AM100 568_3']\n",
    "channel_list = ['motors_norm', 'gel_norm']\n",
    "DATA_PATHC = 'C:/Users/amityu/Gel_Sheet_Data/'\n",
    "OUTPUT_DATA_PATH = 'D:/amityu/backoffice_data/'\n",
    "for movie in movie_list[:2]:\n",
    "    #os.mkdir(DATA_PATHD + '%s'%(movie))\n",
    "\n",
    "    for channel in channel_list:\n",
    "        os.mkdir(OUTPUT_DATA_PATH + '%s/%s_mip' % (movie, channel))\n",
    "        \n",
    "\n",
    "    #for t in range(len(gel)):\n",
    "            "
   ],
   "metadata": {
    "collapsed": false,
    "ExecuteTime": {
     "end_time": "2024-07-29T11:35:46.009810Z",
     "start_time": "2024-07-29T11:35:45.662755Z"
    }
   },
   "id": "7f99fb3a5e784be9",
   "execution_count": 11
  },
  {
   "cell_type": "markdown",
   "source": [
    "# make tiffs out of channels"
   ],
   "metadata": {
    "collapsed": false
   },
   "id": "1b81468bbe204be9"
  },
  {
   "cell_type": "code",
   "outputs": [],
   "source": [],
   "metadata": {
    "collapsed": false
   },
   "id": "cd725c49e81bb20f"
  },
  {
   "cell_type": "code",
   "outputs": [],
   "source": [
    "import numpy as np\n",
    "import tifffile\n",
    "from tqdm.notebook import  trange\n",
    "import os\n"
   ],
   "metadata": {
    "collapsed": false,
    "ExecuteTime": {
     "end_time": "2024-09-08T06:23:30.502196Z",
     "start_time": "2024-09-08T06:23:30.471786Z"
    }
   },
   "id": "6e9dd4916b70c0ef",
   "execution_count": 1
  },
  {
   "cell_type": "code",
   "outputs": [],
   "source": [
    "movie_list_template= ['140824long','140824','160624c10','270524c8','280523 AM100 568_1','280523 AM100 568_2','280523 AM100 568_3']\n",
    "movie_list = movie_list_template[6:7]\n",
    "channel_list = ['motors_norm', 'gel_norm']\n",
    "#DATA_PATH = 'C:/Users/amityu/Gel_Sheet_Data/'\n",
    "DATA_PATH ='D:/amityu/backoffice_data/'\n",
    "\n",
    "OUTPUT_DATA_PATH = 'D:/amityu/'\n"
   ],
   "metadata": {
    "collapsed": false,
    "ExecuteTime": {
     "end_time": "2024-09-08T06:23:30.517354Z",
     "start_time": "2024-09-08T06:23:30.503268Z"
    }
   },
   "id": "ec7896e713c3fa84",
   "execution_count": 2
  },
  {
   "cell_type": "code",
   "outputs": [
    {
     "name": "stdout",
     "output_type": "stream",
     "text": [
      "Movie list ['280523 AM100 568_3']\n",
      "Channel list ['motors_norm', 'gel_norm']\n"
     ]
    }
   ],
   "source": [
    "print('Movie list {}'.format(movie_list))\n",
    "print('Channel list {}'.format(channel_list))\n"
   ],
   "metadata": {
    "collapsed": false,
    "ExecuteTime": {
     "end_time": "2024-09-08T06:27:54.297087Z",
     "start_time": "2024-09-08T06:27:54.281089Z"
    }
   },
   "id": "cd25b8faa3fd5b45",
   "execution_count": 4
  },
  {
   "cell_type": "code",
   "outputs": [],
   "source": [
    "def process_channel(_channel):\n",
    "    os.mkdir(OUTPUT_DATA_PATH + '%s/%s' % (movie, _channel))\n",
    "\n",
    "    gel = np.load(DATA_PATH + '%s/np/%s.npy' % (movie, _channel), mmap_mode='r')\n",
    "\n",
    "    for t in trange(len(gel)):\n",
    "        tifffile.imwrite(OUTPUT_DATA_PATH + '%s/%s/%s_%s.tif' % (movie, _channel, _channel, t), gel[t])\n"
   ],
   "metadata": {
    "collapsed": false,
    "ExecuteTime": {
     "end_time": "2024-09-08T06:27:54.358605Z",
     "start_time": "2024-09-08T06:27:54.349700Z"
    }
   },
   "id": "3b2c3350f8d45dff",
   "execution_count": 5
  },
  {
   "cell_type": "code",
   "outputs": [
    {
     "data": {
      "text/plain": "  0%|          | 0/51 [00:00<?, ?it/s]",
      "application/vnd.jupyter.widget-view+json": {
       "version_major": 2,
       "version_minor": 0,
       "model_id": "a5f78d7cd2204e3bbf13382bbc1a6ea4"
      }
     },
     "metadata": {},
     "output_type": "display_data"
    },
    {
     "data": {
      "text/plain": "  0%|          | 0/51 [00:00<?, ?it/s]",
      "application/vnd.jupyter.widget-view+json": {
       "version_major": 2,
       "version_minor": 0,
       "model_id": "0b39b39f6d6d41529d4dbbbe66a26d20"
      }
     },
     "metadata": {},
     "output_type": "display_data"
    }
   ],
   "source": [
    "for movie in movie_list:\n",
    "    os.mkdir(OUTPUT_DATA_PATH + '%s' % movie)\n",
    "    #with concurrent.futures.ThreadPoolExecutor() as executor:\n",
    "    #    executor.map(process_channel, channel_list)\n",
    "    for channel in channel_list:\n",
    "        process_channel(channel)"
   ],
   "metadata": {
    "collapsed": false,
    "ExecuteTime": {
     "end_time": "2024-09-08T06:39:16.834643Z",
     "start_time": "2024-09-08T06:27:54.375225Z"
    }
   },
   "id": "9fca22a74e143b47",
   "execution_count": 6
  },
  {
   "cell_type": "markdown",
   "source": [
    "mip tif"
   ],
   "metadata": {
    "collapsed": false
   },
   "id": "f0cc6be69b04734a"
  },
  {
   "cell_type": "code",
   "outputs": [
    {
     "name": "stdout",
     "output_type": "stream",
     "text": [
      "Movie list ['280523 AM100 568_3']\n",
      "Channel list ['motors_norm', 'gel_norm']\n"
     ]
    }
   ],
   "source": [
    "print('Movie list {}'.format(movie_list))\n",
    "print('Channel list {}'.format(channel_list))\n"
   ],
   "metadata": {
    "collapsed": false,
    "ExecuteTime": {
     "end_time": "2024-09-08T06:39:16.850199Z",
     "start_time": "2024-09-08T06:39:16.838804Z"
    }
   },
   "id": "3a0515751894f01c",
   "execution_count": 7
  },
  {
   "cell_type": "code",
   "outputs": [
    {
     "data": {
      "text/plain": "  0%|          | 0/51 [00:00<?, ?it/s]",
      "application/vnd.jupyter.widget-view+json": {
       "version_major": 2,
       "version_minor": 0,
       "model_id": "f796148f400947ed836e92edee103f1c"
      }
     },
     "metadata": {},
     "output_type": "display_data"
    },
    {
     "name": "stderr",
     "output_type": "stream",
     "text": [
      "C:\\Users\\amityu\\AppData\\Local\\Temp\\ipykernel_7224\\820024206.py:14: RuntimeWarning: All-NaN slice encountered\n",
      "  tifffile.imwrite(OUTPUT_DATA_PATH + '%s/%s_mip/%s_%s_mip.tif' % (movie, channel, channel, t), np.nanmax(gel[t], axis=2))\n"
     ]
    },
    {
     "data": {
      "text/plain": "  0%|          | 0/51 [00:00<?, ?it/s]",
      "application/vnd.jupyter.widget-view+json": {
       "version_major": 2,
       "version_minor": 0,
       "model_id": "01d7b799e81e49e0982827fcf2db52ed"
      }
     },
     "metadata": {},
     "output_type": "display_data"
    }
   ],
   "source": [
    "import numpy as np\n",
    "import tifffile\n",
    "from tqdm.notebook import trange\n",
    "\n",
    "import os\n",
    "\n",
    "for movie in movie_list:\n",
    "    \n",
    "    for channel in channel_list:\n",
    "        gel = np.load(DATA_PATH + '%s/np/%s.npy'%(movie,channel))\n",
    "        os.mkdir(OUTPUT_DATA_PATH + '%s/%s_mip' % (movie, channel))\n",
    "\n",
    "        for t in trange(len(gel)):\n",
    "            tifffile.imwrite(OUTPUT_DATA_PATH + '%s/%s_mip/%s_%s_mip.tif' % (movie, channel, channel, t), np.nanmax(gel[t], axis=2))"
   ],
   "metadata": {
    "collapsed": false,
    "ExecuteTime": {
     "end_time": "2024-09-08T06:39:52.768614Z",
     "start_time": "2024-09-08T06:39:16.851283Z"
    }
   },
   "id": "241892bde992862e",
   "execution_count": 8
  }
 ],
 "metadata": {
  "kernelspec": {
   "display_name": "Python 3",
   "language": "python",
   "name": "python3"
  },
  "language_info": {
   "codemirror_mode": {
    "name": "ipython",
    "version": 2
   },
   "file_extension": ".py",
   "mimetype": "text/x-python",
   "name": "python",
   "nbconvert_exporter": "python",
   "pygments_lexer": "ipython2",
   "version": "2.7.6"
  }
 },
 "nbformat": 4,
 "nbformat_minor": 5
}
