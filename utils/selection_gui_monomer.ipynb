{
 "cells": [
  {
   "cell_type": "markdown",
   "source": [
    "MONOMER GUI DETECTOR\n"
   ],
   "metadata": {
    "collapsed": false
   }
  },
  {
   "cell_type": "code",
   "execution_count": 1,
   "outputs": [],
   "source": [
    "import cv2\n",
    "import numpy as np\n",
    "import pandas as pd\n",
    "import os\n",
    "import json\n",
    "from tqdm.notebook import tqdm, trange\n",
    "import matplotlib.pyplot as plt\n",
    "DATA_PATH = 'C:/Users/amityu/Gel_Sheet_Data/'\n",
    "#DATA_PATH = r'D:\\amityu\\backoffice_data\\\\'\n",
    "\n",
    "#movie = 'Control'\n",
    "#movie ='140721'\n",
    "#movie ='150721'\n",
    "#movie ='100621'\n",
    "#movie = '130721_CCA60_RAW'\n",
    "#movie ='280523 AM100 568_2'\n",
    "#movie ='280523 AM100 568_3'\n",
    "#movie ='cca120'\n",
    "#movie = 'control_1_050721'\n",
    "#movie = 'control_2_230523'\n",
    "#movie = 'cca120_am200'\n",
    "#movie = 'cca40'\n",
    "#movie = 'cca300'\n",
    "#movie = 'cca60_dist'\n",
    "#movie = '160624c10'\n",
    "movie = '140824'\n",
    "#movie = '140824long'\n",
    "#movie = '270524c8'\n",
    "MOVIE_PATH = DATA_PATH +  movie + '/'\n",
    "GRAPH_PATH = 'C:/Users/amityu/Gel_Sheet_Graph/'\n",
    "gel_file_name = MOVIE_PATH + 'tmp/gel_corrected.npy'\n",
    "#import gaussian from opencv\n",
    "#from cv2 import GaussianBlur as gaussian"
   ],
   "metadata": {
    "collapsed": false,
    "ExecuteTime": {
     "end_time": "2024-09-12T09:05:56.378426Z",
     "start_time": "2024-09-12T09:05:54.833690Z"
    }
   }
  },
  {
   "cell_type": "markdown",
   "source": [
    "## for visualization contrast purpose global min and global max should be determined. to save time you calculate it once "
   ],
   "metadata": {
    "collapsed": false
   }
  },
  {
   "cell_type": "code",
   "execution_count": 2,
   "outputs": [],
   "source": [
    "first = False\n",
    "gel = np.load(gel_file_name, mmap_mode='r')\n",
    "if first:\n",
    "    global_min = np.nanmin(gel)\n",
    "    global_max = np.nanpercentile(gel, 99.7)\n",
    "else:\n",
    "    global_max =2.92\n",
    "    global_min = 0.77"
   ],
   "metadata": {
    "collapsed": false,
    "ExecuteTime": {
     "end_time": "2024-09-12T09:05:59.269365Z",
     "start_time": "2024-09-12T09:05:59.262722Z"
    }
   }
  },
  {
   "cell_type": "code",
   "outputs": [
    {
     "data": {
      "text/plain": "(2.9275288169384055, 0.7728902)"
     },
     "execution_count": 4,
     "metadata": {},
     "output_type": "execute_result"
    }
   ],
   "source": [
    "global_max, global_min"
   ],
   "metadata": {
    "collapsed": false,
    "ExecuteTime": {
     "end_time": "2024-09-12T08:58:21.539857Z",
     "start_time": "2024-09-12T08:58:21.526319Z"
    }
   },
   "execution_count": 4
  },
  {
   "cell_type": "code",
   "execution_count": 3,
   "outputs": [],
   "source": [
    "save_data_file_name = MOVIE_PATH + 'np/monomer_rect.csv'"
   ],
   "metadata": {
    "collapsed": false,
    "ExecuteTime": {
     "end_time": "2024-09-12T09:06:04.858062Z",
     "start_time": "2024-09-12T09:06:04.843325Z"
    }
   }
  },
  {
   "cell_type": "code",
   "execution_count": 4,
   "outputs": [],
   "source": [
    "# if save_data_file_name doestn't exist: initialize dataframe for first time. \n",
    "if ~os.path.isfile(save_data_file_name):\n",
    "    df = pd.DataFrame()\n",
    "    df['frame'] = np.arange(len(gel))  # frame index\n",
    "    df['Z'] = [0]* len(gel)   #z lower box coordinate\n",
    "    df['Y'] = [50]* len(gel)   #y box coordinate\n",
    "    df['X'] = [50]* len(gel)\n",
    "    df['r_size'] = [18]* len(gel)  # size of the picking rectangle\n",
    "    df['y_gap'] = [20]* len(gel)  # mip width\n",
    "    df['mean'] = [0.0]* len(gel) #mean intensity\n",
    "    df['std'] = [0.0]* len(gel)  # standard deviation intensity\n",
    "    df['gap_from_surface'] = [10]* len(gel)  #how many pixels to ignore in the z coordinates. rectangle is put on the surface, and this is the amount of pixels to ignore\n",
    "    #save dataframes\n",
    "    df.to_csv(save_data_file_name, index=False)\n"
   ],
   "metadata": {
    "collapsed": false,
    "ExecuteTime": {
     "end_time": "2024-09-12T09:06:07.050377Z",
     "start_time": "2024-09-12T09:06:07.024819Z"
    }
   }
  },
  {
   "cell_type": "code",
   "outputs": [],
   "source": [
    "'''params_dict = {'save_data_file_name' :save_data_file_name,\n",
    "             'global_min': float(global_min),\n",
    "             'global_max': float(global_max),\n",
    "             'movie': movie,\n",
    "             'MOVIE_PATH':MOVIE_PATH,\n",
    "             'gel_file_name': gel_file_name}\n",
    "\n",
    "with open(\"seg_parameters.json\", \"w\") as json_file:\n",
    "    json.dump(params_dict, json_file, indent=4)'''"
   ],
   "metadata": {
    "collapsed": false,
    "ExecuteTime": {
     "end_time": "2024-07-21T09:42:00.788106Z",
     "start_time": "2024-07-21T09:42:00.781107Z"
    }
   },
   "execution_count": 11
  },
  {
   "cell_type": "code",
   "outputs": [],
   "source": [
    "# Dependencies\n",
    "import cv2\n",
    "import numpy as np\n",
    "import pandas as pdq\n",
    "\n",
    "# Global constants\n",
    "IMAGE_HEIGHT = 500\n",
    "FONT_SCALE = 0.7\n",
    "FONT = cv2.FONT_HERSHEY_SIMPLEX\n",
    "COLOR = (255, 255, 255)  # white color\n",
    "THICKNESS = 2  # line thickness\n",
    "POSITIONS = {\"position\": (10, 50), \"exit\": (10, 100), \"position2\": (10, 150), \"position3\": (10, 200)}\n",
    "\n",
    "\n",
    "def load_data(file_path):\n",
    "    \"\"\"\n",
    "    Load data from a csv file and set the index to 'frame'.\n",
    "\n",
    "    :param file_path: The path of the csv file to load.\n",
    "    :return: The loaded data as a pandas DataFrame with the index set to 'frame'.\n",
    "    \"\"\"\n",
    "    df = pd.read_csv(file_path)\n",
    "    df.set_index('frame', inplace=True)\n",
    "    return df\n",
    "\n",
    "\n",
    "\n",
    "\n",
    "\n",
    "def draw_rectangle(event, x, z, flags, param ):\n",
    "    \"\"\"\n",
    "    :param event: The event triggered in the GUI\n",
    "    :param x: The x-coordinate of the rectangle\n",
    "    :param z: The z-coordinate of the rectangle\n",
    "    :param flags: The flags associated with the event\n",
    "    :param param: A dictionary containing additional parameters (dataframe and frame index\n",
    "    :return: None\n",
    "\n",
    "    The method is used as a callback to draw a rectangle in the GUI. It updates the dataframe with the mean and standard deviation values based on the selected rectangle.\n",
    "\n",
    "    \"\"\"\n",
    "    df=param['df']\n",
    "    frame_index=param['frame_index']\n",
    "    # Callback logic here...\n",
    "    mean = df.loc[frame_index, 'mean']\n",
    "    std = df.loc[frame_index, 'std']\n",
    "\n",
    "    r_size= df.loc[frame_index, 'r_size']\n",
    "    gap_from_surface = df.loc[frame_index, 'gap_from_surface']\n",
    "    y_gap = df.loc[frame_index, 'y_gap']\n",
    "    y = df.loc[frame_index, 'Y']\n",
    "\n",
    "    if event == cv2.EVENT_LBUTTONDOWN:\n",
    "\n",
    "        i_data = gel[frame_index, z + gap_from_surface:z + r_size, y:y + y_gap, x:x + r_size]\n",
    "        i_data = i_data[~np.isnan(i_data)]\n",
    "        mean = np.nanmean(i_data)\n",
    "        std = np.nanstd(i_data)\n",
    "        if np.isnan(mean):\n",
    "            mean = 0\n",
    "        if np.isnan(std):\n",
    "            std = 0\n",
    "        df.loc[frame_index] = {'Z':z,'Y':y, 'X':x, 'r_size':r_size, 'y_gap':y_gap, 'mean':mean, 'std':std, 'gap_from_surface':gap_from_surface}\n",
    "\n",
    "    elif event == cv2.EVENT_MOUSEWHEEL:\n",
    "        if flags > 0:  # scroll up\n",
    "            if y + y_gap < gel.shape[2]:\n",
    "                y+= y_gap  # cycle through images\n",
    "        \n",
    "        else:  # scroll down\n",
    "            y-= y_gap  # cycle through images\n",
    "            if y< 0:\n",
    "                y = 0\n",
    "        df.loc[frame_index, 'Y'] = y\n",
    "\n",
    "\n",
    "def build_image(df, frame_index):\n",
    "    \"\"\"\n",
    "    :param df: DataFrame containing selection data \n",
    "    :param frame_index: Index of the frame to build the image for\n",
    "    :return: Image representation of the frame with additional data overlay\n",
    "\n",
    "    \"\"\"\n",
    "    # Formatting logic here...\n",
    "    y_gap = df.loc[frame_index, 'y_gap']\n",
    "    y = df.loc[frame_index, 'Y']\n",
    "    r_size= df.loc[frame_index, 'r_size']\n",
    "    x =  df.loc[frame_index, 'X']\n",
    "    z =  df.loc[frame_index, 'Z']\n",
    "    gap_from_surface = df.loc[frame_index, 'gap_from_surface']\n",
    "    mean = df.loc[frame_index, 'mean']\n",
    "    std = df.loc[frame_index, 'std']\n",
    "\n",
    "    img = np.max(gel[frame_index, :, y:y + y_gap, :], axis=1)\n",
    "    img[np.isnan(img)] = 0\n",
    "    img = ((img - global_min) / (global_max - global_min) * 255).astype(np.uint8)\n",
    "    #img = cv2.normalize(img, None, 0, 255, cv2.NORM_MINMAX, dtype=cv2.CV_8U)\n",
    "    cv2.rectangle(img, pt1=(x, z), pt2=(x+r_size, z+r_size), color= COLOR, thickness=2)\n",
    "\n",
    "    gel_image = cv2.applyColorMap(img, cv2.COLORMAP_JET)\n",
    "    data_img = np.zeros((600,img.shape[1]), dtype=np.uint8)\n",
    "    data_string = f'Time: {frame_index}, X: { df.loc[frame_index, \"X\"]}, Y: {y}, Z: {df.loc[frame_index, \"Z\"]} , Y MIP size: {y_gap}'\n",
    "    data_string2 = f' , r_size: {r_size}, gap_from_surface: {gap_from_surface}'\n",
    "    data_string3 = f' , mean: {mean:.2f}, std: {std:.2f}'\n",
    "    exit_string = 's  to save, q to quit, 2/8 to change time'\n",
    "    cv2.putText(data_img, data_string, POSITIONS[\"position\"], FONT, FONT_SCALE, COLOR, THICKNESS)\n",
    "    cv2.putText(data_img, exit_string, POSITIONS[\"exit\"], FONT, FONT_SCALE, COLOR, THICKNESS)\n",
    "    cv2.putText(data_img, data_string2, POSITIONS[\"position2\"], FONT, FONT_SCALE, COLOR, THICKNESS)\n",
    "    cv2.putText(data_img, data_string3, POSITIONS[\"position3\"], FONT, FONT_SCALE, COLOR, THICKNESS)\n",
    "    data_img = cv2.applyColorMap(data_img, cv2.COLORMAP_JET)\n",
    "\n",
    "    return cv2.vconcat([gel_image, data_img])\n",
    "\n",
    "def main():\n",
    "    \"\"\"\n",
    "    Main method \n",
    "\n",
    "    :return: None\n",
    "    \"\"\"\n",
    "    # DataFrame for data\n",
    "    df = load_data(save_data_file_name)\n",
    "    frame_index = 0\n",
    "    cv2.namedWindow('image',cv2.WINDOW_NORMAL)\n",
    "    \n",
    "    \n",
    "    while True:\n",
    "        cv2.setMouseCallback('image', draw_rectangle, param={'df':df, 'frame_index':frame_index})\n",
    "\n",
    "        # Display the image\n",
    "        colored_image = build_image(df,frame_index)\n",
    "        cv2.imshow('image', colored_image)\n",
    "        key = cv2.waitKey(1) & 0xFF\n",
    "\n",
    "        if key == ord('q'):\n",
    "            cv2.imwrite(DATA_PATH + 'monomer_app.jpg', colored_image)\n",
    "            break\n",
    "\n",
    "        elif key == ord('2'):\n",
    "            frame_index += 1\n",
    "            if frame_index >= len(gel):\n",
    "                frame_index = 0\n",
    "\n",
    "        elif key == ord('8'):\n",
    "            frame_index -= 1\n",
    "            if frame_index < 0:\n",
    "                frame_index = len(imgs) - 1\n",
    "\n",
    "        elif key == ord('s'):\n",
    "            df.to_csv(save_data_file_name, index=True)\n",
    "    cv2.destroyAllWindows()\n",
    "\n",
    "\n",
    "if __name__ == \"__main__\":\n",
    "    main()\n"
   ],
   "metadata": {
    "collapsed": false,
    "ExecuteTime": {
     "end_time": "2024-09-12T09:11:50.956731Z",
     "start_time": "2024-09-12T09:10:11.808850Z"
    }
   },
   "execution_count": 6
  },
  {
   "cell_type": "code",
   "execution_count": 18,
   "outputs": [
    {
     "data": {
      "text/plain": "<Figure size 640x480 with 1 Axes>",
      "image/png": "[encoded data removed]"
     },
     "metadata": {},
     "output_type": "display_data"
    }
   ],
   "source": [
    "\n",
    "df = pd.read_csv(save_data_file_name, index_col=0)\n",
    "plt.errorbar(np.arange(len(df)), df['mean'], yerr=df['std'], fmt='o')\n",
    "plt.xlabel('Time')\n",
    "plt.ylabel('Intensity')\n",
    "plt.title('Monomer intensity')\n",
    "plt.show()      \n"
   ],
   "metadata": {
    "collapsed": false,
    "ExecuteTime": {
     "end_time": "2024-09-01T13:01:15.497643Z",
     "start_time": "2024-09-01T13:01:15.127314Z"
    }
   }
  },
  {
   "cell_type": "code",
   "outputs": [],
   "source": [
    "del gel"
   ],
   "metadata": {
    "collapsed": false,
    "ExecuteTime": {
     "end_time": "2024-09-01T13:01:36.120413Z",
     "start_time": "2024-09-01T13:01:34.966042Z"
    }
   },
   "execution_count": 19
  }
 ],
 "metadata": {
  "kernelspec": {
   "display_name": "Python 3",
   "language": "python",
   "name": "python3"
  },
  "language_info": {
   "codemirror_mode": {
    "name": "ipython",
    "version": 2
   },
   "file_extension": ".py",
   "mimetype": "text/x-python",
   "name": "python",
   "nbconvert_exporter": "python",
   "pygments_lexer": "ipython2",
   "version": "2.7.6"
  }
 },
 "nbformat": 4,
 "nbformat_minor": 0
}
