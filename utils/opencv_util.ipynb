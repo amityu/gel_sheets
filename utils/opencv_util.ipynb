{
 "cells": [
  {
   "cell_type": "code",
   "execution_count": 2,
   "outputs": [],
   "source": [
    "import cv2\n",
    "import numpy as np\n",
    "import pandas as pd\n",
    "DATA_PATH = 'C:/Users/amityu/Gel_Sheet_Data/'\n",
    "#movie = 'Control'\n",
    "#movie = '130721'\n",
    "#movie ='140721'\n",
    "#movie ='150721'\n",
    "#movie ='100621'\n",
    "movie = '130721_CCA60_RAW'\n",
    "MOVIE_PATH = DATA_PATH +  movie + '/'\n",
    "GRAPH_PATH = 'C:/Users/amityu/Gel_Sheet_Graph/'\n"
   ],
   "metadata": {
    "collapsed": false,
    "ExecuteTime": {
     "end_time": "2023-07-19T08:40:17.089258300Z",
     "start_time": "2023-07-19T08:40:16.524254500Z"
    }
   }
  },
  {
   "cell_type": "code",
   "execution_count": 3,
   "outputs": [],
   "source": [
    "imgs_float = np.load(MOVIE_PATH + 'np/gel.npy') # replace with your images\n",
    "imgs = np.zeros(imgs_float.shape, dtype='uint8')\n",
    "imgs_float = np.nan_to_num(imgs_float)\n",
    "for t in range(len(imgs_float)):\n",
    "    img = imgs_float[t]\n",
    "    img = cv2.normalize(img, None, 0, 255, cv2.NORM_MINMAX, dtype=cv2.CV_8U)\n",
    "    img = img.astype(np.uint8)\n",
    "    imgs[t] = img\n",
    "\n",
    "#replace nan with zero"
   ],
   "metadata": {
    "collapsed": false,
    "ExecuteTime": {
     "end_time": "2023-07-19T08:40:52.902852600Z",
     "start_time": "2023-07-19T08:40:19.522313700Z"
    }
   }
  },
  {
   "cell_type": "code",
   "execution_count": 4,
   "outputs": [],
   "source": [
    "import cv2\n",
    "import numpy as np\n",
    "y = 0\n",
    "# Global variables\n",
    "img_index = 0\n",
    "coordinates = []\n",
    "df = pd.read_csv(MOVIE_PATH + 'np/monomer_rect.csv', index_col=0)\n",
    "if len(df) > 0:\n",
    "    img_index = 0\n",
    "    iz = df.iloc[0].values[0]\n",
    "    iy = df.iloc[0].values[1]\n",
    "    ix = df.iloc[0].values[2]\n",
    "    r_size = df.iloc[0].values[3]\n",
    "    y_gap = df.iloc[0].values[4]\n",
    "\n",
    "\n",
    "\n",
    "else:\n",
    "    df['Z'] = [0]* len(imgs)\n",
    "    df['Y'] = [0]* len(imgs)\n",
    "    df['X'] = [0]* len(imgs)\n",
    "    df['r_size'] = [40]* len(imgs)\n",
    "    df['y_gap'] = [20]* len(imgs)\n",
    "\n",
    "\n",
    "# Define the draw_rectangle callback function\n",
    "def draw_rectangle(event, x, z, flags, param):\n",
    "    global ix, iz, iy, img, img_index, r_size, img_orig, y_gap\n",
    "\n",
    "    if event == cv2.EVENT_LBUTTONDOWN:\n",
    "        ix, iz = x, z\n",
    "        df.iloc[img_index] = pd.Series([iz,iy,ix,r_size, y_gap])\n",
    "\n",
    "    elif event == cv2.EVENT_MOUSEWHEEL:\n",
    "        if flags > 0:  # scroll up\n",
    "            if iy + y_gap < imgs.shape[2]:\n",
    "                iy+= y_gap  # cycle through images\n",
    "\n",
    "        else:  # scroll down\n",
    "            iy-= y_gap  # cycle through images\n",
    "            if iy< 0:\n",
    "                iy = 0\n",
    "    img_orig = np.max(imgs[img_index, :,iy:iy+y_gap,:], axis=1) # load the new image\n",
    "\n",
    "    img = img_orig.copy()\n",
    "\n",
    "    iz, iy, ix,r_size, y_gap = tuple(df.iloc[img_index])\n",
    "    cv2.rectangle(img, pt1=(ix, iz), pt2=(ix+r_size, iz+r_size), color= (255,255,255), thickness=2)\n",
    "    img = cv2.normalize(img, None, 0, 255, cv2.NORM_MINMAX, dtype=cv2.CV_8U)\n",
    "    colored_image = cv2.applyColorMap(img, cv2.COLORMAP_JET)\n",
    "\n",
    "    # Display the image\n",
    "    cv2.imshow('image', colored_image)\n",
    "    #cv2.imshow('image', img)\n",
    "\n",
    "    data_string = f'Time: {img_index}, X: {ix}, Y: {iy}, Z: {iz} , Y MIP size: {y_gap}'\n",
    "    exit_string = 's  to save, q to quit, 2/8 to change time'\n",
    "    data_img = np.zeros((500,600))\n",
    "    position = (10, 50)  # bottom-left corner of the text\n",
    "    position_exit = (10, 100)  # bottom-left corner of the text\n",
    "    fontScale = 0.7\n",
    "    font = cv2.FONT_HERSHEY_SIMPLEX\n",
    "    color = (255, 255, 255)  # white color\n",
    "    thickness = 2  # line thickness\n",
    "    cv2.putText(data_img, data_string,  position, font, fontScale, color, thickness)\n",
    "    cv2.putText(data_img, exit_string, position_exit, font, fontScale, color, thickness)\n",
    "    cv2.imshow('Data', data_img)\n",
    "\n",
    "# 3D array of images\n",
    "img = np.max(imgs[img_index, :,y:y+y_gap,:], axis=1) .copy()\n",
    "\n",
    "# Create the named window and set the mouse callback\n",
    "cv2.namedWindow('image')\n",
    "cv2.namedWindow('Data')\n",
    "\n",
    "cv2.setMouseCallback('image', draw_rectangle)\n",
    "#cv2.setMouseCallback('Data', getData)\n",
    "\n",
    "\n",
    "# Show the image and wait for the user to close the window\n",
    "while True:\n",
    "    colored_image = cv2.applyColorMap(img, cv2.COLORMAP_JET)\n",
    "\n",
    "    # Display the image\n",
    "    cv2.imshow('image', colored_image)\n",
    "\n",
    "    #cv2.imshow('image', img)\n",
    "    key = cv2.waitKey(1) & 0xFF\n",
    "    if key  == ord('q'):\n",
    "        break\n",
    "    elif key == ord('2'):\n",
    "        img_index +=1\n",
    "        if img_index >= len(imgs):\n",
    "            img_index = 0\n",
    "        iy = df.iloc[img_index].values[1]\n",
    "        draw_rectangle(None, 0, 0, 1, 0)\n",
    "    elif key == ord('8'):\n",
    "        img_index -=1\n",
    "        if img_index < 0:\n",
    "            img_index = len(imgs)-1\n",
    "        draw_rectangle(None, 0, 0, -1, 0)\n",
    "        iy = df.iloc[img_index].values[1]\n",
    "    elif key == ord('s'):\n",
    "        df.to_csv(MOVIE_PATH + 'np/monomer_rect.csv', index=True)\n",
    "\n",
    "cv2.destroyAllWindows()\n",
    "\n",
    "# Print the saved coordinates\n"
   ],
   "metadata": {
    "collapsed": false,
    "ExecuteTime": {
     "end_time": "2023-07-19T08:41:17.067648800Z",
     "start_time": "2023-07-19T08:40:52.911849400Z"
    }
   }
  },
  {
   "cell_type": "code",
   "execution_count": 13,
   "outputs": [],
   "source": [
    "import matplotlib.pyplot as plt\n",
    "gel = np.load(MOVIE_PATH + 'np/gel.npy')"
   ],
   "metadata": {
    "collapsed": false,
    "ExecuteTime": {
     "end_time": "2023-07-19T08:26:40.048048100Z",
     "start_time": "2023-07-19T08:26:23.306322Z"
    }
   }
  },
  {
   "cell_type": "code",
   "execution_count": 16,
   "outputs": [
    {
     "data": {
      "text/plain": "<Figure size 640x480 with 1 Axes>",
      "image/png": "[encoded data removed]"
     },
     "metadata": {},
     "output_type": "display_data"
    }
   ],
   "source": [
    "df = pd.read_csv(MOVIE_PATH + 'np/monomer_rect.csv', index_col=0)\n",
    "mean_list = []\n",
    "std_list = []\n",
    "for idx, row in df.iterrows():\n",
    "    data = gel[idx, row['Z']:row['Z']+r_size, row['Y']:row['Y']+y_gap, row['X']:row['X']+r_size]\n",
    "    data = data[data>0]\n",
    "    mean_list.append(np.nanmean(data))\n",
    "    std_list.append(np.nanstd(data))\n",
    "plt.errorbar(np.arange(len(mean_list)), mean_list, yerr=std_list, fmt='o')\n",
    "plt.show()\n"
   ],
   "metadata": {
    "collapsed": false,
    "ExecuteTime": {
     "end_time": "2023-07-19T08:29:02.088007100Z",
     "start_time": "2023-07-19T08:29:01.958997900Z"
    }
   }
  },
  {
   "cell_type": "code",
   "execution_count": 16,
   "outputs": [
    {
     "data": {
      "text/plain": "array([[ 37,   0, 373],\n       [ 65,   0, 358],\n       [ 48,   0, 338],\n       [  0,   0,   0],\n       [  0,   0,   0],\n       [  0,   0,   0],\n       [  0,   0,   0],\n       [  0,   0,   0],\n       [  0,   0,   0],\n       [  0,   0,   0],\n       [  0,   0,   0],\n       [  0,   0,   0],\n       [  0,   0,   0],\n       [  0,   0,   0],\n       [  0,   0,   0],\n       [  0,   0,   0],\n       [  0,   0,   0],\n       [  0,   0,   0],\n       [  0,   0,   0],\n       [  0,   0,   0],\n       [  0,   0,   0],\n       [  0,   0,   0],\n       [  0,   0,   0],\n       [  0,   0,   0],\n       [  0,   0,   0],\n       [  0,   0,   0],\n       [  0,   0,   0],\n       [  0,   0,   0],\n       [  0,   0,   0],\n       [  0,   0,   0],\n       [  0,   0,   0],\n       [  0,   0,   0],\n       [  0,   0,   0],\n       [  0,   0,   0],\n       [  0,   0,   0],\n       [  0,   0,   0],\n       [  0,   0,   0],\n       [  0,   0,   0],\n       [  0,   0,   0],\n       [  0,   0,   0],\n       [  0,   0,   0],\n       [  0,   0,   0],\n       [  0,   0,   0],\n       [  0,   0,   0],\n       [  0,   0,   0],\n       [  0,   0,   0],\n       [  0,   0,   0],\n       [  0,   0,   0],\n       [  0,   0,   0],\n       [  0,   0,   0],\n       [  0,   0,   0],\n       [  0,   0,   0],\n       [  0,   0,   0],\n       [  0,   0,   0],\n       [  0,   0,   0],\n       [  0,   0,   0],\n       [  0,   0,   0],\n       [  0,   0,   0],\n       [  0,   0,   0],\n       [  0,   0,   0],\n       [  0,   0,   0],\n       [  0,   0,   0]])"
     },
     "execution_count": 16,
     "metadata": {},
     "output_type": "execute_result"
    }
   ],
   "source": [
    "np.vstack(rect_data)\n"
   ],
   "metadata": {
    "collapsed": false,
    "ExecuteTime": {
     "end_time": "2023-07-18T14:42:09.753254Z",
     "start_time": "2023-07-18T14:42:09.738843200Z"
    }
   }
  }
 ],
 "metadata": {
  "kernelspec": {
   "display_name": "Python 3",
   "language": "python",
   "name": "python3"
  },
  "language_info": {
   "codemirror_mode": {
    "name": "ipython",
    "version": 2
   },
   "file_extension": ".py",
   "mimetype": "text/x-python",
   "name": "python",
   "nbconvert_exporter": "python",
   "pygments_lexer": "ipython2",
   "version": "2.7.6"
  }
 },
 "nbformat": 4,
 "nbformat_minor": 0
}
