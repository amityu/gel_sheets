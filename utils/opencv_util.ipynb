{
 "cells": [
  {
   "cell_type": "code",
   "execution_count": 13,
   "outputs": [],
   "source": [
    "import cv2\n",
    "import numpy as np\n",
    "import pandas as pd\n",
    "DATA_PATH = 'C:/Users/amityu/Gel_Sheet_Data/'\n",
    "#movie = 'Control'\n",
    "#movie = '130721'\n",
    "#movie ='140721'\n",
    "#movie ='150721'\n",
    "#movie ='100621'\n",
    "movie = '130721_CCA60_RAW'\n",
    "MOVIE_PATH = DATA_PATH +  movie + '/'\n",
    "GRAPH_PATH = 'C:/Users/amityu/Gel_Sheet_Graph/'\n"
   ],
   "metadata": {
    "collapsed": false,
    "ExecuteTime": {
     "end_time": "2023-07-18T14:37:20.876669900Z",
     "start_time": "2023-07-18T14:37:20.862673600Z"
    }
   }
  },
  {
   "cell_type": "code",
   "execution_count": 27,
   "outputs": [],
   "source": [
    "imgs_float = np.load(MOVIE_PATH + 'np/gel.npy') # replace with your images\n",
    "imgs = np.zeros(imgs_float.shape, dtype='uint8')\n",
    "imgs_float = np.nan_to_num(imgs_float)\n",
    "for t in range(len(imgs_float)):\n",
    "    img = imgs_float[t]\n",
    "    img = cv2.normalize(img, None, 0, 255, cv2.NORM_MINMAX, dtype=cv2.CV_8U)\n",
    "    img = img.astype(np.uint8)\n",
    "    imgs[t] = img\n",
    "\n",
    "#replace nan with zero"
   ],
   "metadata": {
    "collapsed": false,
    "ExecuteTime": {
     "end_time": "2023-07-18T15:00:18.908642200Z",
     "start_time": "2023-07-18T14:59:35.324469200Z"
    }
   }
  },
  {
   "cell_type": "code",
   "execution_count": 36,
   "outputs": [],
   "source": [
    "import cv2\n",
    "import numpy as np\n",
    "y = 0\n",
    "# Global variables\n",
    "ix,iy, iz = -1, 0, -1\n",
    "y_gap = 20\n",
    "drawing = False\n",
    "img_index = 0\n",
    "r_size = 40 # Define your rectangle size here\n",
    "coordinates = []\n",
    "df = pd.read_csv(MOVIE_PATH + 'np/monomer_rect.csv', index_col=0)\n",
    "if len(df) > 0:\n",
    "    rect_data = np.empty(len(imgs), dtype=object)\n",
    "    for t in range(len(imgs)):\n",
    "        rect_data[t] = (df.iloc[t].values[0], df.iloc[t].values[1], df.iloc[t].values[2])\n",
    "\n",
    "else:\n",
    "    rect_data = np.empty(len(imgs), dtype=object)\n",
    "    for t in range(len(imgs)):\n",
    "        rect_data[t] = (0,0,0)\n",
    "# Define the draw_rectangle callback function\n",
    "def draw_rectangle(event, x, z, flags, param):\n",
    "    global ix, iz, y, drawing, img, img_index, r_size, img_orig\n",
    "\n",
    "    if event == cv2.EVENT_LBUTTONDOWN:\n",
    "        rect_data[img_index] = (z,y,x)\n",
    "        ix, iz = x, z\n",
    "        #img = img_orig.copy()  # create a copy of the image\n",
    "\n",
    "    #elif event == cv2.EVENT_MOUSEMOVE:\n",
    "    #    if drawing == True:\n",
    "    #        img_temp = img.copy()\n",
    "    #        cv2.rectangle(img_temp, pt1=(ix, iz), pt2=(ix+r_size, iz+r_size), color=(0, 255, 0), thickness=2)\n",
    "    #        cv2.imshow('image', img_temp)\n",
    "\n",
    "    elif event == cv2.EVENT_LBUTTONUP:\n",
    "        drawing = False\n",
    "\n",
    "\n",
    "    elif event == cv2.EVENT_MOUSEWHEEL:\n",
    "        if flags > 0:  # scroll up\n",
    "            if y + y_gap < imgs.shape[2]:\n",
    "                y+= y_gap  # cycle through images\n",
    "\n",
    "        else:  # scroll down\n",
    "            y-= y_gap  # cycle through images\n",
    "            if y< 0:\n",
    "                y = 0\n",
    "    img_orig = np.max(imgs[img_index, :,y:y+y_gap,:], axis=1) # load the new image\n",
    "\n",
    "    img = img_orig.copy()\n",
    "\n",
    "    iz, _, ix = rect_data[img_index]\n",
    "    cv2.rectangle(img, pt1=(ix, iz), pt2=(ix+r_size, iz+r_size), color= (255,255,255), thickness=2)\n",
    "    img = cv2.normalize(img, None, 0, 255, cv2.NORM_MINMAX, dtype=cv2.CV_8U)\n",
    "    colored_image = cv2.applyColorMap(img, cv2.COLORMAP_JET)\n",
    "\n",
    "    # Display the image\n",
    "    cv2.imshow('image', colored_image)\n",
    "    #cv2.imshow('image', img)\n",
    "\n",
    "    data_string = f'Time: {img_index}, X: {x}, Y: {y}, Z: {z}'\n",
    "    data_img = np.zeros((500,500))\n",
    "    position = (10, 50)  # bottom-left corner of the text\n",
    "    fontScale = 0.7\n",
    "    font = cv2.FONT_HERSHEY_SIMPLEX\n",
    "    color = (255, 255, 255)  # white color\n",
    "    thickness = 2  # line thickness\n",
    "    cv2.putText(data_img, data_string,  position, font, fontScale, color, thickness)\n",
    "    cv2.imshow('Data', data_img)\n",
    "\n",
    "# 3D array of images\n",
    "img = np.max(imgs[img_index, :,y:y+y_gap,:], axis=1) .copy()\n",
    "\n",
    "# Create the named window and set the mouse callback\n",
    "cv2.namedWindow('image')\n",
    "cv2.namedWindow('Data')\n",
    "cv2.setMouseCallback('image', draw_rectangle)\n",
    "#cv2.setMouseCallback('Data', getData)\n",
    "\n",
    "\n",
    "# Show the image and wait for the user to close the window\n",
    "while True:\n",
    "    colored_image = cv2.applyColorMap(img, cv2.COLORMAP_JET)\n",
    "\n",
    "    # Display the image\n",
    "    cv2.imshow('image', colored_image)\n",
    "\n",
    "    #cv2.imshow('image', img)\n",
    "    key = cv2.waitKey(1) & 0xFF\n",
    "    if key  == ord('q'):\n",
    "        break\n",
    "    elif key == ord('2'):\n",
    "        img_index +=1\n",
    "        if img_index >= len(imgs):\n",
    "            img_index = 0\n",
    "        draw_rectangle(None, 0, 0, 1, 0)\n",
    "    elif key == ord('8'):\n",
    "        img_index -=1\n",
    "        if img_index < 0:\n",
    "            img_index = len(imgs)-1\n",
    "        draw_rectangle(None, 0, 0, -1, 0)\n",
    "    elif key == ord('s'):\n",
    "        df = pd.DataFrame(np.vstack(rect_data).astype(int), columns=['Z', 'Y', 'X'])\n",
    "        df.to_csv(MOVIE_PATH + 'np/monomer_rect.csv', index=True)\n",
    "\n",
    "cv2.destroyAllWindows()\n",
    "\n",
    "# Print the saved coordinates\n"
   ],
   "metadata": {
    "collapsed": false,
    "ExecuteTime": {
     "end_time": "2023-07-18T15:17:20.444941Z",
     "start_time": "2023-07-18T15:14:16.769546800Z"
    }
   }
  },
  {
   "cell_type": "code",
   "execution_count": null,
   "outputs": [],
   "source": [
    "import matplotlib.pyplot as plt\n",
    "gel = np.load(MOVIE_PATH + 'np/gel.npy')"
   ],
   "metadata": {
    "collapsed": false
   }
  },
  {
   "cell_type": "code",
   "execution_count": 41,
   "outputs": [
    {
     "data": {
      "text/plain": "<Figure size 640x480 with 1 Axes>",
      "image/png": "[encoded data removed]"
     },
     "metadata": {},
     "output_type": "display_data"
    }
   ],
   "source": [
    "df = pd.read_csv(MOVIE_PATH + 'np/monomer_rect.csv', index_col=0)\n",
    "mean_list = []\n",
    "std_list = []\n",
    "for idx, row in df.iterrows():\n",
    "    data = gel[idx, row['Z']:row['Z']+r_size, row['Y']:row['Y']+y_gap, row['X']:row['X']+r_size]\n",
    "    mean_list.append(np.nanmean(data))\n",
    "    std_list.append(np.nanstd(data))\n",
    "plt.errorbar(np.arange(len(mean_list)), mean_list, yerr=std_list, fmt='o')\n",
    "plt.show()\n"
   ],
   "metadata": {
    "collapsed": false,
    "ExecuteTime": {
     "end_time": "2023-07-18T15:23:47.111434400Z",
     "start_time": "2023-07-18T15:23:46.551897Z"
    }
   }
  },
  {
   "cell_type": "code",
   "execution_count": 16,
   "outputs": [
    {
     "data": {
      "text/plain": "array([[ 37,   0, 373],\n       [ 65,   0, 358],\n       [ 48,   0, 338],\n       [  0,   0,   0],\n       [  0,   0,   0],\n       [  0,   0,   0],\n       [  0,   0,   0],\n       [  0,   0,   0],\n       [  0,   0,   0],\n       [  0,   0,   0],\n       [  0,   0,   0],\n       [  0,   0,   0],\n       [  0,   0,   0],\n       [  0,   0,   0],\n       [  0,   0,   0],\n       [  0,   0,   0],\n       [  0,   0,   0],\n       [  0,   0,   0],\n       [  0,   0,   0],\n       [  0,   0,   0],\n       [  0,   0,   0],\n       [  0,   0,   0],\n       [  0,   0,   0],\n       [  0,   0,   0],\n       [  0,   0,   0],\n       [  0,   0,   0],\n       [  0,   0,   0],\n       [  0,   0,   0],\n       [  0,   0,   0],\n       [  0,   0,   0],\n       [  0,   0,   0],\n       [  0,   0,   0],\n       [  0,   0,   0],\n       [  0,   0,   0],\n       [  0,   0,   0],\n       [  0,   0,   0],\n       [  0,   0,   0],\n       [  0,   0,   0],\n       [  0,   0,   0],\n       [  0,   0,   0],\n       [  0,   0,   0],\n       [  0,   0,   0],\n       [  0,   0,   0],\n       [  0,   0,   0],\n       [  0,   0,   0],\n       [  0,   0,   0],\n       [  0,   0,   0],\n       [  0,   0,   0],\n       [  0,   0,   0],\n       [  0,   0,   0],\n       [  0,   0,   0],\n       [  0,   0,   0],\n       [  0,   0,   0],\n       [  0,   0,   0],\n       [  0,   0,   0],\n       [  0,   0,   0],\n       [  0,   0,   0],\n       [  0,   0,   0],\n       [  0,   0,   0],\n       [  0,   0,   0],\n       [  0,   0,   0],\n       [  0,   0,   0]])"
     },
     "execution_count": 16,
     "metadata": {},
     "output_type": "execute_result"
    }
   ],
   "source": [
    "np.vstack(rect_data)\n"
   ],
   "metadata": {
    "collapsed": false,
    "ExecuteTime": {
     "end_time": "2023-07-18T14:42:09.753254Z",
     "start_time": "2023-07-18T14:42:09.738843200Z"
    }
   }
  }
 ],
 "metadata": {
  "kernelspec": {
   "display_name": "Python 3",
   "language": "python",
   "name": "python3"
  },
  "language_info": {
   "codemirror_mode": {
    "name": "ipython",
    "version": 2
   },
   "file_extension": ".py",
   "mimetype": "text/x-python",
   "name": "python",
   "nbconvert_exporter": "python",
   "pygments_lexer": "ipython2",
   "version": "2.7.6"
  }
 },
 "nbformat": 4,
 "nbformat_minor": 0
}
