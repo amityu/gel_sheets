{
 "cells": [
  {
   "cell_type": "code",
   "execution_count": 7,
   "outputs": [],
   "source": [
    "import cv2\n",
    "import numpy as np\n",
    "DATA_PATH = 'C:/Users/amityu/Gel_Sheet_Data/'\n",
    "#movie = 'Control'\n",
    "#movie = '130721'\n",
    "#movie ='140721'\n",
    "#movie ='150721'\n",
    "#movie ='100621'\n",
    "movie = '130721_CCA60_RAW'\n",
    "MOVIE_PATH = DATA_PATH +  movie + '/'\n",
    "GRAPH_PATH = 'C:/Users/amityu/Gel_Sheet_Graph/'\n"
   ],
   "metadata": {
    "collapsed": false,
    "ExecuteTime": {
     "end_time": "2023-07-18T10:37:27.713259600Z",
     "start_time": "2023-07-18T10:37:27.703259700Z"
    }
   }
  },
  {
   "cell_type": "code",
   "execution_count": 8,
   "outputs": [],
   "source": [
    "imgs_float = np.load(MOVIE_PATH + 'np/gel.npy')[:,:,:,256] # replace with your images\n",
    "imgs = np.zeros(imgs_float.shape, dtype='uint8')\n",
    "imgs_float = np.nan_to_num(imgs_float)\n",
    "for t in range(len(imgs_float)):\n",
    "    img = imgs_float[t]\n",
    "    img = cv2.normalize(img, None, 0, 255, cv2.NORM_MINMAX)\n",
    "    img = img.astype(np.uint8)\n",
    "    imgs[t] = img\n",
    "\n",
    "#replace nan with zero"
   ],
   "metadata": {
    "collapsed": false,
    "ExecuteTime": {
     "end_time": "2023-07-18T10:37:40.815211700Z",
     "start_time": "2023-07-18T10:37:29.855157900Z"
    }
   }
  },
  {
   "cell_type": "code",
   "execution_count": null,
   "outputs": [
    {
     "name": "stdout",
     "output_type": "stream",
     "text": [
      "Saved coordinates: (57, 271, 41)\n",
      "Saved coordinates: (57, 350, 58)\n"
     ]
    }
   ],
   "source": [
    "import cv2\n",
    "import numpy as np\n",
    "\n",
    "# Global variables\n",
    "ix, iy = -1, -1\n",
    "drawing = False\n",
    "img_index = 0\n",
    "r_size = 40 # Define your rectangle size here\n",
    "coordinates = []\n",
    "\n",
    "# Define the draw_rectangle callback function\n",
    "def draw_rectangle(event, x, y, flags, param):\n",
    "    global ix, iy, drawing, img, img_index, r_size, img_orig\n",
    "\n",
    "    if event == cv2.EVENT_LBUTTONDOWN:\n",
    "        drawing = True\n",
    "        ix, iy = x, y\n",
    "        img = img_orig.copy()  # create a copy of the image\n",
    "\n",
    "    elif event == cv2.EVENT_MOUSEMOVE:\n",
    "        if drawing == True:\n",
    "            img_temp = img.copy()\n",
    "            cv2.rectangle(img_temp, pt1=(ix, iy), pt2=(ix+r_size, iy+r_size), color=(0, 255, 0), thickness=2)\n",
    "            cv2.imshow('image', img_temp)\n",
    "\n",
    "    elif event == cv2.EVENT_LBUTTONUP:\n",
    "        drawing = False\n",
    "        cv2.rectangle(img, pt1=(ix, iy), pt2=(ix+r_size, iy+r_size), color= (255,255,255), thickness=2)\n",
    "        coordinates.append((img_index, ix, iy))\n",
    "        print(f'Saved coordinates: {coordinates[-1]}')\n",
    "\n",
    "    elif event == cv2.EVENT_MOUSEWHEEL:\n",
    "        if flags > 0:  # scroll up\n",
    "            img_index = (img_index + 1) % len(imgs)  # cycle through images\n",
    "        else:  # scroll down\n",
    "            img_index = (img_index - 1) % len(imgs)  # cycle through images\n",
    "        img_orig = imgs[img_index].copy()  # load the new image\n",
    "        img = img_orig.copy()\n",
    "        cv2.imshow('image', img)\n",
    "\n",
    "\n",
    "# 3D array of images\n",
    "img = imgs[img_index].copy()\n",
    "\n",
    "# Create the named window and set the mouse callback\n",
    "cv2.namedWindow('image')\n",
    "cv2.setMouseCallback('image', draw_rectangle)\n",
    "\n",
    "# Show the image and wait for the user to close the window\n",
    "while True:\n",
    "    cv2.imshow('image', img)\n",
    "    if cv2.waitKey(1) & 0xFF == ord('q'):\n",
    "        break\n",
    "\n",
    "cv2.destroyAllWindows()\n",
    "\n",
    "# Print the saved coordinates\n",
    "print('All saved coordinates:')\n",
    "for idx, x, y in coordinates:\n",
    "    print(f'Image index: {idx}, X: {x}, Y: {y}')\n"
   ],
   "metadata": {
    "collapsed": false,
    "is_executing": true,
    "ExecuteTime": {
     "start_time": "2023-07-18T10:37:40.820212100Z"
    }
   }
  }
 ],
 "metadata": {
  "kernelspec": {
   "display_name": "Python 3",
   "language": "python",
   "name": "python3"
  },
  "language_info": {
   "codemirror_mode": {
    "name": "ipython",
    "version": 2
   },
   "file_extension": ".py",
   "mimetype": "text/x-python",
   "name": "python",
   "nbconvert_exporter": "python",
   "pygments_lexer": "ipython2",
   "version": "2.7.6"
  }
 },
 "nbformat": 4,
 "nbformat_minor": 0
}
