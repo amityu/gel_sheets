{
 "cells": [
  {
   "cell_type": "markdown",
   "source": [
    "MONOMER GUI DETECTOR\n"
   ],
   "metadata": {
    "collapsed": false
   }
  },
  {
   "cell_type": "code",
   "execution_count": 2,
   "outputs": [],
   "source": [
    "import cv2\n",
    "import numpy as np\n",
    "import pandas as pd\n",
    "import os\n",
    "#import tqdm for jupyter notebook\n",
    "from tqdm.notebook import tqdm, trange\n",
    "from scipy.ndimage   import gaussian_filter\n",
    "\n",
    "DATA_PATH = 'C:/Users/amityu/Gel_Sheet_Data/'\n",
    "#DATA_PATH = r'D:\\amityu\\backoffice_data\\\\'\n",
    "\n",
    "#movie = 'Control'\n",
    "#movie ='140721'\n",
    "#movie ='150721'\n",
    "#movie ='100621'\n",
    "#movie = '130721_CCA60_RAW'\n",
    "#movie ='280523 AM100 568_2'\n",
    "#movie ='280523 AM100 568_3'\n",
    "#movie ='cca120'\n",
    "#movie = 'control_1_050721'\n",
    "#movie = 'control_2_230523'\n",
    "#movie = 'cca120_am200'\n",
    "#movie = 'cca40'\n",
    "movie = 'cca300'\n",
    "#movie = 'cca60_dist'\n",
    "MOVIE_PATH = DATA_PATH +  movie + '/'\n",
    "GRAPH_PATH = 'C:/Users/amityu/Gel_Sheet_Graph/'\n",
    "#import gaussian from opencv\n",
    "#from cv2 import GaussianBlur as gaussian"
   ],
   "metadata": {
    "collapsed": false,
    "ExecuteTime": {
     "end_time": "2024-06-10T22:04:42.944703Z",
     "start_time": "2024-06-10T22:04:42.585205Z"
    }
   }
  },
  {
   "cell_type": "code",
   "execution_count": 3,
   "outputs": [],
   "source": [
    "gel = np.load(MOVIE_PATH + 'np/gel_corrected.npy', mmap_mode='r')"
   ],
   "metadata": {
    "collapsed": false,
    "ExecuteTime": {
     "end_time": "2024-06-10T22:04:46.112052Z",
     "start_time": "2024-06-10T22:04:46.101663Z"
    }
   }
  },
  {
   "cell_type": "code",
   "outputs": [
    {
     "ename": "NameError",
     "evalue": "name 'gel' is not defined",
     "output_type": "error",
     "traceback": [
      "\u001B[1;31m---------------------------------------------------------------------------\u001B[0m",
      "\u001B[1;31mNameError\u001B[0m                                 Traceback (most recent call last)",
      "Cell \u001B[1;32mIn[1], line 1\u001B[0m\n\u001B[1;32m----> 1\u001B[0m \u001B[38;5;28;01mdel\u001B[39;00m gel\n",
      "\u001B[1;31mNameError\u001B[0m: name 'gel' is not defined"
     ]
    }
   ],
   "source": [
    "del gel"
   ],
   "metadata": {
    "collapsed": false,
    "ExecuteTime": {
     "end_time": "2024-04-30T14:18:48.047214Z",
     "start_time": "2024-04-30T14:18:47.461215Z"
    }
   },
   "execution_count": 1
  },
  {
   "cell_type": "code",
   "execution_count": 3,
   "outputs": [
    {
     "name": "stderr",
     "output_type": "stream",
     "text": [
      "\n",
      "KeyboardInterrupt\n",
      "\n"
     ]
    }
   ],
   "source": [
    "imgs_float = np.load(MOVIE_PATH + 'np/gel_corrected.npy').astype(np.float32) # replace with your images\n",
    "\n",
    "imgs = np.zeros(imgs_float.shape, dtype='uint8')\n",
    "imgs_float[np.isnan(imgs_float)] = 0\n",
    "for t in trange(len(imgs_float)):\n",
    "    img = imgs_float[t]\n",
    "    img = cv2.normalize(img, None, 0, 255, cv2.NORM_MINMAX, dtype=cv2.CV_8U)\n",
    "    img = img.astype(np.uint8)\n",
    "    imgs[t] = img"
   ],
   "metadata": {
    "collapsed": false,
    "ExecuteTime": {
     "end_time": "2024-06-10T19:05:36.581253Z",
     "start_time": "2024-06-10T19:05:23.628537Z"
    }
   }
  },
  {
   "cell_type": "code",
   "execution_count": 4,
   "outputs": [],
   "source": [
    "save_data_file_name = MOVIE_PATH + 'np/monomer_rect_6.csv'"
   ],
   "metadata": {
    "collapsed": false,
    "ExecuteTime": {
     "end_time": "2024-06-10T22:04:50.275685Z",
     "start_time": "2024-06-10T22:04:50.264686Z"
    }
   }
  },
  {
   "cell_type": "code",
   "execution_count": 23,
   "outputs": [],
   "source": [
    "# Run at first time else deleted file\n",
    "if ~os.path.isfile(save_data_file_name):\n",
    "    df = pd.DataFrame()\n",
    "    df['frame'] = np.arange(len(gel))\n",
    "    df['Z'] = [0]* len(gel)\n",
    "    df['Y'] = [50]* len(gel)\n",
    "    df['X'] = [50]* len(gel)\n",
    "    df['r_size'] = [15]* len(gel)\n",
    "    df['y_gap'] = [20]* len(gel)  # scroll step in y\n",
    "    df['mean'] = [0.0]* len(gel)\n",
    "    df['std'] = [0.0]* len(gel)\n",
    "    df['gap_from_surface'] = [10]* len(gel)\n",
    "    #save dataframes\n",
    "    df.to_csv(save_data_file_name, index=True)\n"
   ],
   "metadata": {
    "collapsed": false,
    "ExecuteTime": {
     "end_time": "2024-06-10T18:52:32.623900Z",
     "start_time": "2024-06-10T18:52:32.611516Z"
    }
   }
  },
  {
   "cell_type": "code",
   "outputs": [],
   "source": [
    "# Dependencies\n",
    "import cv2\n",
    "import numpy as np\n",
    "import pandas as pd\n",
    "\n",
    "# Global constants\n",
    "IMAGE_HEIGHT = 500\n",
    "FONT_SCALE = 0.7\n",
    "FONT = cv2.FONT_HERSHEY_SIMPLEX\n",
    "COLOR = (255, 255, 255)  # white color\n",
    "THICKNESS = 2  # line thickness\n",
    "POSITIONS = {\"position\": (10, 50), \"exit\": (10, 100), \"position2\": (10, 150), \"position3\": (10, 200)}\n",
    "\n",
    "\n",
    "def load_data(save_data_file_name):\n",
    "    df = pd.read_csv(save_data_file_name)\n",
    "    df.set_index('frame', inplace=True)\n",
    "    return df\n",
    "\n",
    "\n",
    "def normalize_img(img):\n",
    "    return cv2.normalize(img, None, 0, 255, cv2.NORM_MINMAX, dtype=cv2.CV_8U)\n",
    "\n",
    "\n",
    "def draw_rectangle(event, x, y, z, flags):\n",
    "    # Callback logic here...\n",
    "    mean = df.loc[frame_index, 'mean']\n",
    "    std = df.loc[frame_index, 'std']\n",
    "\n",
    "    r_size= df.loc[frame_index, 'r_size']\n",
    "    gap_from_surface = df.loc[frame_index, 'gap_from_surface']\n",
    "    y_gap = df.loc[frame_index, 'y_gap']\n",
    "    y = df.loc[frame_index, 'Y']\n",
    "\n",
    "    if event == cv2.EVENT_LBUTTONDOWN:\n",
    "\n",
    "        i_data = gel[frame_index, z + gap_from_surface:z + r_size, y:y + y_gap, x:x + r_size]\n",
    "        i_data = i_data[~np.isnan(i_data)]\n",
    "        mean = np.nanmean(i_data)\n",
    "        std = np.nanstd(i_data)\n",
    "        if np.isnan(mean):\n",
    "            mean = 0\n",
    "        if np.isnan(std):\n",
    "            std = 0\n",
    "\n",
    "    elif event == cv2.EVENT_MOUSEWHEEL:\n",
    "        if flags > 0:  # scroll up\n",
    "            if y + y_gap < gel.shape[2]:\n",
    "                y+= y_gap  # cycle through images\n",
    "        \n",
    "        else:  # scroll down\n",
    "            y-= y_gap  # cycle through images\n",
    "            if y< 0:\n",
    "                y = 0\n",
    "    df.loc[frame_index] = {'Z':z,'Y':y, 'X':x, 'r_size':r_size, 'y_gap':y_gap, 'mean':mean, 'std':std, 'gap_from_surface':gap_from_surface}\n",
    "\n",
    "   \n",
    "def build_image(df, frame_index):\n",
    "    # Formatting logic here...\n",
    "    y_gap = df.loc[frame_index, 'y_gap']\n",
    "    y = df.loc[frame_index, 'Y']\n",
    "    r_size= df.loc[frame_index, 'r_size']\n",
    "    x =  df.loc[frame_index, 'X']\n",
    "    z =  df.loc[frame_index, 'Z']\n",
    "    gap_from_surface = df.loc[frame_index, 'gap_from_surface']\n",
    "    mean = df.loc[frame_index, 'mean']\n",
    "    std = df.loc[frame_index, 'std']\n",
    "\n",
    "    img_no_nan = np.max(gel[frame_index, :, y:y + y_gap, :], axis=1)\n",
    "    img_no_nan[np.isnan(img_no_nan)] = 0\n",
    "    img= img_no_nan.astype(np.uint8)\n",
    "    \n",
    "    cv2.rectangle(img, pt1=(x, z), pt2=(x+r_size, z+r_size), color= 1, thickness=2)\n",
    "    img = cv2.normalize(img, None, 0, 255, cv2.NORM_MINMAX, dtype=cv2.CV_8U)\n",
    "    gel_image = cv2.applyColorMap(img, cv2.COLORMAP_JET)\n",
    "    data_img = np.zeros((600,img.shape[1]), dtype=np.uint8)\n",
    "    data_string = f'Time: {frame_index}, X: { df.loc[frame_index, \"X\"]}, Y: {y}, Z: {df.loc[frame_index, \"Z\"]} , Y MIP size: {y_gap}'\n",
    "    data_string2 = f' , r_size: {r_size}, gap_from_surface: {gap_from_surface}'\n",
    "    data_string3 = f' , mean: {mean:.2f}, std: {std:.2f}'\n",
    "    exit_string = 's  to save, q to quit, 2/8 to change time'\n",
    "    cv2.putText(data_img, data_string, POSITIONS[\"position\"], FONT, FONT_SCALE, COLOR, THICKNESS)\n",
    "    cv2.putText(data_img, exit_string, POSITIONS[\"exit\"], FONT, FONT_SCALE, COLOR, THICKNESS)\n",
    "    cv2.putText(data_img, data_string2, POSITIONS[\"position2\"], FONT, FONT_SCALE, COLOR, THICKNESS)\n",
    "    cv2.putText(data_img, data_string3, POSITIONS[\"position3\"], FONT, FONT_SCALE, COLOR, THICKNESS)\n",
    "    data_img = cv2.applyColorMap(data_img, cv2.COLORMAP_JET)\n",
    "\n",
    "    return cv2.vconcat([gel_image, data_img])\n",
    "\n",
    "def main():\n",
    "    # DataFrame for data\n",
    "    df = load_data(save_data_file_name)\n",
    "    # Img logic here...\n",
    "    frame_index = 0\n",
    "\n",
    "    while True:\n",
    "        # Display the image\n",
    "        colored_image = build_image(df,frame_index)\n",
    "        cv2.imshow('image', colored_image)\n",
    "        key = cv2.waitKey(1) & 0xFF\n",
    "\n",
    "        if key == ord('q'):\n",
    "            cv2.imwrite(DATA_PATH + 'monomer_app.jpg', colored_image)\n",
    "            break\n",
    "\n",
    "        elif key == ord('2'):\n",
    "            frame_index += 1\n",
    "            if frame_index >= len(gel):\n",
    "                frame_index = 0\n",
    "\n",
    "        elif key == ord('8'):\n",
    "            frame_index -= 1\n",
    "            if frame_index < 0:\n",
    "                frame_index = len(imgs) - 1\n",
    "\n",
    "        elif key == ord('s'):\n",
    "            df.to_csv(save_data_file_name, index=True)\n",
    "\n",
    "\n",
    "if __name__ == \"__main__\":\n",
    "    main()\n"
   ],
   "metadata": {
    "collapsed": false,
    "ExecuteTime": {
     "end_time": "2024-06-10T22:09:28.780911Z",
     "start_time": "2024-06-10T22:09:04.537315Z"
    }
   },
   "execution_count": 8
  },
  {
   "cell_type": "code",
   "outputs": [],
   "source": [
    "import cv2\n",
    "import numpy as np\n",
    "global iy\n",
    "# Global variables\n",
    "frame_index = 0\n",
    "enlarge_image_factor = 2\n",
    "df = pd.read_csv(save_data_file_name, index_col=0)\n",
    "df.set_index('frame', inplace=True)\n",
    "\n",
    "\n",
    "# Define the draw_rectangle callback function\n",
    "def draw_rectangle(event, x, z, flags, param):\n",
    "    mean = df.loc[frame_index, 'mean']\n",
    "    std = df.loc[frame_index, 'std']\n",
    "\n",
    "    r_size= df.loc[frame_index, 'r_size']\n",
    "    gap_from_surface = df.loc[frame_index, 'gap_from_surface']\n",
    "    y_gap = df.loc[frame_index, 'y_gap']\n",
    "    y = df.loc[frame_index, 'Y']\n",
    "    if event == cv2.EVENT_LBUTTONDOWN:\n",
    "        \n",
    "        i_data = gel[frame_index, z + gap_from_surface:z + r_size, y:y + y_gap, x:x + r_size]\n",
    "        i_data = i_data[~np.isnan(i_data)]\n",
    "        mean = np.nanmean(i_data)\n",
    "        std = np.nanstd(i_data)\n",
    "        if np.isnan(mean):\n",
    "            mean = 0\n",
    "        if np.isnan(std):\n",
    "            std = 0\n",
    "        df.loc[frame_index] = {'Z':z,'Y':y, 'X':x, 'r_size':r_size, 'y_gap':y_gap, 'mean':mean, 'std':std, 'gap_from_surface':gap_from_surface}\n",
    "\n",
    "    elif event == cv2.EVENT_MOUSEWHEEL:\n",
    "        if flags > 0:  # scroll up\n",
    "            if y + y_gap < gel.shape[2]:\n",
    "                y+= y_gap  # cycle through images\n",
    "\n",
    "        else:  # scroll down\n",
    "            y-= y_gap  # cycle through images\n",
    "            if y< 0:\n",
    "                y = 0\n",
    "    #img_index =24\n",
    "    img_no_nan = np.max(gel[frame_index, :, y:y + y_gap, :], axis=1)\n",
    "    img_no_nan[np.isnan(img_no_nan)] = 0\n",
    "    img_no_nan = img_no_nan.astype(np.int8)\n",
    "    img_orig =cv2.convertScaleAbs(img_no_nan, alpha=1, beta=0)# load the new image\n",
    "\n",
    "    img = img_orig.copy()\n",
    "\n",
    "    cv2.rectangle(img, pt1=(x, z), pt2=(x+r_size, z+r_size), color= 1, thickness=2)\n",
    "    img = cv2.normalize(img, None, 0, 255, cv2.NORM_MINMAX, dtype=cv2.CV_8U)\n",
    "    colored_image = cv2.applyColorMap(img, cv2.COLORMAP_JET)\n",
    "\n",
    "    # Display the image\n",
    "    #cv2.imshow('image', colored_image)\n",
    "    #cv2.imshow('image', img)\n",
    "\n",
    "    data_string = f'Time: {frame_index}, X: { df.loc[frame_index, \"X\"]}, Y: {y}, Z: {df.loc[frame_index, \"Z\"]} , Y MIP size: {y_gap}'\n",
    "    data_string2 = f' , r_size: {r_size}, gap_from_surface: {gap_from_surface}'\n",
    "    data_string3 = f' , mean: {mean:.2f}, std: {std:.2f}'\n",
    "    exit_string = 's  to save, q to quit, 2/8 to change time'\n",
    "    data_img = np.zeros((600,img.shape[1]), dtype=np.uint8)\n",
    "    position = (10, 50)  # bottom-left corner of the text\n",
    "    position_exit = (10, 100)  # bottom-left corner of the text\n",
    "    position2 = (10, 150)  # bottom-left corner of the text\n",
    "    position3 = (10, 200)  # bottom-left corner of the text\n",
    "\n",
    "    fontScale = 0.7\n",
    "    font = cv2.FONT_HERSHEY_SIMPLEX\n",
    "    color = (255, 255, 255)  # white color\n",
    "    thickness = 2  # line thickness\n",
    "    cv2.putText(data_img, data_string,  position, font, fontScale, color, thickness)\n",
    "    cv2.putText(data_img, exit_string, position_exit, font, fontScale, color, thickness)\n",
    "    cv2.putText(data_img, data_string2, position2, font, fontScale, color, thickness)\n",
    "    cv2.putText(data_img, data_string3, position3, font, fontScale, color, thickness)\n",
    "    #cv2.imshow('Data', data_img)\n",
    "    data_img = cv2.applyColorMap(data_img, cv2.COLORMAP_JET)\n",
    "    return cv2.vconcat([colored_image, data_img])\n",
    "\n",
    "# 3D array of images\n",
    "img = np.zeros_like(gel[0, :, 0, :], dtype=np.uint8)\n",
    "gel_image = cv2.applyColorMap(img, cv2.COLORMAP_JET)\n",
    "\n",
    "data_img_out =  np.zeros((500,gel[0, :, 0, :].shape[1]), dtype=np.uint8)\n",
    "data_img_out = cv2.applyColorMap(data_img_out, cv2.COLORMAP_JET)\n",
    "\n",
    "# Create the named window and set the mouse callback\n",
    "cv2.namedWindow('image',cv2.WINDOW_NORMAL)\n",
    "#cv2.namedWindow('Data', cv2.WINDOW_NORMAL)\n",
    "\n",
    "cv2.setMouseCallback('image', draw_rectangle)\n",
    "#cv2.setMouseCallback('Data', getData)\n",
    "\n",
    "\n",
    "# Show the image and wait for the user to close the window\n",
    "colored_image = cv2.vconcat([gel_image, data_img_out])\n",
    "\n",
    "while True:\n",
    "\n",
    "    # Display the image\n",
    "    cv2.imshow('image', colored_image)\n",
    "    key = cv2.waitKey(1) & 0xFF\n",
    "    if key  == ord('q'):\n",
    "        cv2.imwrite(DATA_PATH + 'monomer_app.jpg', colored_image)\n",
    "\n",
    "        break\n",
    "    elif key == ord('2'):\n",
    "        frame_index +=1\n",
    "        if frame_index >= len(gel):\n",
    "            frame_index = 0\n",
    "        colored_image = draw_rectangle(None, 0, 0, 1, 0)\n",
    "    elif key == ord('8'):\n",
    "        frame_index -=1\n",
    "        if frame_index < 0:\n",
    "            frame_index = len(imgs) - 1\n",
    "        colored_image=draw_rectangle(None, 0, 0, -1, 0)\n",
    "    elif key == ord('s'):\n",
    "        df.to_csv(save_data_file_name, index=True)\n",
    "\n",
    "cv2.destroyAllWindows()\n",
    "\n",
    "# Print the saved coordinates\n"
   ],
   "metadata": {
    "collapsed": false,
    "ExecuteTime": {
     "end_time": "2024-06-10T19:47:03.951005Z",
     "start_time": "2024-06-10T19:46:28.000270Z"
    }
   },
   "execution_count": 11
  },
  {
   "cell_type": "code",
   "execution_count": null,
   "outputs": [],
   "source": [
    "df = pd.read_csv(MOVIE_PATH + 'np/monomer_rect.csv', index_col=0)\n",
    "plt.errorbar(np.arange(len(df)), df['mean'], yerr=df['std'], fmt='o')\n",
    "plt.xlabel('Time')\n",
    "plt.ylabel('Intensity')\n",
    "plt.title('Monomer intensity')\n",
    "plt.show()      \n"
   ],
   "metadata": {
    "collapsed": false
   }
  }
 ],
 "metadata": {
  "kernelspec": {
   "display_name": "Python 3",
   "language": "python",
   "name": "python3"
  },
  "language_info": {
   "codemirror_mode": {
    "name": "ipython",
    "version": 2
   },
   "file_extension": ".py",
   "mimetype": "text/x-python",
   "name": "python",
   "nbconvert_exporter": "python",
   "pygments_lexer": "ipython2",
   "version": "2.7.6"
  }
 },
 "nbformat": 4,
 "nbformat_minor": 0
}
