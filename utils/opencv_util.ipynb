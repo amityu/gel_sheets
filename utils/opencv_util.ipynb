{
 "cells": [
  {
   "cell_type": "code",
   "execution_count": 2,
   "outputs": [],
   "source": [
    "import cv2\n",
    "import numpy as np\n",
    "DATA_PATH = 'C:/Users/amityu/Gel_Sheet_Data/'\n",
    "#movie = 'Control'\n",
    "#movie = '130721'\n",
    "#movie ='140721'\n",
    "#movie ='150721'\n",
    "#movie ='100621'\n",
    "movie = '130721_CCA60_RAW'\n",
    "MOVIE_PATH = DATA_PATH +  movie + '/'\n",
    "GRAPH_PATH = 'C:/Users/amityu/Gel_Sheet_Graph/'\n"
   ],
   "metadata": {
    "collapsed": false,
    "ExecuteTime": {
     "end_time": "2023-07-18T12:53:34.746259700Z",
     "start_time": "2023-07-18T12:53:34.730230800Z"
    }
   }
  },
  {
   "cell_type": "code",
   "execution_count": 3,
   "outputs": [],
   "source": [
    "imgs_float = np.load(MOVIE_PATH + 'np/gel.npy')[:,:,:,256] # replace with your images\n",
    "imgs = np.zeros(imgs_float.shape, dtype='uint8')\n",
    "imgs_float = np.nan_to_num(imgs_float)\n",
    "for t in range(len(imgs_float)):\n",
    "    img = imgs_float[t]\n",
    "    img = cv2.normalize(img, None, 0, 255, cv2.NORM_MINMAX)\n",
    "    img = img.astype(np.uint8)\n",
    "    imgs[t] = img\n",
    "\n",
    "#replace nan with zero"
   ],
   "metadata": {
    "collapsed": false,
    "ExecuteTime": {
     "end_time": "2023-07-18T12:53:43.560162900Z",
     "start_time": "2023-07-18T12:53:37.393453100Z"
    }
   }
  },
  {
   "cell_type": "code",
   "execution_count": 6,
   "outputs": [
    {
     "name": "stdout",
     "output_type": "stream",
     "text": [
      "All saved coordinates:\n"
     ]
    }
   ],
   "source": [
    "import cv2\n",
    "import numpy as np\n",
    "y = 0\n",
    "# Global variables\n",
    "ix,iy, iz = -1, 0, -1\n",
    "y_gap = 20\n",
    "drawing = False\n",
    "img_index = 0\n",
    "r_size = 40 # Define your rectangle size here\n",
    "coordinates = []\n",
    "\n",
    "# Define the draw_rectangle callback function\n",
    "def draw_rectangle(event, x, z, flags, param):\n",
    "    global ix, iz, drawing, img, img_index, r_size, img_orig\n",
    "\n",
    "    if event == cv2.EVENT_LBUTTONDOWN:\n",
    "        drawing = True\n",
    "        ix, iz = x, z\n",
    "        img = img_orig.copy()  # create a copy of the image\n",
    "\n",
    "    elif event == cv2.EVENT_MOUSEMOVE:\n",
    "        if drawing == True:\n",
    "            img_temp = img.copy()\n",
    "            cv2.rectangle(img_temp, pt1=(ix, iz), pt2=(ix+r_size, iz+r_size), color=(0, 255, 0), thickness=2)\n",
    "            cv2.imshow('image', img_temp)\n",
    "\n",
    "    elif event == cv2.EVENT_LBUTTONUP:\n",
    "        drawing = False\n",
    "        cv2.rectangle(img, pt1=(ix, iz), pt2=(ix+r_size, iz+r_size), color= (255,255,255), thickness=2)\n",
    "        coordinates.append((img_index, ix, iz))\n",
    "        print(f'Saved coordinates: {coordinates[-1]}')\n",
    "\n",
    "    elif event == cv2.EVENT_MOUSEWHEEL:\n",
    "        if flags > 0:  # scroll up\n",
    "            img_index = (img_index + 1) % len(imgs)  # cycle through images\n",
    "        else:  # scroll down\n",
    "            img_index = (img_index - 1) % len(imgs)  # cycle through images\n",
    "        img_orig = imgs[img_index].copy()  # load the new image\n",
    "        img = img_orig.copy()\n",
    "        cv2.imshow('image', img)\n",
    "    data_string = f'Time: {img_index}, X: {x}, Y: {y}, Z: {z}'\n",
    "    data_img = np.zeros((500,500))\n",
    "    position = (10, 50)  # bottom-left corner of the text\n",
    "    fontScale = 0.7\n",
    "    font = cv2.FONT_HERSHEY_SIMPLEX\n",
    "    color = (255, 255, 255)  # white color\n",
    "    thickness = 2  # line thickness\n",
    "    cv2.putText(data_img, data_string,  position, font, fontScale, color, thickness)\n",
    "    cv2.imshow('Data', data_img)\n",
    "\n",
    "# 3D array of images\n",
    "img = imgs[img_index].copy()\n",
    "\n",
    "# Create the named window and set the mouse callback\n",
    "cv2.namedWindow('image')\n",
    "cv2.namedWindow('Data')\n",
    "cv2.setMouseCallback('image', draw_rectangle)\n",
    "#cv2.setMouseCallback('Data', getData)\n",
    "\n",
    "\n",
    "# Show the image and wait for the user to close the window\n",
    "while True:\n",
    "    cv2.imshow('image', img)\n",
    "    key = cv2.waitKey(1) & 0xFF\n",
    "    if key  == ord('q'):\n",
    "        break\n",
    "    elif key == ord('8'):\n",
    "        img_index +=1\n",
    "        if img_index >= len(imgs):\n",
    "            img_index = 0\n",
    "        draw_rectangle(None, 0, 0, 1, 0)\n",
    "    elif key == ord('2'):\n",
    "        img_index -=1\n",
    "        if img_index < 0:\n",
    "            img_index = len(imgs)-1\n",
    "        draw_rectangle(None, 0, 0, -1, 0)\n",
    "\n",
    "\n",
    "cv2.destroyAllWindows()\n",
    "\n",
    "# Print the saved coordinates\n",
    "print('All saved coordinates:')\n",
    "for idx, x, y in coordinates:\n",
    "    print(f'Image index: {idx}, X: {x}, Y: {y}')\n"
   ],
   "metadata": {
    "collapsed": false,
    "ExecuteTime": {
     "end_time": "2023-07-18T12:57:07.872356800Z",
     "start_time": "2023-07-18T12:56:38.847426900Z"
    }
   }
  }
 ],
 "metadata": {
  "kernelspec": {
   "display_name": "Python 3",
   "language": "python",
   "name": "python3"
  },
  "language_info": {
   "codemirror_mode": {
    "name": "ipython",
    "version": 2
   },
   "file_extension": ".py",
   "mimetype": "text/x-python",
   "name": "python",
   "nbconvert_exporter": "python",
   "pygments_lexer": "ipython2",
   "version": "2.7.6"
  }
 },
 "nbformat": 4,
 "nbformat_minor": 0
}
