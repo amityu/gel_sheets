{
 "cells": [
  {
   "cell_type": "markdown",
   "source": [
    "MONOMER GUI DETECTOR\n"
   ],
   "metadata": {
    "collapsed": false
   }
  },
  {
   "cell_type": "code",
   "execution_count": 1,
   "outputs": [],
   "source": [
    "import cv2\n",
    "import numpy as np\n",
    "import pandas as pd\n",
    "#import tqdm for jupyter notebook\n",
    "from tqdm.notebook import tqdm, trange\n",
    "from scipy.ndimage   import gaussian_filter\n",
    "\n",
    "DATA_PATH = 'C:/Users/amityu/Gel_Sheet_Data/'\n",
    "#movie = 'Control'\n",
    "#movie = '130721'\n",
    "#movie ='140721'\n",
    "#movie ='150721'\n",
    "#movie ='100621'\n",
    "#movie = '130721_CCA60_RAW'\n",
    "#movie ='280523 AM100 568'\n",
    "#movie ='280523 AM100 568'\n",
    "movie = 'control_1_050721'\n",
    "\n",
    "MOVIE_PATH = DATA_PATH +  movie + '/'\n",
    "GRAPH_PATH = 'C:/Users/amityu/Gel_Sheet_Graph/'\n",
    "#import gaussian from opencv\n",
    "#from cv2 import GaussianBlur as gaussian"
   ],
   "metadata": {
    "collapsed": false,
    "ExecuteTime": {
     "end_time": "2023-09-14T09:33:38.904320700Z",
     "start_time": "2023-09-14T09:33:37.435590600Z"
    }
   }
  },
  {
   "cell_type": "code",
   "execution_count": 2,
   "outputs": [
    {
     "data": {
      "text/plain": "  0%|          | 0/94 [00:00<?, ?it/s]",
      "application/vnd.jupyter.widget-view+json": {
       "version_major": 2,
       "version_minor": 0,
       "model_id": "28df40f05b344f6f8430ece32b797a75"
      }
     },
     "metadata": {},
     "output_type": "display_data"
    }
   ],
   "source": [
    "filter_sigma = 25\n",
    "imgs_float = np.load(MOVIE_PATH + 'np/gel_norm.npy') # replace with your images\n",
    "\n",
    "imgs = np.zeros(imgs_float.shape, dtype='uint8')\n",
    "imgs_float[np.isnan(imgs_float)] = 0\n",
    "for t in trange(len(imgs_float)):\n",
    "    img = imgs_float[t]\n",
    "    img = cv2.normalize(img, None, 0, 255, cv2.NORM_MINMAX, dtype=cv2.CV_8U)\n",
    "    img = img.astype(np.uint8)\n",
    "    imgs[t] = img\n",
    "gel = np.load(MOVIE_PATH + 'np/gel_norm.npy', mmap_mode='r')\n"
   ],
   "metadata": {
    "collapsed": false,
    "ExecuteTime": {
     "end_time": "2023-09-14T09:33:56.093502800Z",
     "start_time": "2023-09-14T09:33:42.576142200Z"
    }
   }
  },
  {
   "cell_type": "code",
   "execution_count": 3,
   "outputs": [],
   "source": [
    "gel = np.load(MOVIE_PATH + 'np/gel_norm.npy', mmap_mode='r')"
   ],
   "metadata": {
    "collapsed": false,
    "ExecuteTime": {
     "end_time": "2023-09-14T09:33:56.114734100Z",
     "start_time": "2023-09-14T09:33:56.093502800Z"
    }
   }
  },
  {
   "cell_type": "code",
   "execution_count": 4,
   "outputs": [
    {
     "data": {
      "text/plain": "  0%|          | 0/94 [00:00<?, ?it/s]",
      "application/vnd.jupyter.widget-view+json": {
       "version_major": 2,
       "version_minor": 0,
       "model_id": "fa19fd7fa0754c09be2d08689598a49d"
      }
     },
     "metadata": {},
     "output_type": "display_data"
    }
   ],
   "source": [
    "imgs_float = np.load(MOVIE_PATH + 'np/gel_norm.npy') # replace with your images\n",
    "\n",
    "imgs = np.zeros(imgs_float.shape, dtype='uint8')\n",
    "imgs_float[np.isnan(imgs_float)] = 0\n",
    "for t in trange(len(imgs_float)):\n",
    "    img = imgs_float[t]\n",
    "    img = cv2.normalize(img, None, 0, 255, cv2.NORM_MINMAX, dtype=cv2.CV_8U)\n",
    "    img = img.astype(np.uint8)\n",
    "    imgs[t] = img"
   ],
   "metadata": {
    "collapsed": false,
    "ExecuteTime": {
     "end_time": "2023-09-14T09:34:17.734707900Z",
     "start_time": "2023-09-14T09:34:04.107452100Z"
    }
   }
  },
  {
   "cell_type": "code",
   "execution_count": 5,
   "outputs": [],
   "source": [
    "# Run at first time\n",
    "monomer_data_df = pd.DataFrame()\n",
    "#save dataframes\n",
    "monomer_data_df.to_csv(MOVIE_PATH + 'np/monomer_rect.csv')\n"
   ],
   "metadata": {
    "collapsed": false,
    "ExecuteTime": {
     "end_time": "2023-09-14T09:34:17.749787600Z",
     "start_time": "2023-09-14T09:34:17.736708500Z"
    }
   }
  },
  {
   "cell_type": "code",
   "execution_count": 6,
   "outputs": [
    {
     "ename": "NameError",
     "evalue": "name 'mean' is not defined",
     "output_type": "error",
     "traceback": [
      "\u001B[1;31m---------------------------------------------------------------------------\u001B[0m",
      "\u001B[1;31mNameError\u001B[0m                                 Traceback (most recent call last)",
      "Cell \u001B[1;32mIn[6], line 80\u001B[0m, in \u001B[0;36mdraw_rectangle\u001B[1;34m(event, x, z, flags, param)\u001B[0m\n\u001B[0;32m     78\u001B[0m data_string \u001B[38;5;241m=\u001B[39m \u001B[38;5;124mf\u001B[39m\u001B[38;5;124m'\u001B[39m\u001B[38;5;124mTime: \u001B[39m\u001B[38;5;132;01m{\u001B[39;00mimg_index\u001B[38;5;132;01m}\u001B[39;00m\u001B[38;5;124m, X: \u001B[39m\u001B[38;5;132;01m{\u001B[39;00mix\u001B[38;5;132;01m}\u001B[39;00m\u001B[38;5;124m, Y: \u001B[39m\u001B[38;5;132;01m{\u001B[39;00miy\u001B[38;5;132;01m}\u001B[39;00m\u001B[38;5;124m, Z: \u001B[39m\u001B[38;5;132;01m{\u001B[39;00miz\u001B[38;5;132;01m}\u001B[39;00m\u001B[38;5;124m , Y MIP size: \u001B[39m\u001B[38;5;132;01m{\u001B[39;00my_gap\u001B[38;5;132;01m}\u001B[39;00m\u001B[38;5;124m'\u001B[39m\n\u001B[0;32m     79\u001B[0m data_string2 \u001B[38;5;241m=\u001B[39m \u001B[38;5;124mf\u001B[39m\u001B[38;5;124m'\u001B[39m\u001B[38;5;124m , r_size: \u001B[39m\u001B[38;5;132;01m{\u001B[39;00mr_size\u001B[38;5;132;01m}\u001B[39;00m\u001B[38;5;124m, gap_from_surface: \u001B[39m\u001B[38;5;132;01m{\u001B[39;00mgap_from_surface\u001B[38;5;132;01m}\u001B[39;00m\u001B[38;5;124m'\u001B[39m\n\u001B[1;32m---> 80\u001B[0m data_string3 \u001B[38;5;241m=\u001B[39m \u001B[38;5;124mf\u001B[39m\u001B[38;5;124m'\u001B[39m\u001B[38;5;124m , mean: \u001B[39m\u001B[38;5;132;01m{\u001B[39;00mmean\u001B[38;5;132;01m:\u001B[39;00m\u001B[38;5;124m.2f\u001B[39m\u001B[38;5;132;01m}\u001B[39;00m\u001B[38;5;124m, std: \u001B[39m\u001B[38;5;132;01m{\u001B[39;00mstd\u001B[38;5;132;01m:\u001B[39;00m\u001B[38;5;124m.2f\u001B[39m\u001B[38;5;132;01m}\u001B[39;00m\u001B[38;5;124m'\u001B[39m\n\u001B[0;32m     81\u001B[0m exit_string \u001B[38;5;241m=\u001B[39m \u001B[38;5;124m'\u001B[39m\u001B[38;5;124ms  to save, q to quit, 2/8 to change time\u001B[39m\u001B[38;5;124m'\u001B[39m\n\u001B[0;32m     82\u001B[0m data_img \u001B[38;5;241m=\u001B[39m np\u001B[38;5;241m.\u001B[39mzeros((\u001B[38;5;241m500\u001B[39m,\u001B[38;5;241m600\u001B[39m))\n",
      "\u001B[1;31mNameError\u001B[0m: name 'mean' is not defined"
     ]
    },
    {
     "ename": "NameError",
     "evalue": "name 'mean' is not defined",
     "output_type": "error",
     "traceback": [
      "\u001B[1;31m---------------------------------------------------------------------------\u001B[0m",
      "\u001B[1;31mNameError\u001B[0m                                 Traceback (most recent call last)",
      "Cell \u001B[1;32mIn[6], line 80\u001B[0m, in \u001B[0;36mdraw_rectangle\u001B[1;34m(event, x, z, flags, param)\u001B[0m\n\u001B[0;32m     78\u001B[0m data_string \u001B[38;5;241m=\u001B[39m \u001B[38;5;124mf\u001B[39m\u001B[38;5;124m'\u001B[39m\u001B[38;5;124mTime: \u001B[39m\u001B[38;5;132;01m{\u001B[39;00mimg_index\u001B[38;5;132;01m}\u001B[39;00m\u001B[38;5;124m, X: \u001B[39m\u001B[38;5;132;01m{\u001B[39;00mix\u001B[38;5;132;01m}\u001B[39;00m\u001B[38;5;124m, Y: \u001B[39m\u001B[38;5;132;01m{\u001B[39;00miy\u001B[38;5;132;01m}\u001B[39;00m\u001B[38;5;124m, Z: \u001B[39m\u001B[38;5;132;01m{\u001B[39;00miz\u001B[38;5;132;01m}\u001B[39;00m\u001B[38;5;124m , Y MIP size: \u001B[39m\u001B[38;5;132;01m{\u001B[39;00my_gap\u001B[38;5;132;01m}\u001B[39;00m\u001B[38;5;124m'\u001B[39m\n\u001B[0;32m     79\u001B[0m data_string2 \u001B[38;5;241m=\u001B[39m \u001B[38;5;124mf\u001B[39m\u001B[38;5;124m'\u001B[39m\u001B[38;5;124m , r_size: \u001B[39m\u001B[38;5;132;01m{\u001B[39;00mr_size\u001B[38;5;132;01m}\u001B[39;00m\u001B[38;5;124m, gap_from_surface: \u001B[39m\u001B[38;5;132;01m{\u001B[39;00mgap_from_surface\u001B[38;5;132;01m}\u001B[39;00m\u001B[38;5;124m'\u001B[39m\n\u001B[1;32m---> 80\u001B[0m data_string3 \u001B[38;5;241m=\u001B[39m \u001B[38;5;124mf\u001B[39m\u001B[38;5;124m'\u001B[39m\u001B[38;5;124m , mean: \u001B[39m\u001B[38;5;132;01m{\u001B[39;00mmean\u001B[38;5;132;01m:\u001B[39;00m\u001B[38;5;124m.2f\u001B[39m\u001B[38;5;132;01m}\u001B[39;00m\u001B[38;5;124m, std: \u001B[39m\u001B[38;5;132;01m{\u001B[39;00mstd\u001B[38;5;132;01m:\u001B[39;00m\u001B[38;5;124m.2f\u001B[39m\u001B[38;5;132;01m}\u001B[39;00m\u001B[38;5;124m'\u001B[39m\n\u001B[0;32m     81\u001B[0m exit_string \u001B[38;5;241m=\u001B[39m \u001B[38;5;124m'\u001B[39m\u001B[38;5;124ms  to save, q to quit, 2/8 to change time\u001B[39m\u001B[38;5;124m'\u001B[39m\n\u001B[0;32m     82\u001B[0m data_img \u001B[38;5;241m=\u001B[39m np\u001B[38;5;241m.\u001B[39mzeros((\u001B[38;5;241m500\u001B[39m,\u001B[38;5;241m600\u001B[39m))\n",
      "\u001B[1;31mNameError\u001B[0m: name 'mean' is not defined"
     ]
    },
    {
     "ename": "NameError",
     "evalue": "name 'mean' is not defined",
     "output_type": "error",
     "traceback": [
      "\u001B[1;31m---------------------------------------------------------------------------\u001B[0m",
      "\u001B[1;31mNameError\u001B[0m                                 Traceback (most recent call last)",
      "Cell \u001B[1;32mIn[6], line 80\u001B[0m, in \u001B[0;36mdraw_rectangle\u001B[1;34m(event, x, z, flags, param)\u001B[0m\n\u001B[0;32m     78\u001B[0m data_string \u001B[38;5;241m=\u001B[39m \u001B[38;5;124mf\u001B[39m\u001B[38;5;124m'\u001B[39m\u001B[38;5;124mTime: \u001B[39m\u001B[38;5;132;01m{\u001B[39;00mimg_index\u001B[38;5;132;01m}\u001B[39;00m\u001B[38;5;124m, X: \u001B[39m\u001B[38;5;132;01m{\u001B[39;00mix\u001B[38;5;132;01m}\u001B[39;00m\u001B[38;5;124m, Y: \u001B[39m\u001B[38;5;132;01m{\u001B[39;00miy\u001B[38;5;132;01m}\u001B[39;00m\u001B[38;5;124m, Z: \u001B[39m\u001B[38;5;132;01m{\u001B[39;00miz\u001B[38;5;132;01m}\u001B[39;00m\u001B[38;5;124m , Y MIP size: \u001B[39m\u001B[38;5;132;01m{\u001B[39;00my_gap\u001B[38;5;132;01m}\u001B[39;00m\u001B[38;5;124m'\u001B[39m\n\u001B[0;32m     79\u001B[0m data_string2 \u001B[38;5;241m=\u001B[39m \u001B[38;5;124mf\u001B[39m\u001B[38;5;124m'\u001B[39m\u001B[38;5;124m , r_size: \u001B[39m\u001B[38;5;132;01m{\u001B[39;00mr_size\u001B[38;5;132;01m}\u001B[39;00m\u001B[38;5;124m, gap_from_surface: \u001B[39m\u001B[38;5;132;01m{\u001B[39;00mgap_from_surface\u001B[38;5;132;01m}\u001B[39;00m\u001B[38;5;124m'\u001B[39m\n\u001B[1;32m---> 80\u001B[0m data_string3 \u001B[38;5;241m=\u001B[39m \u001B[38;5;124mf\u001B[39m\u001B[38;5;124m'\u001B[39m\u001B[38;5;124m , mean: \u001B[39m\u001B[38;5;132;01m{\u001B[39;00mmean\u001B[38;5;132;01m:\u001B[39;00m\u001B[38;5;124m.2f\u001B[39m\u001B[38;5;132;01m}\u001B[39;00m\u001B[38;5;124m, std: \u001B[39m\u001B[38;5;132;01m{\u001B[39;00mstd\u001B[38;5;132;01m:\u001B[39;00m\u001B[38;5;124m.2f\u001B[39m\u001B[38;5;132;01m}\u001B[39;00m\u001B[38;5;124m'\u001B[39m\n\u001B[0;32m     81\u001B[0m exit_string \u001B[38;5;241m=\u001B[39m \u001B[38;5;124m'\u001B[39m\u001B[38;5;124ms  to save, q to quit, 2/8 to change time\u001B[39m\u001B[38;5;124m'\u001B[39m\n\u001B[0;32m     82\u001B[0m data_img \u001B[38;5;241m=\u001B[39m np\u001B[38;5;241m.\u001B[39mzeros((\u001B[38;5;241m500\u001B[39m,\u001B[38;5;241m600\u001B[39m))\n",
      "\u001B[1;31mNameError\u001B[0m: name 'mean' is not defined"
     ]
    },
    {
     "ename": "NameError",
     "evalue": "name 'mean' is not defined",
     "output_type": "error",
     "traceback": [
      "\u001B[1;31m---------------------------------------------------------------------------\u001B[0m",
      "\u001B[1;31mNameError\u001B[0m                                 Traceback (most recent call last)",
      "Cell \u001B[1;32mIn[6], line 80\u001B[0m, in \u001B[0;36mdraw_rectangle\u001B[1;34m(event, x, z, flags, param)\u001B[0m\n\u001B[0;32m     78\u001B[0m data_string \u001B[38;5;241m=\u001B[39m \u001B[38;5;124mf\u001B[39m\u001B[38;5;124m'\u001B[39m\u001B[38;5;124mTime: \u001B[39m\u001B[38;5;132;01m{\u001B[39;00mimg_index\u001B[38;5;132;01m}\u001B[39;00m\u001B[38;5;124m, X: \u001B[39m\u001B[38;5;132;01m{\u001B[39;00mix\u001B[38;5;132;01m}\u001B[39;00m\u001B[38;5;124m, Y: \u001B[39m\u001B[38;5;132;01m{\u001B[39;00miy\u001B[38;5;132;01m}\u001B[39;00m\u001B[38;5;124m, Z: \u001B[39m\u001B[38;5;132;01m{\u001B[39;00miz\u001B[38;5;132;01m}\u001B[39;00m\u001B[38;5;124m , Y MIP size: \u001B[39m\u001B[38;5;132;01m{\u001B[39;00my_gap\u001B[38;5;132;01m}\u001B[39;00m\u001B[38;5;124m'\u001B[39m\n\u001B[0;32m     79\u001B[0m data_string2 \u001B[38;5;241m=\u001B[39m \u001B[38;5;124mf\u001B[39m\u001B[38;5;124m'\u001B[39m\u001B[38;5;124m , r_size: \u001B[39m\u001B[38;5;132;01m{\u001B[39;00mr_size\u001B[38;5;132;01m}\u001B[39;00m\u001B[38;5;124m, gap_from_surface: \u001B[39m\u001B[38;5;132;01m{\u001B[39;00mgap_from_surface\u001B[38;5;132;01m}\u001B[39;00m\u001B[38;5;124m'\u001B[39m\n\u001B[1;32m---> 80\u001B[0m data_string3 \u001B[38;5;241m=\u001B[39m \u001B[38;5;124mf\u001B[39m\u001B[38;5;124m'\u001B[39m\u001B[38;5;124m , mean: \u001B[39m\u001B[38;5;132;01m{\u001B[39;00mmean\u001B[38;5;132;01m:\u001B[39;00m\u001B[38;5;124m.2f\u001B[39m\u001B[38;5;132;01m}\u001B[39;00m\u001B[38;5;124m, std: \u001B[39m\u001B[38;5;132;01m{\u001B[39;00mstd\u001B[38;5;132;01m:\u001B[39;00m\u001B[38;5;124m.2f\u001B[39m\u001B[38;5;132;01m}\u001B[39;00m\u001B[38;5;124m'\u001B[39m\n\u001B[0;32m     81\u001B[0m exit_string \u001B[38;5;241m=\u001B[39m \u001B[38;5;124m'\u001B[39m\u001B[38;5;124ms  to save, q to quit, 2/8 to change time\u001B[39m\u001B[38;5;124m'\u001B[39m\n\u001B[0;32m     82\u001B[0m data_img \u001B[38;5;241m=\u001B[39m np\u001B[38;5;241m.\u001B[39mzeros((\u001B[38;5;241m500\u001B[39m,\u001B[38;5;241m600\u001B[39m))\n",
      "\u001B[1;31mNameError\u001B[0m: name 'mean' is not defined"
     ]
    },
    {
     "ename": "NameError",
     "evalue": "name 'mean' is not defined",
     "output_type": "error",
     "traceback": [
      "\u001B[1;31m---------------------------------------------------------------------------\u001B[0m",
      "\u001B[1;31mNameError\u001B[0m                                 Traceback (most recent call last)",
      "Cell \u001B[1;32mIn[6], line 80\u001B[0m, in \u001B[0;36mdraw_rectangle\u001B[1;34m(event, x, z, flags, param)\u001B[0m\n\u001B[0;32m     78\u001B[0m data_string \u001B[38;5;241m=\u001B[39m \u001B[38;5;124mf\u001B[39m\u001B[38;5;124m'\u001B[39m\u001B[38;5;124mTime: \u001B[39m\u001B[38;5;132;01m{\u001B[39;00mimg_index\u001B[38;5;132;01m}\u001B[39;00m\u001B[38;5;124m, X: \u001B[39m\u001B[38;5;132;01m{\u001B[39;00mix\u001B[38;5;132;01m}\u001B[39;00m\u001B[38;5;124m, Y: \u001B[39m\u001B[38;5;132;01m{\u001B[39;00miy\u001B[38;5;132;01m}\u001B[39;00m\u001B[38;5;124m, Z: \u001B[39m\u001B[38;5;132;01m{\u001B[39;00miz\u001B[38;5;132;01m}\u001B[39;00m\u001B[38;5;124m , Y MIP size: \u001B[39m\u001B[38;5;132;01m{\u001B[39;00my_gap\u001B[38;5;132;01m}\u001B[39;00m\u001B[38;5;124m'\u001B[39m\n\u001B[0;32m     79\u001B[0m data_string2 \u001B[38;5;241m=\u001B[39m \u001B[38;5;124mf\u001B[39m\u001B[38;5;124m'\u001B[39m\u001B[38;5;124m , r_size: \u001B[39m\u001B[38;5;132;01m{\u001B[39;00mr_size\u001B[38;5;132;01m}\u001B[39;00m\u001B[38;5;124m, gap_from_surface: \u001B[39m\u001B[38;5;132;01m{\u001B[39;00mgap_from_surface\u001B[38;5;132;01m}\u001B[39;00m\u001B[38;5;124m'\u001B[39m\n\u001B[1;32m---> 80\u001B[0m data_string3 \u001B[38;5;241m=\u001B[39m \u001B[38;5;124mf\u001B[39m\u001B[38;5;124m'\u001B[39m\u001B[38;5;124m , mean: \u001B[39m\u001B[38;5;132;01m{\u001B[39;00mmean\u001B[38;5;132;01m:\u001B[39;00m\u001B[38;5;124m.2f\u001B[39m\u001B[38;5;132;01m}\u001B[39;00m\u001B[38;5;124m, std: \u001B[39m\u001B[38;5;132;01m{\u001B[39;00mstd\u001B[38;5;132;01m:\u001B[39;00m\u001B[38;5;124m.2f\u001B[39m\u001B[38;5;132;01m}\u001B[39;00m\u001B[38;5;124m'\u001B[39m\n\u001B[0;32m     81\u001B[0m exit_string \u001B[38;5;241m=\u001B[39m \u001B[38;5;124m'\u001B[39m\u001B[38;5;124ms  to save, q to quit, 2/8 to change time\u001B[39m\u001B[38;5;124m'\u001B[39m\n\u001B[0;32m     82\u001B[0m data_img \u001B[38;5;241m=\u001B[39m np\u001B[38;5;241m.\u001B[39mzeros((\u001B[38;5;241m500\u001B[39m,\u001B[38;5;241m600\u001B[39m))\n",
      "\u001B[1;31mNameError\u001B[0m: name 'mean' is not defined"
     ]
    },
    {
     "ename": "NameError",
     "evalue": "name 'mean' is not defined",
     "output_type": "error",
     "traceback": [
      "\u001B[1;31m---------------------------------------------------------------------------\u001B[0m",
      "\u001B[1;31mNameError\u001B[0m                                 Traceback (most recent call last)",
      "Cell \u001B[1;32mIn[6], line 80\u001B[0m, in \u001B[0;36mdraw_rectangle\u001B[1;34m(event, x, z, flags, param)\u001B[0m\n\u001B[0;32m     78\u001B[0m data_string \u001B[38;5;241m=\u001B[39m \u001B[38;5;124mf\u001B[39m\u001B[38;5;124m'\u001B[39m\u001B[38;5;124mTime: \u001B[39m\u001B[38;5;132;01m{\u001B[39;00mimg_index\u001B[38;5;132;01m}\u001B[39;00m\u001B[38;5;124m, X: \u001B[39m\u001B[38;5;132;01m{\u001B[39;00mix\u001B[38;5;132;01m}\u001B[39;00m\u001B[38;5;124m, Y: \u001B[39m\u001B[38;5;132;01m{\u001B[39;00miy\u001B[38;5;132;01m}\u001B[39;00m\u001B[38;5;124m, Z: \u001B[39m\u001B[38;5;132;01m{\u001B[39;00miz\u001B[38;5;132;01m}\u001B[39;00m\u001B[38;5;124m , Y MIP size: \u001B[39m\u001B[38;5;132;01m{\u001B[39;00my_gap\u001B[38;5;132;01m}\u001B[39;00m\u001B[38;5;124m'\u001B[39m\n\u001B[0;32m     79\u001B[0m data_string2 \u001B[38;5;241m=\u001B[39m \u001B[38;5;124mf\u001B[39m\u001B[38;5;124m'\u001B[39m\u001B[38;5;124m , r_size: \u001B[39m\u001B[38;5;132;01m{\u001B[39;00mr_size\u001B[38;5;132;01m}\u001B[39;00m\u001B[38;5;124m, gap_from_surface: \u001B[39m\u001B[38;5;132;01m{\u001B[39;00mgap_from_surface\u001B[38;5;132;01m}\u001B[39;00m\u001B[38;5;124m'\u001B[39m\n\u001B[1;32m---> 80\u001B[0m data_string3 \u001B[38;5;241m=\u001B[39m \u001B[38;5;124mf\u001B[39m\u001B[38;5;124m'\u001B[39m\u001B[38;5;124m , mean: \u001B[39m\u001B[38;5;132;01m{\u001B[39;00mmean\u001B[38;5;132;01m:\u001B[39;00m\u001B[38;5;124m.2f\u001B[39m\u001B[38;5;132;01m}\u001B[39;00m\u001B[38;5;124m, std: \u001B[39m\u001B[38;5;132;01m{\u001B[39;00mstd\u001B[38;5;132;01m:\u001B[39;00m\u001B[38;5;124m.2f\u001B[39m\u001B[38;5;132;01m}\u001B[39;00m\u001B[38;5;124m'\u001B[39m\n\u001B[0;32m     81\u001B[0m exit_string \u001B[38;5;241m=\u001B[39m \u001B[38;5;124m'\u001B[39m\u001B[38;5;124ms  to save, q to quit, 2/8 to change time\u001B[39m\u001B[38;5;124m'\u001B[39m\n\u001B[0;32m     82\u001B[0m data_img \u001B[38;5;241m=\u001B[39m np\u001B[38;5;241m.\u001B[39mzeros((\u001B[38;5;241m500\u001B[39m,\u001B[38;5;241m600\u001B[39m))\n",
      "\u001B[1;31mNameError\u001B[0m: name 'mean' is not defined"
     ]
    },
    {
     "ename": "NameError",
     "evalue": "name 'mean' is not defined",
     "output_type": "error",
     "traceback": [
      "\u001B[1;31m---------------------------------------------------------------------------\u001B[0m",
      "\u001B[1;31mNameError\u001B[0m                                 Traceback (most recent call last)",
      "Cell \u001B[1;32mIn[6], line 80\u001B[0m, in \u001B[0;36mdraw_rectangle\u001B[1;34m(event, x, z, flags, param)\u001B[0m\n\u001B[0;32m     78\u001B[0m data_string \u001B[38;5;241m=\u001B[39m \u001B[38;5;124mf\u001B[39m\u001B[38;5;124m'\u001B[39m\u001B[38;5;124mTime: \u001B[39m\u001B[38;5;132;01m{\u001B[39;00mimg_index\u001B[38;5;132;01m}\u001B[39;00m\u001B[38;5;124m, X: \u001B[39m\u001B[38;5;132;01m{\u001B[39;00mix\u001B[38;5;132;01m}\u001B[39;00m\u001B[38;5;124m, Y: \u001B[39m\u001B[38;5;132;01m{\u001B[39;00miy\u001B[38;5;132;01m}\u001B[39;00m\u001B[38;5;124m, Z: \u001B[39m\u001B[38;5;132;01m{\u001B[39;00miz\u001B[38;5;132;01m}\u001B[39;00m\u001B[38;5;124m , Y MIP size: \u001B[39m\u001B[38;5;132;01m{\u001B[39;00my_gap\u001B[38;5;132;01m}\u001B[39;00m\u001B[38;5;124m'\u001B[39m\n\u001B[0;32m     79\u001B[0m data_string2 \u001B[38;5;241m=\u001B[39m \u001B[38;5;124mf\u001B[39m\u001B[38;5;124m'\u001B[39m\u001B[38;5;124m , r_size: \u001B[39m\u001B[38;5;132;01m{\u001B[39;00mr_size\u001B[38;5;132;01m}\u001B[39;00m\u001B[38;5;124m, gap_from_surface: \u001B[39m\u001B[38;5;132;01m{\u001B[39;00mgap_from_surface\u001B[38;5;132;01m}\u001B[39;00m\u001B[38;5;124m'\u001B[39m\n\u001B[1;32m---> 80\u001B[0m data_string3 \u001B[38;5;241m=\u001B[39m \u001B[38;5;124mf\u001B[39m\u001B[38;5;124m'\u001B[39m\u001B[38;5;124m , mean: \u001B[39m\u001B[38;5;132;01m{\u001B[39;00mmean\u001B[38;5;132;01m:\u001B[39;00m\u001B[38;5;124m.2f\u001B[39m\u001B[38;5;132;01m}\u001B[39;00m\u001B[38;5;124m, std: \u001B[39m\u001B[38;5;132;01m{\u001B[39;00mstd\u001B[38;5;132;01m:\u001B[39;00m\u001B[38;5;124m.2f\u001B[39m\u001B[38;5;132;01m}\u001B[39;00m\u001B[38;5;124m'\u001B[39m\n\u001B[0;32m     81\u001B[0m exit_string \u001B[38;5;241m=\u001B[39m \u001B[38;5;124m'\u001B[39m\u001B[38;5;124ms  to save, q to quit, 2/8 to change time\u001B[39m\u001B[38;5;124m'\u001B[39m\n\u001B[0;32m     82\u001B[0m data_img \u001B[38;5;241m=\u001B[39m np\u001B[38;5;241m.\u001B[39mzeros((\u001B[38;5;241m500\u001B[39m,\u001B[38;5;241m600\u001B[39m))\n",
      "\u001B[1;31mNameError\u001B[0m: name 'mean' is not defined"
     ]
    },
    {
     "ename": "NameError",
     "evalue": "name 'mean' is not defined",
     "output_type": "error",
     "traceback": [
      "\u001B[1;31m---------------------------------------------------------------------------\u001B[0m",
      "\u001B[1;31mNameError\u001B[0m                                 Traceback (most recent call last)",
      "Cell \u001B[1;32mIn[6], line 80\u001B[0m, in \u001B[0;36mdraw_rectangle\u001B[1;34m(event, x, z, flags, param)\u001B[0m\n\u001B[0;32m     78\u001B[0m data_string \u001B[38;5;241m=\u001B[39m \u001B[38;5;124mf\u001B[39m\u001B[38;5;124m'\u001B[39m\u001B[38;5;124mTime: \u001B[39m\u001B[38;5;132;01m{\u001B[39;00mimg_index\u001B[38;5;132;01m}\u001B[39;00m\u001B[38;5;124m, X: \u001B[39m\u001B[38;5;132;01m{\u001B[39;00mix\u001B[38;5;132;01m}\u001B[39;00m\u001B[38;5;124m, Y: \u001B[39m\u001B[38;5;132;01m{\u001B[39;00miy\u001B[38;5;132;01m}\u001B[39;00m\u001B[38;5;124m, Z: \u001B[39m\u001B[38;5;132;01m{\u001B[39;00miz\u001B[38;5;132;01m}\u001B[39;00m\u001B[38;5;124m , Y MIP size: \u001B[39m\u001B[38;5;132;01m{\u001B[39;00my_gap\u001B[38;5;132;01m}\u001B[39;00m\u001B[38;5;124m'\u001B[39m\n\u001B[0;32m     79\u001B[0m data_string2 \u001B[38;5;241m=\u001B[39m \u001B[38;5;124mf\u001B[39m\u001B[38;5;124m'\u001B[39m\u001B[38;5;124m , r_size: \u001B[39m\u001B[38;5;132;01m{\u001B[39;00mr_size\u001B[38;5;132;01m}\u001B[39;00m\u001B[38;5;124m, gap_from_surface: \u001B[39m\u001B[38;5;132;01m{\u001B[39;00mgap_from_surface\u001B[38;5;132;01m}\u001B[39;00m\u001B[38;5;124m'\u001B[39m\n\u001B[1;32m---> 80\u001B[0m data_string3 \u001B[38;5;241m=\u001B[39m \u001B[38;5;124mf\u001B[39m\u001B[38;5;124m'\u001B[39m\u001B[38;5;124m , mean: \u001B[39m\u001B[38;5;132;01m{\u001B[39;00mmean\u001B[38;5;132;01m:\u001B[39;00m\u001B[38;5;124m.2f\u001B[39m\u001B[38;5;132;01m}\u001B[39;00m\u001B[38;5;124m, std: \u001B[39m\u001B[38;5;132;01m{\u001B[39;00mstd\u001B[38;5;132;01m:\u001B[39;00m\u001B[38;5;124m.2f\u001B[39m\u001B[38;5;132;01m}\u001B[39;00m\u001B[38;5;124m'\u001B[39m\n\u001B[0;32m     81\u001B[0m exit_string \u001B[38;5;241m=\u001B[39m \u001B[38;5;124m'\u001B[39m\u001B[38;5;124ms  to save, q to quit, 2/8 to change time\u001B[39m\u001B[38;5;124m'\u001B[39m\n\u001B[0;32m     82\u001B[0m data_img \u001B[38;5;241m=\u001B[39m np\u001B[38;5;241m.\u001B[39mzeros((\u001B[38;5;241m500\u001B[39m,\u001B[38;5;241m600\u001B[39m))\n",
      "\u001B[1;31mNameError\u001B[0m: name 'mean' is not defined"
     ]
    },
    {
     "ename": "NameError",
     "evalue": "name 'mean' is not defined",
     "output_type": "error",
     "traceback": [
      "\u001B[1;31m---------------------------------------------------------------------------\u001B[0m",
      "\u001B[1;31mNameError\u001B[0m                                 Traceback (most recent call last)",
      "Cell \u001B[1;32mIn[6], line 80\u001B[0m, in \u001B[0;36mdraw_rectangle\u001B[1;34m(event, x, z, flags, param)\u001B[0m\n\u001B[0;32m     78\u001B[0m data_string \u001B[38;5;241m=\u001B[39m \u001B[38;5;124mf\u001B[39m\u001B[38;5;124m'\u001B[39m\u001B[38;5;124mTime: \u001B[39m\u001B[38;5;132;01m{\u001B[39;00mimg_index\u001B[38;5;132;01m}\u001B[39;00m\u001B[38;5;124m, X: \u001B[39m\u001B[38;5;132;01m{\u001B[39;00mix\u001B[38;5;132;01m}\u001B[39;00m\u001B[38;5;124m, Y: \u001B[39m\u001B[38;5;132;01m{\u001B[39;00miy\u001B[38;5;132;01m}\u001B[39;00m\u001B[38;5;124m, Z: \u001B[39m\u001B[38;5;132;01m{\u001B[39;00miz\u001B[38;5;132;01m}\u001B[39;00m\u001B[38;5;124m , Y MIP size: \u001B[39m\u001B[38;5;132;01m{\u001B[39;00my_gap\u001B[38;5;132;01m}\u001B[39;00m\u001B[38;5;124m'\u001B[39m\n\u001B[0;32m     79\u001B[0m data_string2 \u001B[38;5;241m=\u001B[39m \u001B[38;5;124mf\u001B[39m\u001B[38;5;124m'\u001B[39m\u001B[38;5;124m , r_size: \u001B[39m\u001B[38;5;132;01m{\u001B[39;00mr_size\u001B[38;5;132;01m}\u001B[39;00m\u001B[38;5;124m, gap_from_surface: \u001B[39m\u001B[38;5;132;01m{\u001B[39;00mgap_from_surface\u001B[38;5;132;01m}\u001B[39;00m\u001B[38;5;124m'\u001B[39m\n\u001B[1;32m---> 80\u001B[0m data_string3 \u001B[38;5;241m=\u001B[39m \u001B[38;5;124mf\u001B[39m\u001B[38;5;124m'\u001B[39m\u001B[38;5;124m , mean: \u001B[39m\u001B[38;5;132;01m{\u001B[39;00mmean\u001B[38;5;132;01m:\u001B[39;00m\u001B[38;5;124m.2f\u001B[39m\u001B[38;5;132;01m}\u001B[39;00m\u001B[38;5;124m, std: \u001B[39m\u001B[38;5;132;01m{\u001B[39;00mstd\u001B[38;5;132;01m:\u001B[39;00m\u001B[38;5;124m.2f\u001B[39m\u001B[38;5;132;01m}\u001B[39;00m\u001B[38;5;124m'\u001B[39m\n\u001B[0;32m     81\u001B[0m exit_string \u001B[38;5;241m=\u001B[39m \u001B[38;5;124m'\u001B[39m\u001B[38;5;124ms  to save, q to quit, 2/8 to change time\u001B[39m\u001B[38;5;124m'\u001B[39m\n\u001B[0;32m     82\u001B[0m data_img \u001B[38;5;241m=\u001B[39m np\u001B[38;5;241m.\u001B[39mzeros((\u001B[38;5;241m500\u001B[39m,\u001B[38;5;241m600\u001B[39m))\n",
      "\u001B[1;31mNameError\u001B[0m: name 'mean' is not defined"
     ]
    },
    {
     "ename": "NameError",
     "evalue": "name 'mean' is not defined",
     "output_type": "error",
     "traceback": [
      "\u001B[1;31m---------------------------------------------------------------------------\u001B[0m",
      "\u001B[1;31mNameError\u001B[0m                                 Traceback (most recent call last)",
      "Cell \u001B[1;32mIn[6], line 80\u001B[0m, in \u001B[0;36mdraw_rectangle\u001B[1;34m(event, x, z, flags, param)\u001B[0m\n\u001B[0;32m     78\u001B[0m data_string \u001B[38;5;241m=\u001B[39m \u001B[38;5;124mf\u001B[39m\u001B[38;5;124m'\u001B[39m\u001B[38;5;124mTime: \u001B[39m\u001B[38;5;132;01m{\u001B[39;00mimg_index\u001B[38;5;132;01m}\u001B[39;00m\u001B[38;5;124m, X: \u001B[39m\u001B[38;5;132;01m{\u001B[39;00mix\u001B[38;5;132;01m}\u001B[39;00m\u001B[38;5;124m, Y: \u001B[39m\u001B[38;5;132;01m{\u001B[39;00miy\u001B[38;5;132;01m}\u001B[39;00m\u001B[38;5;124m, Z: \u001B[39m\u001B[38;5;132;01m{\u001B[39;00miz\u001B[38;5;132;01m}\u001B[39;00m\u001B[38;5;124m , Y MIP size: \u001B[39m\u001B[38;5;132;01m{\u001B[39;00my_gap\u001B[38;5;132;01m}\u001B[39;00m\u001B[38;5;124m'\u001B[39m\n\u001B[0;32m     79\u001B[0m data_string2 \u001B[38;5;241m=\u001B[39m \u001B[38;5;124mf\u001B[39m\u001B[38;5;124m'\u001B[39m\u001B[38;5;124m , r_size: \u001B[39m\u001B[38;5;132;01m{\u001B[39;00mr_size\u001B[38;5;132;01m}\u001B[39;00m\u001B[38;5;124m, gap_from_surface: \u001B[39m\u001B[38;5;132;01m{\u001B[39;00mgap_from_surface\u001B[38;5;132;01m}\u001B[39;00m\u001B[38;5;124m'\u001B[39m\n\u001B[1;32m---> 80\u001B[0m data_string3 \u001B[38;5;241m=\u001B[39m \u001B[38;5;124mf\u001B[39m\u001B[38;5;124m'\u001B[39m\u001B[38;5;124m , mean: \u001B[39m\u001B[38;5;132;01m{\u001B[39;00mmean\u001B[38;5;132;01m:\u001B[39;00m\u001B[38;5;124m.2f\u001B[39m\u001B[38;5;132;01m}\u001B[39;00m\u001B[38;5;124m, std: \u001B[39m\u001B[38;5;132;01m{\u001B[39;00mstd\u001B[38;5;132;01m:\u001B[39;00m\u001B[38;5;124m.2f\u001B[39m\u001B[38;5;132;01m}\u001B[39;00m\u001B[38;5;124m'\u001B[39m\n\u001B[0;32m     81\u001B[0m exit_string \u001B[38;5;241m=\u001B[39m \u001B[38;5;124m'\u001B[39m\u001B[38;5;124ms  to save, q to quit, 2/8 to change time\u001B[39m\u001B[38;5;124m'\u001B[39m\n\u001B[0;32m     82\u001B[0m data_img \u001B[38;5;241m=\u001B[39m np\u001B[38;5;241m.\u001B[39mzeros((\u001B[38;5;241m500\u001B[39m,\u001B[38;5;241m600\u001B[39m))\n",
      "\u001B[1;31mNameError\u001B[0m: name 'mean' is not defined"
     ]
    },
    {
     "ename": "NameError",
     "evalue": "name 'mean' is not defined",
     "output_type": "error",
     "traceback": [
      "\u001B[1;31m---------------------------------------------------------------------------\u001B[0m",
      "\u001B[1;31mNameError\u001B[0m                                 Traceback (most recent call last)",
      "Cell \u001B[1;32mIn[6], line 80\u001B[0m, in \u001B[0;36mdraw_rectangle\u001B[1;34m(event, x, z, flags, param)\u001B[0m\n\u001B[0;32m     78\u001B[0m data_string \u001B[38;5;241m=\u001B[39m \u001B[38;5;124mf\u001B[39m\u001B[38;5;124m'\u001B[39m\u001B[38;5;124mTime: \u001B[39m\u001B[38;5;132;01m{\u001B[39;00mimg_index\u001B[38;5;132;01m}\u001B[39;00m\u001B[38;5;124m, X: \u001B[39m\u001B[38;5;132;01m{\u001B[39;00mix\u001B[38;5;132;01m}\u001B[39;00m\u001B[38;5;124m, Y: \u001B[39m\u001B[38;5;132;01m{\u001B[39;00miy\u001B[38;5;132;01m}\u001B[39;00m\u001B[38;5;124m, Z: \u001B[39m\u001B[38;5;132;01m{\u001B[39;00miz\u001B[38;5;132;01m}\u001B[39;00m\u001B[38;5;124m , Y MIP size: \u001B[39m\u001B[38;5;132;01m{\u001B[39;00my_gap\u001B[38;5;132;01m}\u001B[39;00m\u001B[38;5;124m'\u001B[39m\n\u001B[0;32m     79\u001B[0m data_string2 \u001B[38;5;241m=\u001B[39m \u001B[38;5;124mf\u001B[39m\u001B[38;5;124m'\u001B[39m\u001B[38;5;124m , r_size: \u001B[39m\u001B[38;5;132;01m{\u001B[39;00mr_size\u001B[38;5;132;01m}\u001B[39;00m\u001B[38;5;124m, gap_from_surface: \u001B[39m\u001B[38;5;132;01m{\u001B[39;00mgap_from_surface\u001B[38;5;132;01m}\u001B[39;00m\u001B[38;5;124m'\u001B[39m\n\u001B[1;32m---> 80\u001B[0m data_string3 \u001B[38;5;241m=\u001B[39m \u001B[38;5;124mf\u001B[39m\u001B[38;5;124m'\u001B[39m\u001B[38;5;124m , mean: \u001B[39m\u001B[38;5;132;01m{\u001B[39;00mmean\u001B[38;5;132;01m:\u001B[39;00m\u001B[38;5;124m.2f\u001B[39m\u001B[38;5;132;01m}\u001B[39;00m\u001B[38;5;124m, std: \u001B[39m\u001B[38;5;132;01m{\u001B[39;00mstd\u001B[38;5;132;01m:\u001B[39;00m\u001B[38;5;124m.2f\u001B[39m\u001B[38;5;132;01m}\u001B[39;00m\u001B[38;5;124m'\u001B[39m\n\u001B[0;32m     81\u001B[0m exit_string \u001B[38;5;241m=\u001B[39m \u001B[38;5;124m'\u001B[39m\u001B[38;5;124ms  to save, q to quit, 2/8 to change time\u001B[39m\u001B[38;5;124m'\u001B[39m\n\u001B[0;32m     82\u001B[0m data_img \u001B[38;5;241m=\u001B[39m np\u001B[38;5;241m.\u001B[39mzeros((\u001B[38;5;241m500\u001B[39m,\u001B[38;5;241m600\u001B[39m))\n",
      "\u001B[1;31mNameError\u001B[0m: name 'mean' is not defined"
     ]
    },
    {
     "ename": "NameError",
     "evalue": "name 'mean' is not defined",
     "output_type": "error",
     "traceback": [
      "\u001B[1;31m---------------------------------------------------------------------------\u001B[0m",
      "\u001B[1;31mNameError\u001B[0m                                 Traceback (most recent call last)",
      "Cell \u001B[1;32mIn[6], line 80\u001B[0m, in \u001B[0;36mdraw_rectangle\u001B[1;34m(event, x, z, flags, param)\u001B[0m\n\u001B[0;32m     78\u001B[0m data_string \u001B[38;5;241m=\u001B[39m \u001B[38;5;124mf\u001B[39m\u001B[38;5;124m'\u001B[39m\u001B[38;5;124mTime: \u001B[39m\u001B[38;5;132;01m{\u001B[39;00mimg_index\u001B[38;5;132;01m}\u001B[39;00m\u001B[38;5;124m, X: \u001B[39m\u001B[38;5;132;01m{\u001B[39;00mix\u001B[38;5;132;01m}\u001B[39;00m\u001B[38;5;124m, Y: \u001B[39m\u001B[38;5;132;01m{\u001B[39;00miy\u001B[38;5;132;01m}\u001B[39;00m\u001B[38;5;124m, Z: \u001B[39m\u001B[38;5;132;01m{\u001B[39;00miz\u001B[38;5;132;01m}\u001B[39;00m\u001B[38;5;124m , Y MIP size: \u001B[39m\u001B[38;5;132;01m{\u001B[39;00my_gap\u001B[38;5;132;01m}\u001B[39;00m\u001B[38;5;124m'\u001B[39m\n\u001B[0;32m     79\u001B[0m data_string2 \u001B[38;5;241m=\u001B[39m \u001B[38;5;124mf\u001B[39m\u001B[38;5;124m'\u001B[39m\u001B[38;5;124m , r_size: \u001B[39m\u001B[38;5;132;01m{\u001B[39;00mr_size\u001B[38;5;132;01m}\u001B[39;00m\u001B[38;5;124m, gap_from_surface: \u001B[39m\u001B[38;5;132;01m{\u001B[39;00mgap_from_surface\u001B[38;5;132;01m}\u001B[39;00m\u001B[38;5;124m'\u001B[39m\n\u001B[1;32m---> 80\u001B[0m data_string3 \u001B[38;5;241m=\u001B[39m \u001B[38;5;124mf\u001B[39m\u001B[38;5;124m'\u001B[39m\u001B[38;5;124m , mean: \u001B[39m\u001B[38;5;132;01m{\u001B[39;00mmean\u001B[38;5;132;01m:\u001B[39;00m\u001B[38;5;124m.2f\u001B[39m\u001B[38;5;132;01m}\u001B[39;00m\u001B[38;5;124m, std: \u001B[39m\u001B[38;5;132;01m{\u001B[39;00mstd\u001B[38;5;132;01m:\u001B[39;00m\u001B[38;5;124m.2f\u001B[39m\u001B[38;5;132;01m}\u001B[39;00m\u001B[38;5;124m'\u001B[39m\n\u001B[0;32m     81\u001B[0m exit_string \u001B[38;5;241m=\u001B[39m \u001B[38;5;124m'\u001B[39m\u001B[38;5;124ms  to save, q to quit, 2/8 to change time\u001B[39m\u001B[38;5;124m'\u001B[39m\n\u001B[0;32m     82\u001B[0m data_img \u001B[38;5;241m=\u001B[39m np\u001B[38;5;241m.\u001B[39mzeros((\u001B[38;5;241m500\u001B[39m,\u001B[38;5;241m600\u001B[39m))\n",
      "\u001B[1;31mNameError\u001B[0m: name 'mean' is not defined"
     ]
    },
    {
     "ename": "NameError",
     "evalue": "name 'mean' is not defined",
     "output_type": "error",
     "traceback": [
      "\u001B[1;31m---------------------------------------------------------------------------\u001B[0m",
      "\u001B[1;31mNameError\u001B[0m                                 Traceback (most recent call last)",
      "Cell \u001B[1;32mIn[6], line 80\u001B[0m, in \u001B[0;36mdraw_rectangle\u001B[1;34m(event, x, z, flags, param)\u001B[0m\n\u001B[0;32m     78\u001B[0m data_string \u001B[38;5;241m=\u001B[39m \u001B[38;5;124mf\u001B[39m\u001B[38;5;124m'\u001B[39m\u001B[38;5;124mTime: \u001B[39m\u001B[38;5;132;01m{\u001B[39;00mimg_index\u001B[38;5;132;01m}\u001B[39;00m\u001B[38;5;124m, X: \u001B[39m\u001B[38;5;132;01m{\u001B[39;00mix\u001B[38;5;132;01m}\u001B[39;00m\u001B[38;5;124m, Y: \u001B[39m\u001B[38;5;132;01m{\u001B[39;00miy\u001B[38;5;132;01m}\u001B[39;00m\u001B[38;5;124m, Z: \u001B[39m\u001B[38;5;132;01m{\u001B[39;00miz\u001B[38;5;132;01m}\u001B[39;00m\u001B[38;5;124m , Y MIP size: \u001B[39m\u001B[38;5;132;01m{\u001B[39;00my_gap\u001B[38;5;132;01m}\u001B[39;00m\u001B[38;5;124m'\u001B[39m\n\u001B[0;32m     79\u001B[0m data_string2 \u001B[38;5;241m=\u001B[39m \u001B[38;5;124mf\u001B[39m\u001B[38;5;124m'\u001B[39m\u001B[38;5;124m , r_size: \u001B[39m\u001B[38;5;132;01m{\u001B[39;00mr_size\u001B[38;5;132;01m}\u001B[39;00m\u001B[38;5;124m, gap_from_surface: \u001B[39m\u001B[38;5;132;01m{\u001B[39;00mgap_from_surface\u001B[38;5;132;01m}\u001B[39;00m\u001B[38;5;124m'\u001B[39m\n\u001B[1;32m---> 80\u001B[0m data_string3 \u001B[38;5;241m=\u001B[39m \u001B[38;5;124mf\u001B[39m\u001B[38;5;124m'\u001B[39m\u001B[38;5;124m , mean: \u001B[39m\u001B[38;5;132;01m{\u001B[39;00mmean\u001B[38;5;132;01m:\u001B[39;00m\u001B[38;5;124m.2f\u001B[39m\u001B[38;5;132;01m}\u001B[39;00m\u001B[38;5;124m, std: \u001B[39m\u001B[38;5;132;01m{\u001B[39;00mstd\u001B[38;5;132;01m:\u001B[39;00m\u001B[38;5;124m.2f\u001B[39m\u001B[38;5;132;01m}\u001B[39;00m\u001B[38;5;124m'\u001B[39m\n\u001B[0;32m     81\u001B[0m exit_string \u001B[38;5;241m=\u001B[39m \u001B[38;5;124m'\u001B[39m\u001B[38;5;124ms  to save, q to quit, 2/8 to change time\u001B[39m\u001B[38;5;124m'\u001B[39m\n\u001B[0;32m     82\u001B[0m data_img \u001B[38;5;241m=\u001B[39m np\u001B[38;5;241m.\u001B[39mzeros((\u001B[38;5;241m500\u001B[39m,\u001B[38;5;241m600\u001B[39m))\n",
      "\u001B[1;31mNameError\u001B[0m: name 'mean' is not defined"
     ]
    },
    {
     "ename": "NameError",
     "evalue": "name 'mean' is not defined",
     "output_type": "error",
     "traceback": [
      "\u001B[1;31m---------------------------------------------------------------------------\u001B[0m",
      "\u001B[1;31mNameError\u001B[0m                                 Traceback (most recent call last)",
      "Cell \u001B[1;32mIn[6], line 80\u001B[0m, in \u001B[0;36mdraw_rectangle\u001B[1;34m(event, x, z, flags, param)\u001B[0m\n\u001B[0;32m     78\u001B[0m data_string \u001B[38;5;241m=\u001B[39m \u001B[38;5;124mf\u001B[39m\u001B[38;5;124m'\u001B[39m\u001B[38;5;124mTime: \u001B[39m\u001B[38;5;132;01m{\u001B[39;00mimg_index\u001B[38;5;132;01m}\u001B[39;00m\u001B[38;5;124m, X: \u001B[39m\u001B[38;5;132;01m{\u001B[39;00mix\u001B[38;5;132;01m}\u001B[39;00m\u001B[38;5;124m, Y: \u001B[39m\u001B[38;5;132;01m{\u001B[39;00miy\u001B[38;5;132;01m}\u001B[39;00m\u001B[38;5;124m, Z: \u001B[39m\u001B[38;5;132;01m{\u001B[39;00miz\u001B[38;5;132;01m}\u001B[39;00m\u001B[38;5;124m , Y MIP size: \u001B[39m\u001B[38;5;132;01m{\u001B[39;00my_gap\u001B[38;5;132;01m}\u001B[39;00m\u001B[38;5;124m'\u001B[39m\n\u001B[0;32m     79\u001B[0m data_string2 \u001B[38;5;241m=\u001B[39m \u001B[38;5;124mf\u001B[39m\u001B[38;5;124m'\u001B[39m\u001B[38;5;124m , r_size: \u001B[39m\u001B[38;5;132;01m{\u001B[39;00mr_size\u001B[38;5;132;01m}\u001B[39;00m\u001B[38;5;124m, gap_from_surface: \u001B[39m\u001B[38;5;132;01m{\u001B[39;00mgap_from_surface\u001B[38;5;132;01m}\u001B[39;00m\u001B[38;5;124m'\u001B[39m\n\u001B[1;32m---> 80\u001B[0m data_string3 \u001B[38;5;241m=\u001B[39m \u001B[38;5;124mf\u001B[39m\u001B[38;5;124m'\u001B[39m\u001B[38;5;124m , mean: \u001B[39m\u001B[38;5;132;01m{\u001B[39;00mmean\u001B[38;5;132;01m:\u001B[39;00m\u001B[38;5;124m.2f\u001B[39m\u001B[38;5;132;01m}\u001B[39;00m\u001B[38;5;124m, std: \u001B[39m\u001B[38;5;132;01m{\u001B[39;00mstd\u001B[38;5;132;01m:\u001B[39;00m\u001B[38;5;124m.2f\u001B[39m\u001B[38;5;132;01m}\u001B[39;00m\u001B[38;5;124m'\u001B[39m\n\u001B[0;32m     81\u001B[0m exit_string \u001B[38;5;241m=\u001B[39m \u001B[38;5;124m'\u001B[39m\u001B[38;5;124ms  to save, q to quit, 2/8 to change time\u001B[39m\u001B[38;5;124m'\u001B[39m\n\u001B[0;32m     82\u001B[0m data_img \u001B[38;5;241m=\u001B[39m np\u001B[38;5;241m.\u001B[39mzeros((\u001B[38;5;241m500\u001B[39m,\u001B[38;5;241m600\u001B[39m))\n",
      "\u001B[1;31mNameError\u001B[0m: name 'mean' is not defined"
     ]
    },
    {
     "ename": "NameError",
     "evalue": "name 'mean' is not defined",
     "output_type": "error",
     "traceback": [
      "\u001B[1;31m---------------------------------------------------------------------------\u001B[0m",
      "\u001B[1;31mNameError\u001B[0m                                 Traceback (most recent call last)",
      "Cell \u001B[1;32mIn[6], line 80\u001B[0m, in \u001B[0;36mdraw_rectangle\u001B[1;34m(event, x, z, flags, param)\u001B[0m\n\u001B[0;32m     78\u001B[0m data_string \u001B[38;5;241m=\u001B[39m \u001B[38;5;124mf\u001B[39m\u001B[38;5;124m'\u001B[39m\u001B[38;5;124mTime: \u001B[39m\u001B[38;5;132;01m{\u001B[39;00mimg_index\u001B[38;5;132;01m}\u001B[39;00m\u001B[38;5;124m, X: \u001B[39m\u001B[38;5;132;01m{\u001B[39;00mix\u001B[38;5;132;01m}\u001B[39;00m\u001B[38;5;124m, Y: \u001B[39m\u001B[38;5;132;01m{\u001B[39;00miy\u001B[38;5;132;01m}\u001B[39;00m\u001B[38;5;124m, Z: \u001B[39m\u001B[38;5;132;01m{\u001B[39;00miz\u001B[38;5;132;01m}\u001B[39;00m\u001B[38;5;124m , Y MIP size: \u001B[39m\u001B[38;5;132;01m{\u001B[39;00my_gap\u001B[38;5;132;01m}\u001B[39;00m\u001B[38;5;124m'\u001B[39m\n\u001B[0;32m     79\u001B[0m data_string2 \u001B[38;5;241m=\u001B[39m \u001B[38;5;124mf\u001B[39m\u001B[38;5;124m'\u001B[39m\u001B[38;5;124m , r_size: \u001B[39m\u001B[38;5;132;01m{\u001B[39;00mr_size\u001B[38;5;132;01m}\u001B[39;00m\u001B[38;5;124m, gap_from_surface: \u001B[39m\u001B[38;5;132;01m{\u001B[39;00mgap_from_surface\u001B[38;5;132;01m}\u001B[39;00m\u001B[38;5;124m'\u001B[39m\n\u001B[1;32m---> 80\u001B[0m data_string3 \u001B[38;5;241m=\u001B[39m \u001B[38;5;124mf\u001B[39m\u001B[38;5;124m'\u001B[39m\u001B[38;5;124m , mean: \u001B[39m\u001B[38;5;132;01m{\u001B[39;00mmean\u001B[38;5;132;01m:\u001B[39;00m\u001B[38;5;124m.2f\u001B[39m\u001B[38;5;132;01m}\u001B[39;00m\u001B[38;5;124m, std: \u001B[39m\u001B[38;5;132;01m{\u001B[39;00mstd\u001B[38;5;132;01m:\u001B[39;00m\u001B[38;5;124m.2f\u001B[39m\u001B[38;5;132;01m}\u001B[39;00m\u001B[38;5;124m'\u001B[39m\n\u001B[0;32m     81\u001B[0m exit_string \u001B[38;5;241m=\u001B[39m \u001B[38;5;124m'\u001B[39m\u001B[38;5;124ms  to save, q to quit, 2/8 to change time\u001B[39m\u001B[38;5;124m'\u001B[39m\n\u001B[0;32m     82\u001B[0m data_img \u001B[38;5;241m=\u001B[39m np\u001B[38;5;241m.\u001B[39mzeros((\u001B[38;5;241m500\u001B[39m,\u001B[38;5;241m600\u001B[39m))\n",
      "\u001B[1;31mNameError\u001B[0m: name 'mean' is not defined"
     ]
    },
    {
     "ename": "NameError",
     "evalue": "name 'mean' is not defined",
     "output_type": "error",
     "traceback": [
      "\u001B[1;31m---------------------------------------------------------------------------\u001B[0m",
      "\u001B[1;31mNameError\u001B[0m                                 Traceback (most recent call last)",
      "Cell \u001B[1;32mIn[6], line 80\u001B[0m, in \u001B[0;36mdraw_rectangle\u001B[1;34m(event, x, z, flags, param)\u001B[0m\n\u001B[0;32m     78\u001B[0m data_string \u001B[38;5;241m=\u001B[39m \u001B[38;5;124mf\u001B[39m\u001B[38;5;124m'\u001B[39m\u001B[38;5;124mTime: \u001B[39m\u001B[38;5;132;01m{\u001B[39;00mimg_index\u001B[38;5;132;01m}\u001B[39;00m\u001B[38;5;124m, X: \u001B[39m\u001B[38;5;132;01m{\u001B[39;00mix\u001B[38;5;132;01m}\u001B[39;00m\u001B[38;5;124m, Y: \u001B[39m\u001B[38;5;132;01m{\u001B[39;00miy\u001B[38;5;132;01m}\u001B[39;00m\u001B[38;5;124m, Z: \u001B[39m\u001B[38;5;132;01m{\u001B[39;00miz\u001B[38;5;132;01m}\u001B[39;00m\u001B[38;5;124m , Y MIP size: \u001B[39m\u001B[38;5;132;01m{\u001B[39;00my_gap\u001B[38;5;132;01m}\u001B[39;00m\u001B[38;5;124m'\u001B[39m\n\u001B[0;32m     79\u001B[0m data_string2 \u001B[38;5;241m=\u001B[39m \u001B[38;5;124mf\u001B[39m\u001B[38;5;124m'\u001B[39m\u001B[38;5;124m , r_size: \u001B[39m\u001B[38;5;132;01m{\u001B[39;00mr_size\u001B[38;5;132;01m}\u001B[39;00m\u001B[38;5;124m, gap_from_surface: \u001B[39m\u001B[38;5;132;01m{\u001B[39;00mgap_from_surface\u001B[38;5;132;01m}\u001B[39;00m\u001B[38;5;124m'\u001B[39m\n\u001B[1;32m---> 80\u001B[0m data_string3 \u001B[38;5;241m=\u001B[39m \u001B[38;5;124mf\u001B[39m\u001B[38;5;124m'\u001B[39m\u001B[38;5;124m , mean: \u001B[39m\u001B[38;5;132;01m{\u001B[39;00mmean\u001B[38;5;132;01m:\u001B[39;00m\u001B[38;5;124m.2f\u001B[39m\u001B[38;5;132;01m}\u001B[39;00m\u001B[38;5;124m, std: \u001B[39m\u001B[38;5;132;01m{\u001B[39;00mstd\u001B[38;5;132;01m:\u001B[39;00m\u001B[38;5;124m.2f\u001B[39m\u001B[38;5;132;01m}\u001B[39;00m\u001B[38;5;124m'\u001B[39m\n\u001B[0;32m     81\u001B[0m exit_string \u001B[38;5;241m=\u001B[39m \u001B[38;5;124m'\u001B[39m\u001B[38;5;124ms  to save, q to quit, 2/8 to change time\u001B[39m\u001B[38;5;124m'\u001B[39m\n\u001B[0;32m     82\u001B[0m data_img \u001B[38;5;241m=\u001B[39m np\u001B[38;5;241m.\u001B[39mzeros((\u001B[38;5;241m500\u001B[39m,\u001B[38;5;241m600\u001B[39m))\n",
      "\u001B[1;31mNameError\u001B[0m: name 'mean' is not defined"
     ]
    },
    {
     "ename": "NameError",
     "evalue": "name 'mean' is not defined",
     "output_type": "error",
     "traceback": [
      "\u001B[1;31m---------------------------------------------------------------------------\u001B[0m",
      "\u001B[1;31mNameError\u001B[0m                                 Traceback (most recent call last)",
      "Cell \u001B[1;32mIn[6], line 80\u001B[0m, in \u001B[0;36mdraw_rectangle\u001B[1;34m(event, x, z, flags, param)\u001B[0m\n\u001B[0;32m     78\u001B[0m data_string \u001B[38;5;241m=\u001B[39m \u001B[38;5;124mf\u001B[39m\u001B[38;5;124m'\u001B[39m\u001B[38;5;124mTime: \u001B[39m\u001B[38;5;132;01m{\u001B[39;00mimg_index\u001B[38;5;132;01m}\u001B[39;00m\u001B[38;5;124m, X: \u001B[39m\u001B[38;5;132;01m{\u001B[39;00mix\u001B[38;5;132;01m}\u001B[39;00m\u001B[38;5;124m, Y: \u001B[39m\u001B[38;5;132;01m{\u001B[39;00miy\u001B[38;5;132;01m}\u001B[39;00m\u001B[38;5;124m, Z: \u001B[39m\u001B[38;5;132;01m{\u001B[39;00miz\u001B[38;5;132;01m}\u001B[39;00m\u001B[38;5;124m , Y MIP size: \u001B[39m\u001B[38;5;132;01m{\u001B[39;00my_gap\u001B[38;5;132;01m}\u001B[39;00m\u001B[38;5;124m'\u001B[39m\n\u001B[0;32m     79\u001B[0m data_string2 \u001B[38;5;241m=\u001B[39m \u001B[38;5;124mf\u001B[39m\u001B[38;5;124m'\u001B[39m\u001B[38;5;124m , r_size: \u001B[39m\u001B[38;5;132;01m{\u001B[39;00mr_size\u001B[38;5;132;01m}\u001B[39;00m\u001B[38;5;124m, gap_from_surface: \u001B[39m\u001B[38;5;132;01m{\u001B[39;00mgap_from_surface\u001B[38;5;132;01m}\u001B[39;00m\u001B[38;5;124m'\u001B[39m\n\u001B[1;32m---> 80\u001B[0m data_string3 \u001B[38;5;241m=\u001B[39m \u001B[38;5;124mf\u001B[39m\u001B[38;5;124m'\u001B[39m\u001B[38;5;124m , mean: \u001B[39m\u001B[38;5;132;01m{\u001B[39;00mmean\u001B[38;5;132;01m:\u001B[39;00m\u001B[38;5;124m.2f\u001B[39m\u001B[38;5;132;01m}\u001B[39;00m\u001B[38;5;124m, std: \u001B[39m\u001B[38;5;132;01m{\u001B[39;00mstd\u001B[38;5;132;01m:\u001B[39;00m\u001B[38;5;124m.2f\u001B[39m\u001B[38;5;132;01m}\u001B[39;00m\u001B[38;5;124m'\u001B[39m\n\u001B[0;32m     81\u001B[0m exit_string \u001B[38;5;241m=\u001B[39m \u001B[38;5;124m'\u001B[39m\u001B[38;5;124ms  to save, q to quit, 2/8 to change time\u001B[39m\u001B[38;5;124m'\u001B[39m\n\u001B[0;32m     82\u001B[0m data_img \u001B[38;5;241m=\u001B[39m np\u001B[38;5;241m.\u001B[39mzeros((\u001B[38;5;241m500\u001B[39m,\u001B[38;5;241m600\u001B[39m))\n",
      "\u001B[1;31mNameError\u001B[0m: name 'mean' is not defined"
     ]
    },
    {
     "ename": "NameError",
     "evalue": "name 'mean' is not defined",
     "output_type": "error",
     "traceback": [
      "\u001B[1;31m---------------------------------------------------------------------------\u001B[0m",
      "\u001B[1;31mNameError\u001B[0m                                 Traceback (most recent call last)",
      "Cell \u001B[1;32mIn[6], line 80\u001B[0m, in \u001B[0;36mdraw_rectangle\u001B[1;34m(event, x, z, flags, param)\u001B[0m\n\u001B[0;32m     78\u001B[0m data_string \u001B[38;5;241m=\u001B[39m \u001B[38;5;124mf\u001B[39m\u001B[38;5;124m'\u001B[39m\u001B[38;5;124mTime: \u001B[39m\u001B[38;5;132;01m{\u001B[39;00mimg_index\u001B[38;5;132;01m}\u001B[39;00m\u001B[38;5;124m, X: \u001B[39m\u001B[38;5;132;01m{\u001B[39;00mix\u001B[38;5;132;01m}\u001B[39;00m\u001B[38;5;124m, Y: \u001B[39m\u001B[38;5;132;01m{\u001B[39;00miy\u001B[38;5;132;01m}\u001B[39;00m\u001B[38;5;124m, Z: \u001B[39m\u001B[38;5;132;01m{\u001B[39;00miz\u001B[38;5;132;01m}\u001B[39;00m\u001B[38;5;124m , Y MIP size: \u001B[39m\u001B[38;5;132;01m{\u001B[39;00my_gap\u001B[38;5;132;01m}\u001B[39;00m\u001B[38;5;124m'\u001B[39m\n\u001B[0;32m     79\u001B[0m data_string2 \u001B[38;5;241m=\u001B[39m \u001B[38;5;124mf\u001B[39m\u001B[38;5;124m'\u001B[39m\u001B[38;5;124m , r_size: \u001B[39m\u001B[38;5;132;01m{\u001B[39;00mr_size\u001B[38;5;132;01m}\u001B[39;00m\u001B[38;5;124m, gap_from_surface: \u001B[39m\u001B[38;5;132;01m{\u001B[39;00mgap_from_surface\u001B[38;5;132;01m}\u001B[39;00m\u001B[38;5;124m'\u001B[39m\n\u001B[1;32m---> 80\u001B[0m data_string3 \u001B[38;5;241m=\u001B[39m \u001B[38;5;124mf\u001B[39m\u001B[38;5;124m'\u001B[39m\u001B[38;5;124m , mean: \u001B[39m\u001B[38;5;132;01m{\u001B[39;00mmean\u001B[38;5;132;01m:\u001B[39;00m\u001B[38;5;124m.2f\u001B[39m\u001B[38;5;132;01m}\u001B[39;00m\u001B[38;5;124m, std: \u001B[39m\u001B[38;5;132;01m{\u001B[39;00mstd\u001B[38;5;132;01m:\u001B[39;00m\u001B[38;5;124m.2f\u001B[39m\u001B[38;5;132;01m}\u001B[39;00m\u001B[38;5;124m'\u001B[39m\n\u001B[0;32m     81\u001B[0m exit_string \u001B[38;5;241m=\u001B[39m \u001B[38;5;124m'\u001B[39m\u001B[38;5;124ms  to save, q to quit, 2/8 to change time\u001B[39m\u001B[38;5;124m'\u001B[39m\n\u001B[0;32m     82\u001B[0m data_img \u001B[38;5;241m=\u001B[39m np\u001B[38;5;241m.\u001B[39mzeros((\u001B[38;5;241m500\u001B[39m,\u001B[38;5;241m600\u001B[39m))\n",
      "\u001B[1;31mNameError\u001B[0m: name 'mean' is not defined"
     ]
    },
    {
     "ename": "NameError",
     "evalue": "name 'mean' is not defined",
     "output_type": "error",
     "traceback": [
      "\u001B[1;31m---------------------------------------------------------------------------\u001B[0m",
      "\u001B[1;31mNameError\u001B[0m                                 Traceback (most recent call last)",
      "Cell \u001B[1;32mIn[6], line 80\u001B[0m, in \u001B[0;36mdraw_rectangle\u001B[1;34m(event, x, z, flags, param)\u001B[0m\n\u001B[0;32m     78\u001B[0m data_string \u001B[38;5;241m=\u001B[39m \u001B[38;5;124mf\u001B[39m\u001B[38;5;124m'\u001B[39m\u001B[38;5;124mTime: \u001B[39m\u001B[38;5;132;01m{\u001B[39;00mimg_index\u001B[38;5;132;01m}\u001B[39;00m\u001B[38;5;124m, X: \u001B[39m\u001B[38;5;132;01m{\u001B[39;00mix\u001B[38;5;132;01m}\u001B[39;00m\u001B[38;5;124m, Y: \u001B[39m\u001B[38;5;132;01m{\u001B[39;00miy\u001B[38;5;132;01m}\u001B[39;00m\u001B[38;5;124m, Z: \u001B[39m\u001B[38;5;132;01m{\u001B[39;00miz\u001B[38;5;132;01m}\u001B[39;00m\u001B[38;5;124m , Y MIP size: \u001B[39m\u001B[38;5;132;01m{\u001B[39;00my_gap\u001B[38;5;132;01m}\u001B[39;00m\u001B[38;5;124m'\u001B[39m\n\u001B[0;32m     79\u001B[0m data_string2 \u001B[38;5;241m=\u001B[39m \u001B[38;5;124mf\u001B[39m\u001B[38;5;124m'\u001B[39m\u001B[38;5;124m , r_size: \u001B[39m\u001B[38;5;132;01m{\u001B[39;00mr_size\u001B[38;5;132;01m}\u001B[39;00m\u001B[38;5;124m, gap_from_surface: \u001B[39m\u001B[38;5;132;01m{\u001B[39;00mgap_from_surface\u001B[38;5;132;01m}\u001B[39;00m\u001B[38;5;124m'\u001B[39m\n\u001B[1;32m---> 80\u001B[0m data_string3 \u001B[38;5;241m=\u001B[39m \u001B[38;5;124mf\u001B[39m\u001B[38;5;124m'\u001B[39m\u001B[38;5;124m , mean: \u001B[39m\u001B[38;5;132;01m{\u001B[39;00mmean\u001B[38;5;132;01m:\u001B[39;00m\u001B[38;5;124m.2f\u001B[39m\u001B[38;5;132;01m}\u001B[39;00m\u001B[38;5;124m, std: \u001B[39m\u001B[38;5;132;01m{\u001B[39;00mstd\u001B[38;5;132;01m:\u001B[39;00m\u001B[38;5;124m.2f\u001B[39m\u001B[38;5;132;01m}\u001B[39;00m\u001B[38;5;124m'\u001B[39m\n\u001B[0;32m     81\u001B[0m exit_string \u001B[38;5;241m=\u001B[39m \u001B[38;5;124m'\u001B[39m\u001B[38;5;124ms  to save, q to quit, 2/8 to change time\u001B[39m\u001B[38;5;124m'\u001B[39m\n\u001B[0;32m     82\u001B[0m data_img \u001B[38;5;241m=\u001B[39m np\u001B[38;5;241m.\u001B[39mzeros((\u001B[38;5;241m500\u001B[39m,\u001B[38;5;241m600\u001B[39m))\n",
      "\u001B[1;31mNameError\u001B[0m: name 'mean' is not defined"
     ]
    },
    {
     "ename": "NameError",
     "evalue": "name 'mean' is not defined",
     "output_type": "error",
     "traceback": [
      "\u001B[1;31m---------------------------------------------------------------------------\u001B[0m",
      "\u001B[1;31mNameError\u001B[0m                                 Traceback (most recent call last)",
      "Cell \u001B[1;32mIn[6], line 80\u001B[0m, in \u001B[0;36mdraw_rectangle\u001B[1;34m(event, x, z, flags, param)\u001B[0m\n\u001B[0;32m     78\u001B[0m data_string \u001B[38;5;241m=\u001B[39m \u001B[38;5;124mf\u001B[39m\u001B[38;5;124m'\u001B[39m\u001B[38;5;124mTime: \u001B[39m\u001B[38;5;132;01m{\u001B[39;00mimg_index\u001B[38;5;132;01m}\u001B[39;00m\u001B[38;5;124m, X: \u001B[39m\u001B[38;5;132;01m{\u001B[39;00mix\u001B[38;5;132;01m}\u001B[39;00m\u001B[38;5;124m, Y: \u001B[39m\u001B[38;5;132;01m{\u001B[39;00miy\u001B[38;5;132;01m}\u001B[39;00m\u001B[38;5;124m, Z: \u001B[39m\u001B[38;5;132;01m{\u001B[39;00miz\u001B[38;5;132;01m}\u001B[39;00m\u001B[38;5;124m , Y MIP size: \u001B[39m\u001B[38;5;132;01m{\u001B[39;00my_gap\u001B[38;5;132;01m}\u001B[39;00m\u001B[38;5;124m'\u001B[39m\n\u001B[0;32m     79\u001B[0m data_string2 \u001B[38;5;241m=\u001B[39m \u001B[38;5;124mf\u001B[39m\u001B[38;5;124m'\u001B[39m\u001B[38;5;124m , r_size: \u001B[39m\u001B[38;5;132;01m{\u001B[39;00mr_size\u001B[38;5;132;01m}\u001B[39;00m\u001B[38;5;124m, gap_from_surface: \u001B[39m\u001B[38;5;132;01m{\u001B[39;00mgap_from_surface\u001B[38;5;132;01m}\u001B[39;00m\u001B[38;5;124m'\u001B[39m\n\u001B[1;32m---> 80\u001B[0m data_string3 \u001B[38;5;241m=\u001B[39m \u001B[38;5;124mf\u001B[39m\u001B[38;5;124m'\u001B[39m\u001B[38;5;124m , mean: \u001B[39m\u001B[38;5;132;01m{\u001B[39;00mmean\u001B[38;5;132;01m:\u001B[39;00m\u001B[38;5;124m.2f\u001B[39m\u001B[38;5;132;01m}\u001B[39;00m\u001B[38;5;124m, std: \u001B[39m\u001B[38;5;132;01m{\u001B[39;00mstd\u001B[38;5;132;01m:\u001B[39;00m\u001B[38;5;124m.2f\u001B[39m\u001B[38;5;132;01m}\u001B[39;00m\u001B[38;5;124m'\u001B[39m\n\u001B[0;32m     81\u001B[0m exit_string \u001B[38;5;241m=\u001B[39m \u001B[38;5;124m'\u001B[39m\u001B[38;5;124ms  to save, q to quit, 2/8 to change time\u001B[39m\u001B[38;5;124m'\u001B[39m\n\u001B[0;32m     82\u001B[0m data_img \u001B[38;5;241m=\u001B[39m np\u001B[38;5;241m.\u001B[39mzeros((\u001B[38;5;241m500\u001B[39m,\u001B[38;5;241m600\u001B[39m))\n",
      "\u001B[1;31mNameError\u001B[0m: name 'mean' is not defined"
     ]
    },
    {
     "ename": "NameError",
     "evalue": "name 'mean' is not defined",
     "output_type": "error",
     "traceback": [
      "\u001B[1;31m---------------------------------------------------------------------------\u001B[0m",
      "\u001B[1;31mNameError\u001B[0m                                 Traceback (most recent call last)",
      "Cell \u001B[1;32mIn[6], line 80\u001B[0m, in \u001B[0;36mdraw_rectangle\u001B[1;34m(event, x, z, flags, param)\u001B[0m\n\u001B[0;32m     78\u001B[0m data_string \u001B[38;5;241m=\u001B[39m \u001B[38;5;124mf\u001B[39m\u001B[38;5;124m'\u001B[39m\u001B[38;5;124mTime: \u001B[39m\u001B[38;5;132;01m{\u001B[39;00mimg_index\u001B[38;5;132;01m}\u001B[39;00m\u001B[38;5;124m, X: \u001B[39m\u001B[38;5;132;01m{\u001B[39;00mix\u001B[38;5;132;01m}\u001B[39;00m\u001B[38;5;124m, Y: \u001B[39m\u001B[38;5;132;01m{\u001B[39;00miy\u001B[38;5;132;01m}\u001B[39;00m\u001B[38;5;124m, Z: \u001B[39m\u001B[38;5;132;01m{\u001B[39;00miz\u001B[38;5;132;01m}\u001B[39;00m\u001B[38;5;124m , Y MIP size: \u001B[39m\u001B[38;5;132;01m{\u001B[39;00my_gap\u001B[38;5;132;01m}\u001B[39;00m\u001B[38;5;124m'\u001B[39m\n\u001B[0;32m     79\u001B[0m data_string2 \u001B[38;5;241m=\u001B[39m \u001B[38;5;124mf\u001B[39m\u001B[38;5;124m'\u001B[39m\u001B[38;5;124m , r_size: \u001B[39m\u001B[38;5;132;01m{\u001B[39;00mr_size\u001B[38;5;132;01m}\u001B[39;00m\u001B[38;5;124m, gap_from_surface: \u001B[39m\u001B[38;5;132;01m{\u001B[39;00mgap_from_surface\u001B[38;5;132;01m}\u001B[39;00m\u001B[38;5;124m'\u001B[39m\n\u001B[1;32m---> 80\u001B[0m data_string3 \u001B[38;5;241m=\u001B[39m \u001B[38;5;124mf\u001B[39m\u001B[38;5;124m'\u001B[39m\u001B[38;5;124m , mean: \u001B[39m\u001B[38;5;132;01m{\u001B[39;00mmean\u001B[38;5;132;01m:\u001B[39;00m\u001B[38;5;124m.2f\u001B[39m\u001B[38;5;132;01m}\u001B[39;00m\u001B[38;5;124m, std: \u001B[39m\u001B[38;5;132;01m{\u001B[39;00mstd\u001B[38;5;132;01m:\u001B[39;00m\u001B[38;5;124m.2f\u001B[39m\u001B[38;5;132;01m}\u001B[39;00m\u001B[38;5;124m'\u001B[39m\n\u001B[0;32m     81\u001B[0m exit_string \u001B[38;5;241m=\u001B[39m \u001B[38;5;124m'\u001B[39m\u001B[38;5;124ms  to save, q to quit, 2/8 to change time\u001B[39m\u001B[38;5;124m'\u001B[39m\n\u001B[0;32m     82\u001B[0m data_img \u001B[38;5;241m=\u001B[39m np\u001B[38;5;241m.\u001B[39mzeros((\u001B[38;5;241m500\u001B[39m,\u001B[38;5;241m600\u001B[39m))\n",
      "\u001B[1;31mNameError\u001B[0m: name 'mean' is not defined"
     ]
    },
    {
     "ename": "NameError",
     "evalue": "name 'mean' is not defined",
     "output_type": "error",
     "traceback": [
      "\u001B[1;31m---------------------------------------------------------------------------\u001B[0m",
      "\u001B[1;31mNameError\u001B[0m                                 Traceback (most recent call last)",
      "Cell \u001B[1;32mIn[6], line 80\u001B[0m, in \u001B[0;36mdraw_rectangle\u001B[1;34m(event, x, z, flags, param)\u001B[0m\n\u001B[0;32m     78\u001B[0m data_string \u001B[38;5;241m=\u001B[39m \u001B[38;5;124mf\u001B[39m\u001B[38;5;124m'\u001B[39m\u001B[38;5;124mTime: \u001B[39m\u001B[38;5;132;01m{\u001B[39;00mimg_index\u001B[38;5;132;01m}\u001B[39;00m\u001B[38;5;124m, X: \u001B[39m\u001B[38;5;132;01m{\u001B[39;00mix\u001B[38;5;132;01m}\u001B[39;00m\u001B[38;5;124m, Y: \u001B[39m\u001B[38;5;132;01m{\u001B[39;00miy\u001B[38;5;132;01m}\u001B[39;00m\u001B[38;5;124m, Z: \u001B[39m\u001B[38;5;132;01m{\u001B[39;00miz\u001B[38;5;132;01m}\u001B[39;00m\u001B[38;5;124m , Y MIP size: \u001B[39m\u001B[38;5;132;01m{\u001B[39;00my_gap\u001B[38;5;132;01m}\u001B[39;00m\u001B[38;5;124m'\u001B[39m\n\u001B[0;32m     79\u001B[0m data_string2 \u001B[38;5;241m=\u001B[39m \u001B[38;5;124mf\u001B[39m\u001B[38;5;124m'\u001B[39m\u001B[38;5;124m , r_size: \u001B[39m\u001B[38;5;132;01m{\u001B[39;00mr_size\u001B[38;5;132;01m}\u001B[39;00m\u001B[38;5;124m, gap_from_surface: \u001B[39m\u001B[38;5;132;01m{\u001B[39;00mgap_from_surface\u001B[38;5;132;01m}\u001B[39;00m\u001B[38;5;124m'\u001B[39m\n\u001B[1;32m---> 80\u001B[0m data_string3 \u001B[38;5;241m=\u001B[39m \u001B[38;5;124mf\u001B[39m\u001B[38;5;124m'\u001B[39m\u001B[38;5;124m , mean: \u001B[39m\u001B[38;5;132;01m{\u001B[39;00mmean\u001B[38;5;132;01m:\u001B[39;00m\u001B[38;5;124m.2f\u001B[39m\u001B[38;5;132;01m}\u001B[39;00m\u001B[38;5;124m, std: \u001B[39m\u001B[38;5;132;01m{\u001B[39;00mstd\u001B[38;5;132;01m:\u001B[39;00m\u001B[38;5;124m.2f\u001B[39m\u001B[38;5;132;01m}\u001B[39;00m\u001B[38;5;124m'\u001B[39m\n\u001B[0;32m     81\u001B[0m exit_string \u001B[38;5;241m=\u001B[39m \u001B[38;5;124m'\u001B[39m\u001B[38;5;124ms  to save, q to quit, 2/8 to change time\u001B[39m\u001B[38;5;124m'\u001B[39m\n\u001B[0;32m     82\u001B[0m data_img \u001B[38;5;241m=\u001B[39m np\u001B[38;5;241m.\u001B[39mzeros((\u001B[38;5;241m500\u001B[39m,\u001B[38;5;241m600\u001B[39m))\n",
      "\u001B[1;31mNameError\u001B[0m: name 'mean' is not defined"
     ]
    },
    {
     "ename": "NameError",
     "evalue": "name 'mean' is not defined",
     "output_type": "error",
     "traceback": [
      "\u001B[1;31m---------------------------------------------------------------------------\u001B[0m",
      "\u001B[1;31mNameError\u001B[0m                                 Traceback (most recent call last)",
      "Cell \u001B[1;32mIn[6], line 80\u001B[0m, in \u001B[0;36mdraw_rectangle\u001B[1;34m(event, x, z, flags, param)\u001B[0m\n\u001B[0;32m     78\u001B[0m data_string \u001B[38;5;241m=\u001B[39m \u001B[38;5;124mf\u001B[39m\u001B[38;5;124m'\u001B[39m\u001B[38;5;124mTime: \u001B[39m\u001B[38;5;132;01m{\u001B[39;00mimg_index\u001B[38;5;132;01m}\u001B[39;00m\u001B[38;5;124m, X: \u001B[39m\u001B[38;5;132;01m{\u001B[39;00mix\u001B[38;5;132;01m}\u001B[39;00m\u001B[38;5;124m, Y: \u001B[39m\u001B[38;5;132;01m{\u001B[39;00miy\u001B[38;5;132;01m}\u001B[39;00m\u001B[38;5;124m, Z: \u001B[39m\u001B[38;5;132;01m{\u001B[39;00miz\u001B[38;5;132;01m}\u001B[39;00m\u001B[38;5;124m , Y MIP size: \u001B[39m\u001B[38;5;132;01m{\u001B[39;00my_gap\u001B[38;5;132;01m}\u001B[39;00m\u001B[38;5;124m'\u001B[39m\n\u001B[0;32m     79\u001B[0m data_string2 \u001B[38;5;241m=\u001B[39m \u001B[38;5;124mf\u001B[39m\u001B[38;5;124m'\u001B[39m\u001B[38;5;124m , r_size: \u001B[39m\u001B[38;5;132;01m{\u001B[39;00mr_size\u001B[38;5;132;01m}\u001B[39;00m\u001B[38;5;124m, gap_from_surface: \u001B[39m\u001B[38;5;132;01m{\u001B[39;00mgap_from_surface\u001B[38;5;132;01m}\u001B[39;00m\u001B[38;5;124m'\u001B[39m\n\u001B[1;32m---> 80\u001B[0m data_string3 \u001B[38;5;241m=\u001B[39m \u001B[38;5;124mf\u001B[39m\u001B[38;5;124m'\u001B[39m\u001B[38;5;124m , mean: \u001B[39m\u001B[38;5;132;01m{\u001B[39;00mmean\u001B[38;5;132;01m:\u001B[39;00m\u001B[38;5;124m.2f\u001B[39m\u001B[38;5;132;01m}\u001B[39;00m\u001B[38;5;124m, std: \u001B[39m\u001B[38;5;132;01m{\u001B[39;00mstd\u001B[38;5;132;01m:\u001B[39;00m\u001B[38;5;124m.2f\u001B[39m\u001B[38;5;132;01m}\u001B[39;00m\u001B[38;5;124m'\u001B[39m\n\u001B[0;32m     81\u001B[0m exit_string \u001B[38;5;241m=\u001B[39m \u001B[38;5;124m'\u001B[39m\u001B[38;5;124ms  to save, q to quit, 2/8 to change time\u001B[39m\u001B[38;5;124m'\u001B[39m\n\u001B[0;32m     82\u001B[0m data_img \u001B[38;5;241m=\u001B[39m np\u001B[38;5;241m.\u001B[39mzeros((\u001B[38;5;241m500\u001B[39m,\u001B[38;5;241m600\u001B[39m))\n",
      "\u001B[1;31mNameError\u001B[0m: name 'mean' is not defined"
     ]
    },
    {
     "ename": "NameError",
     "evalue": "name 'mean' is not defined",
     "output_type": "error",
     "traceback": [
      "\u001B[1;31m---------------------------------------------------------------------------\u001B[0m",
      "\u001B[1;31mNameError\u001B[0m                                 Traceback (most recent call last)",
      "Cell \u001B[1;32mIn[6], line 80\u001B[0m, in \u001B[0;36mdraw_rectangle\u001B[1;34m(event, x, z, flags, param)\u001B[0m\n\u001B[0;32m     78\u001B[0m data_string \u001B[38;5;241m=\u001B[39m \u001B[38;5;124mf\u001B[39m\u001B[38;5;124m'\u001B[39m\u001B[38;5;124mTime: \u001B[39m\u001B[38;5;132;01m{\u001B[39;00mimg_index\u001B[38;5;132;01m}\u001B[39;00m\u001B[38;5;124m, X: \u001B[39m\u001B[38;5;132;01m{\u001B[39;00mix\u001B[38;5;132;01m}\u001B[39;00m\u001B[38;5;124m, Y: \u001B[39m\u001B[38;5;132;01m{\u001B[39;00miy\u001B[38;5;132;01m}\u001B[39;00m\u001B[38;5;124m, Z: \u001B[39m\u001B[38;5;132;01m{\u001B[39;00miz\u001B[38;5;132;01m}\u001B[39;00m\u001B[38;5;124m , Y MIP size: \u001B[39m\u001B[38;5;132;01m{\u001B[39;00my_gap\u001B[38;5;132;01m}\u001B[39;00m\u001B[38;5;124m'\u001B[39m\n\u001B[0;32m     79\u001B[0m data_string2 \u001B[38;5;241m=\u001B[39m \u001B[38;5;124mf\u001B[39m\u001B[38;5;124m'\u001B[39m\u001B[38;5;124m , r_size: \u001B[39m\u001B[38;5;132;01m{\u001B[39;00mr_size\u001B[38;5;132;01m}\u001B[39;00m\u001B[38;5;124m, gap_from_surface: \u001B[39m\u001B[38;5;132;01m{\u001B[39;00mgap_from_surface\u001B[38;5;132;01m}\u001B[39;00m\u001B[38;5;124m'\u001B[39m\n\u001B[1;32m---> 80\u001B[0m data_string3 \u001B[38;5;241m=\u001B[39m \u001B[38;5;124mf\u001B[39m\u001B[38;5;124m'\u001B[39m\u001B[38;5;124m , mean: \u001B[39m\u001B[38;5;132;01m{\u001B[39;00mmean\u001B[38;5;132;01m:\u001B[39;00m\u001B[38;5;124m.2f\u001B[39m\u001B[38;5;132;01m}\u001B[39;00m\u001B[38;5;124m, std: \u001B[39m\u001B[38;5;132;01m{\u001B[39;00mstd\u001B[38;5;132;01m:\u001B[39;00m\u001B[38;5;124m.2f\u001B[39m\u001B[38;5;132;01m}\u001B[39;00m\u001B[38;5;124m'\u001B[39m\n\u001B[0;32m     81\u001B[0m exit_string \u001B[38;5;241m=\u001B[39m \u001B[38;5;124m'\u001B[39m\u001B[38;5;124ms  to save, q to quit, 2/8 to change time\u001B[39m\u001B[38;5;124m'\u001B[39m\n\u001B[0;32m     82\u001B[0m data_img \u001B[38;5;241m=\u001B[39m np\u001B[38;5;241m.\u001B[39mzeros((\u001B[38;5;241m500\u001B[39m,\u001B[38;5;241m600\u001B[39m))\n",
      "\u001B[1;31mNameError\u001B[0m: name 'mean' is not defined"
     ]
    },
    {
     "ename": "NameError",
     "evalue": "name 'mean' is not defined",
     "output_type": "error",
     "traceback": [
      "\u001B[1;31m---------------------------------------------------------------------------\u001B[0m",
      "\u001B[1;31mNameError\u001B[0m                                 Traceback (most recent call last)",
      "Cell \u001B[1;32mIn[6], line 80\u001B[0m, in \u001B[0;36mdraw_rectangle\u001B[1;34m(event, x, z, flags, param)\u001B[0m\n\u001B[0;32m     78\u001B[0m data_string \u001B[38;5;241m=\u001B[39m \u001B[38;5;124mf\u001B[39m\u001B[38;5;124m'\u001B[39m\u001B[38;5;124mTime: \u001B[39m\u001B[38;5;132;01m{\u001B[39;00mimg_index\u001B[38;5;132;01m}\u001B[39;00m\u001B[38;5;124m, X: \u001B[39m\u001B[38;5;132;01m{\u001B[39;00mix\u001B[38;5;132;01m}\u001B[39;00m\u001B[38;5;124m, Y: \u001B[39m\u001B[38;5;132;01m{\u001B[39;00miy\u001B[38;5;132;01m}\u001B[39;00m\u001B[38;5;124m, Z: \u001B[39m\u001B[38;5;132;01m{\u001B[39;00miz\u001B[38;5;132;01m}\u001B[39;00m\u001B[38;5;124m , Y MIP size: \u001B[39m\u001B[38;5;132;01m{\u001B[39;00my_gap\u001B[38;5;132;01m}\u001B[39;00m\u001B[38;5;124m'\u001B[39m\n\u001B[0;32m     79\u001B[0m data_string2 \u001B[38;5;241m=\u001B[39m \u001B[38;5;124mf\u001B[39m\u001B[38;5;124m'\u001B[39m\u001B[38;5;124m , r_size: \u001B[39m\u001B[38;5;132;01m{\u001B[39;00mr_size\u001B[38;5;132;01m}\u001B[39;00m\u001B[38;5;124m, gap_from_surface: \u001B[39m\u001B[38;5;132;01m{\u001B[39;00mgap_from_surface\u001B[38;5;132;01m}\u001B[39;00m\u001B[38;5;124m'\u001B[39m\n\u001B[1;32m---> 80\u001B[0m data_string3 \u001B[38;5;241m=\u001B[39m \u001B[38;5;124mf\u001B[39m\u001B[38;5;124m'\u001B[39m\u001B[38;5;124m , mean: \u001B[39m\u001B[38;5;132;01m{\u001B[39;00mmean\u001B[38;5;132;01m:\u001B[39;00m\u001B[38;5;124m.2f\u001B[39m\u001B[38;5;132;01m}\u001B[39;00m\u001B[38;5;124m, std: \u001B[39m\u001B[38;5;132;01m{\u001B[39;00mstd\u001B[38;5;132;01m:\u001B[39;00m\u001B[38;5;124m.2f\u001B[39m\u001B[38;5;132;01m}\u001B[39;00m\u001B[38;5;124m'\u001B[39m\n\u001B[0;32m     81\u001B[0m exit_string \u001B[38;5;241m=\u001B[39m \u001B[38;5;124m'\u001B[39m\u001B[38;5;124ms  to save, q to quit, 2/8 to change time\u001B[39m\u001B[38;5;124m'\u001B[39m\n\u001B[0;32m     82\u001B[0m data_img \u001B[38;5;241m=\u001B[39m np\u001B[38;5;241m.\u001B[39mzeros((\u001B[38;5;241m500\u001B[39m,\u001B[38;5;241m600\u001B[39m))\n",
      "\u001B[1;31mNameError\u001B[0m: name 'mean' is not defined"
     ]
    },
    {
     "ename": "NameError",
     "evalue": "name 'mean' is not defined",
     "output_type": "error",
     "traceback": [
      "\u001B[1;31m---------------------------------------------------------------------------\u001B[0m",
      "\u001B[1;31mNameError\u001B[0m                                 Traceback (most recent call last)",
      "Cell \u001B[1;32mIn[6], line 80\u001B[0m, in \u001B[0;36mdraw_rectangle\u001B[1;34m(event, x, z, flags, param)\u001B[0m\n\u001B[0;32m     78\u001B[0m data_string \u001B[38;5;241m=\u001B[39m \u001B[38;5;124mf\u001B[39m\u001B[38;5;124m'\u001B[39m\u001B[38;5;124mTime: \u001B[39m\u001B[38;5;132;01m{\u001B[39;00mimg_index\u001B[38;5;132;01m}\u001B[39;00m\u001B[38;5;124m, X: \u001B[39m\u001B[38;5;132;01m{\u001B[39;00mix\u001B[38;5;132;01m}\u001B[39;00m\u001B[38;5;124m, Y: \u001B[39m\u001B[38;5;132;01m{\u001B[39;00miy\u001B[38;5;132;01m}\u001B[39;00m\u001B[38;5;124m, Z: \u001B[39m\u001B[38;5;132;01m{\u001B[39;00miz\u001B[38;5;132;01m}\u001B[39;00m\u001B[38;5;124m , Y MIP size: \u001B[39m\u001B[38;5;132;01m{\u001B[39;00my_gap\u001B[38;5;132;01m}\u001B[39;00m\u001B[38;5;124m'\u001B[39m\n\u001B[0;32m     79\u001B[0m data_string2 \u001B[38;5;241m=\u001B[39m \u001B[38;5;124mf\u001B[39m\u001B[38;5;124m'\u001B[39m\u001B[38;5;124m , r_size: \u001B[39m\u001B[38;5;132;01m{\u001B[39;00mr_size\u001B[38;5;132;01m}\u001B[39;00m\u001B[38;5;124m, gap_from_surface: \u001B[39m\u001B[38;5;132;01m{\u001B[39;00mgap_from_surface\u001B[38;5;132;01m}\u001B[39;00m\u001B[38;5;124m'\u001B[39m\n\u001B[1;32m---> 80\u001B[0m data_string3 \u001B[38;5;241m=\u001B[39m \u001B[38;5;124mf\u001B[39m\u001B[38;5;124m'\u001B[39m\u001B[38;5;124m , mean: \u001B[39m\u001B[38;5;132;01m{\u001B[39;00mmean\u001B[38;5;132;01m:\u001B[39;00m\u001B[38;5;124m.2f\u001B[39m\u001B[38;5;132;01m}\u001B[39;00m\u001B[38;5;124m, std: \u001B[39m\u001B[38;5;132;01m{\u001B[39;00mstd\u001B[38;5;132;01m:\u001B[39;00m\u001B[38;5;124m.2f\u001B[39m\u001B[38;5;132;01m}\u001B[39;00m\u001B[38;5;124m'\u001B[39m\n\u001B[0;32m     81\u001B[0m exit_string \u001B[38;5;241m=\u001B[39m \u001B[38;5;124m'\u001B[39m\u001B[38;5;124ms  to save, q to quit, 2/8 to change time\u001B[39m\u001B[38;5;124m'\u001B[39m\n\u001B[0;32m     82\u001B[0m data_img \u001B[38;5;241m=\u001B[39m np\u001B[38;5;241m.\u001B[39mzeros((\u001B[38;5;241m500\u001B[39m,\u001B[38;5;241m600\u001B[39m))\n",
      "\u001B[1;31mNameError\u001B[0m: name 'mean' is not defined"
     ]
    },
    {
     "ename": "NameError",
     "evalue": "name 'mean' is not defined",
     "output_type": "error",
     "traceback": [
      "\u001B[1;31m---------------------------------------------------------------------------\u001B[0m",
      "\u001B[1;31mNameError\u001B[0m                                 Traceback (most recent call last)",
      "Cell \u001B[1;32mIn[6], line 80\u001B[0m, in \u001B[0;36mdraw_rectangle\u001B[1;34m(event, x, z, flags, param)\u001B[0m\n\u001B[0;32m     78\u001B[0m data_string \u001B[38;5;241m=\u001B[39m \u001B[38;5;124mf\u001B[39m\u001B[38;5;124m'\u001B[39m\u001B[38;5;124mTime: \u001B[39m\u001B[38;5;132;01m{\u001B[39;00mimg_index\u001B[38;5;132;01m}\u001B[39;00m\u001B[38;5;124m, X: \u001B[39m\u001B[38;5;132;01m{\u001B[39;00mix\u001B[38;5;132;01m}\u001B[39;00m\u001B[38;5;124m, Y: \u001B[39m\u001B[38;5;132;01m{\u001B[39;00miy\u001B[38;5;132;01m}\u001B[39;00m\u001B[38;5;124m, Z: \u001B[39m\u001B[38;5;132;01m{\u001B[39;00miz\u001B[38;5;132;01m}\u001B[39;00m\u001B[38;5;124m , Y MIP size: \u001B[39m\u001B[38;5;132;01m{\u001B[39;00my_gap\u001B[38;5;132;01m}\u001B[39;00m\u001B[38;5;124m'\u001B[39m\n\u001B[0;32m     79\u001B[0m data_string2 \u001B[38;5;241m=\u001B[39m \u001B[38;5;124mf\u001B[39m\u001B[38;5;124m'\u001B[39m\u001B[38;5;124m , r_size: \u001B[39m\u001B[38;5;132;01m{\u001B[39;00mr_size\u001B[38;5;132;01m}\u001B[39;00m\u001B[38;5;124m, gap_from_surface: \u001B[39m\u001B[38;5;132;01m{\u001B[39;00mgap_from_surface\u001B[38;5;132;01m}\u001B[39;00m\u001B[38;5;124m'\u001B[39m\n\u001B[1;32m---> 80\u001B[0m data_string3 \u001B[38;5;241m=\u001B[39m \u001B[38;5;124mf\u001B[39m\u001B[38;5;124m'\u001B[39m\u001B[38;5;124m , mean: \u001B[39m\u001B[38;5;132;01m{\u001B[39;00mmean\u001B[38;5;132;01m:\u001B[39;00m\u001B[38;5;124m.2f\u001B[39m\u001B[38;5;132;01m}\u001B[39;00m\u001B[38;5;124m, std: \u001B[39m\u001B[38;5;132;01m{\u001B[39;00mstd\u001B[38;5;132;01m:\u001B[39;00m\u001B[38;5;124m.2f\u001B[39m\u001B[38;5;132;01m}\u001B[39;00m\u001B[38;5;124m'\u001B[39m\n\u001B[0;32m     81\u001B[0m exit_string \u001B[38;5;241m=\u001B[39m \u001B[38;5;124m'\u001B[39m\u001B[38;5;124ms  to save, q to quit, 2/8 to change time\u001B[39m\u001B[38;5;124m'\u001B[39m\n\u001B[0;32m     82\u001B[0m data_img \u001B[38;5;241m=\u001B[39m np\u001B[38;5;241m.\u001B[39mzeros((\u001B[38;5;241m500\u001B[39m,\u001B[38;5;241m600\u001B[39m))\n",
      "\u001B[1;31mNameError\u001B[0m: name 'mean' is not defined"
     ]
    },
    {
     "ename": "NameError",
     "evalue": "name 'mean' is not defined",
     "output_type": "error",
     "traceback": [
      "\u001B[1;31m---------------------------------------------------------------------------\u001B[0m",
      "\u001B[1;31mNameError\u001B[0m                                 Traceback (most recent call last)",
      "Cell \u001B[1;32mIn[6], line 80\u001B[0m, in \u001B[0;36mdraw_rectangle\u001B[1;34m(event, x, z, flags, param)\u001B[0m\n\u001B[0;32m     78\u001B[0m data_string \u001B[38;5;241m=\u001B[39m \u001B[38;5;124mf\u001B[39m\u001B[38;5;124m'\u001B[39m\u001B[38;5;124mTime: \u001B[39m\u001B[38;5;132;01m{\u001B[39;00mimg_index\u001B[38;5;132;01m}\u001B[39;00m\u001B[38;5;124m, X: \u001B[39m\u001B[38;5;132;01m{\u001B[39;00mix\u001B[38;5;132;01m}\u001B[39;00m\u001B[38;5;124m, Y: \u001B[39m\u001B[38;5;132;01m{\u001B[39;00miy\u001B[38;5;132;01m}\u001B[39;00m\u001B[38;5;124m, Z: \u001B[39m\u001B[38;5;132;01m{\u001B[39;00miz\u001B[38;5;132;01m}\u001B[39;00m\u001B[38;5;124m , Y MIP size: \u001B[39m\u001B[38;5;132;01m{\u001B[39;00my_gap\u001B[38;5;132;01m}\u001B[39;00m\u001B[38;5;124m'\u001B[39m\n\u001B[0;32m     79\u001B[0m data_string2 \u001B[38;5;241m=\u001B[39m \u001B[38;5;124mf\u001B[39m\u001B[38;5;124m'\u001B[39m\u001B[38;5;124m , r_size: \u001B[39m\u001B[38;5;132;01m{\u001B[39;00mr_size\u001B[38;5;132;01m}\u001B[39;00m\u001B[38;5;124m, gap_from_surface: \u001B[39m\u001B[38;5;132;01m{\u001B[39;00mgap_from_surface\u001B[38;5;132;01m}\u001B[39;00m\u001B[38;5;124m'\u001B[39m\n\u001B[1;32m---> 80\u001B[0m data_string3 \u001B[38;5;241m=\u001B[39m \u001B[38;5;124mf\u001B[39m\u001B[38;5;124m'\u001B[39m\u001B[38;5;124m , mean: \u001B[39m\u001B[38;5;132;01m{\u001B[39;00mmean\u001B[38;5;132;01m:\u001B[39;00m\u001B[38;5;124m.2f\u001B[39m\u001B[38;5;132;01m}\u001B[39;00m\u001B[38;5;124m, std: \u001B[39m\u001B[38;5;132;01m{\u001B[39;00mstd\u001B[38;5;132;01m:\u001B[39;00m\u001B[38;5;124m.2f\u001B[39m\u001B[38;5;132;01m}\u001B[39;00m\u001B[38;5;124m'\u001B[39m\n\u001B[0;32m     81\u001B[0m exit_string \u001B[38;5;241m=\u001B[39m \u001B[38;5;124m'\u001B[39m\u001B[38;5;124ms  to save, q to quit, 2/8 to change time\u001B[39m\u001B[38;5;124m'\u001B[39m\n\u001B[0;32m     82\u001B[0m data_img \u001B[38;5;241m=\u001B[39m np\u001B[38;5;241m.\u001B[39mzeros((\u001B[38;5;241m500\u001B[39m,\u001B[38;5;241m600\u001B[39m))\n",
      "\u001B[1;31mNameError\u001B[0m: name 'mean' is not defined"
     ]
    },
    {
     "ename": "NameError",
     "evalue": "name 'mean' is not defined",
     "output_type": "error",
     "traceback": [
      "\u001B[1;31m---------------------------------------------------------------------------\u001B[0m",
      "\u001B[1;31mNameError\u001B[0m                                 Traceback (most recent call last)",
      "Cell \u001B[1;32mIn[6], line 80\u001B[0m, in \u001B[0;36mdraw_rectangle\u001B[1;34m(event, x, z, flags, param)\u001B[0m\n\u001B[0;32m     78\u001B[0m data_string \u001B[38;5;241m=\u001B[39m \u001B[38;5;124mf\u001B[39m\u001B[38;5;124m'\u001B[39m\u001B[38;5;124mTime: \u001B[39m\u001B[38;5;132;01m{\u001B[39;00mimg_index\u001B[38;5;132;01m}\u001B[39;00m\u001B[38;5;124m, X: \u001B[39m\u001B[38;5;132;01m{\u001B[39;00mix\u001B[38;5;132;01m}\u001B[39;00m\u001B[38;5;124m, Y: \u001B[39m\u001B[38;5;132;01m{\u001B[39;00miy\u001B[38;5;132;01m}\u001B[39;00m\u001B[38;5;124m, Z: \u001B[39m\u001B[38;5;132;01m{\u001B[39;00miz\u001B[38;5;132;01m}\u001B[39;00m\u001B[38;5;124m , Y MIP size: \u001B[39m\u001B[38;5;132;01m{\u001B[39;00my_gap\u001B[38;5;132;01m}\u001B[39;00m\u001B[38;5;124m'\u001B[39m\n\u001B[0;32m     79\u001B[0m data_string2 \u001B[38;5;241m=\u001B[39m \u001B[38;5;124mf\u001B[39m\u001B[38;5;124m'\u001B[39m\u001B[38;5;124m , r_size: \u001B[39m\u001B[38;5;132;01m{\u001B[39;00mr_size\u001B[38;5;132;01m}\u001B[39;00m\u001B[38;5;124m, gap_from_surface: \u001B[39m\u001B[38;5;132;01m{\u001B[39;00mgap_from_surface\u001B[38;5;132;01m}\u001B[39;00m\u001B[38;5;124m'\u001B[39m\n\u001B[1;32m---> 80\u001B[0m data_string3 \u001B[38;5;241m=\u001B[39m \u001B[38;5;124mf\u001B[39m\u001B[38;5;124m'\u001B[39m\u001B[38;5;124m , mean: \u001B[39m\u001B[38;5;132;01m{\u001B[39;00mmean\u001B[38;5;132;01m:\u001B[39;00m\u001B[38;5;124m.2f\u001B[39m\u001B[38;5;132;01m}\u001B[39;00m\u001B[38;5;124m, std: \u001B[39m\u001B[38;5;132;01m{\u001B[39;00mstd\u001B[38;5;132;01m:\u001B[39;00m\u001B[38;5;124m.2f\u001B[39m\u001B[38;5;132;01m}\u001B[39;00m\u001B[38;5;124m'\u001B[39m\n\u001B[0;32m     81\u001B[0m exit_string \u001B[38;5;241m=\u001B[39m \u001B[38;5;124m'\u001B[39m\u001B[38;5;124ms  to save, q to quit, 2/8 to change time\u001B[39m\u001B[38;5;124m'\u001B[39m\n\u001B[0;32m     82\u001B[0m data_img \u001B[38;5;241m=\u001B[39m np\u001B[38;5;241m.\u001B[39mzeros((\u001B[38;5;241m500\u001B[39m,\u001B[38;5;241m600\u001B[39m))\n",
      "\u001B[1;31mNameError\u001B[0m: name 'mean' is not defined"
     ]
    },
    {
     "ename": "NameError",
     "evalue": "name 'mean' is not defined",
     "output_type": "error",
     "traceback": [
      "\u001B[1;31m---------------------------------------------------------------------------\u001B[0m",
      "\u001B[1;31mNameError\u001B[0m                                 Traceback (most recent call last)",
      "Cell \u001B[1;32mIn[6], line 80\u001B[0m, in \u001B[0;36mdraw_rectangle\u001B[1;34m(event, x, z, flags, param)\u001B[0m\n\u001B[0;32m     78\u001B[0m data_string \u001B[38;5;241m=\u001B[39m \u001B[38;5;124mf\u001B[39m\u001B[38;5;124m'\u001B[39m\u001B[38;5;124mTime: \u001B[39m\u001B[38;5;132;01m{\u001B[39;00mimg_index\u001B[38;5;132;01m}\u001B[39;00m\u001B[38;5;124m, X: \u001B[39m\u001B[38;5;132;01m{\u001B[39;00mix\u001B[38;5;132;01m}\u001B[39;00m\u001B[38;5;124m, Y: \u001B[39m\u001B[38;5;132;01m{\u001B[39;00miy\u001B[38;5;132;01m}\u001B[39;00m\u001B[38;5;124m, Z: \u001B[39m\u001B[38;5;132;01m{\u001B[39;00miz\u001B[38;5;132;01m}\u001B[39;00m\u001B[38;5;124m , Y MIP size: \u001B[39m\u001B[38;5;132;01m{\u001B[39;00my_gap\u001B[38;5;132;01m}\u001B[39;00m\u001B[38;5;124m'\u001B[39m\n\u001B[0;32m     79\u001B[0m data_string2 \u001B[38;5;241m=\u001B[39m \u001B[38;5;124mf\u001B[39m\u001B[38;5;124m'\u001B[39m\u001B[38;5;124m , r_size: \u001B[39m\u001B[38;5;132;01m{\u001B[39;00mr_size\u001B[38;5;132;01m}\u001B[39;00m\u001B[38;5;124m, gap_from_surface: \u001B[39m\u001B[38;5;132;01m{\u001B[39;00mgap_from_surface\u001B[38;5;132;01m}\u001B[39;00m\u001B[38;5;124m'\u001B[39m\n\u001B[1;32m---> 80\u001B[0m data_string3 \u001B[38;5;241m=\u001B[39m \u001B[38;5;124mf\u001B[39m\u001B[38;5;124m'\u001B[39m\u001B[38;5;124m , mean: \u001B[39m\u001B[38;5;132;01m{\u001B[39;00mmean\u001B[38;5;132;01m:\u001B[39;00m\u001B[38;5;124m.2f\u001B[39m\u001B[38;5;132;01m}\u001B[39;00m\u001B[38;5;124m, std: \u001B[39m\u001B[38;5;132;01m{\u001B[39;00mstd\u001B[38;5;132;01m:\u001B[39;00m\u001B[38;5;124m.2f\u001B[39m\u001B[38;5;132;01m}\u001B[39;00m\u001B[38;5;124m'\u001B[39m\n\u001B[0;32m     81\u001B[0m exit_string \u001B[38;5;241m=\u001B[39m \u001B[38;5;124m'\u001B[39m\u001B[38;5;124ms  to save, q to quit, 2/8 to change time\u001B[39m\u001B[38;5;124m'\u001B[39m\n\u001B[0;32m     82\u001B[0m data_img \u001B[38;5;241m=\u001B[39m np\u001B[38;5;241m.\u001B[39mzeros((\u001B[38;5;241m500\u001B[39m,\u001B[38;5;241m600\u001B[39m))\n",
      "\u001B[1;31mNameError\u001B[0m: name 'mean' is not defined"
     ]
    },
    {
     "ename": "NameError",
     "evalue": "name 'mean' is not defined",
     "output_type": "error",
     "traceback": [
      "\u001B[1;31m---------------------------------------------------------------------------\u001B[0m",
      "\u001B[1;31mNameError\u001B[0m                                 Traceback (most recent call last)",
      "Cell \u001B[1;32mIn[6], line 80\u001B[0m, in \u001B[0;36mdraw_rectangle\u001B[1;34m(event, x, z, flags, param)\u001B[0m\n\u001B[0;32m     78\u001B[0m data_string \u001B[38;5;241m=\u001B[39m \u001B[38;5;124mf\u001B[39m\u001B[38;5;124m'\u001B[39m\u001B[38;5;124mTime: \u001B[39m\u001B[38;5;132;01m{\u001B[39;00mimg_index\u001B[38;5;132;01m}\u001B[39;00m\u001B[38;5;124m, X: \u001B[39m\u001B[38;5;132;01m{\u001B[39;00mix\u001B[38;5;132;01m}\u001B[39;00m\u001B[38;5;124m, Y: \u001B[39m\u001B[38;5;132;01m{\u001B[39;00miy\u001B[38;5;132;01m}\u001B[39;00m\u001B[38;5;124m, Z: \u001B[39m\u001B[38;5;132;01m{\u001B[39;00miz\u001B[38;5;132;01m}\u001B[39;00m\u001B[38;5;124m , Y MIP size: \u001B[39m\u001B[38;5;132;01m{\u001B[39;00my_gap\u001B[38;5;132;01m}\u001B[39;00m\u001B[38;5;124m'\u001B[39m\n\u001B[0;32m     79\u001B[0m data_string2 \u001B[38;5;241m=\u001B[39m \u001B[38;5;124mf\u001B[39m\u001B[38;5;124m'\u001B[39m\u001B[38;5;124m , r_size: \u001B[39m\u001B[38;5;132;01m{\u001B[39;00mr_size\u001B[38;5;132;01m}\u001B[39;00m\u001B[38;5;124m, gap_from_surface: \u001B[39m\u001B[38;5;132;01m{\u001B[39;00mgap_from_surface\u001B[38;5;132;01m}\u001B[39;00m\u001B[38;5;124m'\u001B[39m\n\u001B[1;32m---> 80\u001B[0m data_string3 \u001B[38;5;241m=\u001B[39m \u001B[38;5;124mf\u001B[39m\u001B[38;5;124m'\u001B[39m\u001B[38;5;124m , mean: \u001B[39m\u001B[38;5;132;01m{\u001B[39;00mmean\u001B[38;5;132;01m:\u001B[39;00m\u001B[38;5;124m.2f\u001B[39m\u001B[38;5;132;01m}\u001B[39;00m\u001B[38;5;124m, std: \u001B[39m\u001B[38;5;132;01m{\u001B[39;00mstd\u001B[38;5;132;01m:\u001B[39;00m\u001B[38;5;124m.2f\u001B[39m\u001B[38;5;132;01m}\u001B[39;00m\u001B[38;5;124m'\u001B[39m\n\u001B[0;32m     81\u001B[0m exit_string \u001B[38;5;241m=\u001B[39m \u001B[38;5;124m'\u001B[39m\u001B[38;5;124ms  to save, q to quit, 2/8 to change time\u001B[39m\u001B[38;5;124m'\u001B[39m\n\u001B[0;32m     82\u001B[0m data_img \u001B[38;5;241m=\u001B[39m np\u001B[38;5;241m.\u001B[39mzeros((\u001B[38;5;241m500\u001B[39m,\u001B[38;5;241m600\u001B[39m))\n",
      "\u001B[1;31mNameError\u001B[0m: name 'mean' is not defined"
     ]
    },
    {
     "ename": "NameError",
     "evalue": "name 'mean' is not defined",
     "output_type": "error",
     "traceback": [
      "\u001B[1;31m---------------------------------------------------------------------------\u001B[0m",
      "\u001B[1;31mNameError\u001B[0m                                 Traceback (most recent call last)",
      "Cell \u001B[1;32mIn[6], line 80\u001B[0m, in \u001B[0;36mdraw_rectangle\u001B[1;34m(event, x, z, flags, param)\u001B[0m\n\u001B[0;32m     78\u001B[0m data_string \u001B[38;5;241m=\u001B[39m \u001B[38;5;124mf\u001B[39m\u001B[38;5;124m'\u001B[39m\u001B[38;5;124mTime: \u001B[39m\u001B[38;5;132;01m{\u001B[39;00mimg_index\u001B[38;5;132;01m}\u001B[39;00m\u001B[38;5;124m, X: \u001B[39m\u001B[38;5;132;01m{\u001B[39;00mix\u001B[38;5;132;01m}\u001B[39;00m\u001B[38;5;124m, Y: \u001B[39m\u001B[38;5;132;01m{\u001B[39;00miy\u001B[38;5;132;01m}\u001B[39;00m\u001B[38;5;124m, Z: \u001B[39m\u001B[38;5;132;01m{\u001B[39;00miz\u001B[38;5;132;01m}\u001B[39;00m\u001B[38;5;124m , Y MIP size: \u001B[39m\u001B[38;5;132;01m{\u001B[39;00my_gap\u001B[38;5;132;01m}\u001B[39;00m\u001B[38;5;124m'\u001B[39m\n\u001B[0;32m     79\u001B[0m data_string2 \u001B[38;5;241m=\u001B[39m \u001B[38;5;124mf\u001B[39m\u001B[38;5;124m'\u001B[39m\u001B[38;5;124m , r_size: \u001B[39m\u001B[38;5;132;01m{\u001B[39;00mr_size\u001B[38;5;132;01m}\u001B[39;00m\u001B[38;5;124m, gap_from_surface: \u001B[39m\u001B[38;5;132;01m{\u001B[39;00mgap_from_surface\u001B[38;5;132;01m}\u001B[39;00m\u001B[38;5;124m'\u001B[39m\n\u001B[1;32m---> 80\u001B[0m data_string3 \u001B[38;5;241m=\u001B[39m \u001B[38;5;124mf\u001B[39m\u001B[38;5;124m'\u001B[39m\u001B[38;5;124m , mean: \u001B[39m\u001B[38;5;132;01m{\u001B[39;00mmean\u001B[38;5;132;01m:\u001B[39;00m\u001B[38;5;124m.2f\u001B[39m\u001B[38;5;132;01m}\u001B[39;00m\u001B[38;5;124m, std: \u001B[39m\u001B[38;5;132;01m{\u001B[39;00mstd\u001B[38;5;132;01m:\u001B[39;00m\u001B[38;5;124m.2f\u001B[39m\u001B[38;5;132;01m}\u001B[39;00m\u001B[38;5;124m'\u001B[39m\n\u001B[0;32m     81\u001B[0m exit_string \u001B[38;5;241m=\u001B[39m \u001B[38;5;124m'\u001B[39m\u001B[38;5;124ms  to save, q to quit, 2/8 to change time\u001B[39m\u001B[38;5;124m'\u001B[39m\n\u001B[0;32m     82\u001B[0m data_img \u001B[38;5;241m=\u001B[39m np\u001B[38;5;241m.\u001B[39mzeros((\u001B[38;5;241m500\u001B[39m,\u001B[38;5;241m600\u001B[39m))\n",
      "\u001B[1;31mNameError\u001B[0m: name 'mean' is not defined"
     ]
    },
    {
     "ename": "NameError",
     "evalue": "name 'mean' is not defined",
     "output_type": "error",
     "traceback": [
      "\u001B[1;31m---------------------------------------------------------------------------\u001B[0m",
      "\u001B[1;31mNameError\u001B[0m                                 Traceback (most recent call last)",
      "Cell \u001B[1;32mIn[6], line 80\u001B[0m, in \u001B[0;36mdraw_rectangle\u001B[1;34m(event, x, z, flags, param)\u001B[0m\n\u001B[0;32m     78\u001B[0m data_string \u001B[38;5;241m=\u001B[39m \u001B[38;5;124mf\u001B[39m\u001B[38;5;124m'\u001B[39m\u001B[38;5;124mTime: \u001B[39m\u001B[38;5;132;01m{\u001B[39;00mimg_index\u001B[38;5;132;01m}\u001B[39;00m\u001B[38;5;124m, X: \u001B[39m\u001B[38;5;132;01m{\u001B[39;00mix\u001B[38;5;132;01m}\u001B[39;00m\u001B[38;5;124m, Y: \u001B[39m\u001B[38;5;132;01m{\u001B[39;00miy\u001B[38;5;132;01m}\u001B[39;00m\u001B[38;5;124m, Z: \u001B[39m\u001B[38;5;132;01m{\u001B[39;00miz\u001B[38;5;132;01m}\u001B[39;00m\u001B[38;5;124m , Y MIP size: \u001B[39m\u001B[38;5;132;01m{\u001B[39;00my_gap\u001B[38;5;132;01m}\u001B[39;00m\u001B[38;5;124m'\u001B[39m\n\u001B[0;32m     79\u001B[0m data_string2 \u001B[38;5;241m=\u001B[39m \u001B[38;5;124mf\u001B[39m\u001B[38;5;124m'\u001B[39m\u001B[38;5;124m , r_size: \u001B[39m\u001B[38;5;132;01m{\u001B[39;00mr_size\u001B[38;5;132;01m}\u001B[39;00m\u001B[38;5;124m, gap_from_surface: \u001B[39m\u001B[38;5;132;01m{\u001B[39;00mgap_from_surface\u001B[38;5;132;01m}\u001B[39;00m\u001B[38;5;124m'\u001B[39m\n\u001B[1;32m---> 80\u001B[0m data_string3 \u001B[38;5;241m=\u001B[39m \u001B[38;5;124mf\u001B[39m\u001B[38;5;124m'\u001B[39m\u001B[38;5;124m , mean: \u001B[39m\u001B[38;5;132;01m{\u001B[39;00mmean\u001B[38;5;132;01m:\u001B[39;00m\u001B[38;5;124m.2f\u001B[39m\u001B[38;5;132;01m}\u001B[39;00m\u001B[38;5;124m, std: \u001B[39m\u001B[38;5;132;01m{\u001B[39;00mstd\u001B[38;5;132;01m:\u001B[39;00m\u001B[38;5;124m.2f\u001B[39m\u001B[38;5;132;01m}\u001B[39;00m\u001B[38;5;124m'\u001B[39m\n\u001B[0;32m     81\u001B[0m exit_string \u001B[38;5;241m=\u001B[39m \u001B[38;5;124m'\u001B[39m\u001B[38;5;124ms  to save, q to quit, 2/8 to change time\u001B[39m\u001B[38;5;124m'\u001B[39m\n\u001B[0;32m     82\u001B[0m data_img \u001B[38;5;241m=\u001B[39m np\u001B[38;5;241m.\u001B[39mzeros((\u001B[38;5;241m500\u001B[39m,\u001B[38;5;241m600\u001B[39m))\n",
      "\u001B[1;31mNameError\u001B[0m: name 'mean' is not defined"
     ]
    },
    {
     "ename": "NameError",
     "evalue": "name 'mean' is not defined",
     "output_type": "error",
     "traceback": [
      "\u001B[1;31m---------------------------------------------------------------------------\u001B[0m",
      "\u001B[1;31mNameError\u001B[0m                                 Traceback (most recent call last)",
      "Cell \u001B[1;32mIn[6], line 80\u001B[0m, in \u001B[0;36mdraw_rectangle\u001B[1;34m(event, x, z, flags, param)\u001B[0m\n\u001B[0;32m     78\u001B[0m data_string \u001B[38;5;241m=\u001B[39m \u001B[38;5;124mf\u001B[39m\u001B[38;5;124m'\u001B[39m\u001B[38;5;124mTime: \u001B[39m\u001B[38;5;132;01m{\u001B[39;00mimg_index\u001B[38;5;132;01m}\u001B[39;00m\u001B[38;5;124m, X: \u001B[39m\u001B[38;5;132;01m{\u001B[39;00mix\u001B[38;5;132;01m}\u001B[39;00m\u001B[38;5;124m, Y: \u001B[39m\u001B[38;5;132;01m{\u001B[39;00miy\u001B[38;5;132;01m}\u001B[39;00m\u001B[38;5;124m, Z: \u001B[39m\u001B[38;5;132;01m{\u001B[39;00miz\u001B[38;5;132;01m}\u001B[39;00m\u001B[38;5;124m , Y MIP size: \u001B[39m\u001B[38;5;132;01m{\u001B[39;00my_gap\u001B[38;5;132;01m}\u001B[39;00m\u001B[38;5;124m'\u001B[39m\n\u001B[0;32m     79\u001B[0m data_string2 \u001B[38;5;241m=\u001B[39m \u001B[38;5;124mf\u001B[39m\u001B[38;5;124m'\u001B[39m\u001B[38;5;124m , r_size: \u001B[39m\u001B[38;5;132;01m{\u001B[39;00mr_size\u001B[38;5;132;01m}\u001B[39;00m\u001B[38;5;124m, gap_from_surface: \u001B[39m\u001B[38;5;132;01m{\u001B[39;00mgap_from_surface\u001B[38;5;132;01m}\u001B[39;00m\u001B[38;5;124m'\u001B[39m\n\u001B[1;32m---> 80\u001B[0m data_string3 \u001B[38;5;241m=\u001B[39m \u001B[38;5;124mf\u001B[39m\u001B[38;5;124m'\u001B[39m\u001B[38;5;124m , mean: \u001B[39m\u001B[38;5;132;01m{\u001B[39;00mmean\u001B[38;5;132;01m:\u001B[39;00m\u001B[38;5;124m.2f\u001B[39m\u001B[38;5;132;01m}\u001B[39;00m\u001B[38;5;124m, std: \u001B[39m\u001B[38;5;132;01m{\u001B[39;00mstd\u001B[38;5;132;01m:\u001B[39;00m\u001B[38;5;124m.2f\u001B[39m\u001B[38;5;132;01m}\u001B[39;00m\u001B[38;5;124m'\u001B[39m\n\u001B[0;32m     81\u001B[0m exit_string \u001B[38;5;241m=\u001B[39m \u001B[38;5;124m'\u001B[39m\u001B[38;5;124ms  to save, q to quit, 2/8 to change time\u001B[39m\u001B[38;5;124m'\u001B[39m\n\u001B[0;32m     82\u001B[0m data_img \u001B[38;5;241m=\u001B[39m np\u001B[38;5;241m.\u001B[39mzeros((\u001B[38;5;241m500\u001B[39m,\u001B[38;5;241m600\u001B[39m))\n",
      "\u001B[1;31mNameError\u001B[0m: name 'mean' is not defined"
     ]
    },
    {
     "ename": "NameError",
     "evalue": "name 'mean' is not defined",
     "output_type": "error",
     "traceback": [
      "\u001B[1;31m---------------------------------------------------------------------------\u001B[0m",
      "\u001B[1;31mNameError\u001B[0m                                 Traceback (most recent call last)",
      "Cell \u001B[1;32mIn[6], line 80\u001B[0m, in \u001B[0;36mdraw_rectangle\u001B[1;34m(event, x, z, flags, param)\u001B[0m\n\u001B[0;32m     78\u001B[0m data_string \u001B[38;5;241m=\u001B[39m \u001B[38;5;124mf\u001B[39m\u001B[38;5;124m'\u001B[39m\u001B[38;5;124mTime: \u001B[39m\u001B[38;5;132;01m{\u001B[39;00mimg_index\u001B[38;5;132;01m}\u001B[39;00m\u001B[38;5;124m, X: \u001B[39m\u001B[38;5;132;01m{\u001B[39;00mix\u001B[38;5;132;01m}\u001B[39;00m\u001B[38;5;124m, Y: \u001B[39m\u001B[38;5;132;01m{\u001B[39;00miy\u001B[38;5;132;01m}\u001B[39;00m\u001B[38;5;124m, Z: \u001B[39m\u001B[38;5;132;01m{\u001B[39;00miz\u001B[38;5;132;01m}\u001B[39;00m\u001B[38;5;124m , Y MIP size: \u001B[39m\u001B[38;5;132;01m{\u001B[39;00my_gap\u001B[38;5;132;01m}\u001B[39;00m\u001B[38;5;124m'\u001B[39m\n\u001B[0;32m     79\u001B[0m data_string2 \u001B[38;5;241m=\u001B[39m \u001B[38;5;124mf\u001B[39m\u001B[38;5;124m'\u001B[39m\u001B[38;5;124m , r_size: \u001B[39m\u001B[38;5;132;01m{\u001B[39;00mr_size\u001B[38;5;132;01m}\u001B[39;00m\u001B[38;5;124m, gap_from_surface: \u001B[39m\u001B[38;5;132;01m{\u001B[39;00mgap_from_surface\u001B[38;5;132;01m}\u001B[39;00m\u001B[38;5;124m'\u001B[39m\n\u001B[1;32m---> 80\u001B[0m data_string3 \u001B[38;5;241m=\u001B[39m \u001B[38;5;124mf\u001B[39m\u001B[38;5;124m'\u001B[39m\u001B[38;5;124m , mean: \u001B[39m\u001B[38;5;132;01m{\u001B[39;00mmean\u001B[38;5;132;01m:\u001B[39;00m\u001B[38;5;124m.2f\u001B[39m\u001B[38;5;132;01m}\u001B[39;00m\u001B[38;5;124m, std: \u001B[39m\u001B[38;5;132;01m{\u001B[39;00mstd\u001B[38;5;132;01m:\u001B[39;00m\u001B[38;5;124m.2f\u001B[39m\u001B[38;5;132;01m}\u001B[39;00m\u001B[38;5;124m'\u001B[39m\n\u001B[0;32m     81\u001B[0m exit_string \u001B[38;5;241m=\u001B[39m \u001B[38;5;124m'\u001B[39m\u001B[38;5;124ms  to save, q to quit, 2/8 to change time\u001B[39m\u001B[38;5;124m'\u001B[39m\n\u001B[0;32m     82\u001B[0m data_img \u001B[38;5;241m=\u001B[39m np\u001B[38;5;241m.\u001B[39mzeros((\u001B[38;5;241m500\u001B[39m,\u001B[38;5;241m600\u001B[39m))\n",
      "\u001B[1;31mNameError\u001B[0m: name 'mean' is not defined"
     ]
    },
    {
     "ename": "NameError",
     "evalue": "name 'mean' is not defined",
     "output_type": "error",
     "traceback": [
      "\u001B[1;31m---------------------------------------------------------------------------\u001B[0m",
      "\u001B[1;31mNameError\u001B[0m                                 Traceback (most recent call last)",
      "Cell \u001B[1;32mIn[6], line 80\u001B[0m, in \u001B[0;36mdraw_rectangle\u001B[1;34m(event, x, z, flags, param)\u001B[0m\n\u001B[0;32m     78\u001B[0m data_string \u001B[38;5;241m=\u001B[39m \u001B[38;5;124mf\u001B[39m\u001B[38;5;124m'\u001B[39m\u001B[38;5;124mTime: \u001B[39m\u001B[38;5;132;01m{\u001B[39;00mimg_index\u001B[38;5;132;01m}\u001B[39;00m\u001B[38;5;124m, X: \u001B[39m\u001B[38;5;132;01m{\u001B[39;00mix\u001B[38;5;132;01m}\u001B[39;00m\u001B[38;5;124m, Y: \u001B[39m\u001B[38;5;132;01m{\u001B[39;00miy\u001B[38;5;132;01m}\u001B[39;00m\u001B[38;5;124m, Z: \u001B[39m\u001B[38;5;132;01m{\u001B[39;00miz\u001B[38;5;132;01m}\u001B[39;00m\u001B[38;5;124m , Y MIP size: \u001B[39m\u001B[38;5;132;01m{\u001B[39;00my_gap\u001B[38;5;132;01m}\u001B[39;00m\u001B[38;5;124m'\u001B[39m\n\u001B[0;32m     79\u001B[0m data_string2 \u001B[38;5;241m=\u001B[39m \u001B[38;5;124mf\u001B[39m\u001B[38;5;124m'\u001B[39m\u001B[38;5;124m , r_size: \u001B[39m\u001B[38;5;132;01m{\u001B[39;00mr_size\u001B[38;5;132;01m}\u001B[39;00m\u001B[38;5;124m, gap_from_surface: \u001B[39m\u001B[38;5;132;01m{\u001B[39;00mgap_from_surface\u001B[38;5;132;01m}\u001B[39;00m\u001B[38;5;124m'\u001B[39m\n\u001B[1;32m---> 80\u001B[0m data_string3 \u001B[38;5;241m=\u001B[39m \u001B[38;5;124mf\u001B[39m\u001B[38;5;124m'\u001B[39m\u001B[38;5;124m , mean: \u001B[39m\u001B[38;5;132;01m{\u001B[39;00mmean\u001B[38;5;132;01m:\u001B[39;00m\u001B[38;5;124m.2f\u001B[39m\u001B[38;5;132;01m}\u001B[39;00m\u001B[38;5;124m, std: \u001B[39m\u001B[38;5;132;01m{\u001B[39;00mstd\u001B[38;5;132;01m:\u001B[39;00m\u001B[38;5;124m.2f\u001B[39m\u001B[38;5;132;01m}\u001B[39;00m\u001B[38;5;124m'\u001B[39m\n\u001B[0;32m     81\u001B[0m exit_string \u001B[38;5;241m=\u001B[39m \u001B[38;5;124m'\u001B[39m\u001B[38;5;124ms  to save, q to quit, 2/8 to change time\u001B[39m\u001B[38;5;124m'\u001B[39m\n\u001B[0;32m     82\u001B[0m data_img \u001B[38;5;241m=\u001B[39m np\u001B[38;5;241m.\u001B[39mzeros((\u001B[38;5;241m500\u001B[39m,\u001B[38;5;241m600\u001B[39m))\n",
      "\u001B[1;31mNameError\u001B[0m: name 'mean' is not defined"
     ]
    },
    {
     "ename": "NameError",
     "evalue": "name 'mean' is not defined",
     "output_type": "error",
     "traceback": [
      "\u001B[1;31m---------------------------------------------------------------------------\u001B[0m",
      "\u001B[1;31mNameError\u001B[0m                                 Traceback (most recent call last)",
      "Cell \u001B[1;32mIn[6], line 80\u001B[0m, in \u001B[0;36mdraw_rectangle\u001B[1;34m(event, x, z, flags, param)\u001B[0m\n\u001B[0;32m     78\u001B[0m data_string \u001B[38;5;241m=\u001B[39m \u001B[38;5;124mf\u001B[39m\u001B[38;5;124m'\u001B[39m\u001B[38;5;124mTime: \u001B[39m\u001B[38;5;132;01m{\u001B[39;00mimg_index\u001B[38;5;132;01m}\u001B[39;00m\u001B[38;5;124m, X: \u001B[39m\u001B[38;5;132;01m{\u001B[39;00mix\u001B[38;5;132;01m}\u001B[39;00m\u001B[38;5;124m, Y: \u001B[39m\u001B[38;5;132;01m{\u001B[39;00miy\u001B[38;5;132;01m}\u001B[39;00m\u001B[38;5;124m, Z: \u001B[39m\u001B[38;5;132;01m{\u001B[39;00miz\u001B[38;5;132;01m}\u001B[39;00m\u001B[38;5;124m , Y MIP size: \u001B[39m\u001B[38;5;132;01m{\u001B[39;00my_gap\u001B[38;5;132;01m}\u001B[39;00m\u001B[38;5;124m'\u001B[39m\n\u001B[0;32m     79\u001B[0m data_string2 \u001B[38;5;241m=\u001B[39m \u001B[38;5;124mf\u001B[39m\u001B[38;5;124m'\u001B[39m\u001B[38;5;124m , r_size: \u001B[39m\u001B[38;5;132;01m{\u001B[39;00mr_size\u001B[38;5;132;01m}\u001B[39;00m\u001B[38;5;124m, gap_from_surface: \u001B[39m\u001B[38;5;132;01m{\u001B[39;00mgap_from_surface\u001B[38;5;132;01m}\u001B[39;00m\u001B[38;5;124m'\u001B[39m\n\u001B[1;32m---> 80\u001B[0m data_string3 \u001B[38;5;241m=\u001B[39m \u001B[38;5;124mf\u001B[39m\u001B[38;5;124m'\u001B[39m\u001B[38;5;124m , mean: \u001B[39m\u001B[38;5;132;01m{\u001B[39;00mmean\u001B[38;5;132;01m:\u001B[39;00m\u001B[38;5;124m.2f\u001B[39m\u001B[38;5;132;01m}\u001B[39;00m\u001B[38;5;124m, std: \u001B[39m\u001B[38;5;132;01m{\u001B[39;00mstd\u001B[38;5;132;01m:\u001B[39;00m\u001B[38;5;124m.2f\u001B[39m\u001B[38;5;132;01m}\u001B[39;00m\u001B[38;5;124m'\u001B[39m\n\u001B[0;32m     81\u001B[0m exit_string \u001B[38;5;241m=\u001B[39m \u001B[38;5;124m'\u001B[39m\u001B[38;5;124ms  to save, q to quit, 2/8 to change time\u001B[39m\u001B[38;5;124m'\u001B[39m\n\u001B[0;32m     82\u001B[0m data_img \u001B[38;5;241m=\u001B[39m np\u001B[38;5;241m.\u001B[39mzeros((\u001B[38;5;241m500\u001B[39m,\u001B[38;5;241m600\u001B[39m))\n",
      "\u001B[1;31mNameError\u001B[0m: name 'mean' is not defined"
     ]
    },
    {
     "ename": "NameError",
     "evalue": "name 'mean' is not defined",
     "output_type": "error",
     "traceback": [
      "\u001B[1;31m---------------------------------------------------------------------------\u001B[0m",
      "\u001B[1;31mNameError\u001B[0m                                 Traceback (most recent call last)",
      "Cell \u001B[1;32mIn[6], line 80\u001B[0m, in \u001B[0;36mdraw_rectangle\u001B[1;34m(event, x, z, flags, param)\u001B[0m\n\u001B[0;32m     78\u001B[0m data_string \u001B[38;5;241m=\u001B[39m \u001B[38;5;124mf\u001B[39m\u001B[38;5;124m'\u001B[39m\u001B[38;5;124mTime: \u001B[39m\u001B[38;5;132;01m{\u001B[39;00mimg_index\u001B[38;5;132;01m}\u001B[39;00m\u001B[38;5;124m, X: \u001B[39m\u001B[38;5;132;01m{\u001B[39;00mix\u001B[38;5;132;01m}\u001B[39;00m\u001B[38;5;124m, Y: \u001B[39m\u001B[38;5;132;01m{\u001B[39;00miy\u001B[38;5;132;01m}\u001B[39;00m\u001B[38;5;124m, Z: \u001B[39m\u001B[38;5;132;01m{\u001B[39;00miz\u001B[38;5;132;01m}\u001B[39;00m\u001B[38;5;124m , Y MIP size: \u001B[39m\u001B[38;5;132;01m{\u001B[39;00my_gap\u001B[38;5;132;01m}\u001B[39;00m\u001B[38;5;124m'\u001B[39m\n\u001B[0;32m     79\u001B[0m data_string2 \u001B[38;5;241m=\u001B[39m \u001B[38;5;124mf\u001B[39m\u001B[38;5;124m'\u001B[39m\u001B[38;5;124m , r_size: \u001B[39m\u001B[38;5;132;01m{\u001B[39;00mr_size\u001B[38;5;132;01m}\u001B[39;00m\u001B[38;5;124m, gap_from_surface: \u001B[39m\u001B[38;5;132;01m{\u001B[39;00mgap_from_surface\u001B[38;5;132;01m}\u001B[39;00m\u001B[38;5;124m'\u001B[39m\n\u001B[1;32m---> 80\u001B[0m data_string3 \u001B[38;5;241m=\u001B[39m \u001B[38;5;124mf\u001B[39m\u001B[38;5;124m'\u001B[39m\u001B[38;5;124m , mean: \u001B[39m\u001B[38;5;132;01m{\u001B[39;00mmean\u001B[38;5;132;01m:\u001B[39;00m\u001B[38;5;124m.2f\u001B[39m\u001B[38;5;132;01m}\u001B[39;00m\u001B[38;5;124m, std: \u001B[39m\u001B[38;5;132;01m{\u001B[39;00mstd\u001B[38;5;132;01m:\u001B[39;00m\u001B[38;5;124m.2f\u001B[39m\u001B[38;5;132;01m}\u001B[39;00m\u001B[38;5;124m'\u001B[39m\n\u001B[0;32m     81\u001B[0m exit_string \u001B[38;5;241m=\u001B[39m \u001B[38;5;124m'\u001B[39m\u001B[38;5;124ms  to save, q to quit, 2/8 to change time\u001B[39m\u001B[38;5;124m'\u001B[39m\n\u001B[0;32m     82\u001B[0m data_img \u001B[38;5;241m=\u001B[39m np\u001B[38;5;241m.\u001B[39mzeros((\u001B[38;5;241m500\u001B[39m,\u001B[38;5;241m600\u001B[39m))\n",
      "\u001B[1;31mNameError\u001B[0m: name 'mean' is not defined"
     ]
    },
    {
     "ename": "NameError",
     "evalue": "name 'mean' is not defined",
     "output_type": "error",
     "traceback": [
      "\u001B[1;31m---------------------------------------------------------------------------\u001B[0m",
      "\u001B[1;31mNameError\u001B[0m                                 Traceback (most recent call last)",
      "Cell \u001B[1;32mIn[6], line 80\u001B[0m, in \u001B[0;36mdraw_rectangle\u001B[1;34m(event, x, z, flags, param)\u001B[0m\n\u001B[0;32m     78\u001B[0m data_string \u001B[38;5;241m=\u001B[39m \u001B[38;5;124mf\u001B[39m\u001B[38;5;124m'\u001B[39m\u001B[38;5;124mTime: \u001B[39m\u001B[38;5;132;01m{\u001B[39;00mimg_index\u001B[38;5;132;01m}\u001B[39;00m\u001B[38;5;124m, X: \u001B[39m\u001B[38;5;132;01m{\u001B[39;00mix\u001B[38;5;132;01m}\u001B[39;00m\u001B[38;5;124m, Y: \u001B[39m\u001B[38;5;132;01m{\u001B[39;00miy\u001B[38;5;132;01m}\u001B[39;00m\u001B[38;5;124m, Z: \u001B[39m\u001B[38;5;132;01m{\u001B[39;00miz\u001B[38;5;132;01m}\u001B[39;00m\u001B[38;5;124m , Y MIP size: \u001B[39m\u001B[38;5;132;01m{\u001B[39;00my_gap\u001B[38;5;132;01m}\u001B[39;00m\u001B[38;5;124m'\u001B[39m\n\u001B[0;32m     79\u001B[0m data_string2 \u001B[38;5;241m=\u001B[39m \u001B[38;5;124mf\u001B[39m\u001B[38;5;124m'\u001B[39m\u001B[38;5;124m , r_size: \u001B[39m\u001B[38;5;132;01m{\u001B[39;00mr_size\u001B[38;5;132;01m}\u001B[39;00m\u001B[38;5;124m, gap_from_surface: \u001B[39m\u001B[38;5;132;01m{\u001B[39;00mgap_from_surface\u001B[38;5;132;01m}\u001B[39;00m\u001B[38;5;124m'\u001B[39m\n\u001B[1;32m---> 80\u001B[0m data_string3 \u001B[38;5;241m=\u001B[39m \u001B[38;5;124mf\u001B[39m\u001B[38;5;124m'\u001B[39m\u001B[38;5;124m , mean: \u001B[39m\u001B[38;5;132;01m{\u001B[39;00mmean\u001B[38;5;132;01m:\u001B[39;00m\u001B[38;5;124m.2f\u001B[39m\u001B[38;5;132;01m}\u001B[39;00m\u001B[38;5;124m, std: \u001B[39m\u001B[38;5;132;01m{\u001B[39;00mstd\u001B[38;5;132;01m:\u001B[39;00m\u001B[38;5;124m.2f\u001B[39m\u001B[38;5;132;01m}\u001B[39;00m\u001B[38;5;124m'\u001B[39m\n\u001B[0;32m     81\u001B[0m exit_string \u001B[38;5;241m=\u001B[39m \u001B[38;5;124m'\u001B[39m\u001B[38;5;124ms  to save, q to quit, 2/8 to change time\u001B[39m\u001B[38;5;124m'\u001B[39m\n\u001B[0;32m     82\u001B[0m data_img \u001B[38;5;241m=\u001B[39m np\u001B[38;5;241m.\u001B[39mzeros((\u001B[38;5;241m500\u001B[39m,\u001B[38;5;241m600\u001B[39m))\n",
      "\u001B[1;31mNameError\u001B[0m: name 'mean' is not defined"
     ]
    },
    {
     "ename": "NameError",
     "evalue": "name 'mean' is not defined",
     "output_type": "error",
     "traceback": [
      "\u001B[1;31m---------------------------------------------------------------------------\u001B[0m",
      "\u001B[1;31mNameError\u001B[0m                                 Traceback (most recent call last)",
      "Cell \u001B[1;32mIn[6], line 80\u001B[0m, in \u001B[0;36mdraw_rectangle\u001B[1;34m(event, x, z, flags, param)\u001B[0m\n\u001B[0;32m     78\u001B[0m data_string \u001B[38;5;241m=\u001B[39m \u001B[38;5;124mf\u001B[39m\u001B[38;5;124m'\u001B[39m\u001B[38;5;124mTime: \u001B[39m\u001B[38;5;132;01m{\u001B[39;00mimg_index\u001B[38;5;132;01m}\u001B[39;00m\u001B[38;5;124m, X: \u001B[39m\u001B[38;5;132;01m{\u001B[39;00mix\u001B[38;5;132;01m}\u001B[39;00m\u001B[38;5;124m, Y: \u001B[39m\u001B[38;5;132;01m{\u001B[39;00miy\u001B[38;5;132;01m}\u001B[39;00m\u001B[38;5;124m, Z: \u001B[39m\u001B[38;5;132;01m{\u001B[39;00miz\u001B[38;5;132;01m}\u001B[39;00m\u001B[38;5;124m , Y MIP size: \u001B[39m\u001B[38;5;132;01m{\u001B[39;00my_gap\u001B[38;5;132;01m}\u001B[39;00m\u001B[38;5;124m'\u001B[39m\n\u001B[0;32m     79\u001B[0m data_string2 \u001B[38;5;241m=\u001B[39m \u001B[38;5;124mf\u001B[39m\u001B[38;5;124m'\u001B[39m\u001B[38;5;124m , r_size: \u001B[39m\u001B[38;5;132;01m{\u001B[39;00mr_size\u001B[38;5;132;01m}\u001B[39;00m\u001B[38;5;124m, gap_from_surface: \u001B[39m\u001B[38;5;132;01m{\u001B[39;00mgap_from_surface\u001B[38;5;132;01m}\u001B[39;00m\u001B[38;5;124m'\u001B[39m\n\u001B[1;32m---> 80\u001B[0m data_string3 \u001B[38;5;241m=\u001B[39m \u001B[38;5;124mf\u001B[39m\u001B[38;5;124m'\u001B[39m\u001B[38;5;124m , mean: \u001B[39m\u001B[38;5;132;01m{\u001B[39;00mmean\u001B[38;5;132;01m:\u001B[39;00m\u001B[38;5;124m.2f\u001B[39m\u001B[38;5;132;01m}\u001B[39;00m\u001B[38;5;124m, std: \u001B[39m\u001B[38;5;132;01m{\u001B[39;00mstd\u001B[38;5;132;01m:\u001B[39;00m\u001B[38;5;124m.2f\u001B[39m\u001B[38;5;132;01m}\u001B[39;00m\u001B[38;5;124m'\u001B[39m\n\u001B[0;32m     81\u001B[0m exit_string \u001B[38;5;241m=\u001B[39m \u001B[38;5;124m'\u001B[39m\u001B[38;5;124ms  to save, q to quit, 2/8 to change time\u001B[39m\u001B[38;5;124m'\u001B[39m\n\u001B[0;32m     82\u001B[0m data_img \u001B[38;5;241m=\u001B[39m np\u001B[38;5;241m.\u001B[39mzeros((\u001B[38;5;241m500\u001B[39m,\u001B[38;5;241m600\u001B[39m))\n",
      "\u001B[1;31mNameError\u001B[0m: name 'mean' is not defined"
     ]
    },
    {
     "ename": "NameError",
     "evalue": "name 'mean' is not defined",
     "output_type": "error",
     "traceback": [
      "\u001B[1;31m---------------------------------------------------------------------------\u001B[0m",
      "\u001B[1;31mNameError\u001B[0m                                 Traceback (most recent call last)",
      "Cell \u001B[1;32mIn[6], line 80\u001B[0m, in \u001B[0;36mdraw_rectangle\u001B[1;34m(event, x, z, flags, param)\u001B[0m\n\u001B[0;32m     78\u001B[0m data_string \u001B[38;5;241m=\u001B[39m \u001B[38;5;124mf\u001B[39m\u001B[38;5;124m'\u001B[39m\u001B[38;5;124mTime: \u001B[39m\u001B[38;5;132;01m{\u001B[39;00mimg_index\u001B[38;5;132;01m}\u001B[39;00m\u001B[38;5;124m, X: \u001B[39m\u001B[38;5;132;01m{\u001B[39;00mix\u001B[38;5;132;01m}\u001B[39;00m\u001B[38;5;124m, Y: \u001B[39m\u001B[38;5;132;01m{\u001B[39;00miy\u001B[38;5;132;01m}\u001B[39;00m\u001B[38;5;124m, Z: \u001B[39m\u001B[38;5;132;01m{\u001B[39;00miz\u001B[38;5;132;01m}\u001B[39;00m\u001B[38;5;124m , Y MIP size: \u001B[39m\u001B[38;5;132;01m{\u001B[39;00my_gap\u001B[38;5;132;01m}\u001B[39;00m\u001B[38;5;124m'\u001B[39m\n\u001B[0;32m     79\u001B[0m data_string2 \u001B[38;5;241m=\u001B[39m \u001B[38;5;124mf\u001B[39m\u001B[38;5;124m'\u001B[39m\u001B[38;5;124m , r_size: \u001B[39m\u001B[38;5;132;01m{\u001B[39;00mr_size\u001B[38;5;132;01m}\u001B[39;00m\u001B[38;5;124m, gap_from_surface: \u001B[39m\u001B[38;5;132;01m{\u001B[39;00mgap_from_surface\u001B[38;5;132;01m}\u001B[39;00m\u001B[38;5;124m'\u001B[39m\n\u001B[1;32m---> 80\u001B[0m data_string3 \u001B[38;5;241m=\u001B[39m \u001B[38;5;124mf\u001B[39m\u001B[38;5;124m'\u001B[39m\u001B[38;5;124m , mean: \u001B[39m\u001B[38;5;132;01m{\u001B[39;00mmean\u001B[38;5;132;01m:\u001B[39;00m\u001B[38;5;124m.2f\u001B[39m\u001B[38;5;132;01m}\u001B[39;00m\u001B[38;5;124m, std: \u001B[39m\u001B[38;5;132;01m{\u001B[39;00mstd\u001B[38;5;132;01m:\u001B[39;00m\u001B[38;5;124m.2f\u001B[39m\u001B[38;5;132;01m}\u001B[39;00m\u001B[38;5;124m'\u001B[39m\n\u001B[0;32m     81\u001B[0m exit_string \u001B[38;5;241m=\u001B[39m \u001B[38;5;124m'\u001B[39m\u001B[38;5;124ms  to save, q to quit, 2/8 to change time\u001B[39m\u001B[38;5;124m'\u001B[39m\n\u001B[0;32m     82\u001B[0m data_img \u001B[38;5;241m=\u001B[39m np\u001B[38;5;241m.\u001B[39mzeros((\u001B[38;5;241m500\u001B[39m,\u001B[38;5;241m600\u001B[39m))\n",
      "\u001B[1;31mNameError\u001B[0m: name 'mean' is not defined"
     ]
    },
    {
     "ename": "NameError",
     "evalue": "name 'mean' is not defined",
     "output_type": "error",
     "traceback": [
      "\u001B[1;31m---------------------------------------------------------------------------\u001B[0m",
      "\u001B[1;31mNameError\u001B[0m                                 Traceback (most recent call last)",
      "Cell \u001B[1;32mIn[6], line 80\u001B[0m, in \u001B[0;36mdraw_rectangle\u001B[1;34m(event, x, z, flags, param)\u001B[0m\n\u001B[0;32m     78\u001B[0m data_string \u001B[38;5;241m=\u001B[39m \u001B[38;5;124mf\u001B[39m\u001B[38;5;124m'\u001B[39m\u001B[38;5;124mTime: \u001B[39m\u001B[38;5;132;01m{\u001B[39;00mimg_index\u001B[38;5;132;01m}\u001B[39;00m\u001B[38;5;124m, X: \u001B[39m\u001B[38;5;132;01m{\u001B[39;00mix\u001B[38;5;132;01m}\u001B[39;00m\u001B[38;5;124m, Y: \u001B[39m\u001B[38;5;132;01m{\u001B[39;00miy\u001B[38;5;132;01m}\u001B[39;00m\u001B[38;5;124m, Z: \u001B[39m\u001B[38;5;132;01m{\u001B[39;00miz\u001B[38;5;132;01m}\u001B[39;00m\u001B[38;5;124m , Y MIP size: \u001B[39m\u001B[38;5;132;01m{\u001B[39;00my_gap\u001B[38;5;132;01m}\u001B[39;00m\u001B[38;5;124m'\u001B[39m\n\u001B[0;32m     79\u001B[0m data_string2 \u001B[38;5;241m=\u001B[39m \u001B[38;5;124mf\u001B[39m\u001B[38;5;124m'\u001B[39m\u001B[38;5;124m , r_size: \u001B[39m\u001B[38;5;132;01m{\u001B[39;00mr_size\u001B[38;5;132;01m}\u001B[39;00m\u001B[38;5;124m, gap_from_surface: \u001B[39m\u001B[38;5;132;01m{\u001B[39;00mgap_from_surface\u001B[38;5;132;01m}\u001B[39;00m\u001B[38;5;124m'\u001B[39m\n\u001B[1;32m---> 80\u001B[0m data_string3 \u001B[38;5;241m=\u001B[39m \u001B[38;5;124mf\u001B[39m\u001B[38;5;124m'\u001B[39m\u001B[38;5;124m , mean: \u001B[39m\u001B[38;5;132;01m{\u001B[39;00mmean\u001B[38;5;132;01m:\u001B[39;00m\u001B[38;5;124m.2f\u001B[39m\u001B[38;5;132;01m}\u001B[39;00m\u001B[38;5;124m, std: \u001B[39m\u001B[38;5;132;01m{\u001B[39;00mstd\u001B[38;5;132;01m:\u001B[39;00m\u001B[38;5;124m.2f\u001B[39m\u001B[38;5;132;01m}\u001B[39;00m\u001B[38;5;124m'\u001B[39m\n\u001B[0;32m     81\u001B[0m exit_string \u001B[38;5;241m=\u001B[39m \u001B[38;5;124m'\u001B[39m\u001B[38;5;124ms  to save, q to quit, 2/8 to change time\u001B[39m\u001B[38;5;124m'\u001B[39m\n\u001B[0;32m     82\u001B[0m data_img \u001B[38;5;241m=\u001B[39m np\u001B[38;5;241m.\u001B[39mzeros((\u001B[38;5;241m500\u001B[39m,\u001B[38;5;241m600\u001B[39m))\n",
      "\u001B[1;31mNameError\u001B[0m: name 'mean' is not defined"
     ]
    },
    {
     "ename": "NameError",
     "evalue": "name 'mean' is not defined",
     "output_type": "error",
     "traceback": [
      "\u001B[1;31m---------------------------------------------------------------------------\u001B[0m",
      "\u001B[1;31mNameError\u001B[0m                                 Traceback (most recent call last)",
      "Cell \u001B[1;32mIn[6], line 80\u001B[0m, in \u001B[0;36mdraw_rectangle\u001B[1;34m(event, x, z, flags, param)\u001B[0m\n\u001B[0;32m     78\u001B[0m data_string \u001B[38;5;241m=\u001B[39m \u001B[38;5;124mf\u001B[39m\u001B[38;5;124m'\u001B[39m\u001B[38;5;124mTime: \u001B[39m\u001B[38;5;132;01m{\u001B[39;00mimg_index\u001B[38;5;132;01m}\u001B[39;00m\u001B[38;5;124m, X: \u001B[39m\u001B[38;5;132;01m{\u001B[39;00mix\u001B[38;5;132;01m}\u001B[39;00m\u001B[38;5;124m, Y: \u001B[39m\u001B[38;5;132;01m{\u001B[39;00miy\u001B[38;5;132;01m}\u001B[39;00m\u001B[38;5;124m, Z: \u001B[39m\u001B[38;5;132;01m{\u001B[39;00miz\u001B[38;5;132;01m}\u001B[39;00m\u001B[38;5;124m , Y MIP size: \u001B[39m\u001B[38;5;132;01m{\u001B[39;00my_gap\u001B[38;5;132;01m}\u001B[39;00m\u001B[38;5;124m'\u001B[39m\n\u001B[0;32m     79\u001B[0m data_string2 \u001B[38;5;241m=\u001B[39m \u001B[38;5;124mf\u001B[39m\u001B[38;5;124m'\u001B[39m\u001B[38;5;124m , r_size: \u001B[39m\u001B[38;5;132;01m{\u001B[39;00mr_size\u001B[38;5;132;01m}\u001B[39;00m\u001B[38;5;124m, gap_from_surface: \u001B[39m\u001B[38;5;132;01m{\u001B[39;00mgap_from_surface\u001B[38;5;132;01m}\u001B[39;00m\u001B[38;5;124m'\u001B[39m\n\u001B[1;32m---> 80\u001B[0m data_string3 \u001B[38;5;241m=\u001B[39m \u001B[38;5;124mf\u001B[39m\u001B[38;5;124m'\u001B[39m\u001B[38;5;124m , mean: \u001B[39m\u001B[38;5;132;01m{\u001B[39;00mmean\u001B[38;5;132;01m:\u001B[39;00m\u001B[38;5;124m.2f\u001B[39m\u001B[38;5;132;01m}\u001B[39;00m\u001B[38;5;124m, std: \u001B[39m\u001B[38;5;132;01m{\u001B[39;00mstd\u001B[38;5;132;01m:\u001B[39;00m\u001B[38;5;124m.2f\u001B[39m\u001B[38;5;132;01m}\u001B[39;00m\u001B[38;5;124m'\u001B[39m\n\u001B[0;32m     81\u001B[0m exit_string \u001B[38;5;241m=\u001B[39m \u001B[38;5;124m'\u001B[39m\u001B[38;5;124ms  to save, q to quit, 2/8 to change time\u001B[39m\u001B[38;5;124m'\u001B[39m\n\u001B[0;32m     82\u001B[0m data_img \u001B[38;5;241m=\u001B[39m np\u001B[38;5;241m.\u001B[39mzeros((\u001B[38;5;241m500\u001B[39m,\u001B[38;5;241m600\u001B[39m))\n",
      "\u001B[1;31mNameError\u001B[0m: name 'mean' is not defined"
     ]
    },
    {
     "ename": "NameError",
     "evalue": "name 'mean' is not defined",
     "output_type": "error",
     "traceback": [
      "\u001B[1;31m---------------------------------------------------------------------------\u001B[0m",
      "\u001B[1;31mNameError\u001B[0m                                 Traceback (most recent call last)",
      "Cell \u001B[1;32mIn[6], line 80\u001B[0m, in \u001B[0;36mdraw_rectangle\u001B[1;34m(event, x, z, flags, param)\u001B[0m\n\u001B[0;32m     78\u001B[0m data_string \u001B[38;5;241m=\u001B[39m \u001B[38;5;124mf\u001B[39m\u001B[38;5;124m'\u001B[39m\u001B[38;5;124mTime: \u001B[39m\u001B[38;5;132;01m{\u001B[39;00mimg_index\u001B[38;5;132;01m}\u001B[39;00m\u001B[38;5;124m, X: \u001B[39m\u001B[38;5;132;01m{\u001B[39;00mix\u001B[38;5;132;01m}\u001B[39;00m\u001B[38;5;124m, Y: \u001B[39m\u001B[38;5;132;01m{\u001B[39;00miy\u001B[38;5;132;01m}\u001B[39;00m\u001B[38;5;124m, Z: \u001B[39m\u001B[38;5;132;01m{\u001B[39;00miz\u001B[38;5;132;01m}\u001B[39;00m\u001B[38;5;124m , Y MIP size: \u001B[39m\u001B[38;5;132;01m{\u001B[39;00my_gap\u001B[38;5;132;01m}\u001B[39;00m\u001B[38;5;124m'\u001B[39m\n\u001B[0;32m     79\u001B[0m data_string2 \u001B[38;5;241m=\u001B[39m \u001B[38;5;124mf\u001B[39m\u001B[38;5;124m'\u001B[39m\u001B[38;5;124m , r_size: \u001B[39m\u001B[38;5;132;01m{\u001B[39;00mr_size\u001B[38;5;132;01m}\u001B[39;00m\u001B[38;5;124m, gap_from_surface: \u001B[39m\u001B[38;5;132;01m{\u001B[39;00mgap_from_surface\u001B[38;5;132;01m}\u001B[39;00m\u001B[38;5;124m'\u001B[39m\n\u001B[1;32m---> 80\u001B[0m data_string3 \u001B[38;5;241m=\u001B[39m \u001B[38;5;124mf\u001B[39m\u001B[38;5;124m'\u001B[39m\u001B[38;5;124m , mean: \u001B[39m\u001B[38;5;132;01m{\u001B[39;00mmean\u001B[38;5;132;01m:\u001B[39;00m\u001B[38;5;124m.2f\u001B[39m\u001B[38;5;132;01m}\u001B[39;00m\u001B[38;5;124m, std: \u001B[39m\u001B[38;5;132;01m{\u001B[39;00mstd\u001B[38;5;132;01m:\u001B[39;00m\u001B[38;5;124m.2f\u001B[39m\u001B[38;5;132;01m}\u001B[39;00m\u001B[38;5;124m'\u001B[39m\n\u001B[0;32m     81\u001B[0m exit_string \u001B[38;5;241m=\u001B[39m \u001B[38;5;124m'\u001B[39m\u001B[38;5;124ms  to save, q to quit, 2/8 to change time\u001B[39m\u001B[38;5;124m'\u001B[39m\n\u001B[0;32m     82\u001B[0m data_img \u001B[38;5;241m=\u001B[39m np\u001B[38;5;241m.\u001B[39mzeros((\u001B[38;5;241m500\u001B[39m,\u001B[38;5;241m600\u001B[39m))\n",
      "\u001B[1;31mNameError\u001B[0m: name 'mean' is not defined"
     ]
    },
    {
     "ename": "NameError",
     "evalue": "name 'mean' is not defined",
     "output_type": "error",
     "traceback": [
      "\u001B[1;31m---------------------------------------------------------------------------\u001B[0m",
      "\u001B[1;31mNameError\u001B[0m                                 Traceback (most recent call last)",
      "Cell \u001B[1;32mIn[6], line 80\u001B[0m, in \u001B[0;36mdraw_rectangle\u001B[1;34m(event, x, z, flags, param)\u001B[0m\n\u001B[0;32m     78\u001B[0m data_string \u001B[38;5;241m=\u001B[39m \u001B[38;5;124mf\u001B[39m\u001B[38;5;124m'\u001B[39m\u001B[38;5;124mTime: \u001B[39m\u001B[38;5;132;01m{\u001B[39;00mimg_index\u001B[38;5;132;01m}\u001B[39;00m\u001B[38;5;124m, X: \u001B[39m\u001B[38;5;132;01m{\u001B[39;00mix\u001B[38;5;132;01m}\u001B[39;00m\u001B[38;5;124m, Y: \u001B[39m\u001B[38;5;132;01m{\u001B[39;00miy\u001B[38;5;132;01m}\u001B[39;00m\u001B[38;5;124m, Z: \u001B[39m\u001B[38;5;132;01m{\u001B[39;00miz\u001B[38;5;132;01m}\u001B[39;00m\u001B[38;5;124m , Y MIP size: \u001B[39m\u001B[38;5;132;01m{\u001B[39;00my_gap\u001B[38;5;132;01m}\u001B[39;00m\u001B[38;5;124m'\u001B[39m\n\u001B[0;32m     79\u001B[0m data_string2 \u001B[38;5;241m=\u001B[39m \u001B[38;5;124mf\u001B[39m\u001B[38;5;124m'\u001B[39m\u001B[38;5;124m , r_size: \u001B[39m\u001B[38;5;132;01m{\u001B[39;00mr_size\u001B[38;5;132;01m}\u001B[39;00m\u001B[38;5;124m, gap_from_surface: \u001B[39m\u001B[38;5;132;01m{\u001B[39;00mgap_from_surface\u001B[38;5;132;01m}\u001B[39;00m\u001B[38;5;124m'\u001B[39m\n\u001B[1;32m---> 80\u001B[0m data_string3 \u001B[38;5;241m=\u001B[39m \u001B[38;5;124mf\u001B[39m\u001B[38;5;124m'\u001B[39m\u001B[38;5;124m , mean: \u001B[39m\u001B[38;5;132;01m{\u001B[39;00mmean\u001B[38;5;132;01m:\u001B[39;00m\u001B[38;5;124m.2f\u001B[39m\u001B[38;5;132;01m}\u001B[39;00m\u001B[38;5;124m, std: \u001B[39m\u001B[38;5;132;01m{\u001B[39;00mstd\u001B[38;5;132;01m:\u001B[39;00m\u001B[38;5;124m.2f\u001B[39m\u001B[38;5;132;01m}\u001B[39;00m\u001B[38;5;124m'\u001B[39m\n\u001B[0;32m     81\u001B[0m exit_string \u001B[38;5;241m=\u001B[39m \u001B[38;5;124m'\u001B[39m\u001B[38;5;124ms  to save, q to quit, 2/8 to change time\u001B[39m\u001B[38;5;124m'\u001B[39m\n\u001B[0;32m     82\u001B[0m data_img \u001B[38;5;241m=\u001B[39m np\u001B[38;5;241m.\u001B[39mzeros((\u001B[38;5;241m500\u001B[39m,\u001B[38;5;241m600\u001B[39m))\n",
      "\u001B[1;31mNameError\u001B[0m: name 'mean' is not defined"
     ]
    },
    {
     "ename": "NameError",
     "evalue": "name 'mean' is not defined",
     "output_type": "error",
     "traceback": [
      "\u001B[1;31m---------------------------------------------------------------------------\u001B[0m",
      "\u001B[1;31mNameError\u001B[0m                                 Traceback (most recent call last)",
      "Cell \u001B[1;32mIn[6], line 80\u001B[0m, in \u001B[0;36mdraw_rectangle\u001B[1;34m(event, x, z, flags, param)\u001B[0m\n\u001B[0;32m     78\u001B[0m data_string \u001B[38;5;241m=\u001B[39m \u001B[38;5;124mf\u001B[39m\u001B[38;5;124m'\u001B[39m\u001B[38;5;124mTime: \u001B[39m\u001B[38;5;132;01m{\u001B[39;00mimg_index\u001B[38;5;132;01m}\u001B[39;00m\u001B[38;5;124m, X: \u001B[39m\u001B[38;5;132;01m{\u001B[39;00mix\u001B[38;5;132;01m}\u001B[39;00m\u001B[38;5;124m, Y: \u001B[39m\u001B[38;5;132;01m{\u001B[39;00miy\u001B[38;5;132;01m}\u001B[39;00m\u001B[38;5;124m, Z: \u001B[39m\u001B[38;5;132;01m{\u001B[39;00miz\u001B[38;5;132;01m}\u001B[39;00m\u001B[38;5;124m , Y MIP size: \u001B[39m\u001B[38;5;132;01m{\u001B[39;00my_gap\u001B[38;5;132;01m}\u001B[39;00m\u001B[38;5;124m'\u001B[39m\n\u001B[0;32m     79\u001B[0m data_string2 \u001B[38;5;241m=\u001B[39m \u001B[38;5;124mf\u001B[39m\u001B[38;5;124m'\u001B[39m\u001B[38;5;124m , r_size: \u001B[39m\u001B[38;5;132;01m{\u001B[39;00mr_size\u001B[38;5;132;01m}\u001B[39;00m\u001B[38;5;124m, gap_from_surface: \u001B[39m\u001B[38;5;132;01m{\u001B[39;00mgap_from_surface\u001B[38;5;132;01m}\u001B[39;00m\u001B[38;5;124m'\u001B[39m\n\u001B[1;32m---> 80\u001B[0m data_string3 \u001B[38;5;241m=\u001B[39m \u001B[38;5;124mf\u001B[39m\u001B[38;5;124m'\u001B[39m\u001B[38;5;124m , mean: \u001B[39m\u001B[38;5;132;01m{\u001B[39;00mmean\u001B[38;5;132;01m:\u001B[39;00m\u001B[38;5;124m.2f\u001B[39m\u001B[38;5;132;01m}\u001B[39;00m\u001B[38;5;124m, std: \u001B[39m\u001B[38;5;132;01m{\u001B[39;00mstd\u001B[38;5;132;01m:\u001B[39;00m\u001B[38;5;124m.2f\u001B[39m\u001B[38;5;132;01m}\u001B[39;00m\u001B[38;5;124m'\u001B[39m\n\u001B[0;32m     81\u001B[0m exit_string \u001B[38;5;241m=\u001B[39m \u001B[38;5;124m'\u001B[39m\u001B[38;5;124ms  to save, q to quit, 2/8 to change time\u001B[39m\u001B[38;5;124m'\u001B[39m\n\u001B[0;32m     82\u001B[0m data_img \u001B[38;5;241m=\u001B[39m np\u001B[38;5;241m.\u001B[39mzeros((\u001B[38;5;241m500\u001B[39m,\u001B[38;5;241m600\u001B[39m))\n",
      "\u001B[1;31mNameError\u001B[0m: name 'mean' is not defined"
     ]
    },
    {
     "ename": "NameError",
     "evalue": "name 'mean' is not defined",
     "output_type": "error",
     "traceback": [
      "\u001B[1;31m---------------------------------------------------------------------------\u001B[0m",
      "\u001B[1;31mNameError\u001B[0m                                 Traceback (most recent call last)",
      "Cell \u001B[1;32mIn[6], line 80\u001B[0m, in \u001B[0;36mdraw_rectangle\u001B[1;34m(event, x, z, flags, param)\u001B[0m\n\u001B[0;32m     78\u001B[0m data_string \u001B[38;5;241m=\u001B[39m \u001B[38;5;124mf\u001B[39m\u001B[38;5;124m'\u001B[39m\u001B[38;5;124mTime: \u001B[39m\u001B[38;5;132;01m{\u001B[39;00mimg_index\u001B[38;5;132;01m}\u001B[39;00m\u001B[38;5;124m, X: \u001B[39m\u001B[38;5;132;01m{\u001B[39;00mix\u001B[38;5;132;01m}\u001B[39;00m\u001B[38;5;124m, Y: \u001B[39m\u001B[38;5;132;01m{\u001B[39;00miy\u001B[38;5;132;01m}\u001B[39;00m\u001B[38;5;124m, Z: \u001B[39m\u001B[38;5;132;01m{\u001B[39;00miz\u001B[38;5;132;01m}\u001B[39;00m\u001B[38;5;124m , Y MIP size: \u001B[39m\u001B[38;5;132;01m{\u001B[39;00my_gap\u001B[38;5;132;01m}\u001B[39;00m\u001B[38;5;124m'\u001B[39m\n\u001B[0;32m     79\u001B[0m data_string2 \u001B[38;5;241m=\u001B[39m \u001B[38;5;124mf\u001B[39m\u001B[38;5;124m'\u001B[39m\u001B[38;5;124m , r_size: \u001B[39m\u001B[38;5;132;01m{\u001B[39;00mr_size\u001B[38;5;132;01m}\u001B[39;00m\u001B[38;5;124m, gap_from_surface: \u001B[39m\u001B[38;5;132;01m{\u001B[39;00mgap_from_surface\u001B[38;5;132;01m}\u001B[39;00m\u001B[38;5;124m'\u001B[39m\n\u001B[1;32m---> 80\u001B[0m data_string3 \u001B[38;5;241m=\u001B[39m \u001B[38;5;124mf\u001B[39m\u001B[38;5;124m'\u001B[39m\u001B[38;5;124m , mean: \u001B[39m\u001B[38;5;132;01m{\u001B[39;00mmean\u001B[38;5;132;01m:\u001B[39;00m\u001B[38;5;124m.2f\u001B[39m\u001B[38;5;132;01m}\u001B[39;00m\u001B[38;5;124m, std: \u001B[39m\u001B[38;5;132;01m{\u001B[39;00mstd\u001B[38;5;132;01m:\u001B[39;00m\u001B[38;5;124m.2f\u001B[39m\u001B[38;5;132;01m}\u001B[39;00m\u001B[38;5;124m'\u001B[39m\n\u001B[0;32m     81\u001B[0m exit_string \u001B[38;5;241m=\u001B[39m \u001B[38;5;124m'\u001B[39m\u001B[38;5;124ms  to save, q to quit, 2/8 to change time\u001B[39m\u001B[38;5;124m'\u001B[39m\n\u001B[0;32m     82\u001B[0m data_img \u001B[38;5;241m=\u001B[39m np\u001B[38;5;241m.\u001B[39mzeros((\u001B[38;5;241m500\u001B[39m,\u001B[38;5;241m600\u001B[39m))\n",
      "\u001B[1;31mNameError\u001B[0m: name 'mean' is not defined"
     ]
    },
    {
     "ename": "NameError",
     "evalue": "name 'mean' is not defined",
     "output_type": "error",
     "traceback": [
      "\u001B[1;31m---------------------------------------------------------------------------\u001B[0m",
      "\u001B[1;31mNameError\u001B[0m                                 Traceback (most recent call last)",
      "Cell \u001B[1;32mIn[6], line 80\u001B[0m, in \u001B[0;36mdraw_rectangle\u001B[1;34m(event, x, z, flags, param)\u001B[0m\n\u001B[0;32m     78\u001B[0m data_string \u001B[38;5;241m=\u001B[39m \u001B[38;5;124mf\u001B[39m\u001B[38;5;124m'\u001B[39m\u001B[38;5;124mTime: \u001B[39m\u001B[38;5;132;01m{\u001B[39;00mimg_index\u001B[38;5;132;01m}\u001B[39;00m\u001B[38;5;124m, X: \u001B[39m\u001B[38;5;132;01m{\u001B[39;00mix\u001B[38;5;132;01m}\u001B[39;00m\u001B[38;5;124m, Y: \u001B[39m\u001B[38;5;132;01m{\u001B[39;00miy\u001B[38;5;132;01m}\u001B[39;00m\u001B[38;5;124m, Z: \u001B[39m\u001B[38;5;132;01m{\u001B[39;00miz\u001B[38;5;132;01m}\u001B[39;00m\u001B[38;5;124m , Y MIP size: \u001B[39m\u001B[38;5;132;01m{\u001B[39;00my_gap\u001B[38;5;132;01m}\u001B[39;00m\u001B[38;5;124m'\u001B[39m\n\u001B[0;32m     79\u001B[0m data_string2 \u001B[38;5;241m=\u001B[39m \u001B[38;5;124mf\u001B[39m\u001B[38;5;124m'\u001B[39m\u001B[38;5;124m , r_size: \u001B[39m\u001B[38;5;132;01m{\u001B[39;00mr_size\u001B[38;5;132;01m}\u001B[39;00m\u001B[38;5;124m, gap_from_surface: \u001B[39m\u001B[38;5;132;01m{\u001B[39;00mgap_from_surface\u001B[38;5;132;01m}\u001B[39;00m\u001B[38;5;124m'\u001B[39m\n\u001B[1;32m---> 80\u001B[0m data_string3 \u001B[38;5;241m=\u001B[39m \u001B[38;5;124mf\u001B[39m\u001B[38;5;124m'\u001B[39m\u001B[38;5;124m , mean: \u001B[39m\u001B[38;5;132;01m{\u001B[39;00mmean\u001B[38;5;132;01m:\u001B[39;00m\u001B[38;5;124m.2f\u001B[39m\u001B[38;5;132;01m}\u001B[39;00m\u001B[38;5;124m, std: \u001B[39m\u001B[38;5;132;01m{\u001B[39;00mstd\u001B[38;5;132;01m:\u001B[39;00m\u001B[38;5;124m.2f\u001B[39m\u001B[38;5;132;01m}\u001B[39;00m\u001B[38;5;124m'\u001B[39m\n\u001B[0;32m     81\u001B[0m exit_string \u001B[38;5;241m=\u001B[39m \u001B[38;5;124m'\u001B[39m\u001B[38;5;124ms  to save, q to quit, 2/8 to change time\u001B[39m\u001B[38;5;124m'\u001B[39m\n\u001B[0;32m     82\u001B[0m data_img \u001B[38;5;241m=\u001B[39m np\u001B[38;5;241m.\u001B[39mzeros((\u001B[38;5;241m500\u001B[39m,\u001B[38;5;241m600\u001B[39m))\n",
      "\u001B[1;31mNameError\u001B[0m: name 'mean' is not defined"
     ]
    },
    {
     "ename": "NameError",
     "evalue": "name 'mean' is not defined",
     "output_type": "error",
     "traceback": [
      "\u001B[1;31m---------------------------------------------------------------------------\u001B[0m",
      "\u001B[1;31mNameError\u001B[0m                                 Traceback (most recent call last)",
      "Cell \u001B[1;32mIn[6], line 80\u001B[0m, in \u001B[0;36mdraw_rectangle\u001B[1;34m(event, x, z, flags, param)\u001B[0m\n\u001B[0;32m     78\u001B[0m data_string \u001B[38;5;241m=\u001B[39m \u001B[38;5;124mf\u001B[39m\u001B[38;5;124m'\u001B[39m\u001B[38;5;124mTime: \u001B[39m\u001B[38;5;132;01m{\u001B[39;00mimg_index\u001B[38;5;132;01m}\u001B[39;00m\u001B[38;5;124m, X: \u001B[39m\u001B[38;5;132;01m{\u001B[39;00mix\u001B[38;5;132;01m}\u001B[39;00m\u001B[38;5;124m, Y: \u001B[39m\u001B[38;5;132;01m{\u001B[39;00miy\u001B[38;5;132;01m}\u001B[39;00m\u001B[38;5;124m, Z: \u001B[39m\u001B[38;5;132;01m{\u001B[39;00miz\u001B[38;5;132;01m}\u001B[39;00m\u001B[38;5;124m , Y MIP size: \u001B[39m\u001B[38;5;132;01m{\u001B[39;00my_gap\u001B[38;5;132;01m}\u001B[39;00m\u001B[38;5;124m'\u001B[39m\n\u001B[0;32m     79\u001B[0m data_string2 \u001B[38;5;241m=\u001B[39m \u001B[38;5;124mf\u001B[39m\u001B[38;5;124m'\u001B[39m\u001B[38;5;124m , r_size: \u001B[39m\u001B[38;5;132;01m{\u001B[39;00mr_size\u001B[38;5;132;01m}\u001B[39;00m\u001B[38;5;124m, gap_from_surface: \u001B[39m\u001B[38;5;132;01m{\u001B[39;00mgap_from_surface\u001B[38;5;132;01m}\u001B[39;00m\u001B[38;5;124m'\u001B[39m\n\u001B[1;32m---> 80\u001B[0m data_string3 \u001B[38;5;241m=\u001B[39m \u001B[38;5;124mf\u001B[39m\u001B[38;5;124m'\u001B[39m\u001B[38;5;124m , mean: \u001B[39m\u001B[38;5;132;01m{\u001B[39;00mmean\u001B[38;5;132;01m:\u001B[39;00m\u001B[38;5;124m.2f\u001B[39m\u001B[38;5;132;01m}\u001B[39;00m\u001B[38;5;124m, std: \u001B[39m\u001B[38;5;132;01m{\u001B[39;00mstd\u001B[38;5;132;01m:\u001B[39;00m\u001B[38;5;124m.2f\u001B[39m\u001B[38;5;132;01m}\u001B[39;00m\u001B[38;5;124m'\u001B[39m\n\u001B[0;32m     81\u001B[0m exit_string \u001B[38;5;241m=\u001B[39m \u001B[38;5;124m'\u001B[39m\u001B[38;5;124ms  to save, q to quit, 2/8 to change time\u001B[39m\u001B[38;5;124m'\u001B[39m\n\u001B[0;32m     82\u001B[0m data_img \u001B[38;5;241m=\u001B[39m np\u001B[38;5;241m.\u001B[39mzeros((\u001B[38;5;241m500\u001B[39m,\u001B[38;5;241m600\u001B[39m))\n",
      "\u001B[1;31mNameError\u001B[0m: name 'mean' is not defined"
     ]
    },
    {
     "ename": "NameError",
     "evalue": "name 'mean' is not defined",
     "output_type": "error",
     "traceback": [
      "\u001B[1;31m---------------------------------------------------------------------------\u001B[0m",
      "\u001B[1;31mNameError\u001B[0m                                 Traceback (most recent call last)",
      "Cell \u001B[1;32mIn[6], line 80\u001B[0m, in \u001B[0;36mdraw_rectangle\u001B[1;34m(event, x, z, flags, param)\u001B[0m\n\u001B[0;32m     78\u001B[0m data_string \u001B[38;5;241m=\u001B[39m \u001B[38;5;124mf\u001B[39m\u001B[38;5;124m'\u001B[39m\u001B[38;5;124mTime: \u001B[39m\u001B[38;5;132;01m{\u001B[39;00mimg_index\u001B[38;5;132;01m}\u001B[39;00m\u001B[38;5;124m, X: \u001B[39m\u001B[38;5;132;01m{\u001B[39;00mix\u001B[38;5;132;01m}\u001B[39;00m\u001B[38;5;124m, Y: \u001B[39m\u001B[38;5;132;01m{\u001B[39;00miy\u001B[38;5;132;01m}\u001B[39;00m\u001B[38;5;124m, Z: \u001B[39m\u001B[38;5;132;01m{\u001B[39;00miz\u001B[38;5;132;01m}\u001B[39;00m\u001B[38;5;124m , Y MIP size: \u001B[39m\u001B[38;5;132;01m{\u001B[39;00my_gap\u001B[38;5;132;01m}\u001B[39;00m\u001B[38;5;124m'\u001B[39m\n\u001B[0;32m     79\u001B[0m data_string2 \u001B[38;5;241m=\u001B[39m \u001B[38;5;124mf\u001B[39m\u001B[38;5;124m'\u001B[39m\u001B[38;5;124m , r_size: \u001B[39m\u001B[38;5;132;01m{\u001B[39;00mr_size\u001B[38;5;132;01m}\u001B[39;00m\u001B[38;5;124m, gap_from_surface: \u001B[39m\u001B[38;5;132;01m{\u001B[39;00mgap_from_surface\u001B[38;5;132;01m}\u001B[39;00m\u001B[38;5;124m'\u001B[39m\n\u001B[1;32m---> 80\u001B[0m data_string3 \u001B[38;5;241m=\u001B[39m \u001B[38;5;124mf\u001B[39m\u001B[38;5;124m'\u001B[39m\u001B[38;5;124m , mean: \u001B[39m\u001B[38;5;132;01m{\u001B[39;00mmean\u001B[38;5;132;01m:\u001B[39;00m\u001B[38;5;124m.2f\u001B[39m\u001B[38;5;132;01m}\u001B[39;00m\u001B[38;5;124m, std: \u001B[39m\u001B[38;5;132;01m{\u001B[39;00mstd\u001B[38;5;132;01m:\u001B[39;00m\u001B[38;5;124m.2f\u001B[39m\u001B[38;5;132;01m}\u001B[39;00m\u001B[38;5;124m'\u001B[39m\n\u001B[0;32m     81\u001B[0m exit_string \u001B[38;5;241m=\u001B[39m \u001B[38;5;124m'\u001B[39m\u001B[38;5;124ms  to save, q to quit, 2/8 to change time\u001B[39m\u001B[38;5;124m'\u001B[39m\n\u001B[0;32m     82\u001B[0m data_img \u001B[38;5;241m=\u001B[39m np\u001B[38;5;241m.\u001B[39mzeros((\u001B[38;5;241m500\u001B[39m,\u001B[38;5;241m600\u001B[39m))\n",
      "\u001B[1;31mNameError\u001B[0m: name 'mean' is not defined"
     ]
    },
    {
     "ename": "NameError",
     "evalue": "name 'mean' is not defined",
     "output_type": "error",
     "traceback": [
      "\u001B[1;31m---------------------------------------------------------------------------\u001B[0m",
      "\u001B[1;31mNameError\u001B[0m                                 Traceback (most recent call last)",
      "Cell \u001B[1;32mIn[6], line 80\u001B[0m, in \u001B[0;36mdraw_rectangle\u001B[1;34m(event, x, z, flags, param)\u001B[0m\n\u001B[0;32m     78\u001B[0m data_string \u001B[38;5;241m=\u001B[39m \u001B[38;5;124mf\u001B[39m\u001B[38;5;124m'\u001B[39m\u001B[38;5;124mTime: \u001B[39m\u001B[38;5;132;01m{\u001B[39;00mimg_index\u001B[38;5;132;01m}\u001B[39;00m\u001B[38;5;124m, X: \u001B[39m\u001B[38;5;132;01m{\u001B[39;00mix\u001B[38;5;132;01m}\u001B[39;00m\u001B[38;5;124m, Y: \u001B[39m\u001B[38;5;132;01m{\u001B[39;00miy\u001B[38;5;132;01m}\u001B[39;00m\u001B[38;5;124m, Z: \u001B[39m\u001B[38;5;132;01m{\u001B[39;00miz\u001B[38;5;132;01m}\u001B[39;00m\u001B[38;5;124m , Y MIP size: \u001B[39m\u001B[38;5;132;01m{\u001B[39;00my_gap\u001B[38;5;132;01m}\u001B[39;00m\u001B[38;5;124m'\u001B[39m\n\u001B[0;32m     79\u001B[0m data_string2 \u001B[38;5;241m=\u001B[39m \u001B[38;5;124mf\u001B[39m\u001B[38;5;124m'\u001B[39m\u001B[38;5;124m , r_size: \u001B[39m\u001B[38;5;132;01m{\u001B[39;00mr_size\u001B[38;5;132;01m}\u001B[39;00m\u001B[38;5;124m, gap_from_surface: \u001B[39m\u001B[38;5;132;01m{\u001B[39;00mgap_from_surface\u001B[38;5;132;01m}\u001B[39;00m\u001B[38;5;124m'\u001B[39m\n\u001B[1;32m---> 80\u001B[0m data_string3 \u001B[38;5;241m=\u001B[39m \u001B[38;5;124mf\u001B[39m\u001B[38;5;124m'\u001B[39m\u001B[38;5;124m , mean: \u001B[39m\u001B[38;5;132;01m{\u001B[39;00mmean\u001B[38;5;132;01m:\u001B[39;00m\u001B[38;5;124m.2f\u001B[39m\u001B[38;5;132;01m}\u001B[39;00m\u001B[38;5;124m, std: \u001B[39m\u001B[38;5;132;01m{\u001B[39;00mstd\u001B[38;5;132;01m:\u001B[39;00m\u001B[38;5;124m.2f\u001B[39m\u001B[38;5;132;01m}\u001B[39;00m\u001B[38;5;124m'\u001B[39m\n\u001B[0;32m     81\u001B[0m exit_string \u001B[38;5;241m=\u001B[39m \u001B[38;5;124m'\u001B[39m\u001B[38;5;124ms  to save, q to quit, 2/8 to change time\u001B[39m\u001B[38;5;124m'\u001B[39m\n\u001B[0;32m     82\u001B[0m data_img \u001B[38;5;241m=\u001B[39m np\u001B[38;5;241m.\u001B[39mzeros((\u001B[38;5;241m500\u001B[39m,\u001B[38;5;241m600\u001B[39m))\n",
      "\u001B[1;31mNameError\u001B[0m: name 'mean' is not defined"
     ]
    },
    {
     "ename": "NameError",
     "evalue": "name 'mean' is not defined",
     "output_type": "error",
     "traceback": [
      "\u001B[1;31m---------------------------------------------------------------------------\u001B[0m",
      "\u001B[1;31mNameError\u001B[0m                                 Traceback (most recent call last)",
      "Cell \u001B[1;32mIn[6], line 80\u001B[0m, in \u001B[0;36mdraw_rectangle\u001B[1;34m(event, x, z, flags, param)\u001B[0m\n\u001B[0;32m     78\u001B[0m data_string \u001B[38;5;241m=\u001B[39m \u001B[38;5;124mf\u001B[39m\u001B[38;5;124m'\u001B[39m\u001B[38;5;124mTime: \u001B[39m\u001B[38;5;132;01m{\u001B[39;00mimg_index\u001B[38;5;132;01m}\u001B[39;00m\u001B[38;5;124m, X: \u001B[39m\u001B[38;5;132;01m{\u001B[39;00mix\u001B[38;5;132;01m}\u001B[39;00m\u001B[38;5;124m, Y: \u001B[39m\u001B[38;5;132;01m{\u001B[39;00miy\u001B[38;5;132;01m}\u001B[39;00m\u001B[38;5;124m, Z: \u001B[39m\u001B[38;5;132;01m{\u001B[39;00miz\u001B[38;5;132;01m}\u001B[39;00m\u001B[38;5;124m , Y MIP size: \u001B[39m\u001B[38;5;132;01m{\u001B[39;00my_gap\u001B[38;5;132;01m}\u001B[39;00m\u001B[38;5;124m'\u001B[39m\n\u001B[0;32m     79\u001B[0m data_string2 \u001B[38;5;241m=\u001B[39m \u001B[38;5;124mf\u001B[39m\u001B[38;5;124m'\u001B[39m\u001B[38;5;124m , r_size: \u001B[39m\u001B[38;5;132;01m{\u001B[39;00mr_size\u001B[38;5;132;01m}\u001B[39;00m\u001B[38;5;124m, gap_from_surface: \u001B[39m\u001B[38;5;132;01m{\u001B[39;00mgap_from_surface\u001B[38;5;132;01m}\u001B[39;00m\u001B[38;5;124m'\u001B[39m\n\u001B[1;32m---> 80\u001B[0m data_string3 \u001B[38;5;241m=\u001B[39m \u001B[38;5;124mf\u001B[39m\u001B[38;5;124m'\u001B[39m\u001B[38;5;124m , mean: \u001B[39m\u001B[38;5;132;01m{\u001B[39;00mmean\u001B[38;5;132;01m:\u001B[39;00m\u001B[38;5;124m.2f\u001B[39m\u001B[38;5;132;01m}\u001B[39;00m\u001B[38;5;124m, std: \u001B[39m\u001B[38;5;132;01m{\u001B[39;00mstd\u001B[38;5;132;01m:\u001B[39;00m\u001B[38;5;124m.2f\u001B[39m\u001B[38;5;132;01m}\u001B[39;00m\u001B[38;5;124m'\u001B[39m\n\u001B[0;32m     81\u001B[0m exit_string \u001B[38;5;241m=\u001B[39m \u001B[38;5;124m'\u001B[39m\u001B[38;5;124ms  to save, q to quit, 2/8 to change time\u001B[39m\u001B[38;5;124m'\u001B[39m\n\u001B[0;32m     82\u001B[0m data_img \u001B[38;5;241m=\u001B[39m np\u001B[38;5;241m.\u001B[39mzeros((\u001B[38;5;241m500\u001B[39m,\u001B[38;5;241m600\u001B[39m))\n",
      "\u001B[1;31mNameError\u001B[0m: name 'mean' is not defined"
     ]
    },
    {
     "ename": "NameError",
     "evalue": "name 'mean' is not defined",
     "output_type": "error",
     "traceback": [
      "\u001B[1;31m---------------------------------------------------------------------------\u001B[0m",
      "\u001B[1;31mNameError\u001B[0m                                 Traceback (most recent call last)",
      "Cell \u001B[1;32mIn[6], line 80\u001B[0m, in \u001B[0;36mdraw_rectangle\u001B[1;34m(event, x, z, flags, param)\u001B[0m\n\u001B[0;32m     78\u001B[0m data_string \u001B[38;5;241m=\u001B[39m \u001B[38;5;124mf\u001B[39m\u001B[38;5;124m'\u001B[39m\u001B[38;5;124mTime: \u001B[39m\u001B[38;5;132;01m{\u001B[39;00mimg_index\u001B[38;5;132;01m}\u001B[39;00m\u001B[38;5;124m, X: \u001B[39m\u001B[38;5;132;01m{\u001B[39;00mix\u001B[38;5;132;01m}\u001B[39;00m\u001B[38;5;124m, Y: \u001B[39m\u001B[38;5;132;01m{\u001B[39;00miy\u001B[38;5;132;01m}\u001B[39;00m\u001B[38;5;124m, Z: \u001B[39m\u001B[38;5;132;01m{\u001B[39;00miz\u001B[38;5;132;01m}\u001B[39;00m\u001B[38;5;124m , Y MIP size: \u001B[39m\u001B[38;5;132;01m{\u001B[39;00my_gap\u001B[38;5;132;01m}\u001B[39;00m\u001B[38;5;124m'\u001B[39m\n\u001B[0;32m     79\u001B[0m data_string2 \u001B[38;5;241m=\u001B[39m \u001B[38;5;124mf\u001B[39m\u001B[38;5;124m'\u001B[39m\u001B[38;5;124m , r_size: \u001B[39m\u001B[38;5;132;01m{\u001B[39;00mr_size\u001B[38;5;132;01m}\u001B[39;00m\u001B[38;5;124m, gap_from_surface: \u001B[39m\u001B[38;5;132;01m{\u001B[39;00mgap_from_surface\u001B[38;5;132;01m}\u001B[39;00m\u001B[38;5;124m'\u001B[39m\n\u001B[1;32m---> 80\u001B[0m data_string3 \u001B[38;5;241m=\u001B[39m \u001B[38;5;124mf\u001B[39m\u001B[38;5;124m'\u001B[39m\u001B[38;5;124m , mean: \u001B[39m\u001B[38;5;132;01m{\u001B[39;00mmean\u001B[38;5;132;01m:\u001B[39;00m\u001B[38;5;124m.2f\u001B[39m\u001B[38;5;132;01m}\u001B[39;00m\u001B[38;5;124m, std: \u001B[39m\u001B[38;5;132;01m{\u001B[39;00mstd\u001B[38;5;132;01m:\u001B[39;00m\u001B[38;5;124m.2f\u001B[39m\u001B[38;5;132;01m}\u001B[39;00m\u001B[38;5;124m'\u001B[39m\n\u001B[0;32m     81\u001B[0m exit_string \u001B[38;5;241m=\u001B[39m \u001B[38;5;124m'\u001B[39m\u001B[38;5;124ms  to save, q to quit, 2/8 to change time\u001B[39m\u001B[38;5;124m'\u001B[39m\n\u001B[0;32m     82\u001B[0m data_img \u001B[38;5;241m=\u001B[39m np\u001B[38;5;241m.\u001B[39mzeros((\u001B[38;5;241m500\u001B[39m,\u001B[38;5;241m600\u001B[39m))\n",
      "\u001B[1;31mNameError\u001B[0m: name 'mean' is not defined"
     ]
    },
    {
     "ename": "NameError",
     "evalue": "name 'mean' is not defined",
     "output_type": "error",
     "traceback": [
      "\u001B[1;31m---------------------------------------------------------------------------\u001B[0m",
      "\u001B[1;31mNameError\u001B[0m                                 Traceback (most recent call last)",
      "Cell \u001B[1;32mIn[6], line 80\u001B[0m, in \u001B[0;36mdraw_rectangle\u001B[1;34m(event, x, z, flags, param)\u001B[0m\n\u001B[0;32m     78\u001B[0m data_string \u001B[38;5;241m=\u001B[39m \u001B[38;5;124mf\u001B[39m\u001B[38;5;124m'\u001B[39m\u001B[38;5;124mTime: \u001B[39m\u001B[38;5;132;01m{\u001B[39;00mimg_index\u001B[38;5;132;01m}\u001B[39;00m\u001B[38;5;124m, X: \u001B[39m\u001B[38;5;132;01m{\u001B[39;00mix\u001B[38;5;132;01m}\u001B[39;00m\u001B[38;5;124m, Y: \u001B[39m\u001B[38;5;132;01m{\u001B[39;00miy\u001B[38;5;132;01m}\u001B[39;00m\u001B[38;5;124m, Z: \u001B[39m\u001B[38;5;132;01m{\u001B[39;00miz\u001B[38;5;132;01m}\u001B[39;00m\u001B[38;5;124m , Y MIP size: \u001B[39m\u001B[38;5;132;01m{\u001B[39;00my_gap\u001B[38;5;132;01m}\u001B[39;00m\u001B[38;5;124m'\u001B[39m\n\u001B[0;32m     79\u001B[0m data_string2 \u001B[38;5;241m=\u001B[39m \u001B[38;5;124mf\u001B[39m\u001B[38;5;124m'\u001B[39m\u001B[38;5;124m , r_size: \u001B[39m\u001B[38;5;132;01m{\u001B[39;00mr_size\u001B[38;5;132;01m}\u001B[39;00m\u001B[38;5;124m, gap_from_surface: \u001B[39m\u001B[38;5;132;01m{\u001B[39;00mgap_from_surface\u001B[38;5;132;01m}\u001B[39;00m\u001B[38;5;124m'\u001B[39m\n\u001B[1;32m---> 80\u001B[0m data_string3 \u001B[38;5;241m=\u001B[39m \u001B[38;5;124mf\u001B[39m\u001B[38;5;124m'\u001B[39m\u001B[38;5;124m , mean: \u001B[39m\u001B[38;5;132;01m{\u001B[39;00mmean\u001B[38;5;132;01m:\u001B[39;00m\u001B[38;5;124m.2f\u001B[39m\u001B[38;5;132;01m}\u001B[39;00m\u001B[38;5;124m, std: \u001B[39m\u001B[38;5;132;01m{\u001B[39;00mstd\u001B[38;5;132;01m:\u001B[39;00m\u001B[38;5;124m.2f\u001B[39m\u001B[38;5;132;01m}\u001B[39;00m\u001B[38;5;124m'\u001B[39m\n\u001B[0;32m     81\u001B[0m exit_string \u001B[38;5;241m=\u001B[39m \u001B[38;5;124m'\u001B[39m\u001B[38;5;124ms  to save, q to quit, 2/8 to change time\u001B[39m\u001B[38;5;124m'\u001B[39m\n\u001B[0;32m     82\u001B[0m data_img \u001B[38;5;241m=\u001B[39m np\u001B[38;5;241m.\u001B[39mzeros((\u001B[38;5;241m500\u001B[39m,\u001B[38;5;241m600\u001B[39m))\n",
      "\u001B[1;31mNameError\u001B[0m: name 'mean' is not defined"
     ]
    },
    {
     "ename": "NameError",
     "evalue": "name 'mean' is not defined",
     "output_type": "error",
     "traceback": [
      "\u001B[1;31m---------------------------------------------------------------------------\u001B[0m",
      "\u001B[1;31mNameError\u001B[0m                                 Traceback (most recent call last)",
      "Cell \u001B[1;32mIn[6], line 80\u001B[0m, in \u001B[0;36mdraw_rectangle\u001B[1;34m(event, x, z, flags, param)\u001B[0m\n\u001B[0;32m     78\u001B[0m data_string \u001B[38;5;241m=\u001B[39m \u001B[38;5;124mf\u001B[39m\u001B[38;5;124m'\u001B[39m\u001B[38;5;124mTime: \u001B[39m\u001B[38;5;132;01m{\u001B[39;00mimg_index\u001B[38;5;132;01m}\u001B[39;00m\u001B[38;5;124m, X: \u001B[39m\u001B[38;5;132;01m{\u001B[39;00mix\u001B[38;5;132;01m}\u001B[39;00m\u001B[38;5;124m, Y: \u001B[39m\u001B[38;5;132;01m{\u001B[39;00miy\u001B[38;5;132;01m}\u001B[39;00m\u001B[38;5;124m, Z: \u001B[39m\u001B[38;5;132;01m{\u001B[39;00miz\u001B[38;5;132;01m}\u001B[39;00m\u001B[38;5;124m , Y MIP size: \u001B[39m\u001B[38;5;132;01m{\u001B[39;00my_gap\u001B[38;5;132;01m}\u001B[39;00m\u001B[38;5;124m'\u001B[39m\n\u001B[0;32m     79\u001B[0m data_string2 \u001B[38;5;241m=\u001B[39m \u001B[38;5;124mf\u001B[39m\u001B[38;5;124m'\u001B[39m\u001B[38;5;124m , r_size: \u001B[39m\u001B[38;5;132;01m{\u001B[39;00mr_size\u001B[38;5;132;01m}\u001B[39;00m\u001B[38;5;124m, gap_from_surface: \u001B[39m\u001B[38;5;132;01m{\u001B[39;00mgap_from_surface\u001B[38;5;132;01m}\u001B[39;00m\u001B[38;5;124m'\u001B[39m\n\u001B[1;32m---> 80\u001B[0m data_string3 \u001B[38;5;241m=\u001B[39m \u001B[38;5;124mf\u001B[39m\u001B[38;5;124m'\u001B[39m\u001B[38;5;124m , mean: \u001B[39m\u001B[38;5;132;01m{\u001B[39;00mmean\u001B[38;5;132;01m:\u001B[39;00m\u001B[38;5;124m.2f\u001B[39m\u001B[38;5;132;01m}\u001B[39;00m\u001B[38;5;124m, std: \u001B[39m\u001B[38;5;132;01m{\u001B[39;00mstd\u001B[38;5;132;01m:\u001B[39;00m\u001B[38;5;124m.2f\u001B[39m\u001B[38;5;132;01m}\u001B[39;00m\u001B[38;5;124m'\u001B[39m\n\u001B[0;32m     81\u001B[0m exit_string \u001B[38;5;241m=\u001B[39m \u001B[38;5;124m'\u001B[39m\u001B[38;5;124ms  to save, q to quit, 2/8 to change time\u001B[39m\u001B[38;5;124m'\u001B[39m\n\u001B[0;32m     82\u001B[0m data_img \u001B[38;5;241m=\u001B[39m np\u001B[38;5;241m.\u001B[39mzeros((\u001B[38;5;241m500\u001B[39m,\u001B[38;5;241m600\u001B[39m))\n",
      "\u001B[1;31mNameError\u001B[0m: name 'mean' is not defined"
     ]
    },
    {
     "ename": "NameError",
     "evalue": "name 'mean' is not defined",
     "output_type": "error",
     "traceback": [
      "\u001B[1;31m---------------------------------------------------------------------------\u001B[0m",
      "\u001B[1;31mNameError\u001B[0m                                 Traceback (most recent call last)",
      "Cell \u001B[1;32mIn[6], line 80\u001B[0m, in \u001B[0;36mdraw_rectangle\u001B[1;34m(event, x, z, flags, param)\u001B[0m\n\u001B[0;32m     78\u001B[0m data_string \u001B[38;5;241m=\u001B[39m \u001B[38;5;124mf\u001B[39m\u001B[38;5;124m'\u001B[39m\u001B[38;5;124mTime: \u001B[39m\u001B[38;5;132;01m{\u001B[39;00mimg_index\u001B[38;5;132;01m}\u001B[39;00m\u001B[38;5;124m, X: \u001B[39m\u001B[38;5;132;01m{\u001B[39;00mix\u001B[38;5;132;01m}\u001B[39;00m\u001B[38;5;124m, Y: \u001B[39m\u001B[38;5;132;01m{\u001B[39;00miy\u001B[38;5;132;01m}\u001B[39;00m\u001B[38;5;124m, Z: \u001B[39m\u001B[38;5;132;01m{\u001B[39;00miz\u001B[38;5;132;01m}\u001B[39;00m\u001B[38;5;124m , Y MIP size: \u001B[39m\u001B[38;5;132;01m{\u001B[39;00my_gap\u001B[38;5;132;01m}\u001B[39;00m\u001B[38;5;124m'\u001B[39m\n\u001B[0;32m     79\u001B[0m data_string2 \u001B[38;5;241m=\u001B[39m \u001B[38;5;124mf\u001B[39m\u001B[38;5;124m'\u001B[39m\u001B[38;5;124m , r_size: \u001B[39m\u001B[38;5;132;01m{\u001B[39;00mr_size\u001B[38;5;132;01m}\u001B[39;00m\u001B[38;5;124m, gap_from_surface: \u001B[39m\u001B[38;5;132;01m{\u001B[39;00mgap_from_surface\u001B[38;5;132;01m}\u001B[39;00m\u001B[38;5;124m'\u001B[39m\n\u001B[1;32m---> 80\u001B[0m data_string3 \u001B[38;5;241m=\u001B[39m \u001B[38;5;124mf\u001B[39m\u001B[38;5;124m'\u001B[39m\u001B[38;5;124m , mean: \u001B[39m\u001B[38;5;132;01m{\u001B[39;00mmean\u001B[38;5;132;01m:\u001B[39;00m\u001B[38;5;124m.2f\u001B[39m\u001B[38;5;132;01m}\u001B[39;00m\u001B[38;5;124m, std: \u001B[39m\u001B[38;5;132;01m{\u001B[39;00mstd\u001B[38;5;132;01m:\u001B[39;00m\u001B[38;5;124m.2f\u001B[39m\u001B[38;5;132;01m}\u001B[39;00m\u001B[38;5;124m'\u001B[39m\n\u001B[0;32m     81\u001B[0m exit_string \u001B[38;5;241m=\u001B[39m \u001B[38;5;124m'\u001B[39m\u001B[38;5;124ms  to save, q to quit, 2/8 to change time\u001B[39m\u001B[38;5;124m'\u001B[39m\n\u001B[0;32m     82\u001B[0m data_img \u001B[38;5;241m=\u001B[39m np\u001B[38;5;241m.\u001B[39mzeros((\u001B[38;5;241m500\u001B[39m,\u001B[38;5;241m600\u001B[39m))\n",
      "\u001B[1;31mNameError\u001B[0m: name 'mean' is not defined"
     ]
    },
    {
     "ename": "NameError",
     "evalue": "name 'mean' is not defined",
     "output_type": "error",
     "traceback": [
      "\u001B[1;31m---------------------------------------------------------------------------\u001B[0m",
      "\u001B[1;31mNameError\u001B[0m                                 Traceback (most recent call last)",
      "Cell \u001B[1;32mIn[6], line 80\u001B[0m, in \u001B[0;36mdraw_rectangle\u001B[1;34m(event, x, z, flags, param)\u001B[0m\n\u001B[0;32m     78\u001B[0m data_string \u001B[38;5;241m=\u001B[39m \u001B[38;5;124mf\u001B[39m\u001B[38;5;124m'\u001B[39m\u001B[38;5;124mTime: \u001B[39m\u001B[38;5;132;01m{\u001B[39;00mimg_index\u001B[38;5;132;01m}\u001B[39;00m\u001B[38;5;124m, X: \u001B[39m\u001B[38;5;132;01m{\u001B[39;00mix\u001B[38;5;132;01m}\u001B[39;00m\u001B[38;5;124m, Y: \u001B[39m\u001B[38;5;132;01m{\u001B[39;00miy\u001B[38;5;132;01m}\u001B[39;00m\u001B[38;5;124m, Z: \u001B[39m\u001B[38;5;132;01m{\u001B[39;00miz\u001B[38;5;132;01m}\u001B[39;00m\u001B[38;5;124m , Y MIP size: \u001B[39m\u001B[38;5;132;01m{\u001B[39;00my_gap\u001B[38;5;132;01m}\u001B[39;00m\u001B[38;5;124m'\u001B[39m\n\u001B[0;32m     79\u001B[0m data_string2 \u001B[38;5;241m=\u001B[39m \u001B[38;5;124mf\u001B[39m\u001B[38;5;124m'\u001B[39m\u001B[38;5;124m , r_size: \u001B[39m\u001B[38;5;132;01m{\u001B[39;00mr_size\u001B[38;5;132;01m}\u001B[39;00m\u001B[38;5;124m, gap_from_surface: \u001B[39m\u001B[38;5;132;01m{\u001B[39;00mgap_from_surface\u001B[38;5;132;01m}\u001B[39;00m\u001B[38;5;124m'\u001B[39m\n\u001B[1;32m---> 80\u001B[0m data_string3 \u001B[38;5;241m=\u001B[39m \u001B[38;5;124mf\u001B[39m\u001B[38;5;124m'\u001B[39m\u001B[38;5;124m , mean: \u001B[39m\u001B[38;5;132;01m{\u001B[39;00mmean\u001B[38;5;132;01m:\u001B[39;00m\u001B[38;5;124m.2f\u001B[39m\u001B[38;5;132;01m}\u001B[39;00m\u001B[38;5;124m, std: \u001B[39m\u001B[38;5;132;01m{\u001B[39;00mstd\u001B[38;5;132;01m:\u001B[39;00m\u001B[38;5;124m.2f\u001B[39m\u001B[38;5;132;01m}\u001B[39;00m\u001B[38;5;124m'\u001B[39m\n\u001B[0;32m     81\u001B[0m exit_string \u001B[38;5;241m=\u001B[39m \u001B[38;5;124m'\u001B[39m\u001B[38;5;124ms  to save, q to quit, 2/8 to change time\u001B[39m\u001B[38;5;124m'\u001B[39m\n\u001B[0;32m     82\u001B[0m data_img \u001B[38;5;241m=\u001B[39m np\u001B[38;5;241m.\u001B[39mzeros((\u001B[38;5;241m500\u001B[39m,\u001B[38;5;241m600\u001B[39m))\n",
      "\u001B[1;31mNameError\u001B[0m: name 'mean' is not defined"
     ]
    },
    {
     "ename": "NameError",
     "evalue": "name 'mean' is not defined",
     "output_type": "error",
     "traceback": [
      "\u001B[1;31m---------------------------------------------------------------------------\u001B[0m",
      "\u001B[1;31mNameError\u001B[0m                                 Traceback (most recent call last)",
      "Cell \u001B[1;32mIn[6], line 80\u001B[0m, in \u001B[0;36mdraw_rectangle\u001B[1;34m(event, x, z, flags, param)\u001B[0m\n\u001B[0;32m     78\u001B[0m data_string \u001B[38;5;241m=\u001B[39m \u001B[38;5;124mf\u001B[39m\u001B[38;5;124m'\u001B[39m\u001B[38;5;124mTime: \u001B[39m\u001B[38;5;132;01m{\u001B[39;00mimg_index\u001B[38;5;132;01m}\u001B[39;00m\u001B[38;5;124m, X: \u001B[39m\u001B[38;5;132;01m{\u001B[39;00mix\u001B[38;5;132;01m}\u001B[39;00m\u001B[38;5;124m, Y: \u001B[39m\u001B[38;5;132;01m{\u001B[39;00miy\u001B[38;5;132;01m}\u001B[39;00m\u001B[38;5;124m, Z: \u001B[39m\u001B[38;5;132;01m{\u001B[39;00miz\u001B[38;5;132;01m}\u001B[39;00m\u001B[38;5;124m , Y MIP size: \u001B[39m\u001B[38;5;132;01m{\u001B[39;00my_gap\u001B[38;5;132;01m}\u001B[39;00m\u001B[38;5;124m'\u001B[39m\n\u001B[0;32m     79\u001B[0m data_string2 \u001B[38;5;241m=\u001B[39m \u001B[38;5;124mf\u001B[39m\u001B[38;5;124m'\u001B[39m\u001B[38;5;124m , r_size: \u001B[39m\u001B[38;5;132;01m{\u001B[39;00mr_size\u001B[38;5;132;01m}\u001B[39;00m\u001B[38;5;124m, gap_from_surface: \u001B[39m\u001B[38;5;132;01m{\u001B[39;00mgap_from_surface\u001B[38;5;132;01m}\u001B[39;00m\u001B[38;5;124m'\u001B[39m\n\u001B[1;32m---> 80\u001B[0m data_string3 \u001B[38;5;241m=\u001B[39m \u001B[38;5;124mf\u001B[39m\u001B[38;5;124m'\u001B[39m\u001B[38;5;124m , mean: \u001B[39m\u001B[38;5;132;01m{\u001B[39;00mmean\u001B[38;5;132;01m:\u001B[39;00m\u001B[38;5;124m.2f\u001B[39m\u001B[38;5;132;01m}\u001B[39;00m\u001B[38;5;124m, std: \u001B[39m\u001B[38;5;132;01m{\u001B[39;00mstd\u001B[38;5;132;01m:\u001B[39;00m\u001B[38;5;124m.2f\u001B[39m\u001B[38;5;132;01m}\u001B[39;00m\u001B[38;5;124m'\u001B[39m\n\u001B[0;32m     81\u001B[0m exit_string \u001B[38;5;241m=\u001B[39m \u001B[38;5;124m'\u001B[39m\u001B[38;5;124ms  to save, q to quit, 2/8 to change time\u001B[39m\u001B[38;5;124m'\u001B[39m\n\u001B[0;32m     82\u001B[0m data_img \u001B[38;5;241m=\u001B[39m np\u001B[38;5;241m.\u001B[39mzeros((\u001B[38;5;241m500\u001B[39m,\u001B[38;5;241m600\u001B[39m))\n",
      "\u001B[1;31mNameError\u001B[0m: name 'mean' is not defined"
     ]
    },
    {
     "ename": "NameError",
     "evalue": "name 'mean' is not defined",
     "output_type": "error",
     "traceback": [
      "\u001B[1;31m---------------------------------------------------------------------------\u001B[0m",
      "\u001B[1;31mNameError\u001B[0m                                 Traceback (most recent call last)",
      "Cell \u001B[1;32mIn[6], line 80\u001B[0m, in \u001B[0;36mdraw_rectangle\u001B[1;34m(event, x, z, flags, param)\u001B[0m\n\u001B[0;32m     78\u001B[0m data_string \u001B[38;5;241m=\u001B[39m \u001B[38;5;124mf\u001B[39m\u001B[38;5;124m'\u001B[39m\u001B[38;5;124mTime: \u001B[39m\u001B[38;5;132;01m{\u001B[39;00mimg_index\u001B[38;5;132;01m}\u001B[39;00m\u001B[38;5;124m, X: \u001B[39m\u001B[38;5;132;01m{\u001B[39;00mix\u001B[38;5;132;01m}\u001B[39;00m\u001B[38;5;124m, Y: \u001B[39m\u001B[38;5;132;01m{\u001B[39;00miy\u001B[38;5;132;01m}\u001B[39;00m\u001B[38;5;124m, Z: \u001B[39m\u001B[38;5;132;01m{\u001B[39;00miz\u001B[38;5;132;01m}\u001B[39;00m\u001B[38;5;124m , Y MIP size: \u001B[39m\u001B[38;5;132;01m{\u001B[39;00my_gap\u001B[38;5;132;01m}\u001B[39;00m\u001B[38;5;124m'\u001B[39m\n\u001B[0;32m     79\u001B[0m data_string2 \u001B[38;5;241m=\u001B[39m \u001B[38;5;124mf\u001B[39m\u001B[38;5;124m'\u001B[39m\u001B[38;5;124m , r_size: \u001B[39m\u001B[38;5;132;01m{\u001B[39;00mr_size\u001B[38;5;132;01m}\u001B[39;00m\u001B[38;5;124m, gap_from_surface: \u001B[39m\u001B[38;5;132;01m{\u001B[39;00mgap_from_surface\u001B[38;5;132;01m}\u001B[39;00m\u001B[38;5;124m'\u001B[39m\n\u001B[1;32m---> 80\u001B[0m data_string3 \u001B[38;5;241m=\u001B[39m \u001B[38;5;124mf\u001B[39m\u001B[38;5;124m'\u001B[39m\u001B[38;5;124m , mean: \u001B[39m\u001B[38;5;132;01m{\u001B[39;00mmean\u001B[38;5;132;01m:\u001B[39;00m\u001B[38;5;124m.2f\u001B[39m\u001B[38;5;132;01m}\u001B[39;00m\u001B[38;5;124m, std: \u001B[39m\u001B[38;5;132;01m{\u001B[39;00mstd\u001B[38;5;132;01m:\u001B[39;00m\u001B[38;5;124m.2f\u001B[39m\u001B[38;5;132;01m}\u001B[39;00m\u001B[38;5;124m'\u001B[39m\n\u001B[0;32m     81\u001B[0m exit_string \u001B[38;5;241m=\u001B[39m \u001B[38;5;124m'\u001B[39m\u001B[38;5;124ms  to save, q to quit, 2/8 to change time\u001B[39m\u001B[38;5;124m'\u001B[39m\n\u001B[0;32m     82\u001B[0m data_img \u001B[38;5;241m=\u001B[39m np\u001B[38;5;241m.\u001B[39mzeros((\u001B[38;5;241m500\u001B[39m,\u001B[38;5;241m600\u001B[39m))\n",
      "\u001B[1;31mNameError\u001B[0m: name 'mean' is not defined"
     ]
    },
    {
     "ename": "NameError",
     "evalue": "name 'mean' is not defined",
     "output_type": "error",
     "traceback": [
      "\u001B[1;31m---------------------------------------------------------------------------\u001B[0m",
      "\u001B[1;31mNameError\u001B[0m                                 Traceback (most recent call last)",
      "Cell \u001B[1;32mIn[6], line 80\u001B[0m, in \u001B[0;36mdraw_rectangle\u001B[1;34m(event, x, z, flags, param)\u001B[0m\n\u001B[0;32m     78\u001B[0m data_string \u001B[38;5;241m=\u001B[39m \u001B[38;5;124mf\u001B[39m\u001B[38;5;124m'\u001B[39m\u001B[38;5;124mTime: \u001B[39m\u001B[38;5;132;01m{\u001B[39;00mimg_index\u001B[38;5;132;01m}\u001B[39;00m\u001B[38;5;124m, X: \u001B[39m\u001B[38;5;132;01m{\u001B[39;00mix\u001B[38;5;132;01m}\u001B[39;00m\u001B[38;5;124m, Y: \u001B[39m\u001B[38;5;132;01m{\u001B[39;00miy\u001B[38;5;132;01m}\u001B[39;00m\u001B[38;5;124m, Z: \u001B[39m\u001B[38;5;132;01m{\u001B[39;00miz\u001B[38;5;132;01m}\u001B[39;00m\u001B[38;5;124m , Y MIP size: \u001B[39m\u001B[38;5;132;01m{\u001B[39;00my_gap\u001B[38;5;132;01m}\u001B[39;00m\u001B[38;5;124m'\u001B[39m\n\u001B[0;32m     79\u001B[0m data_string2 \u001B[38;5;241m=\u001B[39m \u001B[38;5;124mf\u001B[39m\u001B[38;5;124m'\u001B[39m\u001B[38;5;124m , r_size: \u001B[39m\u001B[38;5;132;01m{\u001B[39;00mr_size\u001B[38;5;132;01m}\u001B[39;00m\u001B[38;5;124m, gap_from_surface: \u001B[39m\u001B[38;5;132;01m{\u001B[39;00mgap_from_surface\u001B[38;5;132;01m}\u001B[39;00m\u001B[38;5;124m'\u001B[39m\n\u001B[1;32m---> 80\u001B[0m data_string3 \u001B[38;5;241m=\u001B[39m \u001B[38;5;124mf\u001B[39m\u001B[38;5;124m'\u001B[39m\u001B[38;5;124m , mean: \u001B[39m\u001B[38;5;132;01m{\u001B[39;00mmean\u001B[38;5;132;01m:\u001B[39;00m\u001B[38;5;124m.2f\u001B[39m\u001B[38;5;132;01m}\u001B[39;00m\u001B[38;5;124m, std: \u001B[39m\u001B[38;5;132;01m{\u001B[39;00mstd\u001B[38;5;132;01m:\u001B[39;00m\u001B[38;5;124m.2f\u001B[39m\u001B[38;5;132;01m}\u001B[39;00m\u001B[38;5;124m'\u001B[39m\n\u001B[0;32m     81\u001B[0m exit_string \u001B[38;5;241m=\u001B[39m \u001B[38;5;124m'\u001B[39m\u001B[38;5;124ms  to save, q to quit, 2/8 to change time\u001B[39m\u001B[38;5;124m'\u001B[39m\n\u001B[0;32m     82\u001B[0m data_img \u001B[38;5;241m=\u001B[39m np\u001B[38;5;241m.\u001B[39mzeros((\u001B[38;5;241m500\u001B[39m,\u001B[38;5;241m600\u001B[39m))\n",
      "\u001B[1;31mNameError\u001B[0m: name 'mean' is not defined"
     ]
    },
    {
     "ename": "NameError",
     "evalue": "name 'mean' is not defined",
     "output_type": "error",
     "traceback": [
      "\u001B[1;31m---------------------------------------------------------------------------\u001B[0m",
      "\u001B[1;31mNameError\u001B[0m                                 Traceback (most recent call last)",
      "Cell \u001B[1;32mIn[6], line 80\u001B[0m, in \u001B[0;36mdraw_rectangle\u001B[1;34m(event, x, z, flags, param)\u001B[0m\n\u001B[0;32m     78\u001B[0m data_string \u001B[38;5;241m=\u001B[39m \u001B[38;5;124mf\u001B[39m\u001B[38;5;124m'\u001B[39m\u001B[38;5;124mTime: \u001B[39m\u001B[38;5;132;01m{\u001B[39;00mimg_index\u001B[38;5;132;01m}\u001B[39;00m\u001B[38;5;124m, X: \u001B[39m\u001B[38;5;132;01m{\u001B[39;00mix\u001B[38;5;132;01m}\u001B[39;00m\u001B[38;5;124m, Y: \u001B[39m\u001B[38;5;132;01m{\u001B[39;00miy\u001B[38;5;132;01m}\u001B[39;00m\u001B[38;5;124m, Z: \u001B[39m\u001B[38;5;132;01m{\u001B[39;00miz\u001B[38;5;132;01m}\u001B[39;00m\u001B[38;5;124m , Y MIP size: \u001B[39m\u001B[38;5;132;01m{\u001B[39;00my_gap\u001B[38;5;132;01m}\u001B[39;00m\u001B[38;5;124m'\u001B[39m\n\u001B[0;32m     79\u001B[0m data_string2 \u001B[38;5;241m=\u001B[39m \u001B[38;5;124mf\u001B[39m\u001B[38;5;124m'\u001B[39m\u001B[38;5;124m , r_size: \u001B[39m\u001B[38;5;132;01m{\u001B[39;00mr_size\u001B[38;5;132;01m}\u001B[39;00m\u001B[38;5;124m, gap_from_surface: \u001B[39m\u001B[38;5;132;01m{\u001B[39;00mgap_from_surface\u001B[38;5;132;01m}\u001B[39;00m\u001B[38;5;124m'\u001B[39m\n\u001B[1;32m---> 80\u001B[0m data_string3 \u001B[38;5;241m=\u001B[39m \u001B[38;5;124mf\u001B[39m\u001B[38;5;124m'\u001B[39m\u001B[38;5;124m , mean: \u001B[39m\u001B[38;5;132;01m{\u001B[39;00mmean\u001B[38;5;132;01m:\u001B[39;00m\u001B[38;5;124m.2f\u001B[39m\u001B[38;5;132;01m}\u001B[39;00m\u001B[38;5;124m, std: \u001B[39m\u001B[38;5;132;01m{\u001B[39;00mstd\u001B[38;5;132;01m:\u001B[39;00m\u001B[38;5;124m.2f\u001B[39m\u001B[38;5;132;01m}\u001B[39;00m\u001B[38;5;124m'\u001B[39m\n\u001B[0;32m     81\u001B[0m exit_string \u001B[38;5;241m=\u001B[39m \u001B[38;5;124m'\u001B[39m\u001B[38;5;124ms  to save, q to quit, 2/8 to change time\u001B[39m\u001B[38;5;124m'\u001B[39m\n\u001B[0;32m     82\u001B[0m data_img \u001B[38;5;241m=\u001B[39m np\u001B[38;5;241m.\u001B[39mzeros((\u001B[38;5;241m500\u001B[39m,\u001B[38;5;241m600\u001B[39m))\n",
      "\u001B[1;31mNameError\u001B[0m: name 'mean' is not defined"
     ]
    },
    {
     "ename": "NameError",
     "evalue": "name 'mean' is not defined",
     "output_type": "error",
     "traceback": [
      "\u001B[1;31m---------------------------------------------------------------------------\u001B[0m",
      "\u001B[1;31mNameError\u001B[0m                                 Traceback (most recent call last)",
      "Cell \u001B[1;32mIn[6], line 80\u001B[0m, in \u001B[0;36mdraw_rectangle\u001B[1;34m(event, x, z, flags, param)\u001B[0m\n\u001B[0;32m     78\u001B[0m data_string \u001B[38;5;241m=\u001B[39m \u001B[38;5;124mf\u001B[39m\u001B[38;5;124m'\u001B[39m\u001B[38;5;124mTime: \u001B[39m\u001B[38;5;132;01m{\u001B[39;00mimg_index\u001B[38;5;132;01m}\u001B[39;00m\u001B[38;5;124m, X: \u001B[39m\u001B[38;5;132;01m{\u001B[39;00mix\u001B[38;5;132;01m}\u001B[39;00m\u001B[38;5;124m, Y: \u001B[39m\u001B[38;5;132;01m{\u001B[39;00miy\u001B[38;5;132;01m}\u001B[39;00m\u001B[38;5;124m, Z: \u001B[39m\u001B[38;5;132;01m{\u001B[39;00miz\u001B[38;5;132;01m}\u001B[39;00m\u001B[38;5;124m , Y MIP size: \u001B[39m\u001B[38;5;132;01m{\u001B[39;00my_gap\u001B[38;5;132;01m}\u001B[39;00m\u001B[38;5;124m'\u001B[39m\n\u001B[0;32m     79\u001B[0m data_string2 \u001B[38;5;241m=\u001B[39m \u001B[38;5;124mf\u001B[39m\u001B[38;5;124m'\u001B[39m\u001B[38;5;124m , r_size: \u001B[39m\u001B[38;5;132;01m{\u001B[39;00mr_size\u001B[38;5;132;01m}\u001B[39;00m\u001B[38;5;124m, gap_from_surface: \u001B[39m\u001B[38;5;132;01m{\u001B[39;00mgap_from_surface\u001B[38;5;132;01m}\u001B[39;00m\u001B[38;5;124m'\u001B[39m\n\u001B[1;32m---> 80\u001B[0m data_string3 \u001B[38;5;241m=\u001B[39m \u001B[38;5;124mf\u001B[39m\u001B[38;5;124m'\u001B[39m\u001B[38;5;124m , mean: \u001B[39m\u001B[38;5;132;01m{\u001B[39;00mmean\u001B[38;5;132;01m:\u001B[39;00m\u001B[38;5;124m.2f\u001B[39m\u001B[38;5;132;01m}\u001B[39;00m\u001B[38;5;124m, std: \u001B[39m\u001B[38;5;132;01m{\u001B[39;00mstd\u001B[38;5;132;01m:\u001B[39;00m\u001B[38;5;124m.2f\u001B[39m\u001B[38;5;132;01m}\u001B[39;00m\u001B[38;5;124m'\u001B[39m\n\u001B[0;32m     81\u001B[0m exit_string \u001B[38;5;241m=\u001B[39m \u001B[38;5;124m'\u001B[39m\u001B[38;5;124ms  to save, q to quit, 2/8 to change time\u001B[39m\u001B[38;5;124m'\u001B[39m\n\u001B[0;32m     82\u001B[0m data_img \u001B[38;5;241m=\u001B[39m np\u001B[38;5;241m.\u001B[39mzeros((\u001B[38;5;241m500\u001B[39m,\u001B[38;5;241m600\u001B[39m))\n",
      "\u001B[1;31mNameError\u001B[0m: name 'mean' is not defined"
     ]
    },
    {
     "ename": "NameError",
     "evalue": "name 'mean' is not defined",
     "output_type": "error",
     "traceback": [
      "\u001B[1;31m---------------------------------------------------------------------------\u001B[0m",
      "\u001B[1;31mNameError\u001B[0m                                 Traceback (most recent call last)",
      "Cell \u001B[1;32mIn[6], line 80\u001B[0m, in \u001B[0;36mdraw_rectangle\u001B[1;34m(event, x, z, flags, param)\u001B[0m\n\u001B[0;32m     78\u001B[0m data_string \u001B[38;5;241m=\u001B[39m \u001B[38;5;124mf\u001B[39m\u001B[38;5;124m'\u001B[39m\u001B[38;5;124mTime: \u001B[39m\u001B[38;5;132;01m{\u001B[39;00mimg_index\u001B[38;5;132;01m}\u001B[39;00m\u001B[38;5;124m, X: \u001B[39m\u001B[38;5;132;01m{\u001B[39;00mix\u001B[38;5;132;01m}\u001B[39;00m\u001B[38;5;124m, Y: \u001B[39m\u001B[38;5;132;01m{\u001B[39;00miy\u001B[38;5;132;01m}\u001B[39;00m\u001B[38;5;124m, Z: \u001B[39m\u001B[38;5;132;01m{\u001B[39;00miz\u001B[38;5;132;01m}\u001B[39;00m\u001B[38;5;124m , Y MIP size: \u001B[39m\u001B[38;5;132;01m{\u001B[39;00my_gap\u001B[38;5;132;01m}\u001B[39;00m\u001B[38;5;124m'\u001B[39m\n\u001B[0;32m     79\u001B[0m data_string2 \u001B[38;5;241m=\u001B[39m \u001B[38;5;124mf\u001B[39m\u001B[38;5;124m'\u001B[39m\u001B[38;5;124m , r_size: \u001B[39m\u001B[38;5;132;01m{\u001B[39;00mr_size\u001B[38;5;132;01m}\u001B[39;00m\u001B[38;5;124m, gap_from_surface: \u001B[39m\u001B[38;5;132;01m{\u001B[39;00mgap_from_surface\u001B[38;5;132;01m}\u001B[39;00m\u001B[38;5;124m'\u001B[39m\n\u001B[1;32m---> 80\u001B[0m data_string3 \u001B[38;5;241m=\u001B[39m \u001B[38;5;124mf\u001B[39m\u001B[38;5;124m'\u001B[39m\u001B[38;5;124m , mean: \u001B[39m\u001B[38;5;132;01m{\u001B[39;00mmean\u001B[38;5;132;01m:\u001B[39;00m\u001B[38;5;124m.2f\u001B[39m\u001B[38;5;132;01m}\u001B[39;00m\u001B[38;5;124m, std: \u001B[39m\u001B[38;5;132;01m{\u001B[39;00mstd\u001B[38;5;132;01m:\u001B[39;00m\u001B[38;5;124m.2f\u001B[39m\u001B[38;5;132;01m}\u001B[39;00m\u001B[38;5;124m'\u001B[39m\n\u001B[0;32m     81\u001B[0m exit_string \u001B[38;5;241m=\u001B[39m \u001B[38;5;124m'\u001B[39m\u001B[38;5;124ms  to save, q to quit, 2/8 to change time\u001B[39m\u001B[38;5;124m'\u001B[39m\n\u001B[0;32m     82\u001B[0m data_img \u001B[38;5;241m=\u001B[39m np\u001B[38;5;241m.\u001B[39mzeros((\u001B[38;5;241m500\u001B[39m,\u001B[38;5;241m600\u001B[39m))\n",
      "\u001B[1;31mNameError\u001B[0m: name 'mean' is not defined"
     ]
    },
    {
     "name": "stderr",
     "output_type": "stream",
     "text": [
      "C:\\Users\\amityu\\AppData\\Local\\Temp\\ipykernel_12568\\3546648990.py:45: RuntimeWarning: Mean of empty slice\n",
      "  mean = np.nanmean(i_data)\n",
      "C:\\Users\\amityu\\AppData\\Local\\anaconda3\\envs\\opencv_pip\\lib\\site-packages\\numpy\\lib\\nanfunctions.py:1879: RuntimeWarning: Degrees of freedom <= 0 for slice.\n",
      "  var = nanvar(a, axis=axis, dtype=dtype, out=out, ddof=ddof,\n"
     ]
    }
   ],
   "source": [
    "import cv2\n",
    "import numpy as np\n",
    "global iy\n",
    "# Global variables\n",
    "gap_from_surface = 10\n",
    "img_index = 0\n",
    "enlarge_image_factor = 2\n",
    "df = pd.read_csv(MOVIE_PATH + 'np/monomer_rect.csv', index_col=0)\n",
    "iy = 0\n",
    "if len(df) > 0:\n",
    "    img_index = 0\n",
    "    iz = df.iloc[0].values[0].astype(int)\n",
    "    iy = df.iloc[0].values[1].astype(int)\n",
    "    ix = df.iloc[0].values[2].astype(int)\n",
    "    r_size = df.iloc[0].values[3].astype(int)\n",
    "    y_gap = df.iloc[0].values[4].astype(int)\n",
    "    gap_from_surface = df.iloc[0].values[7].astype(int)\n",
    "    mean = df.iloc[0].values[5].astype(float)\n",
    "    std = df.iloc[0].values[6].astype(float)\n",
    "\n",
    "\n",
    "else:\n",
    "    df['Z'] = [0]* len(imgs)\n",
    "    df['Y'] = [0]* len(imgs)\n",
    "    df['X'] = [0]* len(imgs)\n",
    "    df['r_size'] = [15]* len(imgs)\n",
    "    df['y_gap'] = [20]* len(imgs)\n",
    "    df['mean'] = [0]* len(imgs)\n",
    "    df['std'] = [0]* len(imgs)\n",
    "    df['gap_from_surface'] = [10]* len(imgs)\n",
    "    img_index=0\n",
    "    iz, iy_tmp, ix,r_size, y_gap, _, _ , gap_from_surface = tuple(int(element) for element in tuple(df.iloc[img_index]))\n",
    "\n",
    "\n",
    "\n",
    "# Define the draw_rectangle callback function\n",
    "def draw_rectangle(event, x, z, flags, param):\n",
    "\n",
    "    global ix, iz, iy, img, img_index, r_size, img_orig, y_gap, gap_from_surface, mean, std\n",
    "\n",
    "    if event == cv2.EVENT_LBUTTONDOWN:\n",
    "        ix, iz = x , z\n",
    "        i_data = gel[img_index, iz+gap_from_surface:iz+r_size, iy:iy+y_gap, ix:ix+r_size]\n",
    "        i_data = i_data[i_data>0]\n",
    "        mean = np.nanmean(i_data)\n",
    "        std = np.nanstd(i_data)\n",
    "        if np.isnan(mean):\n",
    "            mean = 0\n",
    "        if np.isnan(std):\n",
    "            std = 0\n",
    "        df.iloc[img_index] = pd.Series([iz,iy,ix,r_size, y_gap, mean, std, gap_from_surface], index=df.columns)\n",
    "\n",
    "    elif event == cv2.EVENT_MOUSEWHEEL:\n",
    "        if flags > 0:  # scroll up\n",
    "            if iy + y_gap < imgs.shape[2]:\n",
    "                iy+= y_gap  # cycle through images\n",
    "\n",
    "        else:  # scroll down\n",
    "            iy-= y_gap  # cycle through images\n",
    "            if iy< 0:\n",
    "                iy = 0\n",
    "    #img_index =24\n",
    "    img_orig =cv2.convertScaleAbs( np.max(imgs[img_index, :,iy:iy+y_gap,:], axis=1), alpha=1, beta=0)# load the new image\n",
    "\n",
    "    img = img_orig.copy()\n",
    "\n",
    "    iz, iy_tmp, ix,r_size, y_gap, _, _ , gap_from_surface = tuple(int(element) for element in tuple(df.iloc[img_index]))\n",
    "    if iy == iy_tmp:\n",
    "        color = img.mean()\n",
    "        cv2.rectangle(img, pt1=(ix, iz), pt2=(ix+r_size, iz+r_size), color= 1, thickness=2)\n",
    "    img = cv2.normalize(img, None, 0, 255, cv2.NORM_MINMAX, dtype=cv2.CV_8U)\n",
    "    colored_image = cv2.applyColorMap(img, cv2.COLORMAP_JET)\n",
    "\n",
    "    # Display the image\n",
    "    cv2.imshow('image', colored_image)\n",
    "    #cv2.imshow('image', img)\n",
    "\n",
    "    data_string = f'Time: {img_index}, X: {ix}, Y: {iy}, Z: {iz} , Y MIP size: {y_gap}'\n",
    "    data_string2 = f' , r_size: {r_size}, gap_from_surface: {gap_from_surface}'\n",
    "    data_string3 = f' , mean: {mean:.2f}, std: {std:.2f}'\n",
    "    exit_string = 's  to save, q to quit, 2/8 to change time'\n",
    "    data_img = np.zeros((500,600))\n",
    "    position = (10, 50)  # bottom-left corner of the text\n",
    "    position_exit = (10, 100)  # bottom-left corner of the text\n",
    "    position2 = (10, 150)  # bottom-left corner of the text\n",
    "    position3 = (10, 200)  # bottom-left corner of the text\n",
    "\n",
    "    fontScale = 0.7\n",
    "    font = cv2.FONT_HERSHEY_SIMPLEX\n",
    "    color = (255, 255, 255)  # white color\n",
    "    thickness = 2  # line thickness\n",
    "    cv2.putText(data_img, data_string,  position, font, fontScale, color, thickness)\n",
    "    cv2.putText(data_img, exit_string, position_exit, font, fontScale, color, thickness)\n",
    "    cv2.putText(data_img, data_string2, position2, font, fontScale, color, thickness)\n",
    "    cv2.putText(data_img, data_string3, position3, font, fontScale, color, thickness)\n",
    "    cv2.imshow('Data', data_img)\n",
    "\n",
    "# 3D array of images\n",
    "img = np.max(imgs[img_index, :,iy:iy+y_gap,:], axis=1) .copy()\n",
    "\n",
    "# Create the named window and set the mouse callback\n",
    "cv2.namedWindow('image',cv2.WINDOW_NORMAL)\n",
    "cv2.namedWindow('Data', cv2.WINDOW_NORMAL)\n",
    "\n",
    "cv2.setMouseCallback('image', draw_rectangle)\n",
    "#cv2.setMouseCallback('Data', getData)\n",
    "\n",
    "\n",
    "# Show the image and wait for the user to close the window\n",
    "while True:\n",
    "    colored_image = cv2.applyColorMap(img, cv2.COLORMAP_JET)\n",
    "\n",
    "    # Display the image\n",
    "    cv2.imshow('image', colored_image)\n",
    "    key = cv2.waitKey(1) & 0xFF\n",
    "    if key  == ord('q'):\n",
    "        break\n",
    "    elif key == ord('2'):\n",
    "        img_index +=1\n",
    "        if img_index >= len(imgs):\n",
    "            img_index = 0\n",
    "        iy = df.iloc[img_index].values[1].astype(int)\n",
    "        draw_rectangle(None, 0, 0, 1, 0)\n",
    "    elif key == ord('8'):\n",
    "        img_index -=1\n",
    "        if img_index < 0:\n",
    "            img_index = len(imgs)-1\n",
    "        draw_rectangle(None, 0, 0, -1, 0)\n",
    "        iy = df.iloc[img_index].values[1].astype(int)\n",
    "    elif key == ord('s'):\n",
    "        df.to_csv(MOVIE_PATH + 'np/monomer_rect.csv', index=True)\n",
    "\n",
    "cv2.destroyAllWindows()\n",
    "\n",
    "# Print the saved coordinates\n"
   ],
   "metadata": {
    "collapsed": false,
    "ExecuteTime": {
     "end_time": "2023-09-14T09:40:00.216975700Z",
     "start_time": "2023-09-14T09:34:17.759731800Z"
    }
   }
  },
  {
   "cell_type": "code",
   "execution_count": null,
   "outputs": [],
   "source": [
    "df = pd.read_csv(MOVIE_PATH + 'np/monomer_rect.csv', index_col=0)\n",
    "plt.errorbar(np.arange(len(df)), df['mean'], yerr=df['std'], fmt='o')\n",
    "plt.xlabel('Time')\n",
    "plt.ylabel('Intensity')\n",
    "plt.title('Monomer intensity')\n",
    "plt.show()\n"
   ],
   "metadata": {
    "collapsed": false
   }
  }
 ],
 "metadata": {
  "kernelspec": {
   "display_name": "Python 3",
   "language": "python",
   "name": "python3"
  },
  "language_info": {
   "codemirror_mode": {
    "name": "ipython",
    "version": 2
   },
   "file_extension": ".py",
   "mimetype": "text/x-python",
   "name": "python",
   "nbconvert_exporter": "python",
   "pygments_lexer": "ipython2",
   "version": "2.7.6"
  }
 },
 "nbformat": 4,
 "nbformat_minor": 0
}
