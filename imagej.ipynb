{
 "cells": [
  {
   "cell_type": "code",
   "execution_count": null,
   "metadata": {
    "collapsed": true
   },
   "outputs": [],
   "source": [
    "import ij.IJ;\n",
    "import ij.ImagePlus;\n",
    "import ij.io.FileSaver;\n",
    "import java.io.File;\n",
    "\n",
    "// Specify the directory of your ICS files\n",
    "inputDirectory = \"C:/Users/amityu/Gel_Sheet_Data/new/Yuval/\";\n",
    "outputDirectory = \"C:/Users/amityu/Gel_Sheet_Data/new/tif/\";\n",
    "\n",
    "File dir = new File(inputDirectory);\n",
    "if(!dir.exists() || !dir.isDirectory()) {\n",
    "print(\"Input directory does not exist or is not a directory\");\n",
    "    return;\n",
    "}\n",
    "\n",
    "// Get list of ICS files\n",
    "icsFiles = dir.listFiles();\n",
    "\n",
    "for (int i = 0; i < icsFiles.length; i++) {\n",
    "if (icsFiles[i].getName().toLowerCase().endsWith(\".ics\")) {\n",
    "ImagePlus image = IJ.openImage(icsFiles[i].getPath());\n",
    "if (image != null) {\n",
    "// Save as TIFF\n",
    "FileSaver fs = new FileSaver(image);\n",
    "fs.saveAsTiff(outputDirectory + icsFiles[i].getName().replaceAll(\"\\\\.ics$\", \".tiff\"));\n",
    "}\n",
    "}\n",
    "}\n",
    "\n"
   ]
  }
 ],
 "metadata": {
  "kernelspec": {
   "display_name": "Python 3",
   "language": "python",
   "name": "python3"
  },
  "language_info": {
   "codemirror_mode": {
    "name": "ipython",
    "version": 2
   },
   "file_extension": ".py",
   "mimetype": "text/x-python",
   "name": "python",
   "nbconvert_exporter": "python",
   "pygments_lexer": "ipython2",
   "version": "2.7.6"
  }
 },
 "nbformat": 4,
 "nbformat_minor": 0
}
