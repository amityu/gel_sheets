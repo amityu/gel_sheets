{
 "cells": [
  {
   "cell_type": "code",
   "execution_count": null,
   "metadata": {
    "collapsed": true
   },
   "outputs": [],
   "source": [
    "DATA_PATH = 'C:/Users/amityu/Gel_Sheet_Data/'\n",
    "MOVIE_PATH = DATA_PATH + 'Control 050721/'\n",
    "GRAPH_PATH = 'C:Users/amityu/Gel_Sheet_Graph/'\n",
    "import numpy as np\n",
    "import matplotlib.pyplot as plt\n",
    "import matplotlib.cm as cm\n",
    "from skimage.filters import gaussian\n",
    "from tqdm.notebook import trange, tqdm\n",
    "import pandas as pd\n",
    "import movie_structure\n",
    "from concurrent.futures import ThreadPoolExecutor\n",
    "import preprocessing\n",
    "import autocorrelation_and_structure_factor_IK_20220103 as iac\n",
    "import importlib\n",
    "import seaborn as sns\n",
    "from skimage import filters\n",
    "#from p_tqdm import p_map\n",
    "from scipy.ndimage import median_filter\n"
   ]
  },
  {
   "cell_type": "code",
   "execution_count": null,
   "outputs": [],
   "source": [
    "gel = np.load(MOVIE_PATH + 'np/gel_norm.npy', mmap_mode='r+')\n",
    "mask = np.load(MOVIE_PATH + 'np/mask.npy', mmap_mode='r+')"
   ],
   "metadata": {
    "collapsed": false
   }
  },
  {
   "cell_type": "code",
   "execution_count": null,
   "outputs": [],
   "source": [
    "import napari\n",
    "\n",
    "viewer = napari.Viewer()\n",
    "image = gel[:, :, :, 256]\n",
    "viewer.add_image(image, name='65')\n",
    "napari.utils.nbscreenshot(viewer)"
   ],
   "metadata": {
    "collapsed": false
   }
  }
 ],
 "metadata": {
  "kernelspec": {
   "display_name": "Python 3",
   "language": "python",
   "name": "python3"
  },
  "language_info": {
   "codemirror_mode": {
    "name": "ipython",
    "version": 2
   },
   "file_extension": ".py",
   "mimetype": "text/x-python",
   "name": "python",
   "nbconvert_exporter": "python",
   "pygments_lexer": "ipython2",
   "version": "2.7.6"
  }
 },
 "nbformat": 4,
 "nbformat_minor": 0
}
