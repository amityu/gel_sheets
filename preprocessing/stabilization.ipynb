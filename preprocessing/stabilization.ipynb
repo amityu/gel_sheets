{
 "cells": [
  {
   "cell_type": "code",
   "execution_count": 1,
   "metadata": {
    "collapsed": true,
    "ExecuteTime": {
     "end_time": "2023-09-05T13:34:41.513316Z",
     "start_time": "2023-09-05T13:34:39.366312200Z"
    }
   },
   "outputs": [],
   "source": [
    "\n",
    "import numpy as np\n",
    "import matplotlib.pyplot as plt\n",
    "import pandas as pd\n",
    "import os\n",
    "import time\n",
    "\n",
    "\n",
    "import scipy.interpolate\n",
    "from scipy.ndimage import gaussian_filter\n",
    "import tifffile\n",
    "import seaborn as sns\n",
    "\n",
    "from IPython.display import HTML\n",
    "import matplotlib.animation as animation\n",
    "from tqdm.notebook import tqdm, trange\n",
    "from scipy.optimize import curve_fit\n",
    "#import gaussian\n",
    "from skimage.filters import gaussian\n",
    "from scipy.interpolate import RectBivariateSpline\n",
    "from PIL import Image\n",
    "import itertools\n",
    "from utils.graph_utils import image_to_int8\n",
    "\n",
    "from scipy.ndimage import gaussian_gradient_magnitude\n",
    "import ants"
   ]
  },
  {
   "cell_type": "code",
   "execution_count": 2,
   "outputs": [],
   "source": [
    "PROJECT_PATH = 'C:/Users/amityu/DataspellProjects/gel_sheets/'\n",
    "DATA_PATH = 'C:/Users/amityu/Gel_Sheet_Data/'\n",
    "#movie = 'Control'\n",
    "#movie = '130721'\n",
    "#movie ='140721'\n",
    "#movie ='150721'\n",
    "#movie ='100621'\n",
    "movie ='280523 AM100 568'\n",
    "ADD_PATH = os.path.join(PROJECT_PATH, \"add_data/\")\n",
    "\n",
    "\n",
    "MOVIE_PATH = DATA_PATH +  movie + '/'\n",
    "GRAPH_PATH = 'C:/Users/amityu/Gel_Sheet_Graph/'"
   ],
   "metadata": {
    "collapsed": false,
    "ExecuteTime": {
     "end_time": "2023-09-05T13:34:44.683784100Z",
     "start_time": "2023-09-05T13:34:44.671783200Z"
    }
   }
  },
  {
   "cell_type": "code",
   "execution_count": 3,
   "outputs": [],
   "source": [
    "\n",
    "gel = np.load(MOVIE_PATH + 'np/gel.npy')\n",
    "gel[:,61:,:,:] = 0\n",
    "gel = np.transpose(gel, (3,2,1,0))"
   ],
   "metadata": {
    "collapsed": false,
    "ExecuteTime": {
     "end_time": "2023-09-05T13:34:50.442568600Z",
     "start_time": "2023-09-05T13:34:48.487565Z"
    }
   }
  },
  {
   "cell_type": "code",
   "execution_count": 6,
   "outputs": [
    {
     "name": "stdout",
     "output_type": "stream",
     "text": [
      "2023-09-05 16:50:38\n",
      "2023-09-05 16:55:52\n"
     ]
    }
   ],
   "source": [
    "print(time.strftime(\"%Y-%m-%d %H:%M:%S\", time.localtime()))\n",
    "\n",
    "t =0; z1 = 0; z2 = 15; y1 = 0; y2 = 511; x1 = 0; x2 = 511\n",
    "mask = np.zeros_like(gel[:,:,:,0])\n",
    "mask[x1:x2,y1:y2,z1:z2] = 1\n",
    "mask = ants.from_numpy(mask)\n",
    "moving_mask = np.zeros_like(gel[:,:,:,0])\n",
    "moving_mask[x1:x2,y1:y2,0:z1 ] = 1\n",
    "moving_mask = ants.from_numpy(moving_mask)\n",
    "gel_ant = ants.from_numpy(gel)\n",
    "fixed_image = ants.from_numpy(gel[:,:,:,0])\n",
    "mytx = ants.motion_correction(gel_ant,  fixed=fixed_image, type_of_transform='Rigid', mask=mask)\n",
    "images = mytx['motion_corrected'].numpy()\n",
    "\n",
    "#new_image = ants.registration(fixed_image, moving=ants.from_numpy(gel[:,:,:,12]), type_of_transform='Rigid')['warpedmovout']\n",
    "for i in range(gel.shape[3]):\n",
    "    tifffile.imsave(MOVIE_PATH + 'np/motion_Z215_' + str(i+1) + '.tif', images[:,:,:,i])\n",
    "#tifffile.imsave(MOVIE_PATH + 'np/image12from0nomask.tif', new_image.numpy())\n",
    "print(time.strftime(\"%Y-%m-%d %H:%M:%S\", time.localtime()))\n"
   ],
   "metadata": {
    "collapsed": false,
    "ExecuteTime": {
     "end_time": "2023-09-05T13:55:52.962874300Z",
     "start_time": "2023-09-05T13:50:38.049010700Z"
    }
   }
  },
  {
   "cell_type": "code",
   "execution_count": 5,
   "outputs": [],
   "source": [
    "np.save(MOVIE_PATH + 'np/motion_corrected.npy', images)"
   ],
   "metadata": {
    "collapsed": false,
    "ExecuteTime": {
     "end_time": "2023-09-05T13:42:09.895529400Z",
     "start_time": "2023-09-05T13:42:05.595073900Z"
    }
   }
  },
  {
   "cell_type": "code",
   "execution_count": 7,
   "outputs": [],
   "source": [
    "tifffile.imsave(MOVIE_PATH + 'np/slice.tif', images[200,:,:,:])"
   ],
   "metadata": {
    "collapsed": false,
    "ExecuteTime": {
     "end_time": "2023-09-05T13:56:56.915509500Z",
     "start_time": "2023-09-05T13:56:56.735509500Z"
    }
   }
  },
  {
   "cell_type": "code",
   "execution_count": 37,
   "outputs": [],
   "source": [
    "tifffile.imsave(MOVIE_PATH + 'np/original_image0.tif', gel[:,:,:,0])\n",
    "tifffile.imsave(MOVIE_PATH + 'np/original_image12.tif', gel[:,:,:,12])\n"
   ],
   "metadata": {
    "collapsed": false,
    "ExecuteTime": {
     "end_time": "2023-09-05T12:39:35.647705300Z",
     "start_time": "2023-09-05T12:39:34.955978300Z"
    }
   }
  }
 ],
 "metadata": {
  "kernelspec": {
   "display_name": "Python 3",
   "language": "python",
   "name": "python3"
  },
  "language_info": {
   "codemirror_mode": {
    "name": "ipython",
    "version": 2
   },
   "file_extension": ".py",
   "mimetype": "text/x-python",
   "name": "python",
   "nbconvert_exporter": "python",
   "pygments_lexer": "ipython2",
   "version": "2.7.6"
  }
 },
 "nbformat": 4,
 "nbformat_minor": 0
}
