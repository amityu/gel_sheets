{
 "cells": [
  {
   "cell_type": "code",
   "execution_count": 1,
   "metadata": {
    "collapsed": true,
    "ExecuteTime": {
     "end_time": "2023-09-05T13:34:41.513316Z",
     "start_time": "2023-09-05T13:34:39.366312200Z"
    }
   },
   "outputs": [],
   "source": [
    "\n",
    "import numpy as np\n",
    "import matplotlib.pyplot as plt\n",
    "import pandas as pd\n",
    "import os\n",
    "import time\n",
    "\n",
    "\n",
    "import scipy.interpolate\n",
    "from scipy.ndimage import gaussian_filter\n",
    "import tifffile\n",
    "import seaborn as sns\n",
    "\n",
    "from IPython.display import HTML\n",
    "import matplotlib.animation as animation\n",
    "from tqdm.notebook import tqdm, trange\n",
    "from scipy.optimize import curve_fit\n",
    "#import gaussian\n",
    "from skimage.filters import gaussian\n",
    "from scipy.interpolate import RectBivariateSpline\n",
    "from PIL import Image\n",
    "import itertools\n",
    "from utils.graph_utils import image_to_int8\n",
    "\n",
    "from scipy.ndimage import gaussian_gradient_magnitude\n",
    "import ants"
   ]
  },
  {
   "cell_type": "code",
   "execution_count": 2,
   "outputs": [],
   "source": [
    "PROJECT_PATH = 'C:/Users/amityu/DataspellProjects/gel_sheets/'\n",
    "DATA_PATH = 'C:/Users/amityu/Gel_Sheet_Data/'\n",
    "#movie = 'Control'\n",
    "#movie = '130721'\n",
    "#movie ='140721'\n",
    "#movie ='150721'\n",
    "#movie ='100621'\n",
    "movie ='280523 AM100 568'\n",
    "ADD_PATH = os.path.join(PROJECT_PATH, \"add_data/\")\n",
    "\n",
    "\n",
    "MOVIE_PATH = DATA_PATH +  movie + '/'\n",
    "GRAPH_PATH = 'C:/Users/amityu/Gel_Sheet_Graph/'"
   ],
   "metadata": {
    "collapsed": false,
    "ExecuteTime": {
     "end_time": "2023-09-05T13:34:44.683784100Z",
     "start_time": "2023-09-05T13:34:44.671783200Z"
    }
   }
  },
  {
   "cell_type": "code",
   "execution_count": 3,
   "outputs": [],
   "source": [
    "\n",
    "gel = np.load(MOVIE_PATH + 'np/gel.npy')\n",
    "gel[:,61:,:,:] = 0\n",
    "gel = np.transpose(gel, (3,2,1,0))"
   ],
   "metadata": {
    "collapsed": false,
    "ExecuteTime": {
     "end_time": "2023-09-05T13:34:50.442568600Z",
     "start_time": "2023-09-05T13:34:48.487565Z"
    }
   }
  },
  {
   "cell_type": "code",
   "execution_count": 6,
   "outputs": [
    {
     "name": "stdout",
     "output_type": "stream",
     "text": [
      "2023-09-05 16:50:38\n",
      "2023-09-05 16:55:52\n"
     ]
    }
   ],
   "source": [
    "print(time.strftime(\"%Y-%m-%d %H:%M:%S\", time.localtime()))\n",
    "\n",
    "t =0; z1 = 0; z2 = 15; y1 = 0; y2 = 511; x1 = 0; x2 = 511\n",
    "mask = np.zeros_like(gel[:,:,:,0])\n",
    "mask[x1:x2,y1:y2,z1:z2] = 1\n",
    "mask = ants.from_numpy(mask)\n",
    "moving_mask = np.zeros_like(gel[:,:,:,0])\n",
    "moving_mask[x1:x2,y1:y2,0:z1 ] = 1\n",
    "moving_mask = ants.from_numpy(moving_mask)\n",
    "gel_ant = ants.from_numpy(gel)\n",
    "fixed_image = ants.from_numpy(gel[:,:,:,0])\n",
    "mytx = ants.motion_correction(gel_ant,  fixed=fixed_image, type_of_transform='Rigid', mask=mask)\n",
    "images = mytx['motion_corrected'].numpy()\n",
    "\n",
    "#new_image = ants.registration(fixed_image, moving=ants.from_numpy(gel[:,:,:,12]), type_of_transform='Rigid')['warpedmovout']\n",
    "for i in range(gel.shape[3]):\n",
    "    tifffile.imsave(MOVIE_PATH + 'np/motion_Z15_' + str(i+1) + '.tif', images[:,:,:,i])\n",
    "#tifffile.imsave(MOVIE_PATH + 'np/image12from0nomask.tif', new_image.numpy())\n",
    "print(time.strftime(\"%Y-%m-%d %H:%M:%S\", time.localtime()))\n"
   ],
   "metadata": {
    "collapsed": false,
    "ExecuteTime": {
     "end_time": "2023-09-05T13:55:52.962874300Z",
     "start_time": "2023-09-05T13:50:38.049010700Z"
    }
   }
  },
  {
   "cell_type": "code",
   "execution_count": 5,
   "outputs": [],
   "source": [
    "np.save(MOVIE_PATH + 'np/motion_corrected.npy', images)"
   ],
   "metadata": {
    "collapsed": false,
    "ExecuteTime": {
     "end_time": "2023-09-05T13:42:09.895529400Z",
     "start_time": "2023-09-05T13:42:05.595073900Z"
    }
   }
  },
  {
   "cell_type": "code",
   "execution_count": 7,
   "outputs": [],
   "source": [
    "tifffile.imsave(MOVIE_PATH + 'np/slice.tif', images[200,:,:,:])"
   ],
   "metadata": {
    "collapsed": false,
    "ExecuteTime": {
     "end_time": "2023-09-05T13:56:56.915509500Z",
     "start_time": "2023-09-05T13:56:56.735509500Z"
    }
   }
  },
  {
   "cell_type": "code",
   "execution_count": 37,
   "outputs": [],
   "source": [
    "tifffile.imsave(MOVIE_PATH + 'np/original_image0.tif', gel[:,:,:,0])\n",
    "tifffile.imsave(MOVIE_PATH + 'np/original_image12.tif', gel[:,:,:,12])\n"
   ],
   "metadata": {
    "collapsed": false,
    "ExecuteTime": {
     "end_time": "2023-09-05T12:39:35.647705300Z",
     "start_time": "2023-09-05T12:39:34.955978300Z"
    }
   }
  },
  {
   "cell_type": "code",
   "execution_count": 17,
   "outputs": [
    {
     "ename": "RuntimeError",
     "evalue": "D:\\a\\ANTsPy\\ANTsPy\\itksource\\Modules\\IO\\TransformBase\\src\\itkTransformFileWriterSpecializations.cxx:159:\nITK ERROR: TransformFileWriterTemplate(000002639C8F5F10): Could not create Transform IO object for writing file C:/Users/amityu/DataspellProjects/gel_sheets/add_data/280523 AM100 568/transform/transform1.MAT\n  Tried to create one of the following:\n    HDF5TransformIOTemplate\n    HDF5TransformIOTemplate\n    MatlabTransformIOTemplate\n    MatlabTransformIOTemplate\n    TxtTransformIOTemplate\n    TxtTransformIOTemplate\n  You probably failed to set a file suffix, or\n    set the suffix to an unsupported type.\n",
     "output_type": "error",
     "traceback": [
      "\u001B[1;31m---------------------------------------------------------------------------\u001B[0m",
      "\u001B[1;31mRuntimeError\u001B[0m                              Traceback (most recent call last)",
      "Cell \u001B[1;32mIn[17], line 3\u001B[0m\n\u001B[0;32m      1\u001B[0m \u001B[38;5;28;01mfor\u001B[39;00m i \u001B[38;5;129;01min\u001B[39;00m \u001B[38;5;28mrange\u001B[39m(gel\u001B[38;5;241m.\u001B[39mshape[\u001B[38;5;241m3\u001B[39m]):\n\u001B[0;32m      2\u001B[0m    t \u001B[38;5;241m=\u001B[39m ants\u001B[38;5;241m.\u001B[39mread_transform(mytx[\u001B[38;5;124m'\u001B[39m\u001B[38;5;124mmotion_parameters\u001B[39m\u001B[38;5;124m'\u001B[39m][i][\u001B[38;5;241m0\u001B[39m])\n\u001B[1;32m----> 3\u001B[0m    \u001B[43mants\u001B[49m\u001B[38;5;241;43m.\u001B[39;49m\u001B[43mwrite_transform\u001B[49m\u001B[43m(\u001B[49m\u001B[43mt\u001B[49m\u001B[43m,\u001B[49m\u001B[43m \u001B[49m\u001B[43mPROJECT_PATH\u001B[49m\u001B[43m \u001B[49m\u001B[38;5;241;43m+\u001B[39;49m\u001B[43m \u001B[49m\u001B[38;5;124;43m'\u001B[39;49m\u001B[38;5;124;43madd_data/280523 AM100 568/transform/transform\u001B[39;49m\u001B[38;5;124;43m'\u001B[39;49m\u001B[43m \u001B[49m\u001B[38;5;241;43m+\u001B[39;49m\u001B[43m \u001B[49m\u001B[38;5;28;43mstr\u001B[39;49m\u001B[43m(\u001B[49m\u001B[43mi\u001B[49m\u001B[38;5;241;43m+\u001B[39;49m\u001B[38;5;241;43m1\u001B[39;49m\u001B[43m)\u001B[49m\u001B[43m \u001B[49m\u001B[38;5;241;43m+\u001B[39;49m\u001B[43m \u001B[49m\u001B[38;5;124;43m'\u001B[39;49m\u001B[38;5;124;43m.MAT\u001B[39;49m\u001B[38;5;124;43m'\u001B[39;49m\u001B[43m)\u001B[49m\n",
      "File \u001B[1;32m~\\AppData\\Local\\anaconda3\\lib\\site-packages\\ants\\core\\ants_transform_io.py:376\u001B[0m, in \u001B[0;36mwrite_transform\u001B[1;34m(transform, filename)\u001B[0m\n\u001B[0;32m    374\u001B[0m filename \u001B[38;5;241m=\u001B[39m os\u001B[38;5;241m.\u001B[39mpath\u001B[38;5;241m.\u001B[39mexpanduser(filename)\n\u001B[0;32m    375\u001B[0m libfn \u001B[38;5;241m=\u001B[39m utils\u001B[38;5;241m.\u001B[39mget_lib_fn(\u001B[38;5;124m\"\u001B[39m\u001B[38;5;124mwriteTransform\u001B[39m\u001B[38;5;132;01m%s\u001B[39;00m\u001B[38;5;124m\"\u001B[39m \u001B[38;5;241m%\u001B[39m (transform\u001B[38;5;241m.\u001B[39m_libsuffix))\n\u001B[1;32m--> 376\u001B[0m \u001B[43mlibfn\u001B[49m\u001B[43m(\u001B[49m\u001B[43mtransform\u001B[49m\u001B[38;5;241;43m.\u001B[39;49m\u001B[43mpointer\u001B[49m\u001B[43m,\u001B[49m\u001B[43m \u001B[49m\u001B[43mfilename\u001B[49m\u001B[43m)\u001B[49m\n",
      "\u001B[1;31mRuntimeError\u001B[0m: D:\\a\\ANTsPy\\ANTsPy\\itksource\\Modules\\IO\\TransformBase\\src\\itkTransformFileWriterSpecializations.cxx:159:\nITK ERROR: TransformFileWriterTemplate(000002639C8F5F10): Could not create Transform IO object for writing file C:/Users/amityu/DataspellProjects/gel_sheets/add_data/280523 AM100 568/transform/transform1.MAT\n  Tried to create one of the following:\n    HDF5TransformIOTemplate\n    HDF5TransformIOTemplate\n    MatlabTransformIOTemplate\n    MatlabTransformIOTemplate\n    TxtTransformIOTemplate\n    TxtTransformIOTemplate\n  You probably failed to set a file suffix, or\n    set the suffix to an unsupported type.\n"
     ]
    }
   ],
   "source": [
    " for i in range(gel.shape[3]):\n",
    "    t = ants.read_transform(mytx['motion_parameters'][i][0])\n",
    "    ants.write_transform(t, PROJECT_PATH + 'add_data/280523 AM100 568/transform/transform' + str(i+1) + '.mat')\n"
   ],
   "metadata": {
    "collapsed": false,
    "ExecuteTime": {
     "end_time": "2023-09-08T09:59:20.276106500Z",
     "start_time": "2023-09-08T09:59:20.227108100Z"
    }
   }
  },
  {
   "cell_type": "code",
   "execution_count": 18,
   "outputs": [],
   "source": [
    "t = ants.read_transform(PROJECT_PATH + 'add_data/280523 AM100 568/transform/transform' + str(5+1) + '.mat')\n"
   ],
   "metadata": {
    "collapsed": false,
    "ExecuteTime": {
     "end_time": "2023-09-08T10:00:56.076724700Z",
     "start_time": "2023-09-08T10:00:56.059380300Z"
    }
   }
  }
 ],
 "metadata": {
  "kernelspec": {
   "display_name": "Python 3",
   "language": "python",
   "name": "python3"
  },
  "language_info": {
   "codemirror_mode": {
    "name": "ipython",
    "version": 2
   },
   "file_extension": ".py",
   "mimetype": "text/x-python",
   "name": "python",
   "nbconvert_exporter": "python",
   "pygments_lexer": "ipython2",
   "version": "2.7.6"
  }
 },
 "nbformat": 4,
 "nbformat_minor": 0
}
