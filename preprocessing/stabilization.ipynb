{
 "cells": [
  {
   "cell_type": "code",
   "execution_count": 1,
   "metadata": {
    "collapsed": true,
    "ExecuteTime": {
     "end_time": "2023-09-18T12:27:28.454909100Z",
     "start_time": "2023-09-18T12:27:24.299588800Z"
    }
   },
   "outputs": [],
   "source": [
    "\n",
    "import numpy as np\n",
    "import matplotlib.pyplot as plt\n",
    "import pandas as pd\n",
    "import os\n",
    "import time\n",
    "\n",
    "\n",
    "import scipy.interpolate\n",
    "from scipy.ndimage import gaussian_filter\n",
    "import tifffile\n",
    "import seaborn as sns\n",
    "\n",
    "from IPython.display import HTML\n",
    "import matplotlib.animation as animation\n",
    "from tqdm.notebook import tqdm, trange\n",
    "from scipy.optimize import curve_fit\n",
    "#import gaussian\n",
    "from skimage.filters import gaussian\n",
    "from scipy.interpolate import RectBivariateSpline\n",
    "from PIL import Image\n",
    "import itertools\n",
    "from utils.graph_utils import image_to_int8\n",
    "\n",
    "from scipy.ndimage import gaussian_gradient_magnitude\n",
    "import ants"
   ]
  },
  {
   "cell_type": "code",
   "execution_count": 2,
   "outputs": [],
   "source": [
    "PROJECT_PATH = 'C:/Users/amityu/DataspellProjects/gel_sheets/'\n",
    "DATA_PATH = 'C:/Users/amityu/Gel_Sheet_Data/'\n",
    "#movie = 'Control'\n",
    "#movie = '130721'\n",
    "#movie ='140721'\n",
    "#movie ='150721'\n",
    "#movie ='100621'\n",
    "#movie ='280523 AM100 568'\n",
    "movie = 'control_2_230523'\n",
    "ADD_PATH = os.path.join(PROJECT_PATH, \"add_data/\")\n",
    "\n",
    "\n",
    "MOVIE_PATH = DATA_PATH +  movie + '/'\n",
    "GRAPH_PATH = 'C:/Users/amityu/Gel_Sheet_Graph/'"
   ],
   "metadata": {
    "collapsed": false,
    "ExecuteTime": {
     "end_time": "2023-09-18T12:27:28.470910300Z",
     "start_time": "2023-09-18T12:27:28.455911Z"
    }
   }
  },
  {
   "cell_type": "code",
   "execution_count": 6,
   "outputs": [],
   "source": [
    "\n",
    "gel = np.load(MOVIE_PATH + 'np/gel.npy', mmap_mode='r').astype(np.float32)\n",
    "gel[np.isnan(gel)] = 0\n",
    "\n",
    "gel = np.transpose(gel, (3,2,1,0))"
   ],
   "metadata": {
    "collapsed": false,
    "ExecuteTime": {
     "end_time": "2023-09-18T12:39:58.992879Z",
     "start_time": "2023-09-18T12:38:58.591492600Z"
    }
   }
  },
  {
   "cell_type": "code",
   "execution_count": 8,
   "outputs": [
    {
     "name": "stdout",
     "output_type": "stream",
     "text": [
      "2023-09-18 15:42:09\n"
     ]
    },
    {
     "ename": "MemoryError",
     "evalue": "Unable to allocate 27.2 GiB for an array with shape (124, 225, 512, 512) and data type float32",
     "output_type": "error",
     "traceback": [
      "\u001B[1;31m---------------------------------------------------------------------------\u001B[0m",
      "\u001B[1;31mMemoryError\u001B[0m                               Traceback (most recent call last)",
      "Cell \u001B[1;32mIn[8], line 12\u001B[0m\n\u001B[0;32m     10\u001B[0m gel_ant \u001B[38;5;241m=\u001B[39m ants\u001B[38;5;241m.\u001B[39mfrom_numpy(gel)\n\u001B[0;32m     11\u001B[0m fixed_image \u001B[38;5;241m=\u001B[39m ants\u001B[38;5;241m.\u001B[39mfrom_numpy(gel[:,:,:,\u001B[38;5;241m0\u001B[39m])\n\u001B[1;32m---> 12\u001B[0m mytx \u001B[38;5;241m=\u001B[39m \u001B[43mants\u001B[49m\u001B[38;5;241;43m.\u001B[39;49m\u001B[43mmotion_correction\u001B[49m\u001B[43m(\u001B[49m\u001B[43mgel_ant\u001B[49m\u001B[43m,\u001B[49m\u001B[43m  \u001B[49m\u001B[43mfixed\u001B[49m\u001B[38;5;241;43m=\u001B[39;49m\u001B[43mfixed_image\u001B[49m\u001B[43m,\u001B[49m\u001B[43m \u001B[49m\u001B[43mtype_of_transform\u001B[49m\u001B[38;5;241;43m=\u001B[39;49m\u001B[38;5;124;43m'\u001B[39;49m\u001B[38;5;124;43mRigid\u001B[39;49m\u001B[38;5;124;43m'\u001B[39;49m\u001B[43m,\u001B[49m\u001B[43m \u001B[49m\u001B[43mmask\u001B[49m\u001B[38;5;241;43m=\u001B[39;49m\u001B[43mmask\u001B[49m\u001B[43m)\u001B[49m\n\u001B[0;32m     13\u001B[0m images \u001B[38;5;241m=\u001B[39m mytx[\u001B[38;5;124m'\u001B[39m\u001B[38;5;124mmotion_corrected\u001B[39m\u001B[38;5;124m'\u001B[39m]\u001B[38;5;241m.\u001B[39mnumpy()\n\u001B[0;32m     15\u001B[0m \u001B[38;5;66;03m#new_image = ants.registration(fixed_image, moving=ants.from_numpy(gel[:,:,:,12]), type_of_transform='Rigid')['warpedmovout']\u001B[39;00m\n",
      "File \u001B[1;32m~\\AppData\\Local\\anaconda3\\lib\\site-packages\\ants\\registration\\interface.py:1589\u001B[0m, in \u001B[0;36mmotion_correction\u001B[1;34m(image, fixed, type_of_transform, mask, fdOffset, outprefix, verbose, **kwargs)\u001B[0m\n\u001B[0;32m   1586\u001B[0m \u001B[38;5;28;01mif\u001B[39;00m verbose:\n\u001B[0;32m   1587\u001B[0m     \u001B[38;5;28mprint\u001B[39m(\u001B[38;5;124m\"\u001B[39m\u001B[38;5;124mDone\u001B[39m\u001B[38;5;124m\"\u001B[39m)\n\u001B[0;32m   1588\u001B[0m \u001B[38;5;28;01mreturn\u001B[39;00m {\n\u001B[1;32m-> 1589\u001B[0m     \u001B[38;5;124m\"\u001B[39m\u001B[38;5;124mmotion_corrected\u001B[39m\u001B[38;5;124m\"\u001B[39m: \u001B[43mutils\u001B[49m\u001B[38;5;241;43m.\u001B[39;49m\u001B[43mlist_to_ndimage\u001B[49m\u001B[43m(\u001B[49m\u001B[43mimage\u001B[49m\u001B[43m,\u001B[49m\u001B[43m \u001B[49m\u001B[43mmotion_corrected\u001B[49m\u001B[43m)\u001B[49m,\n\u001B[0;32m   1590\u001B[0m     \u001B[38;5;124m\"\u001B[39m\u001B[38;5;124mmotion_parameters\u001B[39m\u001B[38;5;124m\"\u001B[39m: motion_parameters,\n\u001B[0;32m   1591\u001B[0m     \u001B[38;5;124m\"\u001B[39m\u001B[38;5;124mFD\u001B[39m\u001B[38;5;124m\"\u001B[39m: FD,\n\u001B[0;32m   1592\u001B[0m }\n",
      "File \u001B[1;32m~\\AppData\\Local\\anaconda3\\lib\\site-packages\\ants\\utils\\ndimage_to_list.py:48\u001B[0m, in \u001B[0;36mlist_to_ndimage\u001B[1;34m(image, image_list)\u001B[0m\n\u001B[0;32m     45\u001B[0m         \u001B[38;5;28;01mraise\u001B[39;00m \u001B[38;5;167;01mValueError\u001B[39;00m(\u001B[38;5;124m'\u001B[39m\u001B[38;5;124mall images must have the same pixeltype\u001B[39m\u001B[38;5;124m'\u001B[39m)\n\u001B[0;32m     47\u001B[0m dimensionout \u001B[38;5;241m=\u001B[39m ( \u001B[38;5;241m*\u001B[39mimage_list[\u001B[38;5;241m0\u001B[39m]\u001B[38;5;241m.\u001B[39mshape, \u001B[38;5;28mlen\u001B[39m( image_list )  )\n\u001B[1;32m---> 48\u001B[0m newImage \u001B[38;5;241m=\u001B[39m \u001B[43miio2\u001B[49m\u001B[38;5;241;43m.\u001B[39;49m\u001B[43mmake_image\u001B[49m\u001B[43m(\u001B[49m\n\u001B[0;32m     49\u001B[0m \u001B[43m  \u001B[49m\u001B[43mdimensionout\u001B[49m\u001B[43m,\u001B[49m\n\u001B[0;32m     50\u001B[0m \u001B[43m  \u001B[49m\u001B[43mspacing\u001B[49m\u001B[43m \u001B[49m\u001B[38;5;241;43m=\u001B[39;49m\u001B[43m \u001B[49m\u001B[43miio\u001B[49m\u001B[38;5;241;43m.\u001B[39;49m\u001B[43mget_spacing\u001B[49m\u001B[43m(\u001B[49m\u001B[43m \u001B[49m\u001B[43mimage\u001B[49m\u001B[43m \u001B[49m\u001B[43m)\u001B[49m\u001B[43m,\u001B[49m\n\u001B[0;32m     51\u001B[0m \u001B[43m  \u001B[49m\u001B[43morigin\u001B[49m\u001B[43m \u001B[49m\u001B[38;5;241;43m=\u001B[39;49m\u001B[43m \u001B[49m\u001B[43miio\u001B[49m\u001B[38;5;241;43m.\u001B[39;49m\u001B[43mget_origin\u001B[49m\u001B[43m(\u001B[49m\u001B[43m \u001B[49m\u001B[43mimage\u001B[49m\u001B[43m \u001B[49m\u001B[43m)\u001B[49m\u001B[43m,\u001B[49m\n\u001B[0;32m     52\u001B[0m \u001B[43m  \u001B[49m\u001B[43mdirection\u001B[49m\u001B[43m \u001B[49m\u001B[38;5;241;43m=\u001B[39;49m\u001B[43m \u001B[49m\u001B[43miio\u001B[49m\u001B[38;5;241;43m.\u001B[39;49m\u001B[43mget_direction\u001B[49m\u001B[43m(\u001B[49m\u001B[43m \u001B[49m\u001B[43mimage\u001B[49m\u001B[43m \u001B[49m\u001B[43m)\u001B[49m\u001B[43m,\u001B[49m\n\u001B[0;32m     53\u001B[0m \u001B[43m  \u001B[49m\u001B[43mpixeltype\u001B[49m\u001B[43m \u001B[49m\u001B[38;5;241;43m=\u001B[39;49m\u001B[43m \u001B[49m\u001B[43minpixeltype\u001B[49m\n\u001B[0;32m     54\u001B[0m \u001B[43m  \u001B[49m\u001B[43m)\u001B[49m\n\u001B[0;32m     55\u001B[0m \u001B[38;5;66;03m# FIXME - should implement paste image filter from ITK\u001B[39;00m\n\u001B[0;32m     56\u001B[0m \u001B[38;5;28;01mfor\u001B[39;00m x \u001B[38;5;129;01min\u001B[39;00m \u001B[38;5;28mrange\u001B[39m( \u001B[38;5;28mlen\u001B[39m( image_list ) ):\n",
      "File \u001B[1;32m~\\AppData\\Local\\anaconda3\\lib\\site-packages\\ants\\core\\ants_image_io.py:217\u001B[0m, in \u001B[0;36mmake_image\u001B[1;34m(imagesize, voxval, spacing, origin, direction, has_components, pixeltype)\u001B[0m\n\u001B[0;32m    215\u001B[0m \u001B[38;5;28;01melse\u001B[39;00m:\n\u001B[0;32m    216\u001B[0m     array \u001B[38;5;241m=\u001B[39m np\u001B[38;5;241m.\u001B[39mfull(imagesize, voxval, dtype\u001B[38;5;241m=\u001B[39m\u001B[38;5;124m\"\u001B[39m\u001B[38;5;124mfloat32\u001B[39m\u001B[38;5;124m\"\u001B[39m)\n\u001B[1;32m--> 217\u001B[0m image \u001B[38;5;241m=\u001B[39m \u001B[43mfrom_numpy\u001B[49m\u001B[43m(\u001B[49m\n\u001B[0;32m    218\u001B[0m \u001B[43m    \u001B[49m\u001B[43marray\u001B[49m\u001B[43m,\u001B[49m\n\u001B[0;32m    219\u001B[0m \u001B[43m    \u001B[49m\u001B[43morigin\u001B[49m\u001B[38;5;241;43m=\u001B[39;49m\u001B[43morigin\u001B[49m\u001B[43m,\u001B[49m\n\u001B[0;32m    220\u001B[0m \u001B[43m    \u001B[49m\u001B[43mspacing\u001B[49m\u001B[38;5;241;43m=\u001B[39;49m\u001B[43mspacing\u001B[49m\u001B[43m,\u001B[49m\n\u001B[0;32m    221\u001B[0m \u001B[43m    \u001B[49m\u001B[43mdirection\u001B[49m\u001B[38;5;241;43m=\u001B[39;49m\u001B[43mdirection\u001B[49m\u001B[43m,\u001B[49m\n\u001B[0;32m    222\u001B[0m \u001B[43m    \u001B[49m\u001B[43mhas_components\u001B[49m\u001B[38;5;241;43m=\u001B[39;49m\u001B[43mhas_components\u001B[49m\u001B[43m,\u001B[49m\n\u001B[0;32m    223\u001B[0m \u001B[43m\u001B[49m\u001B[43m)\u001B[49m\n\u001B[0;32m    224\u001B[0m \u001B[38;5;28;01mreturn\u001B[39;00m image\u001B[38;5;241m.\u001B[39mclone(pixeltype)\n",
      "File \u001B[1;32m~\\AppData\\Local\\anaconda3\\lib\\site-packages\\ants\\core\\ants_image_io.py:100\u001B[0m, in \u001B[0;36mfrom_numpy\u001B[1;34m(data, origin, spacing, direction, has_components, is_rgb)\u001B[0m\n\u001B[0;32m     72\u001B[0m \u001B[38;5;250m\u001B[39m\u001B[38;5;124;03m\"\"\"\u001B[39;00m\n\u001B[0;32m     73\u001B[0m \u001B[38;5;124;03mCreate an ANTsImage object from a numpy array\u001B[39;00m\n\u001B[0;32m     74\u001B[0m \n\u001B[1;32m   (...)\u001B[0m\n\u001B[0;32m     97\u001B[0m \u001B[38;5;124;03m    image with given data and any given information\u001B[39;00m\n\u001B[0;32m     98\u001B[0m \u001B[38;5;124;03m\"\"\"\u001B[39;00m\n\u001B[0;32m     99\u001B[0m data \u001B[38;5;241m=\u001B[39m data\u001B[38;5;241m.\u001B[39mastype(\u001B[38;5;124m\"\u001B[39m\u001B[38;5;124mfloat32\u001B[39m\u001B[38;5;124m\"\u001B[39m) \u001B[38;5;28;01mif\u001B[39;00m data\u001B[38;5;241m.\u001B[39mdtype\u001B[38;5;241m.\u001B[39mname \u001B[38;5;241m==\u001B[39m \u001B[38;5;124m\"\u001B[39m\u001B[38;5;124mfloat64\u001B[39m\u001B[38;5;124m\"\u001B[39m \u001B[38;5;28;01melse\u001B[39;00m data\n\u001B[1;32m--> 100\u001B[0m img \u001B[38;5;241m=\u001B[39m _from_numpy(\u001B[43mdata\u001B[49m\u001B[38;5;241;43m.\u001B[39;49m\u001B[43mT\u001B[49m\u001B[38;5;241;43m.\u001B[39;49m\u001B[43mcopy\u001B[49m\u001B[43m(\u001B[49m\u001B[43m)\u001B[49m, origin, spacing, direction, has_components, is_rgb)\n\u001B[0;32m    101\u001B[0m \u001B[38;5;28;01mreturn\u001B[39;00m img\n",
      "\u001B[1;31mMemoryError\u001B[0m: Unable to allocate 27.2 GiB for an array with shape (124, 225, 512, 512) and data type float32"
     ]
    }
   ],
   "source": [
    "print(time.strftime(\"%Y-%m-%d %H:%M:%S\", time.localtime()))\n",
    "\n",
    "t =0; z1 = 0; z2 = 30; y1 = 0; y2 = 511; x1 = 0; x2 = 511\n",
    "mask = np.zeros_like(gel[:,:,:,0])\n",
    "mask[x1:x2,y1:y2,z1:z2] = 1\n",
    "mask = ants.from_numpy(mask)\n",
    "moving_mask = np.zeros_like(gel[:,:,:,0])\n",
    "moving_mask[x1:x2,y1:y2,0:z1 ] = 1\n",
    "moving_mask = ants.from_numpy(moving_mask)\n",
    "gel_ant = ants.from_numpy(gel)\n",
    "fixed_image = ants.from_numpy(gel[:,:,:,0])\n",
    "mytx = ants.motion_correction(gel_ant,  fixed=fixed_image, type_of_transform='Rigid', mask=mask)\n",
    "images = mytx['motion_corrected'].numpy()\n",
    "\n",
    "#new_image = ants.registration(fixed_image, moving=ants.from_numpy(gel[:,:,:,12]), type_of_transform='Rigid')['warpedmovout']\n",
    "for i in range(gel.shape[3]):\n",
    "    tifffile.imsave(MOVIE_PATH + 'np/motion_Z15_' + str(i+1) + '.tif', images[:,:,:,i])\n",
    "#tifffile.imsave(MOVIE_PATH + 'np/image12from0nomask.tif', new_image.numpy())\n",
    "print(time.strftime(\"%Y-%m-%d %H:%M:%S\", time.localtime()))\n"
   ],
   "metadata": {
    "collapsed": false,
    "ExecuteTime": {
     "end_time": "2023-09-18T13:14:05.897662400Z",
     "start_time": "2023-09-18T12:42:09.053323Z"
    }
   }
  },
  {
   "cell_type": "code",
   "execution_count": 15,
   "outputs": [
    {
     "name": "stdout",
     "output_type": "stream",
     "text": [
      "2023-09-18 16:51:53\n"
     ]
    },
    {
     "data": {
      "text/plain": "  0%|          | 0/124 [00:00<?, ?it/s]",
      "application/vnd.jupyter.widget-view+json": {
       "version_major": 2,
       "version_minor": 0,
       "model_id": "1391ed0657bb4fd4862ed1013af7b150"
      }
     },
     "metadata": {},
     "output_type": "display_data"
    }
   ],
   "source": [
    "print(time.strftime(\"%Y-%m-%d %H:%M:%S\", time.localtime()))\n",
    "\n",
    "t =0; z1 = 0; z2 = 30; y1 = 0; y2 = 511; x1 = 0; x2 = 511\n",
    "mask = np.zeros_like(gel[:,:,:,0])\n",
    "mask[x1:x2,y1:y2,z1:z2] = 1\n",
    "mask = ants.from_numpy(mask)\n",
    "\n",
    "moving_mask = np.zeros_like(gel[:,:,:,0])\n",
    "moving_mask[x1:x2,y1:y2,0:80 ] = 1\n",
    "moving_mask = ants.from_numpy(moving_mask)\n",
    "fixed_image = ants.from_numpy(gel[:,:,:,0])\n",
    "for t in trange(gel.shape[3]):\n",
    "    gel_ant = ants.from_numpy(gel[:,:,:,t])\n",
    "    \n",
    "    result = ants.registration(fixed=fixed_image, moving = gel_ant, type_of_transform='Rigid', mask=mask, moving_mask = moving_mask)\n",
    "    trans = ants.read_transform(result['fwdtransforms'][0])\n",
    "    ants.write_transform(trans, PROJECT_PATH + 'add_data/%s/transform/transform'%movie + str(t+1) + '.mat')\n",
    "\n",
    "#new_image = ants.registration(fixed_image, moving=ants.from_numpy(gel[:,:,:,12]), type_of_transform='Rigid')['warpedmovout']\n"
   ],
   "metadata": {
    "collapsed": false,
    "ExecuteTime": {
     "end_time": "2023-09-18T14:18:33.760336700Z",
     "start_time": "2023-09-18T13:51:53.858469500Z"
    }
   }
  },
  {
   "cell_type": "code",
   "execution_count": 9,
   "outputs": [],
   "source": [
    "np.save(MOVIE_PATH + 'np/motion_corrected.npy', images)"
   ],
   "metadata": {
    "collapsed": false,
    "ExecuteTime": {
     "end_time": "2023-09-13T13:45:48.861447300Z",
     "start_time": "2023-09-13T13:45:47.408413700Z"
    }
   }
  },
  {
   "cell_type": "code",
   "execution_count": 5,
   "outputs": [],
   "source": [
    "tifffile.imsave(MOVIE_PATH + 'np/slice.tif', images[200,:,:,:])"
   ],
   "metadata": {
    "collapsed": false,
    "ExecuteTime": {
     "end_time": "2023-09-18T12:37:20.354356700Z",
     "start_time": "2023-09-18T12:37:20.304357700Z"
    }
   }
  },
  {
   "cell_type": "code",
   "execution_count": null,
   "outputs": [],
   "source": [
    "tifffile.imsave(MOVIE_PATH + 'np/original_image0.tif', gel[:,:,:,0])\n",
    "tifffile.imsave(MOVIE_PATH + 'np/original_image12.tif', gel[:,:,:,12])\n"
   ],
   "metadata": {
    "collapsed": false,
    "ExecuteTime": {
     "start_time": "2023-09-13T13:01:31.715714900Z"
    }
   }
  },
  {
   "cell_type": "code",
   "execution_count": 6,
   "outputs": [],
   "source": [
    " for i in range(gel.shape[3]):\n",
    "    t = ants.read_transform(mytx['motion_parameters'][i][0])\n",
    "    ants.write_transform(t, PROJECT_PATH + 'add_data/%s/transform/transform'%movie + str(i+1) + '.mat')\n"
   ],
   "metadata": {
    "collapsed": false,
    "ExecuteTime": {
     "end_time": "2023-09-18T12:04:14.676482200Z",
     "start_time": "2023-09-18T12:04:14.276733100Z"
    }
   }
  },
  {
   "cell_type": "code",
   "execution_count": null,
   "outputs": [],
   "source": [
    "t = ants.read_transform(PROJECT_PATH + 'add_data/%s/transform/transform'%movie + str(5+1) + '.mat')\n"
   ],
   "metadata": {
    "collapsed": false,
    "ExecuteTime": {
     "start_time": "2023-09-13T13:01:31.715714900Z"
    }
   }
  }
 ],
 "metadata": {
  "kernelspec": {
   "display_name": "Python 3",
   "language": "python",
   "name": "python3"
  },
  "language_info": {
   "codemirror_mode": {
    "name": "ipython",
    "version": 2
   },
   "file_extension": ".py",
   "mimetype": "text/x-python",
   "name": "python",
   "nbconvert_exporter": "python",
   "pygments_lexer": "ipython2",
   "version": "2.7.6"
  }
 },
 "nbformat": 4,
 "nbformat_minor": 0
}
