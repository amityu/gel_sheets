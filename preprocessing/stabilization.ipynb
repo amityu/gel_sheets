{
 "cells": [
  {
   "cell_type": "code",
   "execution_count": 5,
   "metadata": {
    "collapsed": true,
    "ExecuteTime": {
     "end_time": "2023-09-13T13:41:23.548902500Z",
     "start_time": "2023-09-13T13:41:23.533276200Z"
    }
   },
   "outputs": [],
   "source": [
    "\n",
    "import numpy as np\n",
    "import matplotlib.pyplot as plt\n",
    "import pandas as pd\n",
    "import os\n",
    "import time\n",
    "\n",
    "\n",
    "import scipy.interpolate\n",
    "from scipy.ndimage import gaussian_filter\n",
    "import tifffile\n",
    "import seaborn as sns\n",
    "\n",
    "from IPython.display import HTML\n",
    "import matplotlib.animation as animation\n",
    "from tqdm.notebook import tqdm, trange\n",
    "from scipy.optimize import curve_fit\n",
    "#import gaussian\n",
    "from skimage.filters import gaussian\n",
    "from scipy.interpolate import RectBivariateSpline\n",
    "from PIL import Image\n",
    "import itertools\n",
    "from utils.graph_utils import image_to_int8\n",
    "\n",
    "from scipy.ndimage import gaussian_gradient_magnitude\n",
    "import ants"
   ]
  },
  {
   "cell_type": "code",
   "execution_count": 6,
   "outputs": [],
   "source": [
    "PROJECT_PATH = 'C:/Users/amityu/DataspellProjects/gel_sheets/'\n",
    "DATA_PATH = 'C:/Users/amityu/Gel_Sheet_Data/'\n",
    "#movie = 'Control'\n",
    "#movie = '130721'\n",
    "#movie ='140721'\n",
    "#movie ='150721'\n",
    "#movie ='100621'\n",
    "#movie ='280523 AM100 568'\n",
    "movie = 'cca120'\n",
    "ADD_PATH = os.path.join(PROJECT_PATH, \"add_data/\")\n",
    "\n",
    "\n",
    "MOVIE_PATH = DATA_PATH +  movie + '/'\n",
    "GRAPH_PATH = 'C:/Users/amityu/Gel_Sheet_Graph/'"
   ],
   "metadata": {
    "collapsed": false,
    "ExecuteTime": {
     "end_time": "2023-09-13T13:41:26.799203900Z",
     "start_time": "2023-09-13T13:41:26.779048300Z"
    }
   }
  },
  {
   "cell_type": "code",
   "execution_count": 7,
   "outputs": [],
   "source": [
    "\n",
    "gel = np.load(MOVIE_PATH + 'np/gel.npy').astype(np.float32)\n",
    "gel[np.isnan(gel)] = 0\n",
    "gel = gel[:,:25,:,:] # important that the exploding part of the gel would not interupt with the registration. It is not important\n",
    "# and to reduce array size to fit memory\n",
    "\n",
    "gel = np.transpose(gel, (3,2,1,0))"
   ],
   "metadata": {
    "collapsed": false,
    "ExecuteTime": {
     "end_time": "2023-09-13T13:41:41.158279600Z",
     "start_time": "2023-09-13T13:41:29.455671100Z"
    }
   }
  },
  {
   "cell_type": "code",
   "execution_count": 8,
   "outputs": [
    {
     "name": "stdout",
     "output_type": "stream",
     "text": [
      "2023-09-13 16:41:51\n",
      "2023-09-13 16:45:47\n"
     ]
    }
   ],
   "source": [
    "print(time.strftime(\"%Y-%m-%d %H:%M:%S\", time.localtime()))\n",
    "\n",
    "t =0; z1 = 0; z2 = 13; y1 = 0; y2 = 511; x1 = 0; x2 = 511\n",
    "mask = np.zeros_like(gel[:,:,:,0])\n",
    "mask[x1:x2,y1:y2,z1:z2] = 1\n",
    "mask = ants.from_numpy(mask)\n",
    "moving_mask = np.zeros_like(gel[:,:,:,0])\n",
    "moving_mask[x1:x2,y1:y2,0:z1 ] = 1\n",
    "moving_mask = ants.from_numpy(moving_mask)\n",
    "gel_ant = ants.from_numpy(gel)\n",
    "fixed_image = ants.from_numpy(gel[:,:,:,0])\n",
    "mytx = ants.motion_correction(gel_ant,  fixed=fixed_image, type_of_transform='Rigid', mask=mask)\n",
    "images = mytx['motion_corrected'].numpy()\n",
    "\n",
    "#new_image = ants.registration(fixed_image, moving=ants.from_numpy(gel[:,:,:,12]), type_of_transform='Rigid')['warpedmovout']\n",
    "for i in range(gel.shape[3]):\n",
    "    tifffile.imsave(MOVIE_PATH + 'np/motion_Z15_' + str(i+1) + '.tif', images[:,:,:,i])\n",
    "#tifffile.imsave(MOVIE_PATH + 'np/image12from0nomask.tif', new_image.numpy())\n",
    "print(time.strftime(\"%Y-%m-%d %H:%M:%S\", time.localtime()))\n"
   ],
   "metadata": {
    "collapsed": false,
    "ExecuteTime": {
     "end_time": "2023-09-13T13:45:47.412897500Z",
     "start_time": "2023-09-13T13:41:51.049189900Z"
    }
   }
  },
  {
   "cell_type": "code",
   "execution_count": 9,
   "outputs": [],
   "source": [
    "np.save(MOVIE_PATH + 'np/motion_corrected.npy', images)"
   ],
   "metadata": {
    "collapsed": false,
    "ExecuteTime": {
     "end_time": "2023-09-13T13:45:48.861447300Z",
     "start_time": "2023-09-13T13:45:47.408413700Z"
    }
   }
  },
  {
   "cell_type": "code",
   "execution_count": 11,
   "outputs": [],
   "source": [
    "tifffile.imsave(MOVIE_PATH + 'np/slice.tif', images[200,:,:,:])"
   ],
   "metadata": {
    "collapsed": false,
    "ExecuteTime": {
     "end_time": "2023-09-13T13:56:29.695302800Z",
     "start_time": "2023-09-13T13:56:29.601685800Z"
    }
   }
  },
  {
   "cell_type": "code",
   "execution_count": null,
   "outputs": [],
   "source": [
    "tifffile.imsave(MOVIE_PATH + 'np/original_image0.tif', gel[:,:,:,0])\n",
    "tifffile.imsave(MOVIE_PATH + 'np/original_image12.tif', gel[:,:,:,12])\n"
   ],
   "metadata": {
    "collapsed": false,
    "ExecuteTime": {
     "start_time": "2023-09-13T13:01:31.715714900Z"
    }
   }
  },
  {
   "cell_type": "code",
   "execution_count": 12,
   "outputs": [],
   "source": [
    " for i in range(gel.shape[3]):\n",
    "    t = ants.read_transform(mytx['motion_parameters'][i][0])\n",
    "    ants.write_transform(t, PROJECT_PATH + 'add_data/%s/transform/transform'%movie + str(i+1) + '.mat')\n"
   ],
   "metadata": {
    "collapsed": false,
    "ExecuteTime": {
     "end_time": "2023-09-13T14:00:11.742439500Z",
     "start_time": "2023-09-13T14:00:11.539325Z"
    }
   }
  },
  {
   "cell_type": "code",
   "execution_count": null,
   "outputs": [],
   "source": [
    "t = ants.read_transform(PROJECT_PATH + 'add_data/%s/transform/transform'%movie + str(5+1) + '.mat')\n"
   ],
   "metadata": {
    "collapsed": false,
    "ExecuteTime": {
     "start_time": "2023-09-13T13:01:31.715714900Z"
    }
   }
  }
 ],
 "metadata": {
  "kernelspec": {
   "display_name": "Python 3",
   "language": "python",
   "name": "python3"
  },
  "language_info": {
   "codemirror_mode": {
    "name": "ipython",
    "version": 2
   },
   "file_extension": ".py",
   "mimetype": "text/x-python",
   "name": "python",
   "nbconvert_exporter": "python",
   "pygments_lexer": "ipython2",
   "version": "2.7.6"
  }
 },
 "nbformat": 4,
 "nbformat_minor": 0
}
